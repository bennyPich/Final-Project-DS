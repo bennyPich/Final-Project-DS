{
 "cells": [
  {
   "cell_type": "code",
   "execution_count": 1,
   "metadata": {},
   "outputs": [],
   "source": [
    "#Install imblearn\n",
    "# !pip install imblearn"
   ]
  },
  {
   "cell_type": "code",
   "execution_count": 2,
   "metadata": {},
   "outputs": [],
   "source": [
    "#conda install -c glemaitre imbalanced-learn"
   ]
  },
  {
   "cell_type": "code",
   "execution_count": 3,
   "metadata": {},
   "outputs": [],
   "source": [
    "#pip install -U scikit-learn"
   ]
  },
  {
   "cell_type": "code",
   "execution_count": 4,
   "metadata": {},
   "outputs": [],
   "source": [
    "import pandas as pd\n",
    "import numpy as np\n",
    "import seaborn as sns\n",
    "from matplotlib import pyplot as plt\n",
    "\n",
    "from sklearn.model_selection import train_test_split\n",
    "from sklearn.metrics import accuracy_score,roc_auc_score\n",
    "from sklearn.tree import DecisionTreeClassifier\n",
    "from sklearn.ensemble import RandomForestClassifier\n",
    "\n",
    "from sklearn.dummy import DummyClassifier\n",
    "from sklearn.preprocessing import StandardScaler\n",
    "from sklearn.model_selection import GridSearchCV\n",
    "from sklearn.neighbors import KNeighborsClassifier\n",
    "from sklearn.naive_bayes import GaussianNB,ComplementNB\n",
    "from sklearn.linear_model import SGDClassifier,LogisticRegression\n",
    "from imblearn.pipeline import Pipeline, make_pipeline\n",
    "from imblearn.over_sampling import SMOTE\n",
    "from catboost import CatBoostClassifier\n",
    "\n",
    "from sklearn.utils import resample, shuffle\n",
    "# const random_state \n",
    "RANDOM_STATE = 12345"
   ]
  },
  {
   "cell_type": "markdown",
   "metadata": {},
   "source": [
    "## Download the data"
   ]
  },
  {
   "cell_type": "code",
   "execution_count": 5,
   "metadata": {},
   "outputs": [],
   "source": [
    "#Read csv files\n",
    "contract = pd.read_csv('/datasets/final_provider/contract.csv') \n",
    "personal = pd.read_csv('/datasets/final_provider/personal.csv') \n",
    "internet = pd.read_csv('/datasets/final_provider/internet.csv') \n",
    "phone = pd.read_csv('/datasets/final_provider/phone.csv') "
   ]
  },
  {
   "cell_type": "markdown",
   "metadata": {},
   "source": [
    "## Preprocess the data"
   ]
  },
  {
   "cell_type": "markdown",
   "metadata": {},
   "source": [
    "### Preprocess contract file"
   ]
  },
  {
   "cell_type": "code",
   "execution_count": 6,
   "metadata": {},
   "outputs": [
    {
     "data": {
      "text/html": [
       "<div>\n",
       "<style scoped>\n",
       "    .dataframe tbody tr th:only-of-type {\n",
       "        vertical-align: middle;\n",
       "    }\n",
       "\n",
       "    .dataframe tbody tr th {\n",
       "        vertical-align: top;\n",
       "    }\n",
       "\n",
       "    .dataframe thead th {\n",
       "        text-align: right;\n",
       "    }\n",
       "</style>\n",
       "<table border=\"1\" class=\"dataframe\">\n",
       "  <thead>\n",
       "    <tr style=\"text-align: right;\">\n",
       "      <th></th>\n",
       "      <th>customerID</th>\n",
       "      <th>BeginDate</th>\n",
       "      <th>EndDate</th>\n",
       "      <th>Type</th>\n",
       "      <th>PaperlessBilling</th>\n",
       "      <th>PaymentMethod</th>\n",
       "      <th>MonthlyCharges</th>\n",
       "      <th>TotalCharges</th>\n",
       "    </tr>\n",
       "  </thead>\n",
       "  <tbody>\n",
       "    <tr>\n",
       "      <td>14</td>\n",
       "      <td>5129-JLPIS</td>\n",
       "      <td>2018-01-01</td>\n",
       "      <td>No</td>\n",
       "      <td>Month-to-month</td>\n",
       "      <td>Yes</td>\n",
       "      <td>Electronic check</td>\n",
       "      <td>105.50</td>\n",
       "      <td>2686.05</td>\n",
       "    </tr>\n",
       "    <tr>\n",
       "      <td>454</td>\n",
       "      <td>4785-FCIFB</td>\n",
       "      <td>2015-01-01</td>\n",
       "      <td>No</td>\n",
       "      <td>Two year</td>\n",
       "      <td>No</td>\n",
       "      <td>Mailed check</td>\n",
       "      <td>24.40</td>\n",
       "      <td>1417.9</td>\n",
       "    </tr>\n",
       "    <tr>\n",
       "      <td>2347</td>\n",
       "      <td>7089-RKVSZ</td>\n",
       "      <td>2019-06-01</td>\n",
       "      <td>No</td>\n",
       "      <td>One year</td>\n",
       "      <td>No</td>\n",
       "      <td>Mailed check</td>\n",
       "      <td>24.40</td>\n",
       "      <td>203.95</td>\n",
       "    </tr>\n",
       "    <tr>\n",
       "      <td>6738</td>\n",
       "      <td>3590-TCXTB</td>\n",
       "      <td>2020-01-01</td>\n",
       "      <td>No</td>\n",
       "      <td>Month-to-month</td>\n",
       "      <td>No</td>\n",
       "      <td>Mailed check</td>\n",
       "      <td>20.35</td>\n",
       "      <td>20.35</td>\n",
       "    </tr>\n",
       "    <tr>\n",
       "      <td>4000</td>\n",
       "      <td>0420-HLGXF</td>\n",
       "      <td>2016-11-01</td>\n",
       "      <td>No</td>\n",
       "      <td>Month-to-month</td>\n",
       "      <td>Yes</td>\n",
       "      <td>Electronic check</td>\n",
       "      <td>99.75</td>\n",
       "      <td>4036</td>\n",
       "    </tr>\n",
       "    <tr>\n",
       "      <td>2924</td>\n",
       "      <td>1428-GTBJJ</td>\n",
       "      <td>2018-12-01</td>\n",
       "      <td>2019-11-01 00:00:00</td>\n",
       "      <td>Month-to-month</td>\n",
       "      <td>Yes</td>\n",
       "      <td>Electronic check</td>\n",
       "      <td>74.55</td>\n",
       "      <td>824.75</td>\n",
       "    </tr>\n",
       "    <tr>\n",
       "      <td>1516</td>\n",
       "      <td>6198-RTPMF</td>\n",
       "      <td>2018-09-01</td>\n",
       "      <td>No</td>\n",
       "      <td>Month-to-month</td>\n",
       "      <td>No</td>\n",
       "      <td>Electronic check</td>\n",
       "      <td>92.60</td>\n",
       "      <td>1579.7</td>\n",
       "    </tr>\n",
       "    <tr>\n",
       "      <td>2598</td>\n",
       "      <td>8325-QRPZR</td>\n",
       "      <td>2019-07-01</td>\n",
       "      <td>No</td>\n",
       "      <td>Month-to-month</td>\n",
       "      <td>Yes</td>\n",
       "      <td>Electronic check</td>\n",
       "      <td>75.15</td>\n",
       "      <td>525</td>\n",
       "    </tr>\n",
       "    <tr>\n",
       "      <td>4442</td>\n",
       "      <td>9837-BMCLM</td>\n",
       "      <td>2019-10-01</td>\n",
       "      <td>2020-01-01 00:00:00</td>\n",
       "      <td>Month-to-month</td>\n",
       "      <td>Yes</td>\n",
       "      <td>Electronic check</td>\n",
       "      <td>78.50</td>\n",
       "      <td>242.05</td>\n",
       "    </tr>\n",
       "    <tr>\n",
       "      <td>341</td>\n",
       "      <td>6885-PKOAM</td>\n",
       "      <td>2014-03-01</td>\n",
       "      <td>No</td>\n",
       "      <td>Two year</td>\n",
       "      <td>No</td>\n",
       "      <td>Credit card (automatic)</td>\n",
       "      <td>85.75</td>\n",
       "      <td>6223.8</td>\n",
       "    </tr>\n",
       "  </tbody>\n",
       "</table>\n",
       "</div>"
      ],
      "text/plain": [
       "      customerID   BeginDate              EndDate            Type  \\\n",
       "14    5129-JLPIS  2018-01-01                   No  Month-to-month   \n",
       "454   4785-FCIFB  2015-01-01                   No        Two year   \n",
       "2347  7089-RKVSZ  2019-06-01                   No        One year   \n",
       "6738  3590-TCXTB  2020-01-01                   No  Month-to-month   \n",
       "4000  0420-HLGXF  2016-11-01                   No  Month-to-month   \n",
       "2924  1428-GTBJJ  2018-12-01  2019-11-01 00:00:00  Month-to-month   \n",
       "1516  6198-RTPMF  2018-09-01                   No  Month-to-month   \n",
       "2598  8325-QRPZR  2019-07-01                   No  Month-to-month   \n",
       "4442  9837-BMCLM  2019-10-01  2020-01-01 00:00:00  Month-to-month   \n",
       "341   6885-PKOAM  2014-03-01                   No        Two year   \n",
       "\n",
       "     PaperlessBilling            PaymentMethod  MonthlyCharges TotalCharges  \n",
       "14                Yes         Electronic check          105.50      2686.05  \n",
       "454                No             Mailed check           24.40       1417.9  \n",
       "2347               No             Mailed check           24.40       203.95  \n",
       "6738               No             Mailed check           20.35        20.35  \n",
       "4000              Yes         Electronic check           99.75         4036  \n",
       "2924              Yes         Electronic check           74.55       824.75  \n",
       "1516               No         Electronic check           92.60       1579.7  \n",
       "2598              Yes         Electronic check           75.15          525  \n",
       "4442              Yes         Electronic check           78.50       242.05  \n",
       "341                No  Credit card (automatic)           85.75       6223.8  "
      ]
     },
     "execution_count": 6,
     "metadata": {},
     "output_type": "execute_result"
    }
   ],
   "source": [
    "\n",
    "contract.sample(10)"
   ]
  },
  {
   "cell_type": "code",
   "execution_count": 7,
   "metadata": {},
   "outputs": [
    {
     "name": "stdout",
     "output_type": "stream",
     "text": [
      "<class 'pandas.core.frame.DataFrame'>\n",
      "RangeIndex: 7043 entries, 0 to 7042\n",
      "Data columns (total 8 columns):\n",
      "customerID          7043 non-null object\n",
      "BeginDate           7043 non-null object\n",
      "EndDate             7043 non-null object\n",
      "Type                7043 non-null object\n",
      "PaperlessBilling    7043 non-null object\n",
      "PaymentMethod       7043 non-null object\n",
      "MonthlyCharges      7043 non-null float64\n",
      "TotalCharges        7043 non-null object\n",
      "dtypes: float64(1), object(7)\n",
      "memory usage: 440.3+ KB\n"
     ]
    }
   ],
   "source": [
    "contract.info()"
   ]
  },
  {
   "cell_type": "code",
   "execution_count": 8,
   "metadata": {},
   "outputs": [
    {
     "data": {
      "text/plain": [
       "customerID          0\n",
       "BeginDate           0\n",
       "EndDate             0\n",
       "Type                0\n",
       "PaperlessBilling    0\n",
       "PaymentMethod       0\n",
       "MonthlyCharges      0\n",
       "TotalCharges        0\n",
       "dtype: int64"
      ]
     },
     "execution_count": 8,
     "metadata": {},
     "output_type": "execute_result"
    }
   ],
   "source": [
    "# Check for null values\n",
    "contract.isnull().sum()"
   ]
  },
  {
   "cell_type": "code",
   "execution_count": 9,
   "metadata": {},
   "outputs": [
    {
     "name": "stdout",
     "output_type": "stream",
     "text": [
      "BeginDate min date: 2013-10-01\n",
      "BeginDate max date: 2020-02-01\n"
     ]
    }
   ],
   "source": [
    "# Check date borders\n",
    "print(f'BeginDate min date: {contract[\"BeginDate\"].min()}')\n",
    "print(f'BeginDate max date: {contract[\"BeginDate\"].max()}')\n"
   ]
  },
  {
   "cell_type": "markdown",
   "metadata": {},
   "source": [
    "The borders dates are normal, no future dates(beyond 2020-02-01) or unreasonable dates"
   ]
  },
  {
   "cell_type": "code",
   "execution_count": 10,
   "metadata": {},
   "outputs": [
    {
     "data": {
      "text/plain": [
       "array(['Month-to-month', 'One year', 'Two year'], dtype=object)"
      ]
     },
     "execution_count": 10,
     "metadata": {},
     "output_type": "execute_result"
    }
   ],
   "source": [
    "#Get unique 'Type' values\n",
    "contract['Type'].unique()"
   ]
  },
  {
   "cell_type": "code",
   "execution_count": 11,
   "metadata": {},
   "outputs": [
    {
     "data": {
      "text/plain": [
       "array(['Yes', 'No'], dtype=object)"
      ]
     },
     "execution_count": 11,
     "metadata": {},
     "output_type": "execute_result"
    }
   ],
   "source": [
    "#Get unique 'PaperlessBilling' values\n",
    "contract['PaperlessBilling'].unique()"
   ]
  },
  {
   "cell_type": "code",
   "execution_count": 12,
   "metadata": {},
   "outputs": [
    {
     "data": {
      "text/plain": [
       "array(['Electronic check', 'Mailed check', 'Bank transfer (automatic)',\n",
       "       'Credit card (automatic)'], dtype=object)"
      ]
     },
     "execution_count": 12,
     "metadata": {},
     "output_type": "execute_result"
    }
   ],
   "source": [
    "#Get unique 'PaymentMethod' values\n",
    "contract['PaymentMethod'].unique()"
   ]
  },
  {
   "cell_type": "code",
   "execution_count": 13,
   "metadata": {},
   "outputs": [
    {
     "name": "stdout",
     "output_type": "stream",
     "text": [
      "MonthlyCharges min value: 18.25\n",
      "MonthlyCharges max value: 118.75\n"
     ]
    }
   ],
   "source": [
    "#Ckeck borders\n",
    "#Check min value for validation(not negative or a very small amount)\n",
    "print(f'MonthlyCharges min value: {contract[\"MonthlyCharges\"].min()}')\n",
    "print(f'MonthlyCharges max value: {contract[\"MonthlyCharges\"].max()}')\n"
   ]
  },
  {
   "cell_type": "code",
   "execution_count": 14,
   "metadata": {},
   "outputs": [
    {
     "data": {
      "text/plain": [
       "0"
      ]
     },
     "execution_count": 14,
     "metadata": {},
     "output_type": "execute_result"
    }
   ],
   "source": [
    "#Check for duplicated data\n",
    "contract.duplicated().sum()"
   ]
  },
  {
   "cell_type": "code",
   "execution_count": 15,
   "metadata": {},
   "outputs": [
    {
     "data": {
      "text/plain": [
       "           11\n",
       "20.2       11\n",
       "19.75       9\n",
       "20.05       8\n",
       "19.9        8\n",
       "           ..\n",
       "1316.9      1\n",
       "3375.9      1\n",
       "3877.95     1\n",
       "1275.7      1\n",
       "2344.5      1\n",
       "Name: TotalCharges, Length: 6531, dtype: int64"
      ]
     },
     "execution_count": 15,
     "metadata": {},
     "output_type": "execute_result"
    }
   ],
   "source": [
    "contract['TotalCharges'].value_counts()"
   ]
  },
  {
   "cell_type": "markdown",
   "metadata": {},
   "source": [
    "There are 11 observations with empty value.\n",
    "i'll explorer them"
   ]
  },
  {
   "cell_type": "code",
   "execution_count": 16,
   "metadata": {},
   "outputs": [
    {
     "data": {
      "text/html": [
       "<div>\n",
       "<style scoped>\n",
       "    .dataframe tbody tr th:only-of-type {\n",
       "        vertical-align: middle;\n",
       "    }\n",
       "\n",
       "    .dataframe tbody tr th {\n",
       "        vertical-align: top;\n",
       "    }\n",
       "\n",
       "    .dataframe thead th {\n",
       "        text-align: right;\n",
       "    }\n",
       "</style>\n",
       "<table border=\"1\" class=\"dataframe\">\n",
       "  <thead>\n",
       "    <tr style=\"text-align: right;\">\n",
       "      <th></th>\n",
       "      <th>customerID</th>\n",
       "      <th>BeginDate</th>\n",
       "      <th>EndDate</th>\n",
       "      <th>Type</th>\n",
       "      <th>PaperlessBilling</th>\n",
       "      <th>PaymentMethod</th>\n",
       "      <th>MonthlyCharges</th>\n",
       "      <th>TotalCharges</th>\n",
       "    </tr>\n",
       "  </thead>\n",
       "  <tbody>\n",
       "    <tr>\n",
       "      <td>488</td>\n",
       "      <td>4472-LVYGI</td>\n",
       "      <td>2020-02-01</td>\n",
       "      <td>No</td>\n",
       "      <td>Two year</td>\n",
       "      <td>Yes</td>\n",
       "      <td>Bank transfer (automatic)</td>\n",
       "      <td>52.55</td>\n",
       "      <td></td>\n",
       "    </tr>\n",
       "    <tr>\n",
       "      <td>753</td>\n",
       "      <td>3115-CZMZD</td>\n",
       "      <td>2020-02-01</td>\n",
       "      <td>No</td>\n",
       "      <td>Two year</td>\n",
       "      <td>No</td>\n",
       "      <td>Mailed check</td>\n",
       "      <td>20.25</td>\n",
       "      <td></td>\n",
       "    </tr>\n",
       "    <tr>\n",
       "      <td>936</td>\n",
       "      <td>5709-LVOEQ</td>\n",
       "      <td>2020-02-01</td>\n",
       "      <td>No</td>\n",
       "      <td>Two year</td>\n",
       "      <td>No</td>\n",
       "      <td>Mailed check</td>\n",
       "      <td>80.85</td>\n",
       "      <td></td>\n",
       "    </tr>\n",
       "    <tr>\n",
       "      <td>1082</td>\n",
       "      <td>4367-NUYAO</td>\n",
       "      <td>2020-02-01</td>\n",
       "      <td>No</td>\n",
       "      <td>Two year</td>\n",
       "      <td>No</td>\n",
       "      <td>Mailed check</td>\n",
       "      <td>25.75</td>\n",
       "      <td></td>\n",
       "    </tr>\n",
       "    <tr>\n",
       "      <td>1340</td>\n",
       "      <td>1371-DWPAZ</td>\n",
       "      <td>2020-02-01</td>\n",
       "      <td>No</td>\n",
       "      <td>Two year</td>\n",
       "      <td>No</td>\n",
       "      <td>Credit card (automatic)</td>\n",
       "      <td>56.05</td>\n",
       "      <td></td>\n",
       "    </tr>\n",
       "    <tr>\n",
       "      <td>3331</td>\n",
       "      <td>7644-OMVMY</td>\n",
       "      <td>2020-02-01</td>\n",
       "      <td>No</td>\n",
       "      <td>Two year</td>\n",
       "      <td>No</td>\n",
       "      <td>Mailed check</td>\n",
       "      <td>19.85</td>\n",
       "      <td></td>\n",
       "    </tr>\n",
       "    <tr>\n",
       "      <td>3826</td>\n",
       "      <td>3213-VVOLG</td>\n",
       "      <td>2020-02-01</td>\n",
       "      <td>No</td>\n",
       "      <td>Two year</td>\n",
       "      <td>No</td>\n",
       "      <td>Mailed check</td>\n",
       "      <td>25.35</td>\n",
       "      <td></td>\n",
       "    </tr>\n",
       "    <tr>\n",
       "      <td>4380</td>\n",
       "      <td>2520-SGTTA</td>\n",
       "      <td>2020-02-01</td>\n",
       "      <td>No</td>\n",
       "      <td>Two year</td>\n",
       "      <td>No</td>\n",
       "      <td>Mailed check</td>\n",
       "      <td>20.00</td>\n",
       "      <td></td>\n",
       "    </tr>\n",
       "    <tr>\n",
       "      <td>5218</td>\n",
       "      <td>2923-ARZLG</td>\n",
       "      <td>2020-02-01</td>\n",
       "      <td>No</td>\n",
       "      <td>One year</td>\n",
       "      <td>Yes</td>\n",
       "      <td>Mailed check</td>\n",
       "      <td>19.70</td>\n",
       "      <td></td>\n",
       "    </tr>\n",
       "    <tr>\n",
       "      <td>6670</td>\n",
       "      <td>4075-WKNIU</td>\n",
       "      <td>2020-02-01</td>\n",
       "      <td>No</td>\n",
       "      <td>Two year</td>\n",
       "      <td>No</td>\n",
       "      <td>Mailed check</td>\n",
       "      <td>73.35</td>\n",
       "      <td></td>\n",
       "    </tr>\n",
       "    <tr>\n",
       "      <td>6754</td>\n",
       "      <td>2775-SEFEE</td>\n",
       "      <td>2020-02-01</td>\n",
       "      <td>No</td>\n",
       "      <td>Two year</td>\n",
       "      <td>Yes</td>\n",
       "      <td>Bank transfer (automatic)</td>\n",
       "      <td>61.90</td>\n",
       "      <td></td>\n",
       "    </tr>\n",
       "  </tbody>\n",
       "</table>\n",
       "</div>"
      ],
      "text/plain": [
       "      customerID   BeginDate EndDate      Type PaperlessBilling  \\\n",
       "488   4472-LVYGI  2020-02-01      No  Two year              Yes   \n",
       "753   3115-CZMZD  2020-02-01      No  Two year               No   \n",
       "936   5709-LVOEQ  2020-02-01      No  Two year               No   \n",
       "1082  4367-NUYAO  2020-02-01      No  Two year               No   \n",
       "1340  1371-DWPAZ  2020-02-01      No  Two year               No   \n",
       "3331  7644-OMVMY  2020-02-01      No  Two year               No   \n",
       "3826  3213-VVOLG  2020-02-01      No  Two year               No   \n",
       "4380  2520-SGTTA  2020-02-01      No  Two year               No   \n",
       "5218  2923-ARZLG  2020-02-01      No  One year              Yes   \n",
       "6670  4075-WKNIU  2020-02-01      No  Two year               No   \n",
       "6754  2775-SEFEE  2020-02-01      No  Two year              Yes   \n",
       "\n",
       "                  PaymentMethod  MonthlyCharges TotalCharges  \n",
       "488   Bank transfer (automatic)           52.55               \n",
       "753                Mailed check           20.25               \n",
       "936                Mailed check           80.85               \n",
       "1082               Mailed check           25.75               \n",
       "1340    Credit card (automatic)           56.05               \n",
       "3331               Mailed check           19.85               \n",
       "3826               Mailed check           25.35               \n",
       "4380               Mailed check           20.00               \n",
       "5218               Mailed check           19.70               \n",
       "6670               Mailed check           73.35               \n",
       "6754  Bank transfer (automatic)           61.90               "
      ]
     },
     "execution_count": 16,
     "metadata": {},
     "output_type": "execute_result"
    }
   ],
   "source": [
    "# Users that subscribe less than a month, the 'TotalCharges' is empty\n",
    "contract[contract['TotalCharges'] == ' ']"
   ]
  },
  {
   "cell_type": "markdown",
   "metadata": {},
   "source": [
    " Users that subscribe less than a month, the 'TotalCharges' is empty.  \n",
    " They are not been charged yet.  \n",
    " for those users, change 'TotalCharges' from empty value to 0.  "
   ]
  },
  {
   "cell_type": "code",
   "execution_count": 17,
   "metadata": {},
   "outputs": [],
   "source": [
    "# For users that subscribed less than a month, change 'TotalCharges' from empty value to 0.\n",
    "contract.loc[contract['TotalCharges'] == ' ','TotalCharges'] = 0"
   ]
  },
  {
   "cell_type": "code",
   "execution_count": null,
   "metadata": {},
   "outputs": [],
   "source": []
  },
  {
   "cell_type": "code",
   "execution_count": 18,
   "metadata": {},
   "outputs": [],
   "source": [
    "# For users that left, Add new feature 'subscriptionAge'  as 'EndDate' - 'BeginDate'\n",
    "contract.loc[contract['EndDate'] != 'No','subscriptionAge'] = \\\n",
    "                                                 pd.to_datetime(contract.loc[contract['EndDate'] != 'No','EndDate']) - \\\n",
    "                                                 pd.to_datetime(contract.loc[contract['EndDate'] != 'No','BeginDate'])\n"
   ]
  },
  {
   "cell_type": "code",
   "execution_count": 19,
   "metadata": {},
   "outputs": [],
   "source": [
    "# For existing users , Add new feature 'subscriptionAge'  as '2020-02-01' - 'BeginDate'\n",
    "contract.loc[contract['EndDate'] == 'No','subscriptionAge'] = \\\n",
    "                                                 pd.to_datetime('2020-02-01') - \\\n",
    "                                                 pd.to_datetime(contract.loc[contract['EndDate'] == 'No','BeginDate'])\n"
   ]
  },
  {
   "cell_type": "markdown",
   "metadata": {},
   "source": [
    " -  For users that left, Add new feature 'subscriptionAge'  as 'EndDate' - 'BeginDate'\n",
    " -  For existing users , Add new feature 'subscriptionAge'  as '2020-02-01' - 'BeginDate'\n",
    " - The contract information is valid as of '2020-02-01', as mention in the description."
   ]
  },
  {
   "cell_type": "code",
   "execution_count": null,
   "metadata": {},
   "outputs": [],
   "source": []
  },
  {
   "cell_type": "code",
   "execution_count": 20,
   "metadata": {},
   "outputs": [],
   "source": [
    "# Replace Yes to 1 and No to 0\n",
    "contract.PaperlessBilling= contract.PaperlessBilling.map(dict(Yes=1, No=0))\n",
    "contract.loc[contract['EndDate'] != 'No','EndDate'] = 0\n",
    "contract.loc[contract['EndDate'] == 'No','EndDate'] = 1\n",
    "#contract.EndDate= contract.EndDate.map(dict( No=1))"
   ]
  },
  {
   "cell_type": "code",
   "execution_count": 21,
   "metadata": {},
   "outputs": [
    {
     "data": {
      "text/plain": [
       "array([1, 0])"
      ]
     },
     "execution_count": 21,
     "metadata": {},
     "output_type": "execute_result"
    }
   ],
   "source": [
    "#Check that replacment was made currectly\n",
    "contract['EndDate'].unique()"
   ]
  },
  {
   "cell_type": "code",
   "execution_count": 22,
   "metadata": {},
   "outputs": [],
   "source": [
    "#Data type replacment\n",
    "contract['TotalCharges'] = contract['TotalCharges'].astype(float)\n",
    "contract['BeginDate'] = pd.to_datetime(contract['BeginDate'])\n",
    "contract['PaperlessBilling'] = contract['PaperlessBilling'].astype(np.int8)\n",
    "\n",
    "# convert timedelta64 ns to int\n",
    "contract['subscriptionAge'] = contract['subscriptionAge'].dt.days\n",
    "# Convert int64 to int32 - int32 is enough for this feature\n",
    "contract['subscriptionAge'] = contract['subscriptionAge'].astype(np.int32)\n",
    "contract['EndDate'] = contract['EndDate'].astype(np.int8)\n"
   ]
  },
  {
   "cell_type": "code",
   "execution_count": 23,
   "metadata": {},
   "outputs": [
    {
     "name": "stdout",
     "output_type": "stream",
     "text": [
      "<class 'pandas.core.frame.DataFrame'>\n",
      "RangeIndex: 7043 entries, 0 to 7042\n",
      "Data columns (total 9 columns):\n",
      "customerID          7043 non-null object\n",
      "BeginDate           7043 non-null datetime64[ns]\n",
      "EndDate             7043 non-null int8\n",
      "Type                7043 non-null object\n",
      "PaperlessBilling    7043 non-null int8\n",
      "PaymentMethod       7043 non-null object\n",
      "MonthlyCharges      7043 non-null float64\n",
      "TotalCharges        7043 non-null float64\n",
      "subscriptionAge     7043 non-null int32\n",
      "dtypes: datetime64[ns](1), float64(2), int32(1), int8(2), object(3)\n",
      "memory usage: 371.5+ KB\n"
     ]
    }
   ],
   "source": [
    "contract.info()"
   ]
  },
  {
   "cell_type": "code",
   "execution_count": 24,
   "metadata": {},
   "outputs": [
    {
     "data": {
      "text/html": [
       "<div>\n",
       "<style scoped>\n",
       "    .dataframe tbody tr th:only-of-type {\n",
       "        vertical-align: middle;\n",
       "    }\n",
       "\n",
       "    .dataframe tbody tr th {\n",
       "        vertical-align: top;\n",
       "    }\n",
       "\n",
       "    .dataframe thead th {\n",
       "        text-align: right;\n",
       "    }\n",
       "</style>\n",
       "<table border=\"1\" class=\"dataframe\">\n",
       "  <thead>\n",
       "    <tr style=\"text-align: right;\">\n",
       "      <th></th>\n",
       "      <th>customerID</th>\n",
       "      <th>BeginDate</th>\n",
       "      <th>EndDate</th>\n",
       "      <th>Type</th>\n",
       "      <th>PaperlessBilling</th>\n",
       "      <th>PaymentMethod</th>\n",
       "      <th>MonthlyCharges</th>\n",
       "      <th>TotalCharges</th>\n",
       "      <th>subscriptionAge</th>\n",
       "    </tr>\n",
       "  </thead>\n",
       "  <tbody>\n",
       "    <tr>\n",
       "      <td>6929</td>\n",
       "      <td>0357-NVCRI</td>\n",
       "      <td>2018-01-01</td>\n",
       "      <td>1</td>\n",
       "      <td>Month-to-month</td>\n",
       "      <td>0</td>\n",
       "      <td>Credit card (automatic)</td>\n",
       "      <td>20.05</td>\n",
       "      <td>471.70</td>\n",
       "      <td>761</td>\n",
       "    </tr>\n",
       "    <tr>\n",
       "      <td>5681</td>\n",
       "      <td>2522-WLNSF</td>\n",
       "      <td>2017-04-01</td>\n",
       "      <td>1</td>\n",
       "      <td>One year</td>\n",
       "      <td>0</td>\n",
       "      <td>Bank transfer (automatic)</td>\n",
       "      <td>64.20</td>\n",
       "      <td>2106.30</td>\n",
       "      <td>1036</td>\n",
       "    </tr>\n",
       "    <tr>\n",
       "      <td>3910</td>\n",
       "      <td>8938-UMKPI</td>\n",
       "      <td>2015-11-01</td>\n",
       "      <td>0</td>\n",
       "      <td>Month-to-month</td>\n",
       "      <td>1</td>\n",
       "      <td>Electronic check</td>\n",
       "      <td>106.40</td>\n",
       "      <td>5127.95</td>\n",
       "      <td>1430</td>\n",
       "    </tr>\n",
       "    <tr>\n",
       "      <td>313</td>\n",
       "      <td>2799-ARNLO</td>\n",
       "      <td>2019-09-01</td>\n",
       "      <td>1</td>\n",
       "      <td>Month-to-month</td>\n",
       "      <td>1</td>\n",
       "      <td>Electronic check</td>\n",
       "      <td>69.35</td>\n",
       "      <td>341.60</td>\n",
       "      <td>153</td>\n",
       "    </tr>\n",
       "    <tr>\n",
       "      <td>3573</td>\n",
       "      <td>6506-EYCNH</td>\n",
       "      <td>2017-10-01</td>\n",
       "      <td>1</td>\n",
       "      <td>Month-to-month</td>\n",
       "      <td>1</td>\n",
       "      <td>Bank transfer (automatic)</td>\n",
       "      <td>19.55</td>\n",
       "      <td>543.80</td>\n",
       "      <td>853</td>\n",
       "    </tr>\n",
       "    <tr>\n",
       "      <td>2592</td>\n",
       "      <td>3750-RNQKR</td>\n",
       "      <td>2019-02-01</td>\n",
       "      <td>1</td>\n",
       "      <td>Month-to-month</td>\n",
       "      <td>0</td>\n",
       "      <td>Mailed check</td>\n",
       "      <td>19.45</td>\n",
       "      <td>246.25</td>\n",
       "      <td>365</td>\n",
       "    </tr>\n",
       "    <tr>\n",
       "      <td>3063</td>\n",
       "      <td>1666-JXLKU</td>\n",
       "      <td>2017-01-01</td>\n",
       "      <td>1</td>\n",
       "      <td>Month-to-month</td>\n",
       "      <td>1</td>\n",
       "      <td>Electronic check</td>\n",
       "      <td>100.05</td>\n",
       "      <td>3810.55</td>\n",
       "      <td>1126</td>\n",
       "    </tr>\n",
       "    <tr>\n",
       "      <td>996</td>\n",
       "      <td>6641-XRPSU</td>\n",
       "      <td>2017-03-01</td>\n",
       "      <td>0</td>\n",
       "      <td>Month-to-month</td>\n",
       "      <td>1</td>\n",
       "      <td>Credit card (automatic)</td>\n",
       "      <td>70.00</td>\n",
       "      <td>2416.10</td>\n",
       "      <td>1036</td>\n",
       "    </tr>\n",
       "    <tr>\n",
       "      <td>3909</td>\n",
       "      <td>1093-YSWCA</td>\n",
       "      <td>2019-03-01</td>\n",
       "      <td>1</td>\n",
       "      <td>Two year</td>\n",
       "      <td>0</td>\n",
       "      <td>Credit card (automatic)</td>\n",
       "      <td>19.55</td>\n",
       "      <td>223.15</td>\n",
       "      <td>337</td>\n",
       "    </tr>\n",
       "    <tr>\n",
       "      <td>1527</td>\n",
       "      <td>0640-YJTPY</td>\n",
       "      <td>2014-02-01</td>\n",
       "      <td>1</td>\n",
       "      <td>Two year</td>\n",
       "      <td>0</td>\n",
       "      <td>Bank transfer (automatic)</td>\n",
       "      <td>21.00</td>\n",
       "      <td>1493.75</td>\n",
       "      <td>2191</td>\n",
       "    </tr>\n",
       "  </tbody>\n",
       "</table>\n",
       "</div>"
      ],
      "text/plain": [
       "      customerID  BeginDate  EndDate            Type  PaperlessBilling  \\\n",
       "6929  0357-NVCRI 2018-01-01        1  Month-to-month                 0   \n",
       "5681  2522-WLNSF 2017-04-01        1        One year                 0   \n",
       "3910  8938-UMKPI 2015-11-01        0  Month-to-month                 1   \n",
       "313   2799-ARNLO 2019-09-01        1  Month-to-month                 1   \n",
       "3573  6506-EYCNH 2017-10-01        1  Month-to-month                 1   \n",
       "2592  3750-RNQKR 2019-02-01        1  Month-to-month                 0   \n",
       "3063  1666-JXLKU 2017-01-01        1  Month-to-month                 1   \n",
       "996   6641-XRPSU 2017-03-01        0  Month-to-month                 1   \n",
       "3909  1093-YSWCA 2019-03-01        1        Two year                 0   \n",
       "1527  0640-YJTPY 2014-02-01        1        Two year                 0   \n",
       "\n",
       "                  PaymentMethod  MonthlyCharges  TotalCharges  subscriptionAge  \n",
       "6929    Credit card (automatic)           20.05        471.70              761  \n",
       "5681  Bank transfer (automatic)           64.20       2106.30             1036  \n",
       "3910           Electronic check          106.40       5127.95             1430  \n",
       "313            Electronic check           69.35        341.60              153  \n",
       "3573  Bank transfer (automatic)           19.55        543.80              853  \n",
       "2592               Mailed check           19.45        246.25              365  \n",
       "3063           Electronic check          100.05       3810.55             1126  \n",
       "996     Credit card (automatic)           70.00       2416.10             1036  \n",
       "3909    Credit card (automatic)           19.55        223.15              337  \n",
       "1527  Bank transfer (automatic)           21.00       1493.75             2191  "
      ]
     },
     "execution_count": 24,
     "metadata": {},
     "output_type": "execute_result"
    }
   ],
   "source": [
    "contract.sample(10)"
   ]
  },
  {
   "cell_type": "code",
   "execution_count": null,
   "metadata": {},
   "outputs": [],
   "source": []
  },
  {
   "cell_type": "markdown",
   "metadata": {},
   "source": [
    "**Conclusion**\n",
    "- There are no null's in the data.\n",
    "- Add new feature 'subscriptionAge' - how long the user is subscribe \n",
    "- Users that subscribe less than a month, the 'TotalCharges' is empty.  \n",
    "     They are not been charged yet.  \n",
    "     for those users, change 'TotalCharges' from empty value to 0.  \n",
    "- Data type replacment was made.\n",
    "- There is no duplicated data"
   ]
  },
  {
   "cell_type": "markdown",
   "metadata": {},
   "source": [
    "### Preprocess personal file"
   ]
  },
  {
   "cell_type": "code",
   "execution_count": 25,
   "metadata": {
    "scrolled": true
   },
   "outputs": [
    {
     "data": {
      "text/html": [
       "<div>\n",
       "<style scoped>\n",
       "    .dataframe tbody tr th:only-of-type {\n",
       "        vertical-align: middle;\n",
       "    }\n",
       "\n",
       "    .dataframe tbody tr th {\n",
       "        vertical-align: top;\n",
       "    }\n",
       "\n",
       "    .dataframe thead th {\n",
       "        text-align: right;\n",
       "    }\n",
       "</style>\n",
       "<table border=\"1\" class=\"dataframe\">\n",
       "  <thead>\n",
       "    <tr style=\"text-align: right;\">\n",
       "      <th></th>\n",
       "      <th>customerID</th>\n",
       "      <th>gender</th>\n",
       "      <th>SeniorCitizen</th>\n",
       "      <th>Partner</th>\n",
       "      <th>Dependents</th>\n",
       "    </tr>\n",
       "  </thead>\n",
       "  <tbody>\n",
       "    <tr>\n",
       "      <td>5517</td>\n",
       "      <td>7472-EQOAV</td>\n",
       "      <td>Male</td>\n",
       "      <td>1</td>\n",
       "      <td>Yes</td>\n",
       "      <td>Yes</td>\n",
       "    </tr>\n",
       "    <tr>\n",
       "      <td>6835</td>\n",
       "      <td>7964-ZRKKG</td>\n",
       "      <td>Male</td>\n",
       "      <td>0</td>\n",
       "      <td>Yes</td>\n",
       "      <td>No</td>\n",
       "    </tr>\n",
       "    <tr>\n",
       "      <td>3810</td>\n",
       "      <td>2903-YYTBW</td>\n",
       "      <td>Male</td>\n",
       "      <td>0</td>\n",
       "      <td>Yes</td>\n",
       "      <td>Yes</td>\n",
       "    </tr>\n",
       "    <tr>\n",
       "      <td>2577</td>\n",
       "      <td>4910-GMJOT</td>\n",
       "      <td>Female</td>\n",
       "      <td>0</td>\n",
       "      <td>No</td>\n",
       "      <td>No</td>\n",
       "    </tr>\n",
       "    <tr>\n",
       "      <td>3971</td>\n",
       "      <td>8515-OCTJS</td>\n",
       "      <td>Female</td>\n",
       "      <td>0</td>\n",
       "      <td>No</td>\n",
       "      <td>No</td>\n",
       "    </tr>\n",
       "    <tr>\n",
       "      <td>5210</td>\n",
       "      <td>2794-XIMMO</td>\n",
       "      <td>Male</td>\n",
       "      <td>0</td>\n",
       "      <td>Yes</td>\n",
       "      <td>No</td>\n",
       "    </tr>\n",
       "    <tr>\n",
       "      <td>964</td>\n",
       "      <td>9117-SHLZX</td>\n",
       "      <td>Male</td>\n",
       "      <td>0</td>\n",
       "      <td>No</td>\n",
       "      <td>No</td>\n",
       "    </tr>\n",
       "    <tr>\n",
       "      <td>3189</td>\n",
       "      <td>5384-ZTTWP</td>\n",
       "      <td>Female</td>\n",
       "      <td>0</td>\n",
       "      <td>Yes</td>\n",
       "      <td>Yes</td>\n",
       "    </tr>\n",
       "    <tr>\n",
       "      <td>1707</td>\n",
       "      <td>4854-CIDCF</td>\n",
       "      <td>Female</td>\n",
       "      <td>1</td>\n",
       "      <td>No</td>\n",
       "      <td>No</td>\n",
       "    </tr>\n",
       "    <tr>\n",
       "      <td>3968</td>\n",
       "      <td>7463-IFMQU</td>\n",
       "      <td>Female</td>\n",
       "      <td>0</td>\n",
       "      <td>Yes</td>\n",
       "      <td>No</td>\n",
       "    </tr>\n",
       "  </tbody>\n",
       "</table>\n",
       "</div>"
      ],
      "text/plain": [
       "      customerID  gender  SeniorCitizen Partner Dependents\n",
       "5517  7472-EQOAV    Male              1     Yes        Yes\n",
       "6835  7964-ZRKKG    Male              0     Yes         No\n",
       "3810  2903-YYTBW    Male              0     Yes        Yes\n",
       "2577  4910-GMJOT  Female              0      No         No\n",
       "3971  8515-OCTJS  Female              0      No         No\n",
       "5210  2794-XIMMO    Male              0     Yes         No\n",
       "964   9117-SHLZX    Male              0      No         No\n",
       "3189  5384-ZTTWP  Female              0     Yes        Yes\n",
       "1707  4854-CIDCF  Female              1      No         No\n",
       "3968  7463-IFMQU  Female              0     Yes         No"
      ]
     },
     "execution_count": 25,
     "metadata": {},
     "output_type": "execute_result"
    }
   ],
   "source": [
    "personal.sample(10)"
   ]
  },
  {
   "cell_type": "code",
   "execution_count": 26,
   "metadata": {},
   "outputs": [
    {
     "name": "stdout",
     "output_type": "stream",
     "text": [
      "<class 'pandas.core.frame.DataFrame'>\n",
      "RangeIndex: 7043 entries, 0 to 7042\n",
      "Data columns (total 5 columns):\n",
      "customerID       7043 non-null object\n",
      "gender           7043 non-null object\n",
      "SeniorCitizen    7043 non-null int64\n",
      "Partner          7043 non-null object\n",
      "Dependents       7043 non-null object\n",
      "dtypes: int64(1), object(4)\n",
      "memory usage: 275.2+ KB\n"
     ]
    }
   ],
   "source": [
    "personal.info()"
   ]
  },
  {
   "cell_type": "code",
   "execution_count": 27,
   "metadata": {},
   "outputs": [
    {
     "data": {
      "text/plain": [
       "customerID       0\n",
       "gender           0\n",
       "SeniorCitizen    0\n",
       "Partner          0\n",
       "Dependents       0\n",
       "dtype: int64"
      ]
     },
     "execution_count": 27,
     "metadata": {},
     "output_type": "execute_result"
    }
   ],
   "source": [
    "# Check for null values\n",
    "personal.isnull().sum()"
   ]
  },
  {
   "cell_type": "code",
   "execution_count": 28,
   "metadata": {},
   "outputs": [
    {
     "data": {
      "text/plain": [
       "array(['Female', 'Male'], dtype=object)"
      ]
     },
     "execution_count": 28,
     "metadata": {},
     "output_type": "execute_result"
    }
   ],
   "source": [
    "#Get unique 'gender' values\n",
    "personal['gender'].unique()"
   ]
  },
  {
   "cell_type": "code",
   "execution_count": 29,
   "metadata": {},
   "outputs": [
    {
     "data": {
      "text/plain": [
       "array([0, 1])"
      ]
     },
     "execution_count": 29,
     "metadata": {},
     "output_type": "execute_result"
    }
   ],
   "source": [
    "#Get unique 'SeniorCitizen' values\n",
    "personal['SeniorCitizen'].unique()"
   ]
  },
  {
   "cell_type": "code",
   "execution_count": 30,
   "metadata": {},
   "outputs": [
    {
     "data": {
      "text/plain": [
       "array(['Yes', 'No'], dtype=object)"
      ]
     },
     "execution_count": 30,
     "metadata": {},
     "output_type": "execute_result"
    }
   ],
   "source": [
    "#Get unique 'Partner' values\n",
    "personal['Partner'].unique()"
   ]
  },
  {
   "cell_type": "code",
   "execution_count": 31,
   "metadata": {},
   "outputs": [
    {
     "data": {
      "text/plain": [
       "array(['No', 'Yes'], dtype=object)"
      ]
     },
     "execution_count": 31,
     "metadata": {},
     "output_type": "execute_result"
    }
   ],
   "source": [
    "#Get unique 'Dependents' values\n",
    "personal['Dependents'].unique()"
   ]
  },
  {
   "cell_type": "code",
   "execution_count": 32,
   "metadata": {},
   "outputs": [],
   "source": [
    "# Replace Yes to 1 and No to 0\n",
    "personal.Partner= personal.Partner.map(dict(Yes=1, No=0))\n",
    "personal.Dependents= personal.Dependents.map(dict(Yes=1, No=0))"
   ]
  },
  {
   "cell_type": "code",
   "execution_count": 33,
   "metadata": {},
   "outputs": [],
   "source": [
    "# Data type replacment\n",
    "personal.Partner = personal.Partner.astype(np.int8)\n",
    "personal.SeniorCitizen = personal.SeniorCitizen.astype(np.int8)\n",
    "personal.Dependents = personal.Dependents.astype(np.int8)"
   ]
  },
  {
   "cell_type": "code",
   "execution_count": 34,
   "metadata": {},
   "outputs": [],
   "source": [
    "#DOTO:\n",
    "#change gender"
   ]
  },
  {
   "cell_type": "code",
   "execution_count": 35,
   "metadata": {},
   "outputs": [
    {
     "data": {
      "text/plain": [
       "0"
      ]
     },
     "execution_count": 35,
     "metadata": {},
     "output_type": "execute_result"
    }
   ],
   "source": [
    "#Check for duplicated data\n",
    "personal.duplicated().sum()"
   ]
  },
  {
   "cell_type": "code",
   "execution_count": 36,
   "metadata": {},
   "outputs": [
    {
     "data": {
      "text/html": [
       "<div>\n",
       "<style scoped>\n",
       "    .dataframe tbody tr th:only-of-type {\n",
       "        vertical-align: middle;\n",
       "    }\n",
       "\n",
       "    .dataframe tbody tr th {\n",
       "        vertical-align: top;\n",
       "    }\n",
       "\n",
       "    .dataframe thead th {\n",
       "        text-align: right;\n",
       "    }\n",
       "</style>\n",
       "<table border=\"1\" class=\"dataframe\">\n",
       "  <thead>\n",
       "    <tr style=\"text-align: right;\">\n",
       "      <th></th>\n",
       "      <th>customerID</th>\n",
       "      <th>gender</th>\n",
       "      <th>SeniorCitizen</th>\n",
       "      <th>Partner</th>\n",
       "      <th>Dependents</th>\n",
       "    </tr>\n",
       "  </thead>\n",
       "  <tbody>\n",
       "    <tr>\n",
       "      <td>4056</td>\n",
       "      <td>3329-WDIOK</td>\n",
       "      <td>Female</td>\n",
       "      <td>0</td>\n",
       "      <td>0</td>\n",
       "      <td>0</td>\n",
       "    </tr>\n",
       "    <tr>\n",
       "      <td>5511</td>\n",
       "      <td>6586-MYGKD</td>\n",
       "      <td>Male</td>\n",
       "      <td>0</td>\n",
       "      <td>1</td>\n",
       "      <td>0</td>\n",
       "    </tr>\n",
       "    <tr>\n",
       "      <td>4612</td>\n",
       "      <td>6723-CEGQI</td>\n",
       "      <td>Female</td>\n",
       "      <td>0</td>\n",
       "      <td>0</td>\n",
       "      <td>1</td>\n",
       "    </tr>\n",
       "    <tr>\n",
       "      <td>6469</td>\n",
       "      <td>7945-PRBVF</td>\n",
       "      <td>Male</td>\n",
       "      <td>0</td>\n",
       "      <td>0</td>\n",
       "      <td>0</td>\n",
       "    </tr>\n",
       "    <tr>\n",
       "      <td>5931</td>\n",
       "      <td>0011-IGKFF</td>\n",
       "      <td>Male</td>\n",
       "      <td>1</td>\n",
       "      <td>1</td>\n",
       "      <td>0</td>\n",
       "    </tr>\n",
       "    <tr>\n",
       "      <td>4840</td>\n",
       "      <td>5730-RIITO</td>\n",
       "      <td>Female</td>\n",
       "      <td>1</td>\n",
       "      <td>0</td>\n",
       "      <td>0</td>\n",
       "    </tr>\n",
       "    <tr>\n",
       "      <td>1729</td>\n",
       "      <td>8226-BXGES</td>\n",
       "      <td>Male</td>\n",
       "      <td>0</td>\n",
       "      <td>1</td>\n",
       "      <td>0</td>\n",
       "    </tr>\n",
       "    <tr>\n",
       "      <td>285</td>\n",
       "      <td>6202-DYYFX</td>\n",
       "      <td>Female</td>\n",
       "      <td>0</td>\n",
       "      <td>0</td>\n",
       "      <td>0</td>\n",
       "    </tr>\n",
       "    <tr>\n",
       "      <td>737</td>\n",
       "      <td>2521-NPUZR</td>\n",
       "      <td>Male</td>\n",
       "      <td>0</td>\n",
       "      <td>1</td>\n",
       "      <td>0</td>\n",
       "    </tr>\n",
       "    <tr>\n",
       "      <td>417</td>\n",
       "      <td>5249-QYHEX</td>\n",
       "      <td>Female</td>\n",
       "      <td>0</td>\n",
       "      <td>1</td>\n",
       "      <td>1</td>\n",
       "    </tr>\n",
       "  </tbody>\n",
       "</table>\n",
       "</div>"
      ],
      "text/plain": [
       "      customerID  gender  SeniorCitizen  Partner  Dependents\n",
       "4056  3329-WDIOK  Female              0        0           0\n",
       "5511  6586-MYGKD    Male              0        1           0\n",
       "4612  6723-CEGQI  Female              0        0           1\n",
       "6469  7945-PRBVF    Male              0        0           0\n",
       "5931  0011-IGKFF    Male              1        1           0\n",
       "4840  5730-RIITO  Female              1        0           0\n",
       "1729  8226-BXGES    Male              0        1           0\n",
       "285   6202-DYYFX  Female              0        0           0\n",
       "737   2521-NPUZR    Male              0        1           0\n",
       "417   5249-QYHEX  Female              0        1           1"
      ]
     },
     "execution_count": 36,
     "metadata": {},
     "output_type": "execute_result"
    }
   ],
   "source": [
    "personal.sample(10)"
   ]
  },
  {
   "cell_type": "markdown",
   "metadata": {},
   "source": [
    "**Conclusion**\n",
    "- There are no null's in the data.\n",
    "- Data type replacment was made.\n",
    "- There is no duplicated data."
   ]
  },
  {
   "cell_type": "markdown",
   "metadata": {},
   "source": [
    "### Preprocess internet file"
   ]
  },
  {
   "cell_type": "code",
   "execution_count": 37,
   "metadata": {},
   "outputs": [
    {
     "data": {
      "text/html": [
       "<div>\n",
       "<style scoped>\n",
       "    .dataframe tbody tr th:only-of-type {\n",
       "        vertical-align: middle;\n",
       "    }\n",
       "\n",
       "    .dataframe tbody tr th {\n",
       "        vertical-align: top;\n",
       "    }\n",
       "\n",
       "    .dataframe thead th {\n",
       "        text-align: right;\n",
       "    }\n",
       "</style>\n",
       "<table border=\"1\" class=\"dataframe\">\n",
       "  <thead>\n",
       "    <tr style=\"text-align: right;\">\n",
       "      <th></th>\n",
       "      <th>customerID</th>\n",
       "      <th>InternetService</th>\n",
       "      <th>OnlineSecurity</th>\n",
       "      <th>OnlineBackup</th>\n",
       "      <th>DeviceProtection</th>\n",
       "      <th>TechSupport</th>\n",
       "      <th>StreamingTV</th>\n",
       "      <th>StreamingMovies</th>\n",
       "    </tr>\n",
       "  </thead>\n",
       "  <tbody>\n",
       "    <tr>\n",
       "      <td>3656</td>\n",
       "      <td>0345-XMMUG</td>\n",
       "      <td>Fiber optic</td>\n",
       "      <td>No</td>\n",
       "      <td>Yes</td>\n",
       "      <td>Yes</td>\n",
       "      <td>Yes</td>\n",
       "      <td>Yes</td>\n",
       "      <td>Yes</td>\n",
       "    </tr>\n",
       "    <tr>\n",
       "      <td>1458</td>\n",
       "      <td>6702-OHFWR</td>\n",
       "      <td>DSL</td>\n",
       "      <td>No</td>\n",
       "      <td>Yes</td>\n",
       "      <td>Yes</td>\n",
       "      <td>No</td>\n",
       "      <td>No</td>\n",
       "      <td>Yes</td>\n",
       "    </tr>\n",
       "    <tr>\n",
       "      <td>4612</td>\n",
       "      <td>0856-NAOES</td>\n",
       "      <td>DSL</td>\n",
       "      <td>No</td>\n",
       "      <td>No</td>\n",
       "      <td>Yes</td>\n",
       "      <td>No</td>\n",
       "      <td>Yes</td>\n",
       "      <td>No</td>\n",
       "    </tr>\n",
       "    <tr>\n",
       "      <td>553</td>\n",
       "      <td>0067-DKWBL</td>\n",
       "      <td>DSL</td>\n",
       "      <td>Yes</td>\n",
       "      <td>No</td>\n",
       "      <td>No</td>\n",
       "      <td>No</td>\n",
       "      <td>No</td>\n",
       "      <td>No</td>\n",
       "    </tr>\n",
       "    <tr>\n",
       "      <td>683</td>\n",
       "      <td>7905-TVXTA</td>\n",
       "      <td>DSL</td>\n",
       "      <td>Yes</td>\n",
       "      <td>No</td>\n",
       "      <td>No</td>\n",
       "      <td>Yes</td>\n",
       "      <td>Yes</td>\n",
       "      <td>No</td>\n",
       "    </tr>\n",
       "    <tr>\n",
       "      <td>3600</td>\n",
       "      <td>6723-CEGQI</td>\n",
       "      <td>DSL</td>\n",
       "      <td>No</td>\n",
       "      <td>Yes</td>\n",
       "      <td>No</td>\n",
       "      <td>Yes</td>\n",
       "      <td>Yes</td>\n",
       "      <td>No</td>\n",
       "    </tr>\n",
       "    <tr>\n",
       "      <td>2988</td>\n",
       "      <td>8819-ZBYNA</td>\n",
       "      <td>Fiber optic</td>\n",
       "      <td>Yes</td>\n",
       "      <td>Yes</td>\n",
       "      <td>No</td>\n",
       "      <td>Yes</td>\n",
       "      <td>Yes</td>\n",
       "      <td>Yes</td>\n",
       "    </tr>\n",
       "    <tr>\n",
       "      <td>930</td>\n",
       "      <td>1282-IHQAC</td>\n",
       "      <td>DSL</td>\n",
       "      <td>No</td>\n",
       "      <td>Yes</td>\n",
       "      <td>Yes</td>\n",
       "      <td>No</td>\n",
       "      <td>Yes</td>\n",
       "      <td>No</td>\n",
       "    </tr>\n",
       "    <tr>\n",
       "      <td>4515</td>\n",
       "      <td>1415-YFWLT</td>\n",
       "      <td>Fiber optic</td>\n",
       "      <td>No</td>\n",
       "      <td>No</td>\n",
       "      <td>No</td>\n",
       "      <td>No</td>\n",
       "      <td>Yes</td>\n",
       "      <td>Yes</td>\n",
       "    </tr>\n",
       "    <tr>\n",
       "      <td>5470</td>\n",
       "      <td>1684-FLBGS</td>\n",
       "      <td>DSL</td>\n",
       "      <td>No</td>\n",
       "      <td>Yes</td>\n",
       "      <td>No</td>\n",
       "      <td>Yes</td>\n",
       "      <td>Yes</td>\n",
       "      <td>No</td>\n",
       "    </tr>\n",
       "  </tbody>\n",
       "</table>\n",
       "</div>"
      ],
      "text/plain": [
       "      customerID InternetService OnlineSecurity OnlineBackup DeviceProtection  \\\n",
       "3656  0345-XMMUG     Fiber optic             No          Yes              Yes   \n",
       "1458  6702-OHFWR             DSL             No          Yes              Yes   \n",
       "4612  0856-NAOES             DSL             No           No              Yes   \n",
       "553   0067-DKWBL             DSL            Yes           No               No   \n",
       "683   7905-TVXTA             DSL            Yes           No               No   \n",
       "3600  6723-CEGQI             DSL             No          Yes               No   \n",
       "2988  8819-ZBYNA     Fiber optic            Yes          Yes               No   \n",
       "930   1282-IHQAC             DSL             No          Yes              Yes   \n",
       "4515  1415-YFWLT     Fiber optic             No           No               No   \n",
       "5470  1684-FLBGS             DSL             No          Yes               No   \n",
       "\n",
       "     TechSupport StreamingTV StreamingMovies  \n",
       "3656         Yes         Yes             Yes  \n",
       "1458          No          No             Yes  \n",
       "4612          No         Yes              No  \n",
       "553           No          No              No  \n",
       "683          Yes         Yes              No  \n",
       "3600         Yes         Yes              No  \n",
       "2988         Yes         Yes             Yes  \n",
       "930           No         Yes              No  \n",
       "4515          No         Yes             Yes  \n",
       "5470         Yes         Yes              No  "
      ]
     },
     "execution_count": 37,
     "metadata": {},
     "output_type": "execute_result"
    }
   ],
   "source": [
    "internet.sample(10)"
   ]
  },
  {
   "cell_type": "code",
   "execution_count": 38,
   "metadata": {},
   "outputs": [
    {
     "name": "stdout",
     "output_type": "stream",
     "text": [
      "<class 'pandas.core.frame.DataFrame'>\n",
      "RangeIndex: 5517 entries, 0 to 5516\n",
      "Data columns (total 8 columns):\n",
      "customerID          5517 non-null object\n",
      "InternetService     5517 non-null object\n",
      "OnlineSecurity      5517 non-null object\n",
      "OnlineBackup        5517 non-null object\n",
      "DeviceProtection    5517 non-null object\n",
      "TechSupport         5517 non-null object\n",
      "StreamingTV         5517 non-null object\n",
      "StreamingMovies     5517 non-null object\n",
      "dtypes: object(8)\n",
      "memory usage: 344.9+ KB\n"
     ]
    }
   ],
   "source": [
    "internet.info()"
   ]
  },
  {
   "cell_type": "code",
   "execution_count": 39,
   "metadata": {},
   "outputs": [
    {
     "data": {
      "text/plain": [
       "customerID          0\n",
       "InternetService     0\n",
       "OnlineSecurity      0\n",
       "OnlineBackup        0\n",
       "DeviceProtection    0\n",
       "TechSupport         0\n",
       "StreamingTV         0\n",
       "StreamingMovies     0\n",
       "dtype: int64"
      ]
     },
     "execution_count": 39,
     "metadata": {},
     "output_type": "execute_result"
    }
   ],
   "source": [
    "# Check for null values\n",
    "internet.isnull().sum()"
   ]
  },
  {
   "cell_type": "code",
   "execution_count": 40,
   "metadata": {},
   "outputs": [
    {
     "data": {
      "text/plain": [
       "array(['No', 'Yes'], dtype=object)"
      ]
     },
     "execution_count": 40,
     "metadata": {},
     "output_type": "execute_result"
    }
   ],
   "source": [
    "#Get unique  values\n",
    "internet['OnlineSecurity'].unique()"
   ]
  },
  {
   "cell_type": "code",
   "execution_count": 41,
   "metadata": {},
   "outputs": [
    {
     "data": {
      "text/plain": [
       "array(['Yes', 'No'], dtype=object)"
      ]
     },
     "execution_count": 41,
     "metadata": {},
     "output_type": "execute_result"
    }
   ],
   "source": [
    "#Get unique values\n",
    "internet['OnlineBackup'].unique()"
   ]
  },
  {
   "cell_type": "code",
   "execution_count": 42,
   "metadata": {},
   "outputs": [
    {
     "data": {
      "text/plain": [
       "array(['No', 'Yes'], dtype=object)"
      ]
     },
     "execution_count": 42,
     "metadata": {},
     "output_type": "execute_result"
    }
   ],
   "source": [
    "#Get unique  values\n",
    "internet['DeviceProtection'].unique()"
   ]
  },
  {
   "cell_type": "code",
   "execution_count": 43,
   "metadata": {},
   "outputs": [
    {
     "data": {
      "text/plain": [
       "array(['No', 'Yes'], dtype=object)"
      ]
     },
     "execution_count": 43,
     "metadata": {},
     "output_type": "execute_result"
    }
   ],
   "source": [
    "#Get unique  values\n",
    "internet['TechSupport'].unique()"
   ]
  },
  {
   "cell_type": "code",
   "execution_count": 44,
   "metadata": {},
   "outputs": [
    {
     "data": {
      "text/plain": [
       "array(['No', 'Yes'], dtype=object)"
      ]
     },
     "execution_count": 44,
     "metadata": {},
     "output_type": "execute_result"
    }
   ],
   "source": [
    "#Get unique  values\n",
    "internet['StreamingTV'].unique()"
   ]
  },
  {
   "cell_type": "code",
   "execution_count": 45,
   "metadata": {},
   "outputs": [
    {
     "data": {
      "text/plain": [
       "Fiber optic    3096\n",
       "DSL            2421\n",
       "Name: InternetService, dtype: int64"
      ]
     },
     "execution_count": 45,
     "metadata": {},
     "output_type": "execute_result"
    }
   ],
   "source": [
    "internet['InternetService'].value_counts()"
   ]
  },
  {
   "cell_type": "code",
   "execution_count": 46,
   "metadata": {},
   "outputs": [],
   "source": [
    "#TODO:\n",
    "#InternetService"
   ]
  },
  {
   "cell_type": "code",
   "execution_count": 47,
   "metadata": {},
   "outputs": [],
   "source": [
    "# Replace Yes to 1 and No to 0\n",
    "internet.OnlineSecurity= internet.OnlineSecurity.map(dict(Yes=1, No=0))\n",
    "internet.OnlineBackup= internet.OnlineBackup.map(dict(Yes=1, No=0))\n",
    "internet.DeviceProtection= internet.DeviceProtection.map(dict(Yes=1, No=0))\n",
    "internet.TechSupport= internet.TechSupport.map(dict(Yes=1, No=0))\n",
    "internet.StreamingTV= internet.StreamingTV.map(dict(Yes=1, No=0))\n",
    "internet.StreamingMovies= internet.StreamingMovies.map(dict(Yes=1, No=0))"
   ]
  },
  {
   "cell_type": "code",
   "execution_count": 48,
   "metadata": {},
   "outputs": [],
   "source": [
    "# Replace data types \n",
    "internet.OnlineSecurity = internet.OnlineSecurity.astype(np.int8)\n",
    "internet.OnlineBackup = internet.OnlineBackup.astype(np.int8)\n",
    "internet.DeviceProtection = internet.DeviceProtection.astype(np.int8)\n",
    "internet.TechSupport = internet.TechSupport.astype(np.int8)\n",
    "internet.StreamingTV = internet.StreamingTV.astype(np.int8)\n",
    "internet.StreamingMovies = internet.StreamingMovies.astype(np.int8)"
   ]
  },
  {
   "cell_type": "code",
   "execution_count": 49,
   "metadata": {},
   "outputs": [
    {
     "data": {
      "text/plain": [
       "0"
      ]
     },
     "execution_count": 49,
     "metadata": {},
     "output_type": "execute_result"
    }
   ],
   "source": [
    "#Check for duplicated data\n",
    "internet.duplicated().sum()"
   ]
  },
  {
   "cell_type": "code",
   "execution_count": 50,
   "metadata": {},
   "outputs": [
    {
     "data": {
      "text/html": [
       "<div>\n",
       "<style scoped>\n",
       "    .dataframe tbody tr th:only-of-type {\n",
       "        vertical-align: middle;\n",
       "    }\n",
       "\n",
       "    .dataframe tbody tr th {\n",
       "        vertical-align: top;\n",
       "    }\n",
       "\n",
       "    .dataframe thead th {\n",
       "        text-align: right;\n",
       "    }\n",
       "</style>\n",
       "<table border=\"1\" class=\"dataframe\">\n",
       "  <thead>\n",
       "    <tr style=\"text-align: right;\">\n",
       "      <th></th>\n",
       "      <th>customerID</th>\n",
       "      <th>InternetService</th>\n",
       "      <th>OnlineSecurity</th>\n",
       "      <th>OnlineBackup</th>\n",
       "      <th>DeviceProtection</th>\n",
       "      <th>TechSupport</th>\n",
       "      <th>StreamingTV</th>\n",
       "      <th>StreamingMovies</th>\n",
       "    </tr>\n",
       "  </thead>\n",
       "  <tbody>\n",
       "    <tr>\n",
       "      <td>2835</td>\n",
       "      <td>6479-VDGRK</td>\n",
       "      <td>DSL</td>\n",
       "      <td>1</td>\n",
       "      <td>1</td>\n",
       "      <td>1</td>\n",
       "      <td>1</td>\n",
       "      <td>1</td>\n",
       "      <td>1</td>\n",
       "    </tr>\n",
       "    <tr>\n",
       "      <td>1651</td>\n",
       "      <td>8087-LGYHQ</td>\n",
       "      <td>Fiber optic</td>\n",
       "      <td>0</td>\n",
       "      <td>0</td>\n",
       "      <td>1</td>\n",
       "      <td>0</td>\n",
       "      <td>1</td>\n",
       "      <td>1</td>\n",
       "    </tr>\n",
       "    <tr>\n",
       "      <td>3299</td>\n",
       "      <td>8107-KNCIM</td>\n",
       "      <td>Fiber optic</td>\n",
       "      <td>0</td>\n",
       "      <td>0</td>\n",
       "      <td>0</td>\n",
       "      <td>0</td>\n",
       "      <td>0</td>\n",
       "      <td>0</td>\n",
       "    </tr>\n",
       "    <tr>\n",
       "      <td>2007</td>\n",
       "      <td>5843-TTHGI</td>\n",
       "      <td>DSL</td>\n",
       "      <td>0</td>\n",
       "      <td>0</td>\n",
       "      <td>1</td>\n",
       "      <td>0</td>\n",
       "      <td>0</td>\n",
       "      <td>0</td>\n",
       "    </tr>\n",
       "    <tr>\n",
       "      <td>3352</td>\n",
       "      <td>2789-CZANW</td>\n",
       "      <td>Fiber optic</td>\n",
       "      <td>1</td>\n",
       "      <td>1</td>\n",
       "      <td>0</td>\n",
       "      <td>1</td>\n",
       "      <td>1</td>\n",
       "      <td>1</td>\n",
       "    </tr>\n",
       "    <tr>\n",
       "      <td>3191</td>\n",
       "      <td>0946-CLJTI</td>\n",
       "      <td>Fiber optic</td>\n",
       "      <td>0</td>\n",
       "      <td>0</td>\n",
       "      <td>1</td>\n",
       "      <td>0</td>\n",
       "      <td>1</td>\n",
       "      <td>1</td>\n",
       "    </tr>\n",
       "    <tr>\n",
       "      <td>4987</td>\n",
       "      <td>4000-VGMQP</td>\n",
       "      <td>DSL</td>\n",
       "      <td>0</td>\n",
       "      <td>1</td>\n",
       "      <td>1</td>\n",
       "      <td>0</td>\n",
       "      <td>1</td>\n",
       "      <td>1</td>\n",
       "    </tr>\n",
       "    <tr>\n",
       "      <td>3708</td>\n",
       "      <td>5729-KLZAR</td>\n",
       "      <td>Fiber optic</td>\n",
       "      <td>0</td>\n",
       "      <td>0</td>\n",
       "      <td>0</td>\n",
       "      <td>0</td>\n",
       "      <td>0</td>\n",
       "      <td>1</td>\n",
       "    </tr>\n",
       "    <tr>\n",
       "      <td>4933</td>\n",
       "      <td>0691-NIKRI</td>\n",
       "      <td>Fiber optic</td>\n",
       "      <td>0</td>\n",
       "      <td>0</td>\n",
       "      <td>1</td>\n",
       "      <td>1</td>\n",
       "      <td>1</td>\n",
       "      <td>1</td>\n",
       "    </tr>\n",
       "    <tr>\n",
       "      <td>4993</td>\n",
       "      <td>7994-XIRTR</td>\n",
       "      <td>DSL</td>\n",
       "      <td>0</td>\n",
       "      <td>0</td>\n",
       "      <td>1</td>\n",
       "      <td>1</td>\n",
       "      <td>0</td>\n",
       "      <td>1</td>\n",
       "    </tr>\n",
       "  </tbody>\n",
       "</table>\n",
       "</div>"
      ],
      "text/plain": [
       "      customerID InternetService  OnlineSecurity  OnlineBackup  \\\n",
       "2835  6479-VDGRK             DSL               1             1   \n",
       "1651  8087-LGYHQ     Fiber optic               0             0   \n",
       "3299  8107-KNCIM     Fiber optic               0             0   \n",
       "2007  5843-TTHGI             DSL               0             0   \n",
       "3352  2789-CZANW     Fiber optic               1             1   \n",
       "3191  0946-CLJTI     Fiber optic               0             0   \n",
       "4987  4000-VGMQP             DSL               0             1   \n",
       "3708  5729-KLZAR     Fiber optic               0             0   \n",
       "4933  0691-NIKRI     Fiber optic               0             0   \n",
       "4993  7994-XIRTR             DSL               0             0   \n",
       "\n",
       "      DeviceProtection  TechSupport  StreamingTV  StreamingMovies  \n",
       "2835                 1            1            1                1  \n",
       "1651                 1            0            1                1  \n",
       "3299                 0            0            0                0  \n",
       "2007                 1            0            0                0  \n",
       "3352                 0            1            1                1  \n",
       "3191                 1            0            1                1  \n",
       "4987                 1            0            1                1  \n",
       "3708                 0            0            0                1  \n",
       "4933                 1            1            1                1  \n",
       "4993                 1            1            0                1  "
      ]
     },
     "execution_count": 50,
     "metadata": {},
     "output_type": "execute_result"
    }
   ],
   "source": [
    "internet.sample(10)"
   ]
  },
  {
   "cell_type": "markdown",
   "metadata": {},
   "source": [
    "**Conclusion**\n",
    "- There are no null's in the data.\n",
    "- Data type replacment was made.\n",
    "- There is no duplicated data"
   ]
  },
  {
   "cell_type": "markdown",
   "metadata": {},
   "source": [
    "### Preprocess phone file"
   ]
  },
  {
   "cell_type": "code",
   "execution_count": 51,
   "metadata": {},
   "outputs": [
    {
     "data": {
      "text/html": [
       "<div>\n",
       "<style scoped>\n",
       "    .dataframe tbody tr th:only-of-type {\n",
       "        vertical-align: middle;\n",
       "    }\n",
       "\n",
       "    .dataframe tbody tr th {\n",
       "        vertical-align: top;\n",
       "    }\n",
       "\n",
       "    .dataframe thead th {\n",
       "        text-align: right;\n",
       "    }\n",
       "</style>\n",
       "<table border=\"1\" class=\"dataframe\">\n",
       "  <thead>\n",
       "    <tr style=\"text-align: right;\">\n",
       "      <th></th>\n",
       "      <th>customerID</th>\n",
       "      <th>MultipleLines</th>\n",
       "    </tr>\n",
       "  </thead>\n",
       "  <tbody>\n",
       "    <tr>\n",
       "      <td>4015</td>\n",
       "      <td>3059-NGMXB</td>\n",
       "      <td>Yes</td>\n",
       "    </tr>\n",
       "    <tr>\n",
       "      <td>6359</td>\n",
       "      <td>8361-LTMKD</td>\n",
       "      <td>Yes</td>\n",
       "    </tr>\n",
       "    <tr>\n",
       "      <td>864</td>\n",
       "      <td>9448-REEVD</td>\n",
       "      <td>No</td>\n",
       "    </tr>\n",
       "    <tr>\n",
       "      <td>1298</td>\n",
       "      <td>4652-ODEVH</td>\n",
       "      <td>Yes</td>\n",
       "    </tr>\n",
       "    <tr>\n",
       "      <td>140</td>\n",
       "      <td>9167-APMXZ</td>\n",
       "      <td>Yes</td>\n",
       "    </tr>\n",
       "    <tr>\n",
       "      <td>3557</td>\n",
       "      <td>2139-FQHLM</td>\n",
       "      <td>No</td>\n",
       "    </tr>\n",
       "    <tr>\n",
       "      <td>3611</td>\n",
       "      <td>7463-IFMQU</td>\n",
       "      <td>No</td>\n",
       "    </tr>\n",
       "    <tr>\n",
       "      <td>5879</td>\n",
       "      <td>9548-LERKT</td>\n",
       "      <td>No</td>\n",
       "    </tr>\n",
       "    <tr>\n",
       "      <td>3357</td>\n",
       "      <td>1150-WFARN</td>\n",
       "      <td>Yes</td>\n",
       "    </tr>\n",
       "    <tr>\n",
       "      <td>4574</td>\n",
       "      <td>4092-OFQZS</td>\n",
       "      <td>No</td>\n",
       "    </tr>\n",
       "  </tbody>\n",
       "</table>\n",
       "</div>"
      ],
      "text/plain": [
       "      customerID MultipleLines\n",
       "4015  3059-NGMXB           Yes\n",
       "6359  8361-LTMKD           Yes\n",
       "864   9448-REEVD            No\n",
       "1298  4652-ODEVH           Yes\n",
       "140   9167-APMXZ           Yes\n",
       "3557  2139-FQHLM            No\n",
       "3611  7463-IFMQU            No\n",
       "5879  9548-LERKT            No\n",
       "3357  1150-WFARN           Yes\n",
       "4574  4092-OFQZS            No"
      ]
     },
     "execution_count": 51,
     "metadata": {},
     "output_type": "execute_result"
    }
   ],
   "source": [
    "phone.sample(10)"
   ]
  },
  {
   "cell_type": "code",
   "execution_count": 52,
   "metadata": {},
   "outputs": [
    {
     "name": "stdout",
     "output_type": "stream",
     "text": [
      "<class 'pandas.core.frame.DataFrame'>\n",
      "RangeIndex: 6361 entries, 0 to 6360\n",
      "Data columns (total 2 columns):\n",
      "customerID       6361 non-null object\n",
      "MultipleLines    6361 non-null object\n",
      "dtypes: object(2)\n",
      "memory usage: 99.5+ KB\n"
     ]
    }
   ],
   "source": [
    "phone.info()"
   ]
  },
  {
   "cell_type": "code",
   "execution_count": 53,
   "metadata": {},
   "outputs": [
    {
     "data": {
      "text/plain": [
       "customerID       0\n",
       "MultipleLines    0\n",
       "dtype: int64"
      ]
     },
     "execution_count": 53,
     "metadata": {},
     "output_type": "execute_result"
    }
   ],
   "source": [
    "# Check for null values\n",
    "phone.isnull().sum()"
   ]
  },
  {
   "cell_type": "code",
   "execution_count": 54,
   "metadata": {},
   "outputs": [
    {
     "data": {
      "text/plain": [
       "array(['No', 'Yes'], dtype=object)"
      ]
     },
     "execution_count": 54,
     "metadata": {},
     "output_type": "execute_result"
    }
   ],
   "source": [
    "#Get unique values\n",
    "phone['MultipleLines'].unique()"
   ]
  },
  {
   "cell_type": "code",
   "execution_count": 55,
   "metadata": {},
   "outputs": [
    {
     "data": {
      "text/plain": [
       "0"
      ]
     },
     "execution_count": 55,
     "metadata": {},
     "output_type": "execute_result"
    }
   ],
   "source": [
    "#Check for duplicated data\n",
    "phone.duplicated().sum()"
   ]
  },
  {
   "cell_type": "code",
   "execution_count": 56,
   "metadata": {},
   "outputs": [],
   "source": [
    "# Replace Yes to 1 and No to 0\n",
    "#phone.MultipleLines= phone.MultipleLines.map(dict(Yes=1, No=0))"
   ]
  },
  {
   "cell_type": "code",
   "execution_count": 57,
   "metadata": {},
   "outputs": [],
   "source": [
    "# Replace data type\n",
    "#phone.MultipleLines= phone.MultipleLines.astype(np.int8)"
   ]
  },
  {
   "cell_type": "code",
   "execution_count": 58,
   "metadata": {},
   "outputs": [
    {
     "data": {
      "text/html": [
       "<div>\n",
       "<style scoped>\n",
       "    .dataframe tbody tr th:only-of-type {\n",
       "        vertical-align: middle;\n",
       "    }\n",
       "\n",
       "    .dataframe tbody tr th {\n",
       "        vertical-align: top;\n",
       "    }\n",
       "\n",
       "    .dataframe thead th {\n",
       "        text-align: right;\n",
       "    }\n",
       "</style>\n",
       "<table border=\"1\" class=\"dataframe\">\n",
       "  <thead>\n",
       "    <tr style=\"text-align: right;\">\n",
       "      <th></th>\n",
       "      <th>customerID</th>\n",
       "      <th>MultipleLines</th>\n",
       "    </tr>\n",
       "  </thead>\n",
       "  <tbody>\n",
       "    <tr>\n",
       "      <td>6286</td>\n",
       "      <td>2451-YMUXS</td>\n",
       "      <td>Yes</td>\n",
       "    </tr>\n",
       "    <tr>\n",
       "      <td>5712</td>\n",
       "      <td>5442-BHQNG</td>\n",
       "      <td>No</td>\n",
       "    </tr>\n",
       "    <tr>\n",
       "      <td>3169</td>\n",
       "      <td>2921-XWDJH</td>\n",
       "      <td>No</td>\n",
       "    </tr>\n",
       "    <tr>\n",
       "      <td>2786</td>\n",
       "      <td>1666-JXLKU</td>\n",
       "      <td>Yes</td>\n",
       "    </tr>\n",
       "    <tr>\n",
       "      <td>3896</td>\n",
       "      <td>3740-RLMVT</td>\n",
       "      <td>No</td>\n",
       "    </tr>\n",
       "    <tr>\n",
       "      <td>1248</td>\n",
       "      <td>1839-FBNFR</td>\n",
       "      <td>No</td>\n",
       "    </tr>\n",
       "    <tr>\n",
       "      <td>5356</td>\n",
       "      <td>6172-FECYY</td>\n",
       "      <td>Yes</td>\n",
       "    </tr>\n",
       "    <tr>\n",
       "      <td>4821</td>\n",
       "      <td>1213-NGCUN</td>\n",
       "      <td>No</td>\n",
       "    </tr>\n",
       "    <tr>\n",
       "      <td>1148</td>\n",
       "      <td>6818-WOBHJ</td>\n",
       "      <td>Yes</td>\n",
       "    </tr>\n",
       "    <tr>\n",
       "      <td>5422</td>\n",
       "      <td>0780-XNZFN</td>\n",
       "      <td>No</td>\n",
       "    </tr>\n",
       "  </tbody>\n",
       "</table>\n",
       "</div>"
      ],
      "text/plain": [
       "      customerID MultipleLines\n",
       "6286  2451-YMUXS           Yes\n",
       "5712  5442-BHQNG            No\n",
       "3169  2921-XWDJH            No\n",
       "2786  1666-JXLKU           Yes\n",
       "3896  3740-RLMVT            No\n",
       "1248  1839-FBNFR            No\n",
       "5356  6172-FECYY           Yes\n",
       "4821  1213-NGCUN            No\n",
       "1148  6818-WOBHJ           Yes\n",
       "5422  0780-XNZFN            No"
      ]
     },
     "execution_count": 58,
     "metadata": {},
     "output_type": "execute_result"
    }
   ],
   "source": [
    "phone.sample(10)"
   ]
  },
  {
   "cell_type": "markdown",
   "metadata": {},
   "source": [
    "**Conclusion**\n",
    "- There are no null's in the data.\n",
    "- Data type replacment was made. #TODO:delete this \n",
    "- There is no duplicated data"
   ]
  },
  {
   "cell_type": "code",
   "execution_count": null,
   "metadata": {},
   "outputs": [],
   "source": []
  },
  {
   "cell_type": "markdown",
   "metadata": {},
   "source": [
    "## EDA"
   ]
  },
  {
   "cell_type": "markdown",
   "metadata": {},
   "source": [
    "### Merge tables"
   ]
  },
  {
   "cell_type": "code",
   "execution_count": 59,
   "metadata": {},
   "outputs": [
    {
     "name": "stdout",
     "output_type": "stream",
     "text": [
      "<class 'pandas.core.frame.DataFrame'>\n",
      "RangeIndex: 5517 entries, 0 to 5516\n",
      "Data columns (total 8 columns):\n",
      "customerID          5517 non-null object\n",
      "InternetService     5517 non-null object\n",
      "OnlineSecurity      5517 non-null int8\n",
      "OnlineBackup        5517 non-null int8\n",
      "DeviceProtection    5517 non-null int8\n",
      "TechSupport         5517 non-null int8\n",
      "StreamingTV         5517 non-null int8\n",
      "StreamingMovies     5517 non-null int8\n",
      "dtypes: int8(6), object(2)\n",
      "memory usage: 118.7+ KB\n"
     ]
    }
   ],
   "source": [
    "internet.info()"
   ]
  },
  {
   "cell_type": "code",
   "execution_count": 60,
   "metadata": {},
   "outputs": [],
   "source": [
    "# Merge all dataFrames into one dataFrame\n",
    "users = contract.merge(personal,on='customerID', how='left').merge(internet,on='customerID', how='left')\\\n",
    "        .merge(phone,on='customerID', how='left')"
   ]
  },
  {
   "cell_type": "code",
   "execution_count": 61,
   "metadata": {},
   "outputs": [
    {
     "data": {
      "text/html": [
       "<div>\n",
       "<style scoped>\n",
       "    .dataframe tbody tr th:only-of-type {\n",
       "        vertical-align: middle;\n",
       "    }\n",
       "\n",
       "    .dataframe tbody tr th {\n",
       "        vertical-align: top;\n",
       "    }\n",
       "\n",
       "    .dataframe thead th {\n",
       "        text-align: right;\n",
       "    }\n",
       "</style>\n",
       "<table border=\"1\" class=\"dataframe\">\n",
       "  <thead>\n",
       "    <tr style=\"text-align: right;\">\n",
       "      <th></th>\n",
       "      <th>customerID</th>\n",
       "      <th>BeginDate</th>\n",
       "      <th>EndDate</th>\n",
       "      <th>Type</th>\n",
       "      <th>PaperlessBilling</th>\n",
       "      <th>PaymentMethod</th>\n",
       "      <th>MonthlyCharges</th>\n",
       "      <th>TotalCharges</th>\n",
       "      <th>subscriptionAge</th>\n",
       "      <th>gender</th>\n",
       "      <th>...</th>\n",
       "      <th>Partner</th>\n",
       "      <th>Dependents</th>\n",
       "      <th>InternetService</th>\n",
       "      <th>OnlineSecurity</th>\n",
       "      <th>OnlineBackup</th>\n",
       "      <th>DeviceProtection</th>\n",
       "      <th>TechSupport</th>\n",
       "      <th>StreamingTV</th>\n",
       "      <th>StreamingMovies</th>\n",
       "      <th>MultipleLines</th>\n",
       "    </tr>\n",
       "  </thead>\n",
       "  <tbody>\n",
       "    <tr>\n",
       "      <td>5491</td>\n",
       "      <td>3703-TTEPD</td>\n",
       "      <td>2018-05-01</td>\n",
       "      <td>1</td>\n",
       "      <td>Month-to-month</td>\n",
       "      <td>0</td>\n",
       "      <td>Bank transfer (automatic)</td>\n",
       "      <td>65.35</td>\n",
       "      <td>1424.40</td>\n",
       "      <td>641</td>\n",
       "      <td>Male</td>\n",
       "      <td>...</td>\n",
       "      <td>0</td>\n",
       "      <td>0</td>\n",
       "      <td>DSL</td>\n",
       "      <td>1.0</td>\n",
       "      <td>0.0</td>\n",
       "      <td>1.0</td>\n",
       "      <td>0.0</td>\n",
       "      <td>1.0</td>\n",
       "      <td>0.0</td>\n",
       "      <td>No</td>\n",
       "    </tr>\n",
       "    <tr>\n",
       "      <td>3492</td>\n",
       "      <td>0975-VOOVL</td>\n",
       "      <td>2019-11-01</td>\n",
       "      <td>1</td>\n",
       "      <td>Month-to-month</td>\n",
       "      <td>0</td>\n",
       "      <td>Mailed check</td>\n",
       "      <td>29.20</td>\n",
       "      <td>98.50</td>\n",
       "      <td>92</td>\n",
       "      <td>Female</td>\n",
       "      <td>...</td>\n",
       "      <td>0</td>\n",
       "      <td>0</td>\n",
       "      <td>DSL</td>\n",
       "      <td>0.0</td>\n",
       "      <td>1.0</td>\n",
       "      <td>0.0</td>\n",
       "      <td>0.0</td>\n",
       "      <td>0.0</td>\n",
       "      <td>0.0</td>\n",
       "      <td>NaN</td>\n",
       "    </tr>\n",
       "    <tr>\n",
       "      <td>184</td>\n",
       "      <td>1918-ZBFQJ</td>\n",
       "      <td>2018-09-01</td>\n",
       "      <td>0</td>\n",
       "      <td>Month-to-month</td>\n",
       "      <td>1</td>\n",
       "      <td>Electronic check</td>\n",
       "      <td>79.25</td>\n",
       "      <td>1111.65</td>\n",
       "      <td>395</td>\n",
       "      <td>Female</td>\n",
       "      <td>...</td>\n",
       "      <td>0</td>\n",
       "      <td>0</td>\n",
       "      <td>Fiber optic</td>\n",
       "      <td>0.0</td>\n",
       "      <td>1.0</td>\n",
       "      <td>1.0</td>\n",
       "      <td>0.0</td>\n",
       "      <td>0.0</td>\n",
       "      <td>0.0</td>\n",
       "      <td>No</td>\n",
       "    </tr>\n",
       "    <tr>\n",
       "      <td>6689</td>\n",
       "      <td>8561-NMTBD</td>\n",
       "      <td>2014-07-01</td>\n",
       "      <td>1</td>\n",
       "      <td>One year</td>\n",
       "      <td>1</td>\n",
       "      <td>Credit card (automatic)</td>\n",
       "      <td>112.35</td>\n",
       "      <td>7388.45</td>\n",
       "      <td>2041</td>\n",
       "      <td>Female</td>\n",
       "      <td>...</td>\n",
       "      <td>1</td>\n",
       "      <td>1</td>\n",
       "      <td>Fiber optic</td>\n",
       "      <td>0.0</td>\n",
       "      <td>1.0</td>\n",
       "      <td>1.0</td>\n",
       "      <td>1.0</td>\n",
       "      <td>1.0</td>\n",
       "      <td>1.0</td>\n",
       "      <td>Yes</td>\n",
       "    </tr>\n",
       "    <tr>\n",
       "      <td>5372</td>\n",
       "      <td>2786-GCDPI</td>\n",
       "      <td>2015-12-01</td>\n",
       "      <td>1</td>\n",
       "      <td>Month-to-month</td>\n",
       "      <td>1</td>\n",
       "      <td>Electronic check</td>\n",
       "      <td>104.95</td>\n",
       "      <td>5222.35</td>\n",
       "      <td>1523</td>\n",
       "      <td>Female</td>\n",
       "      <td>...</td>\n",
       "      <td>0</td>\n",
       "      <td>0</td>\n",
       "      <td>Fiber optic</td>\n",
       "      <td>0.0</td>\n",
       "      <td>0.0</td>\n",
       "      <td>1.0</td>\n",
       "      <td>1.0</td>\n",
       "      <td>1.0</td>\n",
       "      <td>1.0</td>\n",
       "      <td>Yes</td>\n",
       "    </tr>\n",
       "    <tr>\n",
       "      <td>6776</td>\n",
       "      <td>6120-RJKLU</td>\n",
       "      <td>2014-12-01</td>\n",
       "      <td>1</td>\n",
       "      <td>Two year</td>\n",
       "      <td>1</td>\n",
       "      <td>Credit card (automatic)</td>\n",
       "      <td>79.95</td>\n",
       "      <td>4819.75</td>\n",
       "      <td>1888</td>\n",
       "      <td>Female</td>\n",
       "      <td>...</td>\n",
       "      <td>1</td>\n",
       "      <td>0</td>\n",
       "      <td>DSL</td>\n",
       "      <td>1.0</td>\n",
       "      <td>0.0</td>\n",
       "      <td>1.0</td>\n",
       "      <td>1.0</td>\n",
       "      <td>1.0</td>\n",
       "      <td>1.0</td>\n",
       "      <td>No</td>\n",
       "    </tr>\n",
       "    <tr>\n",
       "      <td>2001</td>\n",
       "      <td>3977-QCRSL</td>\n",
       "      <td>2019-09-01</td>\n",
       "      <td>1</td>\n",
       "      <td>Month-to-month</td>\n",
       "      <td>0</td>\n",
       "      <td>Mailed check</td>\n",
       "      <td>20.15</td>\n",
       "      <td>117.95</td>\n",
       "      <td>153</td>\n",
       "      <td>Female</td>\n",
       "      <td>...</td>\n",
       "      <td>0</td>\n",
       "      <td>0</td>\n",
       "      <td>NaN</td>\n",
       "      <td>NaN</td>\n",
       "      <td>NaN</td>\n",
       "      <td>NaN</td>\n",
       "      <td>NaN</td>\n",
       "      <td>NaN</td>\n",
       "      <td>NaN</td>\n",
       "      <td>No</td>\n",
       "    </tr>\n",
       "    <tr>\n",
       "      <td>4900</td>\n",
       "      <td>7137-RYLPP</td>\n",
       "      <td>2016-12-01</td>\n",
       "      <td>0</td>\n",
       "      <td>Month-to-month</td>\n",
       "      <td>1</td>\n",
       "      <td>Electronic check</td>\n",
       "      <td>85.70</td>\n",
       "      <td>3171.15</td>\n",
       "      <td>1126</td>\n",
       "      <td>Male</td>\n",
       "      <td>...</td>\n",
       "      <td>1</td>\n",
       "      <td>0</td>\n",
       "      <td>Fiber optic</td>\n",
       "      <td>0.0</td>\n",
       "      <td>0.0</td>\n",
       "      <td>0.0</td>\n",
       "      <td>0.0</td>\n",
       "      <td>1.0</td>\n",
       "      <td>0.0</td>\n",
       "      <td>Yes</td>\n",
       "    </tr>\n",
       "    <tr>\n",
       "      <td>4634</td>\n",
       "      <td>9426-SXNHE</td>\n",
       "      <td>2019-12-01</td>\n",
       "      <td>1</td>\n",
       "      <td>Month-to-month</td>\n",
       "      <td>0</td>\n",
       "      <td>Bank transfer (automatic)</td>\n",
       "      <td>18.75</td>\n",
       "      <td>53.15</td>\n",
       "      <td>62</td>\n",
       "      <td>Female</td>\n",
       "      <td>...</td>\n",
       "      <td>0</td>\n",
       "      <td>0</td>\n",
       "      <td>NaN</td>\n",
       "      <td>NaN</td>\n",
       "      <td>NaN</td>\n",
       "      <td>NaN</td>\n",
       "      <td>NaN</td>\n",
       "      <td>NaN</td>\n",
       "      <td>NaN</td>\n",
       "      <td>No</td>\n",
       "    </tr>\n",
       "    <tr>\n",
       "      <td>5206</td>\n",
       "      <td>7349-ALMUX</td>\n",
       "      <td>2017-01-01</td>\n",
       "      <td>1</td>\n",
       "      <td>Two year</td>\n",
       "      <td>0</td>\n",
       "      <td>Bank transfer (automatic)</td>\n",
       "      <td>65.60</td>\n",
       "      <td>2313.80</td>\n",
       "      <td>1126</td>\n",
       "      <td>Male</td>\n",
       "      <td>...</td>\n",
       "      <td>0</td>\n",
       "      <td>0</td>\n",
       "      <td>DSL</td>\n",
       "      <td>1.0</td>\n",
       "      <td>1.0</td>\n",
       "      <td>1.0</td>\n",
       "      <td>1.0</td>\n",
       "      <td>0.0</td>\n",
       "      <td>0.0</td>\n",
       "      <td>No</td>\n",
       "    </tr>\n",
       "  </tbody>\n",
       "</table>\n",
       "<p>10 rows × 21 columns</p>\n",
       "</div>"
      ],
      "text/plain": [
       "      customerID  BeginDate  EndDate            Type  PaperlessBilling  \\\n",
       "5491  3703-TTEPD 2018-05-01        1  Month-to-month                 0   \n",
       "3492  0975-VOOVL 2019-11-01        1  Month-to-month                 0   \n",
       "184   1918-ZBFQJ 2018-09-01        0  Month-to-month                 1   \n",
       "6689  8561-NMTBD 2014-07-01        1        One year                 1   \n",
       "5372  2786-GCDPI 2015-12-01        1  Month-to-month                 1   \n",
       "6776  6120-RJKLU 2014-12-01        1        Two year                 1   \n",
       "2001  3977-QCRSL 2019-09-01        1  Month-to-month                 0   \n",
       "4900  7137-RYLPP 2016-12-01        0  Month-to-month                 1   \n",
       "4634  9426-SXNHE 2019-12-01        1  Month-to-month                 0   \n",
       "5206  7349-ALMUX 2017-01-01        1        Two year                 0   \n",
       "\n",
       "                  PaymentMethod  MonthlyCharges  TotalCharges  \\\n",
       "5491  Bank transfer (automatic)           65.35       1424.40   \n",
       "3492               Mailed check           29.20         98.50   \n",
       "184            Electronic check           79.25       1111.65   \n",
       "6689    Credit card (automatic)          112.35       7388.45   \n",
       "5372           Electronic check          104.95       5222.35   \n",
       "6776    Credit card (automatic)           79.95       4819.75   \n",
       "2001               Mailed check           20.15        117.95   \n",
       "4900           Electronic check           85.70       3171.15   \n",
       "4634  Bank transfer (automatic)           18.75         53.15   \n",
       "5206  Bank transfer (automatic)           65.60       2313.80   \n",
       "\n",
       "      subscriptionAge  gender  ...  Partner  Dependents  InternetService  \\\n",
       "5491              641    Male  ...        0           0              DSL   \n",
       "3492               92  Female  ...        0           0              DSL   \n",
       "184               395  Female  ...        0           0      Fiber optic   \n",
       "6689             2041  Female  ...        1           1      Fiber optic   \n",
       "5372             1523  Female  ...        0           0      Fiber optic   \n",
       "6776             1888  Female  ...        1           0              DSL   \n",
       "2001              153  Female  ...        0           0              NaN   \n",
       "4900             1126    Male  ...        1           0      Fiber optic   \n",
       "4634               62  Female  ...        0           0              NaN   \n",
       "5206             1126    Male  ...        0           0              DSL   \n",
       "\n",
       "     OnlineSecurity  OnlineBackup  DeviceProtection  TechSupport  StreamingTV  \\\n",
       "5491            1.0           0.0               1.0          0.0          1.0   \n",
       "3492            0.0           1.0               0.0          0.0          0.0   \n",
       "184             0.0           1.0               1.0          0.0          0.0   \n",
       "6689            0.0           1.0               1.0          1.0          1.0   \n",
       "5372            0.0           0.0               1.0          1.0          1.0   \n",
       "6776            1.0           0.0               1.0          1.0          1.0   \n",
       "2001            NaN           NaN               NaN          NaN          NaN   \n",
       "4900            0.0           0.0               0.0          0.0          1.0   \n",
       "4634            NaN           NaN               NaN          NaN          NaN   \n",
       "5206            1.0           1.0               1.0          1.0          0.0   \n",
       "\n",
       "      StreamingMovies  MultipleLines  \n",
       "5491              0.0             No  \n",
       "3492              0.0            NaN  \n",
       "184               0.0             No  \n",
       "6689              1.0            Yes  \n",
       "5372              1.0            Yes  \n",
       "6776              1.0             No  \n",
       "2001              NaN             No  \n",
       "4900              0.0            Yes  \n",
       "4634              NaN             No  \n",
       "5206              0.0             No  \n",
       "\n",
       "[10 rows x 21 columns]"
      ]
     },
     "execution_count": 61,
     "metadata": {},
     "output_type": "execute_result"
    }
   ],
   "source": [
    "users.sample(10)"
   ]
  },
  {
   "cell_type": "code",
   "execution_count": 62,
   "metadata": {},
   "outputs": [
    {
     "name": "stdout",
     "output_type": "stream",
     "text": [
      "<class 'pandas.core.frame.DataFrame'>\n",
      "Int64Index: 7043 entries, 0 to 7042\n",
      "Data columns (total 21 columns):\n",
      "customerID          7043 non-null object\n",
      "BeginDate           7043 non-null datetime64[ns]\n",
      "EndDate             7043 non-null int8\n",
      "Type                7043 non-null object\n",
      "PaperlessBilling    7043 non-null int8\n",
      "PaymentMethod       7043 non-null object\n",
      "MonthlyCharges      7043 non-null float64\n",
      "TotalCharges        7043 non-null float64\n",
      "subscriptionAge     7043 non-null int32\n",
      "gender              7043 non-null object\n",
      "SeniorCitizen       7043 non-null int8\n",
      "Partner             7043 non-null int8\n",
      "Dependents          7043 non-null int8\n",
      "InternetService     5517 non-null object\n",
      "OnlineSecurity      5517 non-null float64\n",
      "OnlineBackup        5517 non-null float64\n",
      "DeviceProtection    5517 non-null float64\n",
      "TechSupport         5517 non-null float64\n",
      "StreamingTV         5517 non-null float64\n",
      "StreamingMovies     5517 non-null float64\n",
      "MultipleLines       6361 non-null object\n",
      "dtypes: datetime64[ns](1), float64(8), int32(1), int8(5), object(6)\n",
      "memory usage: 942.3+ KB\n"
     ]
    }
   ],
   "source": [
    "users.info()"
   ]
  },
  {
   "cell_type": "markdown",
   "metadata": {},
   "source": [
    "After the merge the data types of the following features was changed from int to float.\n",
    "- 'OnlineSecurity'\n",
    "- 'OnlineBackup'\n",
    "- 'DeviceProtection'\n",
    "- 'TechSupport'\n",
    "- 'StreamingTV'\n",
    "- 'StreamingMovies'  \n",
    "\n",
    "This happens because after the merge, there are null values in those features, so pandas converted them to float.\n",
    "\n",
    "This bug was fixed in pandas [v0.19.0](https://pandas.pydata.org/docs/whatsnew/v0.19.0.html#merging-changes)"
   ]
  },
  {
   "cell_type": "code",
   "execution_count": 63,
   "metadata": {},
   "outputs": [
    {
     "data": {
      "text/plain": [
       "customerID             0\n",
       "BeginDate              0\n",
       "EndDate                0\n",
       "Type                   0\n",
       "PaperlessBilling       0\n",
       "PaymentMethod          0\n",
       "MonthlyCharges         0\n",
       "TotalCharges           0\n",
       "subscriptionAge        0\n",
       "gender                 0\n",
       "SeniorCitizen          0\n",
       "Partner                0\n",
       "Dependents             0\n",
       "InternetService     1526\n",
       "OnlineSecurity      1526\n",
       "OnlineBackup        1526\n",
       "DeviceProtection    1526\n",
       "TechSupport         1526\n",
       "StreamingTV         1526\n",
       "StreamingMovies     1526\n",
       "MultipleLines        682\n",
       "dtype: int64"
      ]
     },
     "execution_count": 63,
     "metadata": {},
     "output_type": "execute_result"
    }
   ],
   "source": [
    "users.isnull().sum()"
   ]
  },
  {
   "cell_type": "code",
   "execution_count": 64,
   "metadata": {},
   "outputs": [
    {
     "data": {
      "text/html": [
       "<div>\n",
       "<style scoped>\n",
       "    .dataframe tbody tr th:only-of-type {\n",
       "        vertical-align: middle;\n",
       "    }\n",
       "\n",
       "    .dataframe tbody tr th {\n",
       "        vertical-align: top;\n",
       "    }\n",
       "\n",
       "    .dataframe thead th {\n",
       "        text-align: right;\n",
       "    }\n",
       "</style>\n",
       "<table border=\"1\" class=\"dataframe\">\n",
       "  <thead>\n",
       "    <tr style=\"text-align: right;\">\n",
       "      <th></th>\n",
       "      <th>customerID</th>\n",
       "      <th>BeginDate</th>\n",
       "      <th>EndDate</th>\n",
       "      <th>Type</th>\n",
       "      <th>PaperlessBilling</th>\n",
       "      <th>PaymentMethod</th>\n",
       "      <th>MonthlyCharges</th>\n",
       "      <th>TotalCharges</th>\n",
       "      <th>subscriptionAge</th>\n",
       "      <th>gender</th>\n",
       "      <th>...</th>\n",
       "      <th>Partner</th>\n",
       "      <th>Dependents</th>\n",
       "      <th>InternetService</th>\n",
       "      <th>OnlineSecurity</th>\n",
       "      <th>OnlineBackup</th>\n",
       "      <th>DeviceProtection</th>\n",
       "      <th>TechSupport</th>\n",
       "      <th>StreamingTV</th>\n",
       "      <th>StreamingMovies</th>\n",
       "      <th>MultipleLines</th>\n",
       "    </tr>\n",
       "  </thead>\n",
       "  <tbody>\n",
       "  </tbody>\n",
       "</table>\n",
       "<p>0 rows × 21 columns</p>\n",
       "</div>"
      ],
      "text/plain": [
       "Empty DataFrame\n",
       "Columns: [customerID, BeginDate, EndDate, Type, PaperlessBilling, PaymentMethod, MonthlyCharges, TotalCharges, subscriptionAge, gender, SeniorCitizen, Partner, Dependents, InternetService, OnlineSecurity, OnlineBackup, DeviceProtection, TechSupport, StreamingTV, StreamingMovies, MultipleLines]\n",
       "Index: []\n",
       "\n",
       "[0 rows x 21 columns]"
      ]
     },
     "execution_count": 64,
     "metadata": {},
     "output_type": "execute_result"
    }
   ],
   "source": [
    "# Check if there are users without a phone line and internet services\n",
    "users.query('MultipleLines.isnull() & InternetService.isnull() ')"
   ]
  },
  {
   "cell_type": "code",
   "execution_count": 65,
   "metadata": {},
   "outputs": [
    {
     "data": {
      "text/html": [
       "<div>\n",
       "<style scoped>\n",
       "    .dataframe tbody tr th:only-of-type {\n",
       "        vertical-align: middle;\n",
       "    }\n",
       "\n",
       "    .dataframe tbody tr th {\n",
       "        vertical-align: top;\n",
       "    }\n",
       "\n",
       "    .dataframe thead th {\n",
       "        text-align: right;\n",
       "    }\n",
       "</style>\n",
       "<table border=\"1\" class=\"dataframe\">\n",
       "  <thead>\n",
       "    <tr style=\"text-align: right;\">\n",
       "      <th></th>\n",
       "      <th>MultipleLines</th>\n",
       "      <th>InternetService</th>\n",
       "    </tr>\n",
       "  </thead>\n",
       "  <tbody>\n",
       "    <tr>\n",
       "      <td>0</td>\n",
       "      <td>NaN</td>\n",
       "      <td>DSL</td>\n",
       "    </tr>\n",
       "    <tr>\n",
       "      <td>3</td>\n",
       "      <td>NaN</td>\n",
       "      <td>DSL</td>\n",
       "    </tr>\n",
       "    <tr>\n",
       "      <td>7</td>\n",
       "      <td>NaN</td>\n",
       "      <td>DSL</td>\n",
       "    </tr>\n",
       "    <tr>\n",
       "      <td>11</td>\n",
       "      <td>No</td>\n",
       "      <td>NaN</td>\n",
       "    </tr>\n",
       "    <tr>\n",
       "      <td>16</td>\n",
       "      <td>No</td>\n",
       "      <td>NaN</td>\n",
       "    </tr>\n",
       "    <tr>\n",
       "      <td>...</td>\n",
       "      <td>...</td>\n",
       "      <td>...</td>\n",
       "    </tr>\n",
       "    <tr>\n",
       "      <td>7029</td>\n",
       "      <td>NaN</td>\n",
       "      <td>DSL</td>\n",
       "    </tr>\n",
       "    <tr>\n",
       "      <td>7030</td>\n",
       "      <td>No</td>\n",
       "      <td>NaN</td>\n",
       "    </tr>\n",
       "    <tr>\n",
       "      <td>7036</td>\n",
       "      <td>NaN</td>\n",
       "      <td>DSL</td>\n",
       "    </tr>\n",
       "    <tr>\n",
       "      <td>7037</td>\n",
       "      <td>No</td>\n",
       "      <td>NaN</td>\n",
       "    </tr>\n",
       "    <tr>\n",
       "      <td>7040</td>\n",
       "      <td>NaN</td>\n",
       "      <td>DSL</td>\n",
       "    </tr>\n",
       "  </tbody>\n",
       "</table>\n",
       "<p>2208 rows × 2 columns</p>\n",
       "</div>"
      ],
      "text/plain": [
       "     MultipleLines InternetService\n",
       "0              NaN             DSL\n",
       "3              NaN             DSL\n",
       "7              NaN             DSL\n",
       "11              No             NaN\n",
       "16              No             NaN\n",
       "...            ...             ...\n",
       "7029           NaN             DSL\n",
       "7030            No             NaN\n",
       "7036           NaN             DSL\n",
       "7037            No             NaN\n",
       "7040           NaN             DSL\n",
       "\n",
       "[2208 rows x 2 columns]"
      ]
     },
     "execution_count": 65,
     "metadata": {},
     "output_type": "execute_result"
    }
   ],
   "source": [
    "# Users that have only one of the services\n",
    "users.query('MultipleLines.isnull() | InternetService.isnull() ')[['MultipleLines','InternetService']]"
   ]
  },
  {
   "cell_type": "code",
   "execution_count": 66,
   "metadata": {},
   "outputs": [],
   "source": [
    "# Fill missing values.\n",
    "# we can conclude that users with null are not subscribe to any additional services\n",
    "# Fill with value 0 \n",
    "services = ['OnlineSecurity','OnlineBackup','DeviceProtection','TechSupport','StreamingTV','StreamingMovies']\n",
    "users[services] = users[services].fillna(0)"
   ]
  },
  {
   "cell_type": "code",
   "execution_count": 67,
   "metadata": {},
   "outputs": [],
   "source": [
    "# users that are not subscribe to one of this services, change null to 'Not subscribe'\n",
    "#it is possible that users don't have one of this services\n",
    "users[['InternetService','MultipleLines']] = users[['InternetService','MultipleLines']].fillna('Not subscribe')"
   ]
  },
  {
   "cell_type": "code",
   "execution_count": 68,
   "metadata": {},
   "outputs": [
    {
     "data": {
      "text/plain": [
       "customerID          0\n",
       "BeginDate           0\n",
       "EndDate             0\n",
       "Type                0\n",
       "PaperlessBilling    0\n",
       "PaymentMethod       0\n",
       "MonthlyCharges      0\n",
       "TotalCharges        0\n",
       "subscriptionAge     0\n",
       "gender              0\n",
       "SeniorCitizen       0\n",
       "Partner             0\n",
       "Dependents          0\n",
       "InternetService     0\n",
       "OnlineSecurity      0\n",
       "OnlineBackup        0\n",
       "DeviceProtection    0\n",
       "TechSupport         0\n",
       "StreamingTV         0\n",
       "StreamingMovies     0\n",
       "MultipleLines       0\n",
       "dtype: int64"
      ]
     },
     "execution_count": 68,
     "metadata": {},
     "output_type": "execute_result"
    }
   ],
   "source": [
    "#Check if there are still null values \n",
    "users.isnull().sum()"
   ]
  },
  {
   "cell_type": "markdown",
   "metadata": {},
   "source": [
    "### Check for outliers"
   ]
  },
  {
   "cell_type": "code",
   "execution_count": 69,
   "metadata": {},
   "outputs": [
    {
     "data": {
      "text/plain": [
       "<matplotlib.axes._subplots.AxesSubplot at 0x7f931b70fc10>"
      ]
     },
     "execution_count": 69,
     "metadata": {},
     "output_type": "execute_result"
    },
    {
     "data": {
      "image/png": "[encoded data removed]",
      "text/plain": [
       "<Figure size 432x288 with 1 Axes>"
      ]
     },
     "metadata": {
      "needs_background": "light"
     },
     "output_type": "display_data"
    }
   ],
   "source": [
    "#Check for outliers in 'TotalCharges'\n",
    "sns.boxplot(x=users['TotalCharges'])\n"
   ]
  },
  {
   "cell_type": "code",
   "execution_count": 70,
   "metadata": {},
   "outputs": [
    {
     "data": {
      "text/plain": [
       "<matplotlib.axes._subplots.AxesSubplot at 0x7f931b64f1d0>"
      ]
     },
     "execution_count": 70,
     "metadata": {},
     "output_type": "execute_result"
    },
    {
     "data": {
      "image/png": "[encoded data removed]",
      "text/plain": [
       "<Figure size 432x288 with 1 Axes>"
      ]
     },
     "metadata": {
      "needs_background": "light"
     },
     "output_type": "display_data"
    }
   ],
   "source": [
    "#Check for outliers in 'MonthlyCharges'\n",
    "sns.boxplot(x=users['MonthlyCharges'])"
   ]
  },
  {
   "cell_type": "markdown",
   "metadata": {},
   "source": [
    "There are no outliers in the data"
   ]
  },
  {
   "cell_type": "markdown",
   "metadata": {},
   "source": [
    "### Plot graph's"
   ]
  },
  {
   "cell_type": "markdown",
   "metadata": {},
   "source": [
    "#### Distribution of 'Type' for former users"
   ]
  },
  {
   "cell_type": "code",
   "execution_count": 71,
   "metadata": {},
   "outputs": [
    {
     "data": {
      "text/html": [
       "<div>\n",
       "<style scoped>\n",
       "    .dataframe tbody tr th:only-of-type {\n",
       "        vertical-align: middle;\n",
       "    }\n",
       "\n",
       "    .dataframe tbody tr th {\n",
       "        vertical-align: top;\n",
       "    }\n",
       "\n",
       "    .dataframe thead th {\n",
       "        text-align: right;\n",
       "    }\n",
       "</style>\n",
       "<table border=\"1\" class=\"dataframe\">\n",
       "  <thead>\n",
       "    <tr style=\"text-align: right;\">\n",
       "      <th></th>\n",
       "      <th>customerID</th>\n",
       "      <th>BeginDate</th>\n",
       "      <th>EndDate</th>\n",
       "      <th>Type</th>\n",
       "      <th>PaperlessBilling</th>\n",
       "      <th>PaymentMethod</th>\n",
       "      <th>MonthlyCharges</th>\n",
       "      <th>TotalCharges</th>\n",
       "      <th>subscriptionAge</th>\n",
       "      <th>gender</th>\n",
       "      <th>...</th>\n",
       "      <th>Partner</th>\n",
       "      <th>Dependents</th>\n",
       "      <th>InternetService</th>\n",
       "      <th>OnlineSecurity</th>\n",
       "      <th>OnlineBackup</th>\n",
       "      <th>DeviceProtection</th>\n",
       "      <th>TechSupport</th>\n",
       "      <th>StreamingTV</th>\n",
       "      <th>StreamingMovies</th>\n",
       "      <th>MultipleLines</th>\n",
       "    </tr>\n",
       "  </thead>\n",
       "  <tbody>\n",
       "    <tr>\n",
       "      <td>6974</td>\n",
       "      <td>0422-UXFAP</td>\n",
       "      <td>2015-11-01</td>\n",
       "      <td>1</td>\n",
       "      <td>One year</td>\n",
       "      <td>1</td>\n",
       "      <td>Electronic check</td>\n",
       "      <td>98.85</td>\n",
       "      <td>4947.55</td>\n",
       "      <td>1553</td>\n",
       "      <td>Female</td>\n",
       "      <td>...</td>\n",
       "      <td>1</td>\n",
       "      <td>0</td>\n",
       "      <td>Fiber optic</td>\n",
       "      <td>0.0</td>\n",
       "      <td>0.0</td>\n",
       "      <td>1.0</td>\n",
       "      <td>0.0</td>\n",
       "      <td>1.0</td>\n",
       "      <td>1.0</td>\n",
       "      <td>Yes</td>\n",
       "    </tr>\n",
       "    <tr>\n",
       "      <td>2522</td>\n",
       "      <td>0661-KBKPA</td>\n",
       "      <td>2015-09-01</td>\n",
       "      <td>1</td>\n",
       "      <td>One year</td>\n",
       "      <td>1</td>\n",
       "      <td>Mailed check</td>\n",
       "      <td>78.75</td>\n",
       "      <td>3942.45</td>\n",
       "      <td>1614</td>\n",
       "      <td>Male</td>\n",
       "      <td>...</td>\n",
       "      <td>1</td>\n",
       "      <td>1</td>\n",
       "      <td>DSL</td>\n",
       "      <td>0.0</td>\n",
       "      <td>0.0</td>\n",
       "      <td>1.0</td>\n",
       "      <td>1.0</td>\n",
       "      <td>1.0</td>\n",
       "      <td>1.0</td>\n",
       "      <td>Yes</td>\n",
       "    </tr>\n",
       "    <tr>\n",
       "      <td>6870</td>\n",
       "      <td>3452-SRFEG</td>\n",
       "      <td>2016-01-01</td>\n",
       "      <td>1</td>\n",
       "      <td>Month-to-month</td>\n",
       "      <td>1</td>\n",
       "      <td>Bank transfer (automatic)</td>\n",
       "      <td>74.60</td>\n",
       "      <td>3720.35</td>\n",
       "      <td>1492</td>\n",
       "      <td>Male</td>\n",
       "      <td>...</td>\n",
       "      <td>0</td>\n",
       "      <td>0</td>\n",
       "      <td>Fiber optic</td>\n",
       "      <td>0.0</td>\n",
       "      <td>0.0</td>\n",
       "      <td>0.0</td>\n",
       "      <td>0.0</td>\n",
       "      <td>0.0</td>\n",
       "      <td>0.0</td>\n",
       "      <td>Yes</td>\n",
       "    </tr>\n",
       "    <tr>\n",
       "      <td>4249</td>\n",
       "      <td>7919-ZODZZ</td>\n",
       "      <td>2019-04-01</td>\n",
       "      <td>1</td>\n",
       "      <td>One year</td>\n",
       "      <td>1</td>\n",
       "      <td>Mailed check</td>\n",
       "      <td>65.90</td>\n",
       "      <td>660.05</td>\n",
       "      <td>306</td>\n",
       "      <td>Female</td>\n",
       "      <td>...</td>\n",
       "      <td>1</td>\n",
       "      <td>1</td>\n",
       "      <td>DSL</td>\n",
       "      <td>0.0</td>\n",
       "      <td>1.0</td>\n",
       "      <td>1.0</td>\n",
       "      <td>0.0</td>\n",
       "      <td>0.0</td>\n",
       "      <td>1.0</td>\n",
       "      <td>No</td>\n",
       "    </tr>\n",
       "    <tr>\n",
       "      <td>4319</td>\n",
       "      <td>6333-YDVLT</td>\n",
       "      <td>2014-09-01</td>\n",
       "      <td>1</td>\n",
       "      <td>One year</td>\n",
       "      <td>1</td>\n",
       "      <td>Credit card (automatic)</td>\n",
       "      <td>110.00</td>\n",
       "      <td>7138.65</td>\n",
       "      <td>1979</td>\n",
       "      <td>Male</td>\n",
       "      <td>...</td>\n",
       "      <td>0</td>\n",
       "      <td>0</td>\n",
       "      <td>Fiber optic</td>\n",
       "      <td>1.0</td>\n",
       "      <td>0.0</td>\n",
       "      <td>1.0</td>\n",
       "      <td>1.0</td>\n",
       "      <td>1.0</td>\n",
       "      <td>1.0</td>\n",
       "      <td>Yes</td>\n",
       "    </tr>\n",
       "    <tr>\n",
       "      <td>1914</td>\n",
       "      <td>5356-CSVSQ</td>\n",
       "      <td>2019-11-01</td>\n",
       "      <td>1</td>\n",
       "      <td>Month-to-month</td>\n",
       "      <td>0</td>\n",
       "      <td>Electronic check</td>\n",
       "      <td>64.60</td>\n",
       "      <td>174.20</td>\n",
       "      <td>92</td>\n",
       "      <td>Female</td>\n",
       "      <td>...</td>\n",
       "      <td>0</td>\n",
       "      <td>0</td>\n",
       "      <td>DSL</td>\n",
       "      <td>0.0</td>\n",
       "      <td>0.0</td>\n",
       "      <td>0.0</td>\n",
       "      <td>1.0</td>\n",
       "      <td>1.0</td>\n",
       "      <td>0.0</td>\n",
       "      <td>Yes</td>\n",
       "    </tr>\n",
       "    <tr>\n",
       "      <td>3474</td>\n",
       "      <td>3982-DQLUS</td>\n",
       "      <td>2014-09-01</td>\n",
       "      <td>1</td>\n",
       "      <td>Month-to-month</td>\n",
       "      <td>1</td>\n",
       "      <td>Electronic check</td>\n",
       "      <td>85.75</td>\n",
       "      <td>5688.45</td>\n",
       "      <td>1979</td>\n",
       "      <td>Male</td>\n",
       "      <td>...</td>\n",
       "      <td>1</td>\n",
       "      <td>1</td>\n",
       "      <td>Fiber optic</td>\n",
       "      <td>1.0</td>\n",
       "      <td>1.0</td>\n",
       "      <td>0.0</td>\n",
       "      <td>0.0</td>\n",
       "      <td>0.0</td>\n",
       "      <td>0.0</td>\n",
       "      <td>Yes</td>\n",
       "    </tr>\n",
       "    <tr>\n",
       "      <td>1813</td>\n",
       "      <td>0817-HSUSE</td>\n",
       "      <td>2020-01-01</td>\n",
       "      <td>1</td>\n",
       "      <td>Month-to-month</td>\n",
       "      <td>1</td>\n",
       "      <td>Electronic check</td>\n",
       "      <td>75.50</td>\n",
       "      <td>75.50</td>\n",
       "      <td>31</td>\n",
       "      <td>Male</td>\n",
       "      <td>...</td>\n",
       "      <td>0</td>\n",
       "      <td>0</td>\n",
       "      <td>DSL</td>\n",
       "      <td>0.0</td>\n",
       "      <td>0.0</td>\n",
       "      <td>1.0</td>\n",
       "      <td>1.0</td>\n",
       "      <td>1.0</td>\n",
       "      <td>1.0</td>\n",
       "      <td>No</td>\n",
       "    </tr>\n",
       "    <tr>\n",
       "      <td>1553</td>\n",
       "      <td>7776-QGYJC</td>\n",
       "      <td>2016-11-01</td>\n",
       "      <td>1</td>\n",
       "      <td>Month-to-month</td>\n",
       "      <td>1</td>\n",
       "      <td>Bank transfer (automatic)</td>\n",
       "      <td>81.50</td>\n",
       "      <td>3107.30</td>\n",
       "      <td>1187</td>\n",
       "      <td>Female</td>\n",
       "      <td>...</td>\n",
       "      <td>1</td>\n",
       "      <td>1</td>\n",
       "      <td>Fiber optic</td>\n",
       "      <td>0.0</td>\n",
       "      <td>0.0</td>\n",
       "      <td>1.0</td>\n",
       "      <td>1.0</td>\n",
       "      <td>0.0</td>\n",
       "      <td>0.0</td>\n",
       "      <td>No</td>\n",
       "    </tr>\n",
       "    <tr>\n",
       "      <td>5488</td>\n",
       "      <td>7856-GANIL</td>\n",
       "      <td>2016-05-01</td>\n",
       "      <td>1</td>\n",
       "      <td>One year</td>\n",
       "      <td>1</td>\n",
       "      <td>Bank transfer (automatic)</td>\n",
       "      <td>98.70</td>\n",
       "      <td>4525.80</td>\n",
       "      <td>1371</td>\n",
       "      <td>Male</td>\n",
       "      <td>...</td>\n",
       "      <td>1</td>\n",
       "      <td>0</td>\n",
       "      <td>Fiber optic</td>\n",
       "      <td>0.0</td>\n",
       "      <td>1.0</td>\n",
       "      <td>1.0</td>\n",
       "      <td>1.0</td>\n",
       "      <td>1.0</td>\n",
       "      <td>0.0</td>\n",
       "      <td>Yes</td>\n",
       "    </tr>\n",
       "  </tbody>\n",
       "</table>\n",
       "<p>10 rows × 21 columns</p>\n",
       "</div>"
      ],
      "text/plain": [
       "      customerID  BeginDate  EndDate            Type  PaperlessBilling  \\\n",
       "6974  0422-UXFAP 2015-11-01        1        One year                 1   \n",
       "2522  0661-KBKPA 2015-09-01        1        One year                 1   \n",
       "6870  3452-SRFEG 2016-01-01        1  Month-to-month                 1   \n",
       "4249  7919-ZODZZ 2019-04-01        1        One year                 1   \n",
       "4319  6333-YDVLT 2014-09-01        1        One year                 1   \n",
       "1914  5356-CSVSQ 2019-11-01        1  Month-to-month                 0   \n",
       "3474  3982-DQLUS 2014-09-01        1  Month-to-month                 1   \n",
       "1813  0817-HSUSE 2020-01-01        1  Month-to-month                 1   \n",
       "1553  7776-QGYJC 2016-11-01        1  Month-to-month                 1   \n",
       "5488  7856-GANIL 2016-05-01        1        One year                 1   \n",
       "\n",
       "                  PaymentMethod  MonthlyCharges  TotalCharges  \\\n",
       "6974           Electronic check           98.85       4947.55   \n",
       "2522               Mailed check           78.75       3942.45   \n",
       "6870  Bank transfer (automatic)           74.60       3720.35   \n",
       "4249               Mailed check           65.90        660.05   \n",
       "4319    Credit card (automatic)          110.00       7138.65   \n",
       "1914           Electronic check           64.60        174.20   \n",
       "3474           Electronic check           85.75       5688.45   \n",
       "1813           Electronic check           75.50         75.50   \n",
       "1553  Bank transfer (automatic)           81.50       3107.30   \n",
       "5488  Bank transfer (automatic)           98.70       4525.80   \n",
       "\n",
       "      subscriptionAge  gender  ...  Partner  Dependents  InternetService  \\\n",
       "6974             1553  Female  ...        1           0      Fiber optic   \n",
       "2522             1614    Male  ...        1           1              DSL   \n",
       "6870             1492    Male  ...        0           0      Fiber optic   \n",
       "4249              306  Female  ...        1           1              DSL   \n",
       "4319             1979    Male  ...        0           0      Fiber optic   \n",
       "1914               92  Female  ...        0           0              DSL   \n",
       "3474             1979    Male  ...        1           1      Fiber optic   \n",
       "1813               31    Male  ...        0           0              DSL   \n",
       "1553             1187  Female  ...        1           1      Fiber optic   \n",
       "5488             1371    Male  ...        1           0      Fiber optic   \n",
       "\n",
       "     OnlineSecurity  OnlineBackup  DeviceProtection  TechSupport  StreamingTV  \\\n",
       "6974            0.0           0.0               1.0          0.0          1.0   \n",
       "2522            0.0           0.0               1.0          1.0          1.0   \n",
       "6870            0.0           0.0               0.0          0.0          0.0   \n",
       "4249            0.0           1.0               1.0          0.0          0.0   \n",
       "4319            1.0           0.0               1.0          1.0          1.0   \n",
       "1914            0.0           0.0               0.0          1.0          1.0   \n",
       "3474            1.0           1.0               0.0          0.0          0.0   \n",
       "1813            0.0           0.0               1.0          1.0          1.0   \n",
       "1553            0.0           0.0               1.0          1.0          0.0   \n",
       "5488            0.0           1.0               1.0          1.0          1.0   \n",
       "\n",
       "      StreamingMovies  MultipleLines  \n",
       "6974              1.0            Yes  \n",
       "2522              1.0            Yes  \n",
       "6870              0.0            Yes  \n",
       "4249              1.0             No  \n",
       "4319              1.0            Yes  \n",
       "1914              0.0            Yes  \n",
       "3474              0.0            Yes  \n",
       "1813              1.0             No  \n",
       "1553              0.0             No  \n",
       "5488              0.0            Yes  \n",
       "\n",
       "[10 rows x 21 columns]"
      ]
     },
     "execution_count": 71,
     "metadata": {},
     "output_type": "execute_result"
    }
   ],
   "source": [
    "former_users = users.query(\"EndDate == 1\")\n",
    "former_users.sample(10)"
   ]
  },
  {
   "cell_type": "code",
   "execution_count": 72,
   "metadata": {},
   "outputs": [
    {
     "data": {
      "text/html": [
       "<div>\n",
       "<style scoped>\n",
       "    .dataframe tbody tr th:only-of-type {\n",
       "        vertical-align: middle;\n",
       "    }\n",
       "\n",
       "    .dataframe tbody tr th {\n",
       "        vertical-align: top;\n",
       "    }\n",
       "\n",
       "    .dataframe thead th {\n",
       "        text-align: right;\n",
       "    }\n",
       "</style>\n",
       "<table border=\"1\" class=\"dataframe\">\n",
       "  <thead>\n",
       "    <tr style=\"text-align: right;\">\n",
       "      <th></th>\n",
       "      <th>customerID</th>\n",
       "    </tr>\n",
       "    <tr>\n",
       "      <th>Type</th>\n",
       "      <th></th>\n",
       "    </tr>\n",
       "  </thead>\n",
       "  <tbody>\n",
       "    <tr>\n",
       "      <td>Month-to-month</td>\n",
       "      <td>2220</td>\n",
       "    </tr>\n",
       "    <tr>\n",
       "      <td>One year</td>\n",
       "      <td>1307</td>\n",
       "    </tr>\n",
       "    <tr>\n",
       "      <td>Two year</td>\n",
       "      <td>1647</td>\n",
       "    </tr>\n",
       "  </tbody>\n",
       "</table>\n",
       "</div>"
      ],
      "text/plain": [
       "                customerID\n",
       "Type                      \n",
       "Month-to-month        2220\n",
       "One year              1307\n",
       "Two year              1647"
      ]
     },
     "execution_count": 72,
     "metadata": {},
     "output_type": "execute_result"
    }
   ],
   "source": [
    "# Get number of former customers for each 'Type'\n",
    "formerUsers_byType = former_users.pivot_table(index='Type',\n",
    "                                       values='customerID',\n",
    "                                       aggfunc='count'\n",
    "                                      )\n",
    "formerUsers_byType"
   ]
  },
  {
   "cell_type": "code",
   "execution_count": 73,
   "metadata": {},
   "outputs": [
    {
     "data": {
      "text/plain": [
       "Text(0.5, 1.0, 'Number of former users by plan type ')"
      ]
     },
     "execution_count": 73,
     "metadata": {},
     "output_type": "execute_result"
    },
    {
     "data": {
      "image/png": "[encoded data removed]",
      "text/plain": [
       "<Figure size 432x288 with 1 Axes>"
      ]
     },
     "metadata": {
      "needs_background": "light"
     },
     "output_type": "display_data"
    }
   ],
   "source": [
    "formerUsers_byType.plot(kind='bar',rot=40, legend=None);\n",
    "plt.xlabel('Type')\n",
    "plt.ylabel('Number of users')\n",
    "plt.title('Number of former users by plan type ')"
   ]
  },
  {
   "cell_type": "markdown",
   "metadata": {},
   "source": [
    "The majority of former users had a 'Month-to-month' program"
   ]
  },
  {
   "cell_type": "markdown",
   "metadata": {},
   "source": [
    "#### Distribution of 'Type' for existing users"
   ]
  },
  {
   "cell_type": "code",
   "execution_count": 74,
   "metadata": {},
   "outputs": [
    {
     "data": {
      "text/html": [
       "<div>\n",
       "<style scoped>\n",
       "    .dataframe tbody tr th:only-of-type {\n",
       "        vertical-align: middle;\n",
       "    }\n",
       "\n",
       "    .dataframe tbody tr th {\n",
       "        vertical-align: top;\n",
       "    }\n",
       "\n",
       "    .dataframe thead th {\n",
       "        text-align: right;\n",
       "    }\n",
       "</style>\n",
       "<table border=\"1\" class=\"dataframe\">\n",
       "  <thead>\n",
       "    <tr style=\"text-align: right;\">\n",
       "      <th></th>\n",
       "      <th>customerID</th>\n",
       "      <th>BeginDate</th>\n",
       "      <th>EndDate</th>\n",
       "      <th>Type</th>\n",
       "      <th>PaperlessBilling</th>\n",
       "      <th>PaymentMethod</th>\n",
       "      <th>MonthlyCharges</th>\n",
       "      <th>TotalCharges</th>\n",
       "      <th>subscriptionAge</th>\n",
       "      <th>gender</th>\n",
       "      <th>...</th>\n",
       "      <th>Partner</th>\n",
       "      <th>Dependents</th>\n",
       "      <th>InternetService</th>\n",
       "      <th>OnlineSecurity</th>\n",
       "      <th>OnlineBackup</th>\n",
       "      <th>DeviceProtection</th>\n",
       "      <th>TechSupport</th>\n",
       "      <th>StreamingTV</th>\n",
       "      <th>StreamingMovies</th>\n",
       "      <th>MultipleLines</th>\n",
       "    </tr>\n",
       "  </thead>\n",
       "  <tbody>\n",
       "    <tr>\n",
       "      <td>2262</td>\n",
       "      <td>4529-CKBCL</td>\n",
       "      <td>2019-11-01</td>\n",
       "      <td>0</td>\n",
       "      <td>Month-to-month</td>\n",
       "      <td>1</td>\n",
       "      <td>Electronic check</td>\n",
       "      <td>80.20</td>\n",
       "      <td>146.05</td>\n",
       "      <td>61</td>\n",
       "      <td>Female</td>\n",
       "      <td>...</td>\n",
       "      <td>0</td>\n",
       "      <td>0</td>\n",
       "      <td>Fiber optic</td>\n",
       "      <td>0.0</td>\n",
       "      <td>0.0</td>\n",
       "      <td>0.0</td>\n",
       "      <td>0.0</td>\n",
       "      <td>1.0</td>\n",
       "      <td>0.0</td>\n",
       "      <td>No</td>\n",
       "    </tr>\n",
       "    <tr>\n",
       "      <td>3004</td>\n",
       "      <td>3801-HMYNL</td>\n",
       "      <td>2019-10-01</td>\n",
       "      <td>0</td>\n",
       "      <td>Month-to-month</td>\n",
       "      <td>0</td>\n",
       "      <td>Mailed check</td>\n",
       "      <td>89.15</td>\n",
       "      <td>89.15</td>\n",
       "      <td>31</td>\n",
       "      <td>Male</td>\n",
       "      <td>...</td>\n",
       "      <td>1</td>\n",
       "      <td>1</td>\n",
       "      <td>Fiber optic</td>\n",
       "      <td>0.0</td>\n",
       "      <td>0.0</td>\n",
       "      <td>0.0</td>\n",
       "      <td>0.0</td>\n",
       "      <td>1.0</td>\n",
       "      <td>1.0</td>\n",
       "      <td>No</td>\n",
       "    </tr>\n",
       "    <tr>\n",
       "      <td>5497</td>\n",
       "      <td>7614-QVWQL</td>\n",
       "      <td>2015-09-01</td>\n",
       "      <td>0</td>\n",
       "      <td>One year</td>\n",
       "      <td>1</td>\n",
       "      <td>Bank transfer (automatic)</td>\n",
       "      <td>51.80</td>\n",
       "      <td>2541.25</td>\n",
       "      <td>1491</td>\n",
       "      <td>Male</td>\n",
       "      <td>...</td>\n",
       "      <td>1</td>\n",
       "      <td>1</td>\n",
       "      <td>DSL</td>\n",
       "      <td>0.0</td>\n",
       "      <td>1.0</td>\n",
       "      <td>0.0</td>\n",
       "      <td>0.0</td>\n",
       "      <td>1.0</td>\n",
       "      <td>1.0</td>\n",
       "      <td>Not subscribe</td>\n",
       "    </tr>\n",
       "    <tr>\n",
       "      <td>834</td>\n",
       "      <td>9231-ZJYAM</td>\n",
       "      <td>2019-07-01</td>\n",
       "      <td>0</td>\n",
       "      <td>Month-to-month</td>\n",
       "      <td>1</td>\n",
       "      <td>Electronic check</td>\n",
       "      <td>78.85</td>\n",
       "      <td>292.80</td>\n",
       "      <td>123</td>\n",
       "      <td>Female</td>\n",
       "      <td>...</td>\n",
       "      <td>0</td>\n",
       "      <td>0</td>\n",
       "      <td>Fiber optic</td>\n",
       "      <td>0.0</td>\n",
       "      <td>0.0</td>\n",
       "      <td>0.0</td>\n",
       "      <td>0.0</td>\n",
       "      <td>1.0</td>\n",
       "      <td>0.0</td>\n",
       "      <td>No</td>\n",
       "    </tr>\n",
       "    <tr>\n",
       "      <td>5722</td>\n",
       "      <td>3096-JRDSO</td>\n",
       "      <td>2017-09-01</td>\n",
       "      <td>0</td>\n",
       "      <td>Month-to-month</td>\n",
       "      <td>1</td>\n",
       "      <td>Bank transfer (automatic)</td>\n",
       "      <td>104.30</td>\n",
       "      <td>2867.75</td>\n",
       "      <td>821</td>\n",
       "      <td>Female</td>\n",
       "      <td>...</td>\n",
       "      <td>1</td>\n",
       "      <td>0</td>\n",
       "      <td>Fiber optic</td>\n",
       "      <td>1.0</td>\n",
       "      <td>0.0</td>\n",
       "      <td>0.0</td>\n",
       "      <td>1.0</td>\n",
       "      <td>1.0</td>\n",
       "      <td>1.0</td>\n",
       "      <td>Yes</td>\n",
       "    </tr>\n",
       "    <tr>\n",
       "      <td>5615</td>\n",
       "      <td>1493-AMTIE</td>\n",
       "      <td>2019-10-01</td>\n",
       "      <td>0</td>\n",
       "      <td>Month-to-month</td>\n",
       "      <td>1</td>\n",
       "      <td>Bank transfer (automatic)</td>\n",
       "      <td>20.20</td>\n",
       "      <td>20.20</td>\n",
       "      <td>31</td>\n",
       "      <td>Male</td>\n",
       "      <td>...</td>\n",
       "      <td>0</td>\n",
       "      <td>0</td>\n",
       "      <td>Not subscribe</td>\n",
       "      <td>0.0</td>\n",
       "      <td>0.0</td>\n",
       "      <td>0.0</td>\n",
       "      <td>0.0</td>\n",
       "      <td>0.0</td>\n",
       "      <td>0.0</td>\n",
       "      <td>No</td>\n",
       "    </tr>\n",
       "    <tr>\n",
       "      <td>354</td>\n",
       "      <td>0623-IIHUG</td>\n",
       "      <td>2018-04-01</td>\n",
       "      <td>0</td>\n",
       "      <td>Month-to-month</td>\n",
       "      <td>1</td>\n",
       "      <td>Electronic check</td>\n",
       "      <td>41.90</td>\n",
       "      <td>840.10</td>\n",
       "      <td>640</td>\n",
       "      <td>Female</td>\n",
       "      <td>...</td>\n",
       "      <td>0</td>\n",
       "      <td>0</td>\n",
       "      <td>DSL</td>\n",
       "      <td>1.0</td>\n",
       "      <td>0.0</td>\n",
       "      <td>0.0</td>\n",
       "      <td>0.0</td>\n",
       "      <td>1.0</td>\n",
       "      <td>0.0</td>\n",
       "      <td>Not subscribe</td>\n",
       "    </tr>\n",
       "    <tr>\n",
       "      <td>2070</td>\n",
       "      <td>8624-GIOUT</td>\n",
       "      <td>2015-10-01</td>\n",
       "      <td>0</td>\n",
       "      <td>Month-to-month</td>\n",
       "      <td>1</td>\n",
       "      <td>Credit card (automatic)</td>\n",
       "      <td>59.75</td>\n",
       "      <td>2934.30</td>\n",
       "      <td>1492</td>\n",
       "      <td>Female</td>\n",
       "      <td>...</td>\n",
       "      <td>0</td>\n",
       "      <td>0</td>\n",
       "      <td>DSL</td>\n",
       "      <td>1.0</td>\n",
       "      <td>1.0</td>\n",
       "      <td>0.0</td>\n",
       "      <td>0.0</td>\n",
       "      <td>0.0</td>\n",
       "      <td>0.0</td>\n",
       "      <td>Yes</td>\n",
       "    </tr>\n",
       "    <tr>\n",
       "      <td>3332</td>\n",
       "      <td>7593-XFKDI</td>\n",
       "      <td>2019-11-01</td>\n",
       "      <td>0</td>\n",
       "      <td>Month-to-month</td>\n",
       "      <td>0</td>\n",
       "      <td>Mailed check</td>\n",
       "      <td>46.30</td>\n",
       "      <td>46.30</td>\n",
       "      <td>30</td>\n",
       "      <td>Male</td>\n",
       "      <td>...</td>\n",
       "      <td>0</td>\n",
       "      <td>0</td>\n",
       "      <td>DSL</td>\n",
       "      <td>0.0</td>\n",
       "      <td>0.0</td>\n",
       "      <td>0.0</td>\n",
       "      <td>0.0</td>\n",
       "      <td>0.0</td>\n",
       "      <td>0.0</td>\n",
       "      <td>No</td>\n",
       "    </tr>\n",
       "    <tr>\n",
       "      <td>3197</td>\n",
       "      <td>3523-QRQLL</td>\n",
       "      <td>2017-12-01</td>\n",
       "      <td>0</td>\n",
       "      <td>One year</td>\n",
       "      <td>1</td>\n",
       "      <td>Bank transfer (automatic)</td>\n",
       "      <td>69.50</td>\n",
       "      <td>1498.20</td>\n",
       "      <td>669</td>\n",
       "      <td>Female</td>\n",
       "      <td>...</td>\n",
       "      <td>1</td>\n",
       "      <td>1</td>\n",
       "      <td>DSL</td>\n",
       "      <td>0.0</td>\n",
       "      <td>1.0</td>\n",
       "      <td>0.0</td>\n",
       "      <td>0.0</td>\n",
       "      <td>1.0</td>\n",
       "      <td>1.0</td>\n",
       "      <td>No</td>\n",
       "    </tr>\n",
       "  </tbody>\n",
       "</table>\n",
       "<p>10 rows × 21 columns</p>\n",
       "</div>"
      ],
      "text/plain": [
       "      customerID  BeginDate  EndDate            Type  PaperlessBilling  \\\n",
       "2262  4529-CKBCL 2019-11-01        0  Month-to-month                 1   \n",
       "3004  3801-HMYNL 2019-10-01        0  Month-to-month                 0   \n",
       "5497  7614-QVWQL 2015-09-01        0        One year                 1   \n",
       "834   9231-ZJYAM 2019-07-01        0  Month-to-month                 1   \n",
       "5722  3096-JRDSO 2017-09-01        0  Month-to-month                 1   \n",
       "5615  1493-AMTIE 2019-10-01        0  Month-to-month                 1   \n",
       "354   0623-IIHUG 2018-04-01        0  Month-to-month                 1   \n",
       "2070  8624-GIOUT 2015-10-01        0  Month-to-month                 1   \n",
       "3332  7593-XFKDI 2019-11-01        0  Month-to-month                 0   \n",
       "3197  3523-QRQLL 2017-12-01        0        One year                 1   \n",
       "\n",
       "                  PaymentMethod  MonthlyCharges  TotalCharges  \\\n",
       "2262           Electronic check           80.20        146.05   \n",
       "3004               Mailed check           89.15         89.15   \n",
       "5497  Bank transfer (automatic)           51.80       2541.25   \n",
       "834            Electronic check           78.85        292.80   \n",
       "5722  Bank transfer (automatic)          104.30       2867.75   \n",
       "5615  Bank transfer (automatic)           20.20         20.20   \n",
       "354            Electronic check           41.90        840.10   \n",
       "2070    Credit card (automatic)           59.75       2934.30   \n",
       "3332               Mailed check           46.30         46.30   \n",
       "3197  Bank transfer (automatic)           69.50       1498.20   \n",
       "\n",
       "      subscriptionAge  gender  ...  Partner  Dependents  InternetService  \\\n",
       "2262               61  Female  ...        0           0      Fiber optic   \n",
       "3004               31    Male  ...        1           1      Fiber optic   \n",
       "5497             1491    Male  ...        1           1              DSL   \n",
       "834               123  Female  ...        0           0      Fiber optic   \n",
       "5722              821  Female  ...        1           0      Fiber optic   \n",
       "5615               31    Male  ...        0           0    Not subscribe   \n",
       "354               640  Female  ...        0           0              DSL   \n",
       "2070             1492  Female  ...        0           0              DSL   \n",
       "3332               30    Male  ...        0           0              DSL   \n",
       "3197              669  Female  ...        1           1              DSL   \n",
       "\n",
       "     OnlineSecurity  OnlineBackup  DeviceProtection  TechSupport  StreamingTV  \\\n",
       "2262            0.0           0.0               0.0          0.0          1.0   \n",
       "3004            0.0           0.0               0.0          0.0          1.0   \n",
       "5497            0.0           1.0               0.0          0.0          1.0   \n",
       "834             0.0           0.0               0.0          0.0          1.0   \n",
       "5722            1.0           0.0               0.0          1.0          1.0   \n",
       "5615            0.0           0.0               0.0          0.0          0.0   \n",
       "354             1.0           0.0               0.0          0.0          1.0   \n",
       "2070            1.0           1.0               0.0          0.0          0.0   \n",
       "3332            0.0           0.0               0.0          0.0          0.0   \n",
       "3197            0.0           1.0               0.0          0.0          1.0   \n",
       "\n",
       "      StreamingMovies  MultipleLines  \n",
       "2262              0.0             No  \n",
       "3004              1.0             No  \n",
       "5497              1.0  Not subscribe  \n",
       "834               0.0             No  \n",
       "5722              1.0            Yes  \n",
       "5615              0.0             No  \n",
       "354               0.0  Not subscribe  \n",
       "2070              0.0            Yes  \n",
       "3332              0.0             No  \n",
       "3197              1.0             No  \n",
       "\n",
       "[10 rows x 21 columns]"
      ]
     },
     "execution_count": 74,
     "metadata": {},
     "output_type": "execute_result"
    }
   ],
   "source": [
    "existing_users = users.query(\"EndDate == 0\")\n",
    "existing_users.sample(10)"
   ]
  },
  {
   "cell_type": "code",
   "execution_count": 75,
   "metadata": {},
   "outputs": [
    {
     "data": {
      "text/html": [
       "<div>\n",
       "<style scoped>\n",
       "    .dataframe tbody tr th:only-of-type {\n",
       "        vertical-align: middle;\n",
       "    }\n",
       "\n",
       "    .dataframe tbody tr th {\n",
       "        vertical-align: top;\n",
       "    }\n",
       "\n",
       "    .dataframe thead th {\n",
       "        text-align: right;\n",
       "    }\n",
       "</style>\n",
       "<table border=\"1\" class=\"dataframe\">\n",
       "  <thead>\n",
       "    <tr style=\"text-align: right;\">\n",
       "      <th></th>\n",
       "      <th>customerID</th>\n",
       "      <th>percentage</th>\n",
       "    </tr>\n",
       "    <tr>\n",
       "      <th>Type</th>\n",
       "      <th></th>\n",
       "      <th></th>\n",
       "    </tr>\n",
       "  </thead>\n",
       "  <tbody>\n",
       "    <tr>\n",
       "      <td>Month-to-month</td>\n",
       "      <td>1655</td>\n",
       "      <td>88.55%</td>\n",
       "    </tr>\n",
       "    <tr>\n",
       "      <td>One year</td>\n",
       "      <td>166</td>\n",
       "      <td>8.88%</td>\n",
       "    </tr>\n",
       "    <tr>\n",
       "      <td>Two year</td>\n",
       "      <td>48</td>\n",
       "      <td>2.57%</td>\n",
       "    </tr>\n",
       "  </tbody>\n",
       "</table>\n",
       "</div>"
      ],
      "text/plain": [
       "                customerID percentage\n",
       "Type                                 \n",
       "Month-to-month        1655     88.55%\n",
       "One year               166      8.88%\n",
       "Two year                48      2.57%"
      ]
     },
     "execution_count": 75,
     "metadata": {},
     "output_type": "execute_result"
    }
   ],
   "source": [
    "#Get number of existing customers for each 'Type'\n",
    "existingUsers_byType = existing_users.pivot_table(index='Type',\n",
    "                                       values='customerID',\n",
    "                                       aggfunc='count'\n",
    "                                      )\n",
    "# Calculate the percentage for each type\n",
    "existingUsers_byType['percentage'] = \\\n",
    "                (existingUsers_byType.customerID / existingUsers_byType.customerID.sum() * 100 ).map(\"{:,.2f}%\".format)\n",
    "existingUsers_byType"
   ]
  },
  {
   "cell_type": "code",
   "execution_count": null,
   "metadata": {},
   "outputs": [],
   "source": []
  },
  {
   "cell_type": "code",
   "execution_count": 76,
   "metadata": {},
   "outputs": [
    {
     "data": {
      "text/plain": [
       "Text(0.5, 1.0, 'Number of existing users by plan type ')"
      ]
     },
     "execution_count": 76,
     "metadata": {},
     "output_type": "execute_result"
    },
    {
     "data": {
      "image/png": "[encoded data removed]",
      "text/plain": [
       "<Figure size 432x288 with 1 Axes>"
      ]
     },
     "metadata": {
      "needs_background": "light"
     },
     "output_type": "display_data"
    }
   ],
   "source": [
    "existingUsers_byType.plot(kind='bar',rot=40, legend=None);\n",
    "plt.xlabel('Type')\n",
    "plt.ylabel('Number of users')\n",
    "plt.title('Number of existing users by plan type ')"
   ]
  },
  {
   "cell_type": "markdown",
   "metadata": {},
   "source": [
    "- Most of the existing users are using 'Month-to-month' plan 42.91%.   \n",
    "  But also alot of users are using 'Tow year'(31.83%) and 'One year'(25.26%) plans."
   ]
  },
  {
   "cell_type": "markdown",
   "metadata": {},
   "source": [
    "#### distribution of 'subscriptionAge' for former users"
   ]
  },
  {
   "cell_type": "code",
   "execution_count": 77,
   "metadata": {},
   "outputs": [
    {
     "data": {
      "text/html": [
       "<div>\n",
       "<style scoped>\n",
       "    .dataframe tbody tr th:only-of-type {\n",
       "        vertical-align: middle;\n",
       "    }\n",
       "\n",
       "    .dataframe tbody tr th {\n",
       "        vertical-align: top;\n",
       "    }\n",
       "\n",
       "    .dataframe thead th {\n",
       "        text-align: right;\n",
       "    }\n",
       "</style>\n",
       "<table border=\"1\" class=\"dataframe\">\n",
       "  <thead>\n",
       "    <tr style=\"text-align: right;\">\n",
       "      <th></th>\n",
       "      <th>customerID</th>\n",
       "    </tr>\n",
       "    <tr>\n",
       "      <th>subscriptionAge</th>\n",
       "      <th></th>\n",
       "    </tr>\n",
       "  </thead>\n",
       "  <tbody>\n",
       "    <tr>\n",
       "      <td>0</td>\n",
       "      <td>11</td>\n",
       "    </tr>\n",
       "    <tr>\n",
       "      <td>31</td>\n",
       "      <td>233</td>\n",
       "    </tr>\n",
       "    <tr>\n",
       "      <td>62</td>\n",
       "      <td>115</td>\n",
       "    </tr>\n",
       "    <tr>\n",
       "      <td>92</td>\n",
       "      <td>106</td>\n",
       "    </tr>\n",
       "    <tr>\n",
       "      <td>123</td>\n",
       "      <td>93</td>\n",
       "    </tr>\n",
       "    <tr>\n",
       "      <td>...</td>\n",
       "      <td>...</td>\n",
       "    </tr>\n",
       "    <tr>\n",
       "      <td>2071</td>\n",
       "      <td>91</td>\n",
       "    </tr>\n",
       "    <tr>\n",
       "      <td>2102</td>\n",
       "      <td>87</td>\n",
       "    </tr>\n",
       "    <tr>\n",
       "      <td>2132</td>\n",
       "      <td>108</td>\n",
       "    </tr>\n",
       "    <tr>\n",
       "      <td>2163</td>\n",
       "      <td>164</td>\n",
       "    </tr>\n",
       "    <tr>\n",
       "      <td>2191</td>\n",
       "      <td>356</td>\n",
       "    </tr>\n",
       "  </tbody>\n",
       "</table>\n",
       "<p>73 rows × 1 columns</p>\n",
       "</div>"
      ],
      "text/plain": [
       "                 customerID\n",
       "subscriptionAge            \n",
       "0                        11\n",
       "31                      233\n",
       "62                      115\n",
       "92                      106\n",
       "123                      93\n",
       "...                     ...\n",
       "2071                     91\n",
       "2102                     87\n",
       "2132                    108\n",
       "2163                    164\n",
       "2191                    356\n",
       "\n",
       "[73 rows x 1 columns]"
      ]
     },
     "execution_count": 77,
     "metadata": {},
     "output_type": "execute_result"
    }
   ],
   "source": [
    "formerUsers_bySubscriptionAge = former_users.pivot_table(index='subscriptionAge',\n",
    "                                       values='customerID',\n",
    "                                       aggfunc='count'\n",
    "                                      )\n",
    "formerUsers_bySubscriptionAge"
   ]
  },
  {
   "cell_type": "code",
   "execution_count": 78,
   "metadata": {},
   "outputs": [
    {
     "data": {
      "text/plain": [
       "Text(0.5, 1.0, 'Number of former users by Subscription Age ')"
      ]
     },
     "execution_count": 78,
     "metadata": {},
     "output_type": "execute_result"
    },
    {
     "data": {
      "image/png": "[encoded data removed]",
      "text/plain": [
       "<Figure size 432x288 with 1 Axes>"
      ]
     },
     "metadata": {
      "needs_background": "light"
     },
     "output_type": "display_data"
    }
   ],
   "source": [
    "# Get only the largest 15 rows \n",
    "formerUsers_bySubscriptionAge.nlargest(15,'customerID').plot(kind='bar',rot=40, legend=None);\n",
    "plt.xlabel('SubscriptionAge(in day\\'s)')\n",
    "plt.ylabel('Number of users')\n",
    "plt.title('Number of former users by Subscription Age ')"
   ]
  },
  {
   "cell_type": "markdown",
   "metadata": {},
   "source": [
    "- Most of the users are leaving after 31/30 day's and also after 61 day's.\n",
    "- We need to pay special attention for new users and make sure they are not leaving after 30-60 day's. "
   ]
  },
  {
   "cell_type": "markdown",
   "metadata": {},
   "source": [
    "#### What kind of additional services former users used"
   ]
  },
  {
   "cell_type": "code",
   "execution_count": 79,
   "metadata": {},
   "outputs": [],
   "source": [
    "# List of additional services\n",
    "services = ['OnlineSecurity','OnlineBackup','DeviceProtection','TechSupport','StreamingTV','StreamingMovies']"
   ]
  },
  {
   "cell_type": "code",
   "execution_count": 80,
   "metadata": {},
   "outputs": [],
   "source": [
    "# Distribution by service\n",
    "def plot_services(df):\n",
    "\n",
    "    for service in services:\n",
    "        df[service].value_counts().plot(kind='bar',rot=0);\n",
    "        plt.xlabel(service)\n",
    "        plt.ylabel('Number of users')\n",
    "        plt.title('Number of former users by:' + service)\n",
    "        plt.show()\n",
    " "
   ]
  },
  {
   "cell_type": "code",
   "execution_count": 81,
   "metadata": {},
   "outputs": [
    {
     "data": {
      "image/png": "[encoded data removed]",
      "text/plain": [
       "<Figure size 432x288 with 1 Axes>"
      ]
     },
     "metadata": {
      "needs_background": "light"
     },
     "output_type": "display_data"
    },
    {
     "data": {
      "image/png": "[encoded data removed]",
      "text/plain": [
       "<Figure size 432x288 with 1 Axes>"
      ]
     },
     "metadata": {
      "needs_background": "light"
     },
     "output_type": "display_data"
    },
    {
     "data": {
      "image/png": "[encoded data removed]",
      "text/plain": [
       "<Figure size 432x288 with 1 Axes>"
      ]
     },
     "metadata": {
      "needs_background": "light"
     },
     "output_type": "display_data"
    },
    {
     "data": {
      "image/png": "[encoded data removed]",
      "text/plain": [
       "<Figure size 432x288 with 1 Axes>"
      ]
     },
     "metadata": {
      "needs_background": "light"
     },
     "output_type": "display_data"
    },
    {
     "data": {
      "image/png": "[encoded data removed]",
      "text/plain": [
       "<Figure size 432x288 with 1 Axes>"
      ]
     },
     "metadata": {
      "needs_background": "light"
     },
     "output_type": "display_data"
    },
    {
     "data": {
      "image/png": "[encoded data removed]",
      "text/plain": [
       "<Figure size 432x288 with 1 Axes>"
      ]
     },
     "metadata": {
      "needs_background": "light"
     },
     "output_type": "display_data"
    }
   ],
   "source": [
    "plot_services(former_users)"
   ]
  },
  {
   "cell_type": "markdown",
   "metadata": {},
   "source": [
    "Churn rete for former users that had the following services is low:   \n",
    "    - OnlineSecurity   \n",
    "    - OnlineBackup   \n",
    "    - DeviceProtection   \n",
    "    - TechSupport   "
   ]
  },
  {
   "cell_type": "code",
   "execution_count": 82,
   "metadata": {},
   "outputs": [
    {
     "data": {
      "image/png": "[encoded data removed]",
      "text/plain": [
       "<Figure size 432x288 with 1 Axes>"
      ]
     },
     "metadata": {
      "needs_background": "light"
     },
     "output_type": "display_data"
    }
   ],
   "source": [
    "# Number of services former users had\n",
    "former_users[services].sum(axis=1).value_counts().plot(kind='bar',rot=0);\n",
    "plt.xlabel('Number of services')\n",
    "plt.ylabel('Number of users')\n",
    "plt.title('Number of former users by number of services subscription')\n",
    "plt.show()"
   ]
  },
  {
   "cell_type": "markdown",
   "metadata": {},
   "source": [
    "- More services former users had, churn rate  dropped."
   ]
  },
  {
   "cell_type": "markdown",
   "metadata": {},
   "source": [
    "#### What kind of additional services existing users are using"
   ]
  },
  {
   "cell_type": "code",
   "execution_count": 83,
   "metadata": {},
   "outputs": [
    {
     "data": {
      "image/png": "[encoded data removed]",
      "text/plain": [
       "<Figure size 432x288 with 1 Axes>"
      ]
     },
     "metadata": {
      "needs_background": "light"
     },
     "output_type": "display_data"
    },
    {
     "data": {
      "image/png": "[encoded data removed]",
      "text/plain": [
       "<Figure size 432x288 with 1 Axes>"
      ]
     },
     "metadata": {
      "needs_background": "light"
     },
     "output_type": "display_data"
    },
    {
     "data": {
      "image/png": "[encoded data removed]",
      "text/plain": [
       "<Figure size 432x288 with 1 Axes>"
      ]
     },
     "metadata": {
      "needs_background": "light"
     },
     "output_type": "display_data"
    },
    {
     "data": {
      "image/png": "[encoded data removed]",
      "text/plain": [
       "<Figure size 432x288 with 1 Axes>"
      ]
     },
     "metadata": {
      "needs_background": "light"
     },
     "output_type": "display_data"
    },
    {
     "data": {
      "image/png": "[encoded data removed]",
      "text/plain": [
       "<Figure size 432x288 with 1 Axes>"
      ]
     },
     "metadata": {
      "needs_background": "light"
     },
     "output_type": "display_data"
    },
    {
     "data": {
      "image/png": "[encoded data removed]",
      "text/plain": [
       "<Figure size 432x288 with 1 Axes>"
      ]
     },
     "metadata": {
      "needs_background": "light"
     },
     "output_type": "display_data"
    }
   ],
   "source": [
    "plot_services(existing_users)"
   ]
  },
  {
   "cell_type": "markdown",
   "metadata": {},
   "source": [
    "- The majority of existing users are not using any additional services"
   ]
  },
  {
   "cell_type": "code",
   "execution_count": 84,
   "metadata": {},
   "outputs": [
    {
     "data": {
      "image/png": "[encoded data removed]",
      "text/plain": [
       "<Figure size 432x288 with 1 Axes>"
      ]
     },
     "metadata": {
      "needs_background": "light"
     },
     "output_type": "display_data"
    }
   ],
   "source": [
    "# Number of services existing users have\n",
    "existing_users[services].sum(axis=1).value_counts().plot(kind='bar',rot=0);\n",
    "plt.xlabel('Number of services')\n",
    "plt.ylabel('Number of users')\n",
    "plt.title('Number of existing users by number of services subscription')\n",
    "plt.show()"
   ]
  },
  {
   "cell_type": "markdown",
   "metadata": {},
   "source": [
    "- Most of the existing users are not using an additional services."
   ]
  },
  {
   "cell_type": "markdown",
   "metadata": {},
   "source": [
    "#### for existing/former users check the distribution of 'MultipleLines'"
   ]
  },
  {
   "cell_type": "code",
   "execution_count": 85,
   "metadata": {},
   "outputs": [
    {
     "data": {
      "image/png": "[encoded data removed]",
      "text/plain": [
       "<Figure size 432x288 with 1 Axes>"
      ]
     },
     "metadata": {
      "needs_background": "light"
     },
     "output_type": "display_data"
    }
   ],
   "source": [
    "existing_users.MultipleLines.value_counts().plot(kind='bar',rot=0);\n",
    "plt.xlabel('MultipleLines')\n",
    "plt.ylabel('Number of users')\n",
    "plt.title('Number of existing users that have MultipleLines')\n",
    "plt.show()"
   ]
  },
  {
   "cell_type": "markdown",
   "metadata": {},
   "source": [
    "- Existing users are using one line/multiple lines in almost the same distribution."
   ]
  },
  {
   "cell_type": "code",
   "execution_count": 86,
   "metadata": {},
   "outputs": [
    {
     "data": {
      "image/png": "[encoded data removed]",
      "text/plain": [
       "<Figure size 432x288 with 1 Axes>"
      ]
     },
     "metadata": {
      "needs_background": "light"
     },
     "output_type": "display_data"
    }
   ],
   "source": [
    "former_users.MultipleLines.value_counts().plot(kind='bar',rot=0);\n",
    "plt.xlabel('MultipleLines')\n",
    "plt.ylabel('Number of users')\n",
    "plt.title('Number of former users that have MultipleLines')\n",
    "plt.show()"
   ]
  },
  {
   "cell_type": "markdown",
   "metadata": {},
   "source": [
    "former users used one line/multiple lines in same distribution."
   ]
  },
  {
   "cell_type": "markdown",
   "metadata": {},
   "source": [
    "#### for existing/former users check the distribution of 'InternetService'"
   ]
  },
  {
   "cell_type": "code",
   "execution_count": 87,
   "metadata": {},
   "outputs": [
    {
     "data": {
      "image/png": "[encoded data removed]",
      "text/plain": [
       "<Figure size 432x288 with 1 Axes>"
      ]
     },
     "metadata": {
      "needs_background": "light"
     },
     "output_type": "display_data"
    }
   ],
   "source": [
    "existing_users.InternetService.value_counts().plot(kind='bar',rot=0);\n",
    "plt.xlabel('InternetService')\n",
    "plt.ylabel('Number of users')\n",
    "plt.title('Number of existing users that have InternetService')\n",
    "plt.show()"
   ]
  },
  {
   "cell_type": "markdown",
   "metadata": {},
   "source": [
    "- Existing users are using DSL/Fiber optic  in almost the same distribution.\n",
    "- There are a lot of users that are not subscribe to internet service."
   ]
  },
  {
   "cell_type": "code",
   "execution_count": 88,
   "metadata": {},
   "outputs": [
    {
     "data": {
      "image/png": "[encoded data removed]",
      "text/plain": [
       "<Figure size 432x288 with 1 Axes>"
      ]
     },
     "metadata": {
      "needs_background": "light"
     },
     "output_type": "display_data"
    }
   ],
   "source": [
    "former_users.InternetService.value_counts().plot(kind='bar',rot=0);\n",
    "plt.xlabel('InternetService')\n",
    "plt.ylabel('Number of users')\n",
    "plt.title('Number of former users that have InternetService')\n",
    "plt.show()"
   ]
  },
  {
   "cell_type": "markdown",
   "metadata": {},
   "source": [
    "- Most of the former users used Fiber optic internet service.\n",
    "- There were few users that didn't subscribe to interner service."
   ]
  },
  {
   "cell_type": "markdown",
   "metadata": {},
   "source": [
    "#### Remove unnecessary features"
   ]
  },
  {
   "cell_type": "code",
   "execution_count": 89,
   "metadata": {},
   "outputs": [],
   "source": [
    "#Drop feutures that are not necessary for model prediction\n",
    "users = users.drop(columns=['BeginDate','customerID'],axis=1)"
   ]
  },
  {
   "cell_type": "markdown",
   "metadata": {},
   "source": [
    "### Conclusions"
   ]
  },
  {
   "cell_type": "markdown",
   "metadata": {},
   "source": [
    "- There are no outliers in the data.\n",
    "- Most of the existing users are not using an additional services.     \n",
    "- Existing users are using one line/multiple lines in almost the same distribution.     \n",
    "- former users used one line/multiple lines in same distribution.   \n",
    "- Existing users are using DSL/Fiber optic  in almost the same distribution.\n",
    "- There are a lot of users that are not subscribe to internet service.\n",
    "- Most of the former users used Fiber optic internet service.\n",
    "- There were few users that didn't subscribe to interner service.\n",
    "- Removed unnecessary features for prediction('BeginDate','customerID')\n",
    "\n",
    "**Suggestments**\n",
    "- The majority of former users had a 'Month-to-month' program.    \n",
    "  The distribution for existing users is:    \n",
    "     - 'Month-to-month' - 42.91%.   \n",
    "     - 'Tow year' - 31.83%.   \n",
    "     - 'One year' - 25.26%.         \n",
    "  \n",
    "  We can try to suggest different plan for users that discovered that they are planning to leave.\n",
    "- Most of the users are leaving after 31/30 day's and also after 61 day's.     \n",
    "  We need to pay special attention for new users and make sure they are not leaving after 30-60 day's.          \n",
    "  This is the period of time to offer promotional codes and special plan options."
   ]
  },
  {
   "cell_type": "code",
   "execution_count": null,
   "metadata": {},
   "outputs": [],
   "source": []
  },
  {
   "cell_type": "markdown",
   "metadata": {},
   "source": [
    "## Build the model"
   ]
  },
  {
   "cell_type": "markdown",
   "metadata": {},
   "source": [
    "We have a binary classification problem.\n",
    "- 'EndDate' ='No'= 1 for existing user\n",
    "- 'EndDate' = 'Yes' = 0 for former user "
   ]
  },
  {
   "cell_type": "markdown",
   "metadata": {},
   "source": [
    "### Encoding the Categorical features"
   ]
  },
  {
   "cell_type": "code",
   "execution_count": 90,
   "metadata": {},
   "outputs": [],
   "source": [
    "# Encode the Categorical features \n",
    "Categorical_features = ['Type','PaymentMethod','gender','InternetService','MultipleLines']\n",
    "users = pd.get_dummies(users, drop_first=True)"
   ]
  },
  {
   "cell_type": "code",
   "execution_count": 91,
   "metadata": {},
   "outputs": [
    {
     "name": "stdout",
     "output_type": "stream",
     "text": [
      "<class 'pandas.core.frame.DataFrame'>\n",
      "Int64Index: 7043 entries, 0 to 7042\n",
      "Data columns (total 24 columns):\n",
      "EndDate                                  7043 non-null int8\n",
      "PaperlessBilling                         7043 non-null int8\n",
      "MonthlyCharges                           7043 non-null float64\n",
      "TotalCharges                             7043 non-null float64\n",
      "subscriptionAge                          7043 non-null int32\n",
      "SeniorCitizen                            7043 non-null int8\n",
      "Partner                                  7043 non-null int8\n",
      "Dependents                               7043 non-null int8\n",
      "OnlineSecurity                           7043 non-null float64\n",
      "OnlineBackup                             7043 non-null float64\n",
      "DeviceProtection                         7043 non-null float64\n",
      "TechSupport                              7043 non-null float64\n",
      "StreamingTV                              7043 non-null float64\n",
      "StreamingMovies                          7043 non-null float64\n",
      "Type_One year                            7043 non-null uint8\n",
      "Type_Two year                            7043 non-null uint8\n",
      "PaymentMethod_Credit card (automatic)    7043 non-null uint8\n",
      "PaymentMethod_Electronic check           7043 non-null uint8\n",
      "PaymentMethod_Mailed check               7043 non-null uint8\n",
      "gender_Male                              7043 non-null uint8\n",
      "InternetService_Fiber optic              7043 non-null uint8\n",
      "InternetService_Not subscribe            7043 non-null uint8\n",
      "MultipleLines_Not subscribe              7043 non-null uint8\n",
      "MultipleLines_Yes                        7043 non-null uint8\n",
      "dtypes: float64(8), int32(1), int8(5), uint8(10)\n",
      "memory usage: 625.9 KB\n"
     ]
    }
   ],
   "source": [
    "users.info()"
   ]
  },
  {
   "cell_type": "markdown",
   "metadata": {},
   "source": [
    "### Split the data to training set and test set"
   ]
  },
  {
   "cell_type": "code",
   "execution_count": 92,
   "metadata": {},
   "outputs": [],
   "source": [
    "# Split data into train and test\n",
    "target = users['EndDate']\n",
    "features = users.drop(['EndDate'], axis=1)\n",
    "\n",
    "features_train, features_test, target_train, target_test = train_test_split(\n",
    "    features, target, test_size=0.2, random_state=RANDOM_STATE)\n"
   ]
  },
  {
   "cell_type": "markdown",
   "metadata": {},
   "source": [
    "### Examine the balance of classes"
   ]
  },
  {
   "cell_type": "code",
   "execution_count": 93,
   "metadata": {},
   "outputs": [
    {
     "data": {
      "text/plain": [
       "1    5174\n",
       "0    1869\n",
       "Name: EndDate, dtype: int64"
      ]
     },
     "execution_count": 93,
     "metadata": {},
     "output_type": "execute_result"
    }
   ],
   "source": [
    "users['EndDate'].value_counts()"
   ]
  },
  {
   "cell_type": "code",
   "execution_count": 94,
   "metadata": {},
   "outputs": [
    {
     "data": {
      "text/plain": [
       "1    0.73463\n",
       "0    0.26537\n",
       "Name: EndDate, dtype: float64"
      ]
     },
     "execution_count": 94,
     "metadata": {},
     "output_type": "execute_result"
    }
   ],
   "source": [
    "users['EndDate'].value_counts(normalize=True)"
   ]
  },
  {
   "cell_type": "code",
   "execution_count": 95,
   "metadata": {},
   "outputs": [
    {
     "data": {
      "text/plain": [
       "Text(0.5, 1.0, 'EndDate Distribution')"
      ]
     },
     "execution_count": 95,
     "metadata": {},
     "output_type": "execute_result"
    },
    {
     "data": {
      "image/png": "[encoded data removed]",
      "text/plain": [
       "<Figure size 432x288 with 1 Axes>"
      ]
     },
     "metadata": {
      "needs_background": "light"
     },
     "output_type": "display_data"
    }
   ],
   "source": [
    "users['EndDate'].value_counts(normalize=True).plot(kind='bar',rot=0);\n",
    "plt.xlabel('EndDate')\n",
    "plt.ylabel('Number of users')\n",
    "plt.title('EndDate Distribution')"
   ]
  },
  {
   "cell_type": "markdown",
   "metadata": {},
   "source": [
    "We are dealing with imbalanced targer.    \n",
    "There are 7043 observations:  \n",
    "   - 5174 observations are with value 'No' (73%).   \n",
    "   - 1869 observations are with value 'Yes' (27%).   \n",
    "   \n",
    "We will use 2 technique of data balancing:\n",
    "1. Class Weight Adjustment\n",
    "2. upsampling"
   ]
  },
  {
   "cell_type": "markdown",
   "metadata": {},
   "source": [
    "### scaling the data"
   ]
  },
  {
   "cell_type": "code",
   "execution_count": 96,
   "metadata": {},
   "outputs": [],
   "source": [
    "# Silence SettingWithCopyWarning \n",
    "pd.options.mode.chained_assignment = None\n",
    "\n",
    "# Standardize the numeric features\n",
    "scaler = StandardScaler()\n",
    "\n",
    "#numeric fields to scale\n",
    "numeric = ['MonthlyCharges', 'TotalCharges','subscriptionAge']\n",
    "\n",
    "scaler.fit(features_train[numeric])\n",
    "features_train[numeric] = scaler.transform(features_train[numeric])\n",
    "features_test[numeric] = scaler.transform(features_test[numeric])\n"
   ]
  },
  {
   "cell_type": "markdown",
   "metadata": {},
   "source": [
    "### Train models"
   ]
  },
  {
   "cell_type": "code",
   "execution_count": 97,
   "metadata": {},
   "outputs": [],
   "source": [
    "#The function contains the following steps:\n",
    "# 1.train model\n",
    "# 2.fit model\n",
    "# 3.calc accuracy\n",
    "# 4.calc roc_auc_score\n",
    "# The function return a dataFrame contains:model name, accuracy score,roc_auc_score, best_estimator\n",
    "def train_fit_score(model,X_train,y_train, params, modelName):\n",
    "    model = GridSearchCV(model, param_grid=params, cv=5, refit='roc_auc',\n",
    "                         verbose=0,scoring='roc_auc',return_train_score=True)\n",
    "           \n",
    "    model.fit(X_train, y_train) \n",
    "    \n",
    "    # Predict the model      \n",
    "    predict_test = model.predict(features_test)  \n",
    "    \n",
    "    # accuracy\n",
    "    accuracy = accuracy_score(target_test,predict_test)\n",
    "    # roc_auc score\n",
    "    probabilities_test = model.predict_proba(features_test)\n",
    "    probabilities_one_test = probabilities_test[:, 1]\n",
    "    roc_auc = roc_auc_score(target_test,probabilities_one_test)\n",
    "   \n",
    "    return  pd.DataFrame([[modelName,accuracy,roc_auc, model.best_estimator_]]\\\n",
    "                         ,columns=['model','accuracy','roc_auc','best_estimator_'])"
   ]
  },
  {
   "cell_type": "markdown",
   "metadata": {},
   "source": [
    "####  RandomForest"
   ]
  },
  {
   "cell_type": "code",
   "execution_count": null,
   "metadata": {},
   "outputs": [],
   "source": [
    "#Create Random Forest Classifier\n",
    "params = {'n_estimators' : range(10, 120, 2),\n",
    "          'max_depth' : range(5, 45, 10),\n",
    "          'min_impurity_decrease' : np.arange(.05, .25, .1),\n",
    "          'min_samples_split' : [3,5,7]\n",
    "         \n",
    "         }\n",
    "\n",
    "RandomForest = train_fit_score(RandomForestClassifier(random_state=RANDOM_STATE,class_weight='balanced'),\n",
    "                            features_train, \n",
    "                            target_train,\n",
    "                            params, \n",
    "                            'Random Forest')\n",
    "RandomForest"
   ]
  },
  {
   "cell_type": "markdown",
   "metadata": {},
   "source": [
    "#### DecisionTree"
   ]
  },
  {
   "cell_type": "code",
   "execution_count": null,
   "metadata": {},
   "outputs": [],
   "source": [
    "#Create Decision Tree Classifier\n",
    "DecisionTree = train_fit_score(DecisionTreeClassifier(random_state=RANDOM_STATE,class_weight='balanced'), \n",
    "                      features_train,\n",
    "                      target_train,\n",
    "                      {'max_depth': range(1, 65, 5), \n",
    "                       'min_impurity_decrease' : np.arange(.01, .20, .02), \n",
    "                       'min_samples_split' : range(2, 10, 2)},\n",
    "                       'Decision Tree')\n",
    "DecisionTree"
   ]
  },
  {
   "cell_type": "markdown",
   "metadata": {},
   "source": [
    "#### K-nearest Neighbors"
   ]
  },
  {
   "cell_type": "code",
   "execution_count": null,
   "metadata": {},
   "outputs": [],
   "source": [
    "#Create KNeighborsClassifier \n",
    "KNNeighbors = train_fit_score(KNeighborsClassifier(), \n",
    "                        features_train, \n",
    "                        target_train,\n",
    "                        {'n_neighbors' : range(40, 75, 5),\n",
    "                         'weights' : ['uniform', 'distance'],\n",
    "                         'algorithm':['auto', 'ball_tree', 'kd_tree', 'brute'],\n",
    "                         'leaf_size':range(20,40,5),\n",
    "                         'p':[1,2]\n",
    "                        },\n",
    "                         'KNeighborsׁ')  \n",
    "KNNeighbors"
   ]
  },
  {
   "cell_type": "markdown",
   "metadata": {},
   "source": [
    "####  Logistic Regression"
   ]
  },
  {
   "cell_type": "code",
   "execution_count": null,
   "metadata": {},
   "outputs": [],
   "source": [
    "# Create LogisticRegression model\n",
    "lg = train_fit_score(LogisticRegression(class_weight='balanced',random_state=RANDOM_STATE),\n",
    "                    features_train, \n",
    "                    target_train,\n",
    "                     {#'penalty':['l1', 'l2', 'elasticnet', 'none'],\n",
    "                         #'multi_class':['auto', 'ovr', 'multinomial']\n",
    "                       \n",
    "                       'solver':['newton-cg', 'lbfgs', 'liblinear','sag','saga'],\n",
    "                       'multi_class':['auto', 'ovr'],\n",
    "                       'C' : [0.001, 0.01, 0.1, 1, 10, 100, 1000],\n",
    "                        'max_iter':[4000]\n",
    "                     },\n",
    "                     'Logistic Regression'\n",
    "                    )\n",
    "lg"
   ]
  },
  {
   "cell_type": "markdown",
   "metadata": {},
   "source": [
    "#### Stochastic gradient descent"
   ]
  },
  {
   "cell_type": "code",
   "execution_count": null,
   "metadata": {},
   "outputs": [],
   "source": [
    "#Create SGDClassifier \n",
    "sgd = train_fit_score(SGDClassifier(class_weight='balanced',random_state=RANDOM_STATE),\n",
    "                        features_train, \n",
    "                        target_train,\n",
    "                      {\n",
    "                        'penalty':['l1', 'l2', 'elasticnet', 'none'],\n",
    "                        'loss':['hinge','log','modified_huber','squared_hinge','perceptron'],\n",
    "                        'alpha':[0.0001, 0.001, 0.01, 0.1, 1, 10, 100, 1000],\n",
    "                        'max_iter':[4000]\n",
    "                      },\n",
    "                      'Stochastic gradient descent'\n",
    "                     )\n",
    "sgd"
   ]
  },
  {
   "cell_type": "markdown",
   "metadata": {},
   "source": [
    "####  Naive Bayes"
   ]
  },
  {
   "cell_type": "code",
   "execution_count": null,
   "metadata": {},
   "outputs": [],
   "source": [
    "#Create GaussianNB \n",
    "gnb = train_fit_score(GaussianNB(),\n",
    "                        features_train, \n",
    "                        target_train,\n",
    "                      {'var_smoothing': np.logspace(0,-9, num=100)},\n",
    "                      'GaussianNB'\n",
    "                      \n",
    "                     )\n",
    "gnb"
   ]
  },
  {
   "cell_type": "markdown",
   "metadata": {},
   "source": [
    "#### catboost "
   ]
  },
  {
   "cell_type": "code",
   "execution_count": null,
   "metadata": {},
   "outputs": [],
   "source": [
    "#Create catboost \n",
    "catboost =  train_fit_score(CatBoostClassifier(),\n",
    "                        features_train, \n",
    "                        target_train,\n",
    "                         {'depth': [15],\n",
    "                          'learning_rate' : [0.1],\n",
    "                          'iterations'    : [15]\n",
    "                         },\n",
    "                          'CatBoost'                      \n",
    "                      )\n",
    "catboost"
   ]
  },
  {
   "cell_type": "markdown",
   "metadata": {},
   "source": [
    "#### Sanity check"
   ]
  },
  {
   "cell_type": "code",
   "execution_count": null,
   "metadata": {},
   "outputs": [],
   "source": [
    "#Use dummy model for a sanity check\n",
    "dummy_model = train_fit_score(DummyClassifier(),\n",
    "                                features_train, \n",
    "                                target_train,\n",
    "                               {'strategy':['stratified', 'most_frequent', 'prior', 'uniform','constant'],\n",
    "                               'constant':[1]},\n",
    "                                'Dummy model'\n",
    "                              )\n",
    "dummy_model"
   ]
  },
  {
   "cell_type": "markdown",
   "metadata": {},
   "source": [
    "####  Upsampling using pipline\n",
    "Run all models using pipline and balance the data using SMOTE"
   ]
  },
  {
   "cell_type": "code",
   "execution_count": null,
   "metadata": {},
   "outputs": [],
   "source": [
    "# List of estimators names\n",
    "def get_Classifiers_Names():\n",
    "    names = ['RandomForestClassifier',\n",
    "         'DecisionTreeClassifier',\n",
    "         'KNeighborsClassifier',\n",
    "         'LogisticRegression',\n",
    "         'SGDClassifier',\n",
    "         'GaussianNB',\n",
    "         'CatBoostClassifier',\n",
    "        'DummyClassifier'\n",
    "        ]\n",
    "\n",
    "    return names\n"
   ]
  },
  {
   "cell_type": "code",
   "execution_count": null,
   "metadata": {},
   "outputs": [],
   "source": [
    "# List of estimators\n",
    "def get_Classifiers():\n",
    "\n",
    "    classifiers = [\n",
    "        RandomForestClassifier(random_state=RANDOM_STATE),\n",
    "        DecisionTreeClassifier(random_state=RANDOM_STATE),\n",
    "        KNeighborsClassifier(),\n",
    "        LogisticRegression(random_state=RANDOM_STATE),\n",
    "        SGDClassifier(random_state=RANDOM_STATE),\n",
    "        GaussianNB(),\n",
    "        CatBoostClassifier(),\n",
    "        DummyClassifier()\n",
    "    ]\n",
    "    return classifiers\n"
   ]
  },
  {
   "cell_type": "code",
   "execution_count": null,
   "metadata": {},
   "outputs": [],
   "source": [
    "# Hyper parameters for each estimator\n",
    "def get_Classifiers_params():\n",
    "    parameters = [\n",
    "                    {'n_estimators' : range(10, 120, 2),\n",
    "                     'max_depth' : range(5, 45, 10),\n",
    "                     'min_impurity_decrease' : np.arange(.05, .25, .1),\n",
    "                     'min_samples_split' : [3,5,7]        \n",
    "                     },\n",
    "\n",
    "                    {'max_depth': range(1, 65, 5), \n",
    "                     'min_impurity_decrease' : np.arange(.01, .20, .02), \n",
    "                     'min_samples_split' : range(2, 10, 2)\n",
    "                    },\n",
    "\n",
    "                    {'n_neighbors' : range(40, 75, 5),\n",
    "                     'weights' : ['uniform', 'distance'],\n",
    "                     'algorithm':['auto', 'ball_tree', 'kd_tree', 'brute'],\n",
    "                     'leaf_size':range(20,40,5),\n",
    "                     'p':[1,2] \n",
    "                    },    \n",
    "\n",
    "                    { 'solver':['newton-cg', 'lbfgs', 'liblinear','sag','saga'],\n",
    "                       'multi_class':['auto', 'ovr'],\n",
    "                       'C' : [0.001, 0.01, 0.1, 1, 10, 100, 10001],\n",
    "                        'max_iter':[4000]\n",
    "                     },\n",
    "\n",
    "                    {'penalty':['l1', 'l2', 'elasticnet', 'none'],\n",
    "                     'loss':['hinge','log','modified_huber','squared_hinge','perceptron'],\n",
    "                     'alpha':[0.0001, 0.001, 0.01, 0.1, 1, 10, 100, 1000],\n",
    "                     'max_iter':[4000]\n",
    "                    },\n",
    "\n",
    "                    {'var_smoothing': np.logspace(0,-9, num=100)\n",
    "                    },\n",
    "        \n",
    "                    {'depth': range(10, 60, 5),\n",
    "                          'learning_rate' : np.arange(.05, .1, .01),\n",
    "                          'iterations'    : range(10, 60, 5)\n",
    "                    },\n",
    "        \n",
    "                    {'strategy':['stratified', 'most_frequent', 'prior', 'uniform','constant'],\n",
    "                     'constant':[1]\n",
    "                    }\n",
    "                 ]\n",
    "    return parameters  "
   ]
  },
  {
   "cell_type": "code",
   "execution_count": null,
   "metadata": {},
   "outputs": [],
   "source": [
    "# Run all estemators \n",
    "for name, classifier, params in zip(get_Classifiers_Names(), get_Classifiers(), get_Classifiers_params()):\n",
    "    #Create piprline\n",
    "    imba_pipeline = make_pipeline(SMOTE(random_state=RANDOM_STATE), \n",
    "                                   (classifier)\n",
    "                                 )\n",
    "    #Modify params name to match pipeline format\n",
    "    new_params = {name.lower() + '__' + key: params[key] for key in params}   \n",
    "\n",
    "    # Run esimator\n",
    "    globals()[f\"{name}_upsampling\"] = train_fit_score(imba_pipeline,\n",
    "                         features_train,\n",
    "                         target_train,\n",
    "                         new_params,\n",
    "                         name + 'upsampling'\n",
    "                        )\n",
    "    display(name+ '_upsampling')\n"
   ]
  },
  {
   "cell_type": "markdown",
   "metadata": {},
   "source": [
    "####  Results"
   ]
  },
  {
   "cell_type": "code",
   "execution_count": null,
   "metadata": {},
   "outputs": [],
   "source": [
    "# concat all models results\n",
    "scores = pd.concat([RandomForest, DecisionTree,sgd,lg,KNNeighbors,gnb,catboost,\\\n",
    "                    RandomForestClassifier_upsampling,DecisionTreeClassifier_upsampling,SGDClassifier_upsampling,\\\n",
    "                    LogisticRegression_upsampling,KNeighborsClassifier_upsampling,GaussianNB_upsampling,\\\n",
    "                    CatBoostClassifier_upsampling,dummy_model,DummyClassifier ]).set_index('model')\n",
    "\n",
    "scores[['accuracy','best_score_']] = scores[['accuracy','roc_auc']].round(2)\n",
    "scores.drop(['best_estimator_'], axis=1,inplace=True)\n",
    "display(scores.sort_values(by='roc_auc',ascending=False))"
   ]
  },
  {
   "cell_type": "markdown",
   "metadata": {},
   "source": [
    "## Final model"
   ]
  },
  {
   "cell_type": "markdown",
   "metadata": {},
   "source": [
    "catboost using Class Weight Adjustment for balance the data is the best model with 'roc_auc' = 86% on the train set"
   ]
  },
  {
   "cell_type": "code",
   "execution_count": null,
   "metadata": {},
   "outputs": [],
   "source": [
    "catboost"
   ]
  },
  {
   "cell_type": "code",
   "execution_count": 99,
   "metadata": {},
   "outputs": [
    {
     "name": "stdout",
     "output_type": "stream",
     "text": [
      "0:\tlearn: 0.6217083\ttotal: 2.25s\tremaining: 31.5s\n",
      "1:\tlearn: 0.5618153\ttotal: 2.41s\tremaining: 15.7s\n",
      "2:\tlearn: 0.5195936\ttotal: 2.51s\tremaining: 10s\n",
      "3:\tlearn: 0.4907276\ttotal: 2.83s\tremaining: 7.77s\n",
      "4:\tlearn: 0.4680768\ttotal: 2.83s\tremaining: 5.67s\n",
      "5:\tlearn: 0.4476962\ttotal: 4.34s\tremaining: 6.51s\n",
      "6:\tlearn: 0.4306625\ttotal: 6.01s\tremaining: 6.87s\n",
      "7:\tlearn: 0.4101154\ttotal: 7.36s\tremaining: 6.44s\n",
      "8:\tlearn: 0.3886096\ttotal: 8.89s\tremaining: 5.93s\n",
      "9:\tlearn: 0.3740869\ttotal: 10.2s\tremaining: 5.09s\n",
      "10:\tlearn: 0.3595553\ttotal: 11.5s\tremaining: 4.18s\n",
      "11:\tlearn: 0.3495004\ttotal: 13s\tremaining: 3.24s\n",
      "12:\tlearn: 0.3401952\ttotal: 14.3s\tremaining: 2.2s\n",
      "13:\tlearn: 0.3315859\ttotal: 15.8s\tremaining: 1.13s\n",
      "14:\tlearn: 0.3239244\ttotal: 17.1s\tremaining: 0us\n",
      "roc_auc score on test set:0.86\n",
      "accuracy score on test set:0.82\n"
     ]
    }
   ],
   "source": [
    "catboost =  CatBoostClassifier(depth= 15,learning_rate = 0.1,iterations= 15)                                                                                   \n",
    "catboost.fit(features_train, target_train)         \n",
    "predict_test = catboost.predict(features_test)\n",
    "\n",
    "# roc_auc calc\n",
    "probabilities_test = catboost.predict_proba(features_test)\n",
    "probabilities_one_test = probabilities_test[:, 1]\n",
    "print(f'roc_auc score on test set:{roc_auc_score(target_test,probabilities_one_test).round(2)}')\n",
    "print(f'accuracy score on test set:{accuracy_score(target_test,predict_test).round(2)}')                                       "
   ]
  },
  {
   "cell_type": "markdown",
   "metadata": {},
   "source": [
    "## Conclusions\n",
    "1. We have tried 2 different ways to balance the data:\n",
    "    - Class Weight Adjustment.\n",
    "    - Upsampling\n",
    "2. catboost using Class Weight Adjustment for balance the data is the best model with 'roc_auc' = 86% and accuracy of 82%.\n",
    "3. sanity check gave us a score of 50%.\n",
    "4. All the models performed better than the sanity check.\n",
    "\n",
    "**recomendation to marketing team**\n",
    "\n",
    "1. The majority of former users had a 'Month-to-month' program.    \n",
    "  The distribution for existing users is:    \n",
    "     - 'Month-to-month' - 42.91%.   \n",
    "     - 'Tow year' - 31.83%.   \n",
    "     - 'One year' - 25.26%.         \n",
    "  \n",
    "  We can try to suggest different plan for users that discovered that they are planning to leave.\n",
    "2. Most of the users are leaving after 31/30 day's and also after 61 day's.     \n",
    "  We need to pay special attention for new users and make sure they are not leaving after 30-60 day's.          \n",
    "  This is the period of time to offer promotional codes and special plan options."
   ]
  },
  {
   "cell_type": "code",
   "execution_count": null,
   "metadata": {},
   "outputs": [],
   "source": []
  }
 ],
 "metadata": {
  "ExecuteTimeLog": [
   {
    "duration": 321,
    "start_time": "2021-12-14T10:12:09.392Z"
   },
   {
    "duration": -539,
    "start_time": "2021-12-14T10:12:10.256Z"
   },
   {
    "duration": -549,
    "start_time": "2021-12-14T10:12:10.268Z"
   },
   {
    "duration": -645,
    "start_time": "2021-12-14T10:12:10.366Z"
   },
   {
    "duration": -657,
    "start_time": "2021-12-14T10:12:10.380Z"
   },
   {
    "duration": -659,
    "start_time": "2021-12-14T10:12:10.384Z"
   },
   {
    "duration": -661,
    "start_time": "2021-12-14T10:12:10.388Z"
   },
   {
    "duration": -664,
    "start_time": "2021-12-14T10:12:10.393Z"
   },
   {
    "duration": -664,
    "start_time": "2021-12-14T10:12:10.396Z"
   },
   {
    "duration": -664,
    "start_time": "2021-12-14T10:12:10.398Z"
   },
   {
    "duration": -664,
    "start_time": "2021-12-14T10:12:10.400Z"
   },
   {
    "duration": -664,
    "start_time": "2021-12-14T10:12:10.402Z"
   },
   {
    "duration": -664,
    "start_time": "2021-12-14T10:12:10.404Z"
   },
   {
    "duration": -664,
    "start_time": "2021-12-14T10:12:10.406Z"
   },
   {
    "duration": -669,
    "start_time": "2021-12-14T10:12:10.413Z"
   },
   {
    "duration": -669,
    "start_time": "2021-12-14T10:12:10.415Z"
   },
   {
    "duration": -669,
    "start_time": "2021-12-14T10:12:10.417Z"
   },
   {
    "duration": -668,
    "start_time": "2021-12-14T10:12:10.418Z"
   },
   {
    "duration": -668,
    "start_time": "2021-12-14T10:12:10.420Z"
   },
   {
    "duration": -667,
    "start_time": "2021-12-14T10:12:10.421Z"
   },
   {
    "duration": -667,
    "start_time": "2021-12-14T10:12:10.423Z"
   },
   {
    "duration": -666,
    "start_time": "2021-12-14T10:12:10.424Z"
   },
   {
    "duration": -667,
    "start_time": "2021-12-14T10:12:10.426Z"
   },
   {
    "duration": -609,
    "start_time": "2021-12-14T10:12:10.427Z"
   },
   {
    "duration": -664,
    "start_time": "2021-12-14T10:12:10.484Z"
   },
   {
    "duration": -665,
    "start_time": "2021-12-14T10:12:10.487Z"
   },
   {
    "duration": -666,
    "start_time": "2021-12-14T10:12:10.490Z"
   },
   {
    "duration": -666,
    "start_time": "2021-12-14T10:12:10.494Z"
   },
   {
    "duration": 790,
    "start_time": "2021-12-14T10:12:31.409Z"
   },
   {
    "duration": 66,
    "start_time": "2021-12-14T10:12:32.202Z"
   },
   {
    "duration": 12,
    "start_time": "2021-12-14T10:12:32.272Z"
   },
   {
    "duration": 31,
    "start_time": "2021-12-14T10:12:32.288Z"
   },
   {
    "duration": 8,
    "start_time": "2021-12-14T10:12:32.322Z"
   },
   {
    "duration": 8,
    "start_time": "2021-12-14T10:12:32.333Z"
   },
   {
    "duration": 11,
    "start_time": "2021-12-14T10:12:32.344Z"
   },
   {
    "duration": 8,
    "start_time": "2021-12-14T10:12:32.357Z"
   },
   {
    "duration": 60,
    "start_time": "2021-12-14T10:12:32.370Z"
   },
   {
    "duration": 15,
    "start_time": "2021-12-14T10:12:32.434Z"
   },
   {
    "duration": 27,
    "start_time": "2021-12-14T10:12:32.451Z"
   },
   {
    "duration": 40,
    "start_time": "2021-12-14T10:12:32.481Z"
   },
   {
    "duration": 338,
    "start_time": "2021-12-14T10:12:32.524Z"
   },
   {
    "duration": -525,
    "start_time": "2021-12-14T10:12:33.390Z"
   },
   {
    "duration": -526,
    "start_time": "2021-12-14T10:12:33.392Z"
   },
   {
    "duration": -530,
    "start_time": "2021-12-14T10:12:33.397Z"
   },
   {
    "duration": -530,
    "start_time": "2021-12-14T10:12:33.399Z"
   },
   {
    "duration": -530,
    "start_time": "2021-12-14T10:12:33.400Z"
   },
   {
    "duration": -534,
    "start_time": "2021-12-14T10:12:33.405Z"
   },
   {
    "duration": -534,
    "start_time": "2021-12-14T10:12:33.407Z"
   },
   {
    "duration": -535,
    "start_time": "2021-12-14T10:12:33.409Z"
   },
   {
    "duration": -535,
    "start_time": "2021-12-14T10:12:33.411Z"
   },
   {
    "duration": -536,
    "start_time": "2021-12-14T10:12:33.413Z"
   },
   {
    "duration": -536,
    "start_time": "2021-12-14T10:12:33.414Z"
   },
   {
    "duration": -536,
    "start_time": "2021-12-14T10:12:33.416Z"
   },
   {
    "duration": -536,
    "start_time": "2021-12-14T10:12:33.417Z"
   },
   {
    "duration": -535,
    "start_time": "2021-12-14T10:12:33.418Z"
   },
   {
    "duration": -536,
    "start_time": "2021-12-14T10:12:33.420Z"
   },
   {
    "duration": -540,
    "start_time": "2021-12-14T10:12:33.426Z"
   },
   {
    "duration": -541,
    "start_time": "2021-12-14T10:12:33.428Z"
   },
   {
    "duration": -541,
    "start_time": "2021-12-14T10:12:33.430Z"
   },
   {
    "duration": -625,
    "start_time": "2021-12-14T10:12:33.515Z"
   },
   {
    "duration": -638,
    "start_time": "2021-12-14T10:12:33.530Z"
   },
   {
    "duration": -638,
    "start_time": "2021-12-14T10:12:33.532Z"
   },
   {
    "duration": -638,
    "start_time": "2021-12-14T10:12:33.534Z"
   },
   {
    "duration": -619,
    "start_time": "2021-12-14T10:12:33.535Z"
   },
   {
    "duration": -618,
    "start_time": "2021-12-14T10:12:33.537Z"
   },
   {
    "duration": -617,
    "start_time": "2021-12-14T10:12:33.538Z"
   },
   {
    "duration": -617,
    "start_time": "2021-12-14T10:12:33.540Z"
   },
   {
    "duration": -616,
    "start_time": "2021-12-14T10:12:33.541Z"
   },
   {
    "duration": -616,
    "start_time": "2021-12-14T10:12:33.543Z"
   },
   {
    "duration": 83,
    "start_time": "2021-12-14T10:48:34.769Z"
   },
   {
    "duration": 19,
    "start_time": "2021-12-14T10:48:40.869Z"
   },
   {
    "duration": 21,
    "start_time": "2021-12-14T10:49:31.885Z"
   },
   {
    "duration": 19,
    "start_time": "2021-12-14T10:49:57.444Z"
   },
   {
    "duration": 67,
    "start_time": "2021-12-14T10:52:21.944Z"
   },
   {
    "duration": 66,
    "start_time": "2021-12-14T10:52:23.514Z"
   },
   {
    "duration": 18,
    "start_time": "2021-12-14T11:15:44.136Z"
   },
   {
    "duration": 8,
    "start_time": "2021-12-14T11:15:48.998Z"
   },
   {
    "duration": 12,
    "start_time": "2021-12-14T11:15:52.809Z"
   },
   {
    "duration": 14,
    "start_time": "2021-12-14T11:17:55.282Z"
   },
   {
    "duration": 19,
    "start_time": "2021-12-14T11:17:59.966Z"
   },
   {
    "duration": 17,
    "start_time": "2021-12-14T11:18:15.436Z"
   },
   {
    "duration": 19,
    "start_time": "2021-12-14T11:18:17.778Z"
   },
   {
    "duration": 11,
    "start_time": "2021-12-14T11:34:55.136Z"
   },
   {
    "duration": 10,
    "start_time": "2021-12-14T11:42:22.813Z"
   },
   {
    "duration": 12,
    "start_time": "2021-12-14T11:42:27.951Z"
   },
   {
    "duration": 7,
    "start_time": "2021-12-14T11:47:31.921Z"
   },
   {
    "duration": 8,
    "start_time": "2021-12-14T11:47:53.922Z"
   },
   {
    "duration": 4,
    "start_time": "2021-12-14T11:47:58.442Z"
   },
   {
    "duration": 20,
    "start_time": "2021-12-14T11:48:03.287Z"
   },
   {
    "duration": 11,
    "start_time": "2021-12-14T11:48:15.381Z"
   },
   {
    "duration": 284,
    "start_time": "2021-12-14T11:58:43.534Z"
   },
   {
    "duration": 11,
    "start_time": "2021-12-14T11:58:51.619Z"
   },
   {
    "duration": 11,
    "start_time": "2021-12-14T11:59:11.828Z"
   },
   {
    "duration": 10,
    "start_time": "2021-12-14T12:02:50.301Z"
   },
   {
    "duration": 53,
    "start_time": "2021-12-14T12:03:02.141Z"
   },
   {
    "duration": 11,
    "start_time": "2021-12-14T12:03:04.914Z"
   },
   {
    "duration": 43,
    "start_time": "2021-12-14T12:03:39.687Z"
   },
   {
    "duration": 11,
    "start_time": "2021-12-14T12:03:42.392Z"
   },
   {
    "duration": 10,
    "start_time": "2021-12-14T12:04:00.240Z"
   },
   {
    "duration": 47,
    "start_time": "2021-12-14T12:04:10.662Z"
   },
   {
    "duration": 9,
    "start_time": "2021-12-14T12:04:13.016Z"
   },
   {
    "duration": 37,
    "start_time": "2021-12-14T12:04:30.570Z"
   },
   {
    "duration": 8,
    "start_time": "2021-12-14T12:04:33.730Z"
   },
   {
    "duration": 8,
    "start_time": "2021-12-14T12:04:48.927Z"
   },
   {
    "duration": 17,
    "start_time": "2021-12-14T12:18:48.234Z"
   },
   {
    "duration": 7,
    "start_time": "2021-12-14T12:18:57.974Z"
   },
   {
    "duration": 521,
    "start_time": "2021-12-14T12:18:59.141Z"
   },
   {
    "duration": 3,
    "start_time": "2021-12-14T12:19:53.557Z"
   },
   {
    "duration": 58,
    "start_time": "2021-12-14T12:19:53.566Z"
   },
   {
    "duration": 10,
    "start_time": "2021-12-14T12:19:53.627Z"
   },
   {
    "duration": 22,
    "start_time": "2021-12-14T12:19:53.640Z"
   },
   {
    "duration": 16,
    "start_time": "2021-12-14T12:19:53.665Z"
   },
   {
    "duration": 10,
    "start_time": "2021-12-14T12:19:53.683Z"
   },
   {
    "duration": 22,
    "start_time": "2021-12-14T12:19:53.696Z"
   },
   {
    "duration": 11,
    "start_time": "2021-12-14T12:19:53.721Z"
   },
   {
    "duration": 12,
    "start_time": "2021-12-14T12:19:53.734Z"
   },
   {
    "duration": 23,
    "start_time": "2021-12-14T12:19:53.749Z"
   },
   {
    "duration": 12,
    "start_time": "2021-12-14T12:19:53.774Z"
   },
   {
    "duration": 19,
    "start_time": "2021-12-14T12:19:53.824Z"
   },
   {
    "duration": 20,
    "start_time": "2021-12-14T12:19:53.845Z"
   },
   {
    "duration": 20,
    "start_time": "2021-12-14T12:19:53.869Z"
   },
   {
    "duration": 36,
    "start_time": "2021-12-14T12:19:53.892Z"
   },
   {
    "duration": 16,
    "start_time": "2021-12-14T12:19:53.931Z"
   },
   {
    "duration": 5,
    "start_time": "2021-12-14T12:19:53.957Z"
   },
   {
    "duration": 8,
    "start_time": "2021-12-14T12:19:53.966Z"
   },
   {
    "duration": 45,
    "start_time": "2021-12-14T12:19:53.977Z"
   },
   {
    "duration": 23,
    "start_time": "2021-12-14T12:20:16.669Z"
   },
   {
    "duration": 6,
    "start_time": "2021-12-14T12:20:29.447Z"
   },
   {
    "duration": 22,
    "start_time": "2021-12-14T12:20:30.912Z"
   },
   {
    "duration": 6,
    "start_time": "2021-12-14T12:20:54.397Z"
   },
   {
    "duration": 1076,
    "start_time": "2021-12-14T12:20:55.234Z"
   },
   {
    "duration": 310,
    "start_time": "2021-12-14T12:21:04.862Z"
   },
   {
    "duration": 3,
    "start_time": "2021-12-14T12:21:17.418Z"
   },
   {
    "duration": 58,
    "start_time": "2021-12-14T12:21:17.424Z"
   },
   {
    "duration": 12,
    "start_time": "2021-12-14T12:21:17.485Z"
   },
   {
    "duration": 20,
    "start_time": "2021-12-14T12:21:17.499Z"
   },
   {
    "duration": 8,
    "start_time": "2021-12-14T12:21:17.521Z"
   },
   {
    "duration": 9,
    "start_time": "2021-12-14T12:21:17.531Z"
   },
   {
    "duration": 7,
    "start_time": "2021-12-14T12:21:17.542Z"
   },
   {
    "duration": 6,
    "start_time": "2021-12-14T12:21:17.551Z"
   },
   {
    "duration": 59,
    "start_time": "2021-12-14T12:21:17.561Z"
   },
   {
    "duration": 16,
    "start_time": "2021-12-14T12:21:17.623Z"
   },
   {
    "duration": 15,
    "start_time": "2021-12-14T12:21:17.642Z"
   },
   {
    "duration": 19,
    "start_time": "2021-12-14T12:21:17.659Z"
   },
   {
    "duration": 7,
    "start_time": "2021-12-14T12:21:17.718Z"
   },
   {
    "duration": 29,
    "start_time": "2021-12-14T12:21:17.728Z"
   },
   {
    "duration": 19,
    "start_time": "2021-12-14T12:21:17.759Z"
   },
   {
    "duration": 44,
    "start_time": "2021-12-14T12:21:17.781Z"
   },
   {
    "duration": 7,
    "start_time": "2021-12-14T12:21:17.828Z"
   },
   {
    "duration": 9,
    "start_time": "2021-12-14T12:21:17.837Z"
   },
   {
    "duration": 14,
    "start_time": "2021-12-14T12:21:17.850Z"
   },
   {
    "duration": 20,
    "start_time": "2021-12-14T12:21:27.775Z"
   },
   {
    "duration": 11,
    "start_time": "2021-12-14T12:22:33.744Z"
   },
   {
    "duration": 42,
    "start_time": "2021-12-14T12:23:30.850Z"
   },
   {
    "duration": 10,
    "start_time": "2021-12-14T12:23:34.278Z"
   },
   {
    "duration": 9,
    "start_time": "2021-12-14T12:23:37.667Z"
   },
   {
    "duration": 6,
    "start_time": "2021-12-14T12:23:39.618Z"
   },
   {
    "duration": 6,
    "start_time": "2021-12-14T12:23:41.556Z"
   },
   {
    "duration": 7,
    "start_time": "2021-12-14T12:23:43.891Z"
   },
   {
    "duration": 6,
    "start_time": "2021-12-14T12:23:45.770Z"
   },
   {
    "duration": 10,
    "start_time": "2021-12-14T12:23:49.754Z"
   },
   {
    "duration": 15,
    "start_time": "2021-12-14T12:23:55.250Z"
   },
   {
    "duration": 7,
    "start_time": "2021-12-14T12:23:57.755Z"
   },
   {
    "duration": 46,
    "start_time": "2021-12-14T13:35:41.436Z"
   },
   {
    "duration": 18,
    "start_time": "2021-12-14T13:35:46.541Z"
   },
   {
    "duration": 47,
    "start_time": "2021-12-14T13:35:49.662Z"
   },
   {
    "duration": 13,
    "start_time": "2021-12-14T13:35:53.053Z"
   },
   {
    "duration": 46,
    "start_time": "2021-12-14T13:35:56.212Z"
   },
   {
    "duration": 19,
    "start_time": "2021-12-14T13:36:01.556Z"
   },
   {
    "duration": 46,
    "start_time": "2021-12-14T13:36:04.464Z"
   },
   {
    "duration": 21,
    "start_time": "2021-12-14T13:36:17.513Z"
   },
   {
    "duration": 18,
    "start_time": "2021-12-14T13:36:19.933Z"
   },
   {
    "duration": 14,
    "start_time": "2021-12-14T13:36:21.160Z"
   },
   {
    "duration": 9,
    "start_time": "2021-12-14T13:36:22.792Z"
   },
   {
    "duration": 17,
    "start_time": "2021-12-14T13:36:23.885Z"
   },
   {
    "duration": 8,
    "start_time": "2021-12-14T13:36:47.715Z"
   },
   {
    "duration": 18,
    "start_time": "2021-12-14T13:36:49.946Z"
   },
   {
    "duration": 11,
    "start_time": "2021-12-14T13:37:16.661Z"
   },
   {
    "duration": 10,
    "start_time": "2021-12-14T13:37:20.408Z"
   },
   {
    "duration": 11,
    "start_time": "2021-12-14T13:37:23.856Z"
   },
   {
    "duration": 45,
    "start_time": "2021-12-14T13:37:30.841Z"
   },
   {
    "duration": 10,
    "start_time": "2021-12-14T13:37:37.446Z"
   },
   {
    "duration": 377,
    "start_time": "2021-12-14T19:36:02.699Z"
   },
   {
    "duration": 636,
    "start_time": "2021-12-14T19:36:07.412Z"
   },
   {
    "duration": 265,
    "start_time": "2021-12-14T19:36:08.050Z"
   },
   {
    "duration": 8,
    "start_time": "2021-12-14T19:36:08.317Z"
   },
   {
    "duration": 8,
    "start_time": "2021-12-14T19:36:08.328Z"
   },
   {
    "duration": 7,
    "start_time": "2021-12-14T19:36:08.337Z"
   },
   {
    "duration": 9,
    "start_time": "2021-12-14T19:36:08.346Z"
   },
   {
    "duration": 6,
    "start_time": "2021-12-14T19:36:08.357Z"
   },
   {
    "duration": 4,
    "start_time": "2021-12-14T19:36:08.367Z"
   },
   {
    "duration": 5,
    "start_time": "2021-12-14T19:36:08.408Z"
   },
   {
    "duration": 14,
    "start_time": "2021-12-14T19:36:08.415Z"
   },
   {
    "duration": 12,
    "start_time": "2021-12-14T19:36:08.431Z"
   },
   {
    "duration": 14,
    "start_time": "2021-12-14T19:36:08.445Z"
   },
   {
    "duration": 46,
    "start_time": "2021-12-14T19:36:08.461Z"
   },
   {
    "duration": 14,
    "start_time": "2021-12-14T19:36:08.508Z"
   },
   {
    "duration": 10,
    "start_time": "2021-12-14T19:36:08.523Z"
   },
   {
    "duration": 4,
    "start_time": "2021-12-14T19:36:08.535Z"
   },
   {
    "duration": 367,
    "start_time": "2021-12-14T19:36:08.541Z"
   },
   {
    "duration": -7340,
    "start_time": "2021-12-14T19:36:16.251Z"
   },
   {
    "duration": -7346,
    "start_time": "2021-12-14T19:36:16.258Z"
   },
   {
    "duration": -7349,
    "start_time": "2021-12-14T19:36:16.262Z"
   },
   {
    "duration": -7353,
    "start_time": "2021-12-14T19:36:16.267Z"
   },
   {
    "duration": -7361,
    "start_time": "2021-12-14T19:36:16.276Z"
   },
   {
    "duration": -7363,
    "start_time": "2021-12-14T19:36:16.279Z"
   },
   {
    "duration": -7511,
    "start_time": "2021-12-14T19:36:16.428Z"
   },
   {
    "duration": -7515,
    "start_time": "2021-12-14T19:36:16.433Z"
   },
   {
    "duration": -7516,
    "start_time": "2021-12-14T19:36:16.435Z"
   },
   {
    "duration": -7528,
    "start_time": "2021-12-14T19:36:16.448Z"
   },
   {
    "duration": -7529,
    "start_time": "2021-12-14T19:36:16.450Z"
   },
   {
    "duration": -7530,
    "start_time": "2021-12-14T19:36:16.452Z"
   },
   {
    "duration": -7531,
    "start_time": "2021-12-14T19:36:16.454Z"
   },
   {
    "duration": -7645,
    "start_time": "2021-12-14T19:36:16.569Z"
   },
   {
    "duration": -7649,
    "start_time": "2021-12-14T19:36:16.574Z"
   },
   {
    "duration": -7649,
    "start_time": "2021-12-14T19:36:16.576Z"
   },
   {
    "duration": -7667,
    "start_time": "2021-12-14T19:36:16.594Z"
   },
   {
    "duration": -7669,
    "start_time": "2021-12-14T19:36:16.597Z"
   },
   {
    "duration": -7694,
    "start_time": "2021-12-14T19:36:16.623Z"
   },
   {
    "duration": -7781,
    "start_time": "2021-12-14T19:36:16.711Z"
   },
   {
    "duration": -7785,
    "start_time": "2021-12-14T19:36:16.716Z"
   },
   {
    "duration": -7786,
    "start_time": "2021-12-14T19:36:16.718Z"
   },
   {
    "duration": -8295,
    "start_time": "2021-12-14T19:36:17.228Z"
   },
   {
    "duration": -8323,
    "start_time": "2021-12-14T19:36:17.257Z"
   },
   {
    "duration": -8326,
    "start_time": "2021-12-14T19:36:17.262Z"
   },
   {
    "duration": -8329,
    "start_time": "2021-12-14T19:36:17.266Z"
   },
   {
    "duration": -8331,
    "start_time": "2021-12-14T19:36:17.269Z"
   },
   {
    "duration": -8334,
    "start_time": "2021-12-14T19:36:17.273Z"
   },
   {
    "duration": -8620,
    "start_time": "2021-12-14T19:36:17.560Z"
   },
   {
    "duration": -8627,
    "start_time": "2021-12-14T19:36:17.568Z"
   },
   {
    "duration": -8630,
    "start_time": "2021-12-14T19:36:17.571Z"
   },
   {
    "duration": -8631,
    "start_time": "2021-12-14T19:36:17.573Z"
   },
   {
    "duration": -8632,
    "start_time": "2021-12-14T19:36:17.575Z"
   },
   {
    "duration": -8633,
    "start_time": "2021-12-14T19:36:17.577Z"
   },
   {
    "duration": -8758,
    "start_time": "2021-12-14T19:36:17.703Z"
   },
   {
    "duration": -8779,
    "start_time": "2021-12-14T19:36:17.725Z"
   },
   {
    "duration": 7,
    "start_time": "2021-12-14T19:42:24.902Z"
   },
   {
    "duration": 361,
    "start_time": "2021-12-14T19:42:31.536Z"
   },
   {
    "duration": -1533,
    "start_time": "2021-12-14T19:42:33.432Z"
   },
   {
    "duration": -1543,
    "start_time": "2021-12-14T19:42:33.444Z"
   },
   {
    "duration": -1544,
    "start_time": "2021-12-14T19:42:33.446Z"
   },
   {
    "duration": -1668,
    "start_time": "2021-12-14T19:42:33.571Z"
   },
   {
    "duration": -1679,
    "start_time": "2021-12-14T19:42:33.583Z"
   },
   {
    "duration": -1684,
    "start_time": "2021-12-14T19:42:33.589Z"
   },
   {
    "duration": -1695,
    "start_time": "2021-12-14T19:42:33.601Z"
   },
   {
    "duration": -1699,
    "start_time": "2021-12-14T19:42:33.606Z"
   },
   {
    "duration": -1699,
    "start_time": "2021-12-14T19:42:33.608Z"
   },
   {
    "duration": -1700,
    "start_time": "2021-12-14T19:42:33.610Z"
   },
   {
    "duration": -1803,
    "start_time": "2021-12-14T19:42:33.714Z"
   },
   {
    "duration": -1803,
    "start_time": "2021-12-14T19:42:33.715Z"
   },
   {
    "duration": -1821,
    "start_time": "2021-12-14T19:42:33.735Z"
   },
   {
    "duration": -1826,
    "start_time": "2021-12-14T19:42:33.741Z"
   },
   {
    "duration": -1827,
    "start_time": "2021-12-14T19:42:33.743Z"
   },
   {
    "duration": -1828,
    "start_time": "2021-12-14T19:42:33.745Z"
   },
   {
    "duration": -1976,
    "start_time": "2021-12-14T19:42:33.895Z"
   },
   {
    "duration": -1979,
    "start_time": "2021-12-14T19:42:33.899Z"
   },
   {
    "duration": -1983,
    "start_time": "2021-12-14T19:42:33.904Z"
   },
   {
    "duration": -1993,
    "start_time": "2021-12-14T19:42:33.915Z"
   },
   {
    "duration": -1996,
    "start_time": "2021-12-14T19:42:33.919Z"
   },
   {
    "duration": -2004,
    "start_time": "2021-12-14T19:42:33.929Z"
   },
   {
    "duration": -2074,
    "start_time": "2021-12-14T19:42:34.000Z"
   },
   {
    "duration": 593,
    "start_time": "2021-12-14T19:42:31.965Z"
   },
   {
    "duration": -2404,
    "start_time": "2021-12-14T19:42:34.965Z"
   },
   {
    "duration": -2419,
    "start_time": "2021-12-14T19:42:34.981Z"
   },
   {
    "duration": -3300,
    "start_time": "2021-12-14T19:42:35.863Z"
   },
   {
    "duration": -3306,
    "start_time": "2021-12-14T19:42:35.870Z"
   },
   {
    "duration": -3307,
    "start_time": "2021-12-14T19:42:35.873Z"
   },
   {
    "duration": -3480,
    "start_time": "2021-12-14T19:42:36.047Z"
   },
   {
    "duration": -3481,
    "start_time": "2021-12-14T19:42:36.049Z"
   },
   {
    "duration": -3482,
    "start_time": "2021-12-14T19:42:36.051Z"
   },
   {
    "duration": -3484,
    "start_time": "2021-12-14T19:42:36.054Z"
   },
   {
    "duration": -3486,
    "start_time": "2021-12-14T19:42:36.057Z"
   },
   {
    "duration": -3486,
    "start_time": "2021-12-14T19:42:36.059Z"
   },
   {
    "duration": -3615,
    "start_time": "2021-12-14T19:42:36.189Z"
   },
   {
    "duration": 9,
    "start_time": "2021-12-14T19:43:18.059Z"
   },
   {
    "duration": 13,
    "start_time": "2021-12-14T19:43:32.300Z"
   },
   {
    "duration": 2,
    "start_time": "2021-12-14T19:44:11.417Z"
   },
   {
    "duration": 51,
    "start_time": "2021-12-14T19:44:11.421Z"
   },
   {
    "duration": 8,
    "start_time": "2021-12-14T19:44:11.474Z"
   },
   {
    "duration": 8,
    "start_time": "2021-12-14T19:44:11.484Z"
   },
   {
    "duration": 5,
    "start_time": "2021-12-14T19:44:11.494Z"
   },
   {
    "duration": 10,
    "start_time": "2021-12-14T19:44:11.501Z"
   },
   {
    "duration": 6,
    "start_time": "2021-12-14T19:44:11.514Z"
   },
   {
    "duration": 7,
    "start_time": "2021-12-14T19:44:11.521Z"
   },
   {
    "duration": 11,
    "start_time": "2021-12-14T19:44:11.530Z"
   },
   {
    "duration": 11,
    "start_time": "2021-12-14T19:44:11.542Z"
   },
   {
    "duration": 9,
    "start_time": "2021-12-14T19:44:11.555Z"
   },
   {
    "duration": 40,
    "start_time": "2021-12-14T19:44:11.567Z"
   },
   {
    "duration": 5,
    "start_time": "2021-12-14T19:44:11.610Z"
   },
   {
    "duration": 15,
    "start_time": "2021-12-14T19:44:11.617Z"
   },
   {
    "duration": 9,
    "start_time": "2021-12-14T19:44:11.634Z"
   },
   {
    "duration": 13,
    "start_time": "2021-12-14T19:44:18.230Z"
   },
   {
    "duration": 6,
    "start_time": "2021-12-14T19:44:33.260Z"
   },
   {
    "duration": 10,
    "start_time": "2021-12-14T19:44:43.348Z"
   },
   {
    "duration": 7,
    "start_time": "2021-12-14T19:44:48.901Z"
   },
   {
    "duration": 2,
    "start_time": "2021-12-14T19:45:32.339Z"
   },
   {
    "duration": 49,
    "start_time": "2021-12-14T19:45:32.343Z"
   },
   {
    "duration": 7,
    "start_time": "2021-12-14T19:45:32.394Z"
   },
   {
    "duration": 7,
    "start_time": "2021-12-14T19:45:32.481Z"
   },
   {
    "duration": 5,
    "start_time": "2021-12-14T19:45:32.490Z"
   },
   {
    "duration": 6,
    "start_time": "2021-12-14T19:45:32.497Z"
   },
   {
    "duration": 5,
    "start_time": "2021-12-14T19:45:32.504Z"
   },
   {
    "duration": 5,
    "start_time": "2021-12-14T19:45:32.510Z"
   },
   {
    "duration": 4,
    "start_time": "2021-12-14T19:45:32.632Z"
   },
   {
    "duration": 11,
    "start_time": "2021-12-14T19:45:32.638Z"
   },
   {
    "duration": 8,
    "start_time": "2021-12-14T19:45:32.651Z"
   },
   {
    "duration": 12,
    "start_time": "2021-12-14T19:45:32.661Z"
   },
   {
    "duration": 10,
    "start_time": "2021-12-14T19:45:32.675Z"
   },
   {
    "duration": 13,
    "start_time": "2021-12-14T19:45:32.687Z"
   },
   {
    "duration": 9,
    "start_time": "2021-12-14T19:45:32.702Z"
   },
   {
    "duration": 5,
    "start_time": "2021-12-14T19:45:32.774Z"
   },
   {
    "duration": 9,
    "start_time": "2021-12-14T19:45:32.781Z"
   },
   {
    "duration": 9,
    "start_time": "2021-12-14T19:45:39.675Z"
   },
   {
    "duration": 15,
    "start_time": "2021-12-14T19:45:52.560Z"
   },
   {
    "duration": 42,
    "start_time": "2021-12-14T19:47:06.304Z"
   },
   {
    "duration": 6,
    "start_time": "2021-12-14T19:47:06.348Z"
   },
   {
    "duration": 9,
    "start_time": "2021-12-14T19:47:06.356Z"
   },
   {
    "duration": 5,
    "start_time": "2021-12-14T19:47:06.367Z"
   },
   {
    "duration": 5,
    "start_time": "2021-12-14T19:47:06.374Z"
   },
   {
    "duration": 5,
    "start_time": "2021-12-14T19:47:06.381Z"
   },
   {
    "duration": 4,
    "start_time": "2021-12-14T19:47:06.388Z"
   },
   {
    "duration": 7,
    "start_time": "2021-12-14T19:47:06.406Z"
   },
   {
    "duration": 10,
    "start_time": "2021-12-14T19:47:06.415Z"
   },
   {
    "duration": 9,
    "start_time": "2021-12-14T19:47:06.426Z"
   },
   {
    "duration": 8,
    "start_time": "2021-12-14T19:47:06.443Z"
   },
   {
    "duration": 10,
    "start_time": "2021-12-14T19:47:06.452Z"
   },
   {
    "duration": 95,
    "start_time": "2021-12-14T19:47:06.464Z"
   },
   {
    "duration": 9,
    "start_time": "2021-12-14T19:47:06.560Z"
   },
   {
    "duration": 9,
    "start_time": "2021-12-14T19:47:06.571Z"
   },
   {
    "duration": 6,
    "start_time": "2021-12-14T19:47:06.582Z"
   },
   {
    "duration": 5,
    "start_time": "2021-12-14T19:47:06.590Z"
   },
   {
    "duration": 7,
    "start_time": "2021-12-14T19:47:06.598Z"
   },
   {
    "duration": 6,
    "start_time": "2021-12-14T19:47:06.607Z"
   },
   {
    "duration": 7,
    "start_time": "2021-12-14T19:47:06.615Z"
   },
   {
    "duration": 8,
    "start_time": "2021-12-14T19:47:06.624Z"
   },
   {
    "duration": 6,
    "start_time": "2021-12-14T19:47:06.634Z"
   },
   {
    "duration": 16,
    "start_time": "2021-12-14T19:47:06.642Z"
   },
   {
    "duration": 7,
    "start_time": "2021-12-14T19:47:06.660Z"
   },
   {
    "duration": 41,
    "start_time": "2021-12-14T19:47:06.670Z"
   },
   {
    "duration": 11,
    "start_time": "2021-12-14T19:47:06.714Z"
   },
   {
    "duration": 27,
    "start_time": "2021-12-14T19:47:06.728Z"
   },
   {
    "duration": 5,
    "start_time": "2021-12-14T19:47:06.757Z"
   },
   {
    "duration": 8,
    "start_time": "2021-12-14T19:47:06.764Z"
   },
   {
    "duration": 5,
    "start_time": "2021-12-14T19:47:06.773Z"
   },
   {
    "duration": 31,
    "start_time": "2021-12-14T19:47:06.780Z"
   },
   {
    "duration": 2,
    "start_time": "2021-12-14T19:47:06.813Z"
   },
   {
    "duration": 8,
    "start_time": "2021-12-14T19:47:06.817Z"
   },
   {
    "duration": 4,
    "start_time": "2021-12-14T19:47:06.827Z"
   },
   {
    "duration": 9,
    "start_time": "2021-12-14T19:47:06.833Z"
   },
   {
    "duration": 579,
    "start_time": "2021-12-15T07:15:49.529Z"
   },
   {
    "duration": 796,
    "start_time": "2021-12-15T07:15:55.196Z"
   },
   {
    "duration": 112,
    "start_time": "2021-12-15T07:15:55.995Z"
   },
   {
    "duration": 29,
    "start_time": "2021-12-15T07:15:56.111Z"
   },
   {
    "duration": 12,
    "start_time": "2021-12-15T07:15:56.143Z"
   },
   {
    "duration": 11,
    "start_time": "2021-12-15T07:15:56.159Z"
   },
   {
    "duration": 11,
    "start_time": "2021-12-15T07:15:56.173Z"
   },
   {
    "duration": 14,
    "start_time": "2021-12-15T07:15:56.186Z"
   },
   {
    "duration": 5,
    "start_time": "2021-12-15T07:15:56.204Z"
   },
   {
    "duration": 49,
    "start_time": "2021-12-15T07:15:56.212Z"
   },
   {
    "duration": 6,
    "start_time": "2021-12-15T07:15:56.264Z"
   },
   {
    "duration": 19,
    "start_time": "2021-12-15T07:15:56.272Z"
   },
   {
    "duration": 15,
    "start_time": "2021-12-15T07:15:56.293Z"
   },
   {
    "duration": 54,
    "start_time": "2021-12-15T07:15:56.311Z"
   },
   {
    "duration": 10,
    "start_time": "2021-12-15T07:15:56.367Z"
   },
   {
    "duration": 29,
    "start_time": "2021-12-15T07:15:56.379Z"
   },
   {
    "duration": 12,
    "start_time": "2021-12-15T07:15:56.411Z"
   },
   {
    "duration": 6,
    "start_time": "2021-12-15T07:15:56.426Z"
   },
   {
    "duration": 34,
    "start_time": "2021-12-15T07:15:56.435Z"
   },
   {
    "duration": 12,
    "start_time": "2021-12-15T07:15:56.472Z"
   },
   {
    "duration": 18,
    "start_time": "2021-12-15T07:15:56.487Z"
   },
   {
    "duration": 53,
    "start_time": "2021-12-15T07:15:56.507Z"
   },
   {
    "duration": 10,
    "start_time": "2021-12-15T07:15:56.563Z"
   },
   {
    "duration": 11,
    "start_time": "2021-12-15T07:15:56.579Z"
   },
   {
    "duration": 6,
    "start_time": "2021-12-15T07:15:56.594Z"
   },
   {
    "duration": 11,
    "start_time": "2021-12-15T07:15:56.603Z"
   },
   {
    "duration": 45,
    "start_time": "2021-12-15T07:15:56.616Z"
   },
   {
    "duration": 8,
    "start_time": "2021-12-15T07:15:56.664Z"
   },
   {
    "duration": 11,
    "start_time": "2021-12-15T07:15:56.675Z"
   },
   {
    "duration": 8,
    "start_time": "2021-12-15T07:15:56.689Z"
   },
   {
    "duration": 5,
    "start_time": "2021-12-15T07:15:56.700Z"
   },
   {
    "duration": 61,
    "start_time": "2021-12-15T07:15:56.708Z"
   },
   {
    "duration": 14,
    "start_time": "2021-12-15T07:15:56.772Z"
   },
   {
    "duration": 17,
    "start_time": "2021-12-15T07:15:56.788Z"
   },
   {
    "duration": 10,
    "start_time": "2021-12-15T07:15:56.808Z"
   },
   {
    "duration": 9,
    "start_time": "2021-12-15T07:15:56.859Z"
   },
   {
    "duration": 11,
    "start_time": "2021-12-15T07:15:56.870Z"
   },
   {
    "duration": 7,
    "start_time": "2021-12-15T07:15:56.884Z"
   },
   {
    "duration": 7,
    "start_time": "2021-12-15T07:15:56.893Z"
   },
   {
    "duration": 9,
    "start_time": "2021-12-15T07:15:56.902Z"
   },
   {
    "duration": 48,
    "start_time": "2021-12-15T07:15:56.913Z"
   },
   {
    "duration": 9,
    "start_time": "2021-12-15T07:15:56.964Z"
   },
   {
    "duration": 4,
    "start_time": "2021-12-15T07:15:56.975Z"
   },
   {
    "duration": 19,
    "start_time": "2021-12-15T07:15:56.981Z"
   },
   {
    "duration": 9,
    "start_time": "2021-12-15T07:15:57.002Z"
   },
   {
    "duration": 53,
    "start_time": "2021-12-15T07:15:57.014Z"
   },
   {
    "duration": 15,
    "start_time": "2021-12-15T07:15:57.069Z"
   },
   {
    "duration": 13,
    "start_time": "2021-12-15T07:15:57.086Z"
   },
   {
    "duration": 8,
    "start_time": "2021-12-15T07:15:57.101Z"
   },
   {
    "duration": 49,
    "start_time": "2021-12-15T07:15:57.112Z"
   },
   {
    "duration": 6,
    "start_time": "2021-12-15T07:15:57.163Z"
   },
   {
    "duration": 10,
    "start_time": "2021-12-15T07:15:57.171Z"
   },
   {
    "duration": 7,
    "start_time": "2021-12-15T07:15:57.184Z"
   },
   {
    "duration": 6,
    "start_time": "2021-12-15T07:15:57.194Z"
   },
   {
    "duration": 61,
    "start_time": "2021-12-15T07:15:57.203Z"
   },
   {
    "duration": 4,
    "start_time": "2021-12-15T07:15:57.267Z"
   },
   {
    "duration": 43,
    "start_time": "2021-12-15T07:17:08.265Z"
   },
   {
    "duration": 57,
    "start_time": "2021-12-15T07:17:12.836Z"
   },
   {
    "duration": 59,
    "start_time": "2021-12-15T07:18:54.767Z"
   },
   {
    "duration": 77,
    "start_time": "2021-12-15T07:18:55.992Z"
   },
   {
    "duration": 40,
    "start_time": "2021-12-15T07:19:10.367Z"
   },
   {
    "duration": 15,
    "start_time": "2021-12-15T07:19:20.796Z"
   },
   {
    "duration": 11,
    "start_time": "2021-12-15T07:20:47.499Z"
   },
   {
    "duration": 31,
    "start_time": "2021-12-15T07:39:57.896Z"
   },
   {
    "duration": 26,
    "start_time": "2021-12-15T07:40:10.750Z"
   },
   {
    "duration": 57,
    "start_time": "2021-12-15T07:51:42.610Z"
   },
   {
    "duration": 24,
    "start_time": "2021-12-15T07:52:29.655Z"
   },
   {
    "duration": 25,
    "start_time": "2021-12-15T07:52:55.624Z"
   },
   {
    "duration": 24,
    "start_time": "2021-12-15T07:53:21.232Z"
   },
   {
    "duration": 9,
    "start_time": "2021-12-15T07:59:35.315Z"
   },
   {
    "duration": 11,
    "start_time": "2021-12-15T08:00:48.322Z"
   },
   {
    "duration": 8,
    "start_time": "2021-12-15T08:01:52.315Z"
   },
   {
    "duration": 10,
    "start_time": "2021-12-15T08:01:59.365Z"
   },
   {
    "duration": 11,
    "start_time": "2021-12-15T09:51:55.819Z"
   },
   {
    "duration": 107,
    "start_time": "2021-12-15T09:52:12.221Z"
   },
   {
    "duration": 12,
    "start_time": "2021-12-15T09:52:19.452Z"
   },
   {
    "duration": 9,
    "start_time": "2021-12-15T09:52:40.004Z"
   },
   {
    "duration": 3,
    "start_time": "2021-12-15T10:10:54.513Z"
   },
   {
    "duration": 108,
    "start_time": "2021-12-15T10:10:54.521Z"
   },
   {
    "duration": 17,
    "start_time": "2021-12-15T10:10:54.632Z"
   },
   {
    "duration": 14,
    "start_time": "2021-12-15T10:10:54.652Z"
   },
   {
    "duration": 9,
    "start_time": "2021-12-15T10:10:54.668Z"
   },
   {
    "duration": 8,
    "start_time": "2021-12-15T10:10:54.680Z"
   },
   {
    "duration": 7,
    "start_time": "2021-12-15T10:10:54.691Z"
   },
   {
    "duration": 5,
    "start_time": "2021-12-15T10:10:54.701Z"
   },
   {
    "duration": 53,
    "start_time": "2021-12-15T10:10:54.708Z"
   },
   {
    "duration": 5,
    "start_time": "2021-12-15T10:10:54.763Z"
   },
   {
    "duration": 16,
    "start_time": "2021-12-15T10:10:54.770Z"
   },
   {
    "duration": 12,
    "start_time": "2021-12-15T10:10:54.789Z"
   },
   {
    "duration": 59,
    "start_time": "2021-12-15T10:10:54.803Z"
   },
   {
    "duration": 8,
    "start_time": "2021-12-15T10:10:54.864Z"
   },
   {
    "duration": 19,
    "start_time": "2021-12-15T10:10:54.875Z"
   },
   {
    "duration": 17,
    "start_time": "2021-12-15T10:10:54.896Z"
   },
   {
    "duration": 43,
    "start_time": "2021-12-15T10:10:54.916Z"
   },
   {
    "duration": 14,
    "start_time": "2021-12-15T10:10:54.962Z"
   },
   {
    "duration": 11,
    "start_time": "2021-12-15T10:10:54.982Z"
   },
   {
    "duration": 19,
    "start_time": "2021-12-15T10:10:54.996Z"
   },
   {
    "duration": 51,
    "start_time": "2021-12-15T10:10:55.017Z"
   },
   {
    "duration": 10,
    "start_time": "2021-12-15T10:10:55.071Z"
   },
   {
    "duration": 8,
    "start_time": "2021-12-15T10:10:55.084Z"
   },
   {
    "duration": 5,
    "start_time": "2021-12-15T10:10:55.095Z"
   },
   {
    "duration": 57,
    "start_time": "2021-12-15T10:10:55.102Z"
   },
   {
    "duration": 6,
    "start_time": "2021-12-15T10:10:55.161Z"
   },
   {
    "duration": 7,
    "start_time": "2021-12-15T10:10:55.169Z"
   },
   {
    "duration": 10,
    "start_time": "2021-12-15T10:10:55.179Z"
   },
   {
    "duration": 7,
    "start_time": "2021-12-15T10:10:55.192Z"
   },
   {
    "duration": 4,
    "start_time": "2021-12-15T10:10:55.202Z"
   },
   {
    "duration": 12,
    "start_time": "2021-12-15T10:10:55.261Z"
   },
   {
    "duration": 13,
    "start_time": "2021-12-15T10:10:55.275Z"
   },
   {
    "duration": 18,
    "start_time": "2021-12-15T10:10:55.290Z"
   },
   {
    "duration": 49,
    "start_time": "2021-12-15T10:10:55.310Z"
   },
   {
    "duration": 9,
    "start_time": "2021-12-15T10:10:55.362Z"
   },
   {
    "duration": 8,
    "start_time": "2021-12-15T10:10:55.373Z"
   },
   {
    "duration": 16,
    "start_time": "2021-12-15T10:10:55.383Z"
   },
   {
    "duration": 6,
    "start_time": "2021-12-15T10:10:55.402Z"
   },
   {
    "duration": 6,
    "start_time": "2021-12-15T10:10:55.410Z"
   },
   {
    "duration": 41,
    "start_time": "2021-12-15T10:10:55.419Z"
   },
   {
    "duration": 8,
    "start_time": "2021-12-15T10:10:55.463Z"
   },
   {
    "duration": 4,
    "start_time": "2021-12-15T10:10:55.475Z"
   },
   {
    "duration": 19,
    "start_time": "2021-12-15T10:10:55.481Z"
   },
   {
    "duration": 10,
    "start_time": "2021-12-15T10:10:55.502Z"
   },
   {
    "duration": 47,
    "start_time": "2021-12-15T10:10:55.514Z"
   },
   {
    "duration": 16,
    "start_time": "2021-12-15T10:10:55.563Z"
   },
   {
    "duration": 14,
    "start_time": "2021-12-15T10:10:55.581Z"
   },
   {
    "duration": 9,
    "start_time": "2021-12-15T10:10:55.598Z"
   },
   {
    "duration": 52,
    "start_time": "2021-12-15T10:10:55.609Z"
   },
   {
    "duration": 6,
    "start_time": "2021-12-15T10:10:55.663Z"
   },
   {
    "duration": 8,
    "start_time": "2021-12-15T10:10:55.672Z"
   },
   {
    "duration": 2,
    "start_time": "2021-12-15T10:10:55.683Z"
   },
   {
    "duration": 15,
    "start_time": "2021-12-15T10:10:55.688Z"
   },
   {
    "duration": 13,
    "start_time": "2021-12-15T10:10:55.706Z"
   },
   {
    "duration": 39,
    "start_time": "2021-12-15T10:10:55.763Z"
   },
   {
    "duration": 57,
    "start_time": "2021-12-15T10:10:55.804Z"
   },
   {
    "duration": 14,
    "start_time": "2021-12-15T10:10:55.863Z"
   },
   {
    "duration": 11,
    "start_time": "2021-12-15T10:10:55.879Z"
   },
   {
    "duration": 27,
    "start_time": "2021-12-15T10:10:55.892Z"
   },
   {
    "duration": 21,
    "start_time": "2021-12-15T10:10:55.960Z"
   },
   {
    "duration": 7,
    "start_time": "2021-12-15T10:10:55.984Z"
   },
   {
    "duration": 8,
    "start_time": "2021-12-15T10:11:21.520Z"
   },
   {
    "duration": 13,
    "start_time": "2021-12-15T10:11:31.898Z"
   },
   {
    "duration": 14,
    "start_time": "2021-12-15T10:12:15.282Z"
   },
   {
    "duration": 4,
    "start_time": "2021-12-15T10:13:39.916Z"
   },
   {
    "duration": 113,
    "start_time": "2021-12-15T10:13:39.923Z"
   },
   {
    "duration": 19,
    "start_time": "2021-12-15T10:13:40.040Z"
   },
   {
    "duration": 14,
    "start_time": "2021-12-15T10:13:40.063Z"
   },
   {
    "duration": 10,
    "start_time": "2021-12-15T10:13:40.080Z"
   },
   {
    "duration": 8,
    "start_time": "2021-12-15T10:13:40.094Z"
   },
   {
    "duration": 56,
    "start_time": "2021-12-15T10:13:40.107Z"
   },
   {
    "duration": 9,
    "start_time": "2021-12-15T10:13:40.166Z"
   },
   {
    "duration": 8,
    "start_time": "2021-12-15T10:13:40.177Z"
   },
   {
    "duration": 8,
    "start_time": "2021-12-15T10:13:40.188Z"
   },
   {
    "duration": 17,
    "start_time": "2021-12-15T10:13:40.198Z"
   },
   {
    "duration": 53,
    "start_time": "2021-12-15T10:13:40.217Z"
   },
   {
    "duration": 18,
    "start_time": "2021-12-15T10:13:40.273Z"
   },
   {
    "duration": 12,
    "start_time": "2021-12-15T10:13:40.293Z"
   },
   {
    "duration": 19,
    "start_time": "2021-12-15T10:13:40.307Z"
   },
   {
    "duration": 13,
    "start_time": "2021-12-15T10:13:40.360Z"
   },
   {
    "duration": 7,
    "start_time": "2021-12-15T10:13:40.376Z"
   },
   {
    "duration": 20,
    "start_time": "2021-12-15T10:13:40.386Z"
   },
   {
    "duration": 11,
    "start_time": "2021-12-15T10:13:40.411Z"
   },
   {
    "duration": 43,
    "start_time": "2021-12-15T10:13:40.425Z"
   },
   {
    "duration": 14,
    "start_time": "2021-12-15T10:13:40.470Z"
   },
   {
    "duration": 9,
    "start_time": "2021-12-15T10:13:40.486Z"
   },
   {
    "duration": 11,
    "start_time": "2021-12-15T10:13:40.498Z"
   },
   {
    "duration": 51,
    "start_time": "2021-12-15T10:13:40.511Z"
   },
   {
    "duration": 7,
    "start_time": "2021-12-15T10:13:40.565Z"
   },
   {
    "duration": 8,
    "start_time": "2021-12-15T10:13:40.575Z"
   },
   {
    "duration": 7,
    "start_time": "2021-12-15T10:13:40.586Z"
   },
   {
    "duration": 14,
    "start_time": "2021-12-15T10:13:40.595Z"
   },
   {
    "duration": 6,
    "start_time": "2021-12-15T10:13:40.611Z"
   },
   {
    "duration": 40,
    "start_time": "2021-12-15T10:13:40.619Z"
   },
   {
    "duration": 10,
    "start_time": "2021-12-15T10:13:40.662Z"
   },
   {
    "duration": 13,
    "start_time": "2021-12-15T10:13:40.674Z"
   },
   {
    "duration": 22,
    "start_time": "2021-12-15T10:13:40.689Z"
   },
   {
    "duration": 52,
    "start_time": "2021-12-15T10:13:40.714Z"
   },
   {
    "duration": 15,
    "start_time": "2021-12-15T10:13:40.768Z"
   },
   {
    "duration": 11,
    "start_time": "2021-12-15T10:13:40.785Z"
   },
   {
    "duration": 8,
    "start_time": "2021-12-15T10:13:40.798Z"
   },
   {
    "duration": 8,
    "start_time": "2021-12-15T10:13:40.809Z"
   },
   {
    "duration": 43,
    "start_time": "2021-12-15T10:13:40.819Z"
   },
   {
    "duration": 7,
    "start_time": "2021-12-15T10:13:40.865Z"
   },
   {
    "duration": 10,
    "start_time": "2021-12-15T10:13:40.874Z"
   },
   {
    "duration": 4,
    "start_time": "2021-12-15T10:13:40.886Z"
   },
   {
    "duration": 20,
    "start_time": "2021-12-15T10:13:40.892Z"
   },
   {
    "duration": 45,
    "start_time": "2021-12-15T10:13:40.914Z"
   },
   {
    "duration": 10,
    "start_time": "2021-12-15T10:13:40.961Z"
   },
   {
    "duration": 10,
    "start_time": "2021-12-15T10:13:53.090Z"
   },
   {
    "duration": 4,
    "start_time": "2021-12-15T10:14:41.453Z"
   },
   {
    "duration": 109,
    "start_time": "2021-12-15T10:14:41.459Z"
   },
   {
    "duration": 17,
    "start_time": "2021-12-15T10:14:41.571Z"
   },
   {
    "duration": 13,
    "start_time": "2021-12-15T10:14:41.591Z"
   },
   {
    "duration": 10,
    "start_time": "2021-12-15T10:14:41.607Z"
   },
   {
    "duration": 39,
    "start_time": "2021-12-15T10:14:41.621Z"
   },
   {
    "duration": 7,
    "start_time": "2021-12-15T10:14:41.663Z"
   },
   {
    "duration": 7,
    "start_time": "2021-12-15T10:14:41.673Z"
   },
   {
    "duration": 6,
    "start_time": "2021-12-15T10:14:41.682Z"
   },
   {
    "duration": 5,
    "start_time": "2021-12-15T10:14:41.691Z"
   },
   {
    "duration": 63,
    "start_time": "2021-12-15T10:14:41.698Z"
   },
   {
    "duration": 14,
    "start_time": "2021-12-15T10:14:41.763Z"
   },
   {
    "duration": 19,
    "start_time": "2021-12-15T10:14:41.779Z"
   },
   {
    "duration": 7,
    "start_time": "2021-12-15T10:14:41.800Z"
   },
   {
    "duration": 54,
    "start_time": "2021-12-15T10:14:41.810Z"
   },
   {
    "duration": 12,
    "start_time": "2021-12-15T10:14:41.867Z"
   },
   {
    "duration": 7,
    "start_time": "2021-12-15T10:14:41.881Z"
   },
   {
    "duration": 14,
    "start_time": "2021-12-15T10:14:41.891Z"
   },
   {
    "duration": 11,
    "start_time": "2021-12-15T10:14:41.910Z"
   },
   {
    "duration": 18,
    "start_time": "2021-12-15T10:14:41.959Z"
   },
   {
    "duration": 16,
    "start_time": "2021-12-15T10:14:41.980Z"
   },
   {
    "duration": 9,
    "start_time": "2021-12-15T10:14:41.999Z"
   },
   {
    "duration": 8,
    "start_time": "2021-12-15T10:14:42.011Z"
   },
   {
    "duration": 6,
    "start_time": "2021-12-15T10:14:42.060Z"
   },
   {
    "duration": 6,
    "start_time": "2021-12-15T10:14:42.069Z"
   },
   {
    "duration": 5,
    "start_time": "2021-12-15T10:14:42.078Z"
   },
   {
    "duration": 5,
    "start_time": "2021-12-15T10:14:42.086Z"
   },
   {
    "duration": 11,
    "start_time": "2021-12-15T10:14:42.094Z"
   },
   {
    "duration": 54,
    "start_time": "2021-12-15T10:14:42.107Z"
   },
   {
    "duration": 3,
    "start_time": "2021-12-15T10:14:42.164Z"
   },
   {
    "duration": 12,
    "start_time": "2021-12-15T10:14:42.169Z"
   },
   {
    "duration": 14,
    "start_time": "2021-12-15T10:14:42.183Z"
   },
   {
    "duration": 17,
    "start_time": "2021-12-15T10:14:42.199Z"
   },
   {
    "duration": 50,
    "start_time": "2021-12-15T10:14:42.218Z"
   },
   {
    "duration": 11,
    "start_time": "2021-12-15T10:14:42.270Z"
   },
   {
    "duration": 8,
    "start_time": "2021-12-15T10:14:42.284Z"
   },
   {
    "duration": 6,
    "start_time": "2021-12-15T10:14:42.294Z"
   },
   {
    "duration": 5,
    "start_time": "2021-12-15T10:14:42.303Z"
   },
   {
    "duration": 50,
    "start_time": "2021-12-15T10:14:42.311Z"
   },
   {
    "duration": 7,
    "start_time": "2021-12-15T10:14:42.363Z"
   },
   {
    "duration": 14,
    "start_time": "2021-12-15T10:14:42.372Z"
   },
   {
    "duration": 7,
    "start_time": "2021-12-15T10:14:42.389Z"
   },
   {
    "duration": 19,
    "start_time": "2021-12-15T10:14:42.399Z"
   },
   {
    "duration": 47,
    "start_time": "2021-12-15T10:14:42.421Z"
   },
   {
    "duration": 14,
    "start_time": "2021-12-15T10:14:42.470Z"
   },
   {
    "duration": 16,
    "start_time": "2021-12-15T10:14:42.486Z"
   },
   {
    "duration": 11,
    "start_time": "2021-12-15T10:14:42.504Z"
   },
   {
    "duration": 50,
    "start_time": "2021-12-15T10:14:42.517Z"
   },
   {
    "duration": 8,
    "start_time": "2021-12-15T10:14:42.569Z"
   },
   {
    "duration": 5,
    "start_time": "2021-12-15T10:14:42.579Z"
   },
   {
    "duration": 8,
    "start_time": "2021-12-15T10:14:42.586Z"
   },
   {
    "duration": 3,
    "start_time": "2021-12-15T10:14:42.596Z"
   },
   {
    "duration": 6,
    "start_time": "2021-12-15T10:14:42.601Z"
   },
   {
    "duration": 57,
    "start_time": "2021-12-15T10:14:42.609Z"
   },
   {
    "duration": 40,
    "start_time": "2021-12-15T10:14:55.052Z"
   },
   {
    "duration": 15,
    "start_time": "2021-12-15T10:14:59.252Z"
   },
   {
    "duration": 4,
    "start_time": "2021-12-15T10:15:40.989Z"
   },
   {
    "duration": 131,
    "start_time": "2021-12-15T10:15:40.996Z"
   },
   {
    "duration": 25,
    "start_time": "2021-12-15T10:15:41.131Z"
   },
   {
    "duration": 16,
    "start_time": "2021-12-15T10:15:41.159Z"
   },
   {
    "duration": 13,
    "start_time": "2021-12-15T10:15:41.178Z"
   },
   {
    "duration": 10,
    "start_time": "2021-12-15T10:15:41.193Z"
   },
   {
    "duration": 8,
    "start_time": "2021-12-15T10:15:41.206Z"
   },
   {
    "duration": 43,
    "start_time": "2021-12-15T10:15:41.219Z"
   },
   {
    "duration": 8,
    "start_time": "2021-12-15T10:15:41.266Z"
   },
   {
    "duration": 11,
    "start_time": "2021-12-15T10:15:41.277Z"
   },
   {
    "duration": 22,
    "start_time": "2021-12-15T10:15:41.291Z"
   },
   {
    "duration": 56,
    "start_time": "2021-12-15T10:15:41.316Z"
   },
   {
    "duration": 20,
    "start_time": "2021-12-15T10:15:41.374Z"
   },
   {
    "duration": 13,
    "start_time": "2021-12-15T10:15:41.397Z"
   },
   {
    "duration": 53,
    "start_time": "2021-12-15T10:15:41.412Z"
   },
   {
    "duration": 15,
    "start_time": "2021-12-15T10:15:41.468Z"
   },
   {
    "duration": 7,
    "start_time": "2021-12-15T10:15:41.485Z"
   },
   {
    "duration": 15,
    "start_time": "2021-12-15T10:15:41.496Z"
   },
   {
    "duration": 46,
    "start_time": "2021-12-15T10:15:41.514Z"
   },
   {
    "duration": 19,
    "start_time": "2021-12-15T10:15:41.563Z"
   },
   {
    "duration": 13,
    "start_time": "2021-12-15T10:15:41.585Z"
   },
   {
    "duration": 21,
    "start_time": "2021-12-15T10:15:41.600Z"
   },
   {
    "duration": 35,
    "start_time": "2021-12-15T10:15:41.628Z"
   },
   {
    "duration": 6,
    "start_time": "2021-12-15T10:15:41.666Z"
   },
   {
    "duration": 14,
    "start_time": "2021-12-15T10:15:41.674Z"
   },
   {
    "duration": 11,
    "start_time": "2021-12-15T10:15:41.690Z"
   },
   {
    "duration": 18,
    "start_time": "2021-12-15T10:15:41.703Z"
   },
   {
    "duration": 40,
    "start_time": "2021-12-15T10:15:41.724Z"
   },
   {
    "duration": 7,
    "start_time": "2021-12-15T10:15:41.767Z"
   },
   {
    "duration": 5,
    "start_time": "2021-12-15T10:15:41.776Z"
   },
   {
    "duration": 16,
    "start_time": "2021-12-15T10:15:41.783Z"
   },
   {
    "duration": 13,
    "start_time": "2021-12-15T10:15:41.801Z"
   },
   {
    "duration": 52,
    "start_time": "2021-12-15T10:15:41.816Z"
   },
   {
    "duration": 11,
    "start_time": "2021-12-15T10:15:41.870Z"
   },
   {
    "duration": 10,
    "start_time": "2021-12-15T10:15:41.884Z"
   },
   {
    "duration": 7,
    "start_time": "2021-12-15T10:15:41.896Z"
   },
   {
    "duration": 8,
    "start_time": "2021-12-15T10:15:41.906Z"
   },
   {
    "duration": 45,
    "start_time": "2021-12-15T10:15:41.916Z"
   },
   {
    "duration": 6,
    "start_time": "2021-12-15T10:15:41.963Z"
   },
   {
    "duration": 6,
    "start_time": "2021-12-15T10:15:41.972Z"
   },
   {
    "duration": 8,
    "start_time": "2021-12-15T10:15:41.980Z"
   },
   {
    "duration": 3,
    "start_time": "2021-12-15T10:15:41.991Z"
   },
   {
    "duration": 72,
    "start_time": "2021-12-15T10:15:41.996Z"
   },
   {
    "duration": 10,
    "start_time": "2021-12-15T10:15:42.071Z"
   },
   {
    "duration": 12,
    "start_time": "2021-12-15T10:15:42.083Z"
   },
   {
    "duration": 17,
    "start_time": "2021-12-15T10:15:42.097Z"
   },
   {
    "duration": 47,
    "start_time": "2021-12-15T10:15:42.117Z"
   },
   {
    "duration": 10,
    "start_time": "2021-12-15T10:15:42.167Z"
   },
   {
    "duration": 9,
    "start_time": "2021-12-15T10:15:42.179Z"
   },
   {
    "duration": 8,
    "start_time": "2021-12-15T10:15:42.191Z"
   },
   {
    "duration": 11,
    "start_time": "2021-12-15T10:15:42.201Z"
   },
   {
    "duration": 44,
    "start_time": "2021-12-15T10:15:42.215Z"
   },
   {
    "duration": 5,
    "start_time": "2021-12-15T10:15:42.262Z"
   },
   {
    "duration": 13,
    "start_time": "2021-12-15T10:15:42.270Z"
   },
   {
    "duration": 10,
    "start_time": "2021-12-15T10:16:00.624Z"
   },
   {
    "duration": 40,
    "start_time": "2021-12-15T10:16:47.983Z"
   },
   {
    "duration": 10,
    "start_time": "2021-12-15T10:16:50.423Z"
   },
   {
    "duration": 15,
    "start_time": "2021-12-15T10:16:57.820Z"
   },
   {
    "duration": 445,
    "start_time": "2021-12-15T11:09:29.355Z"
   },
   {
    "duration": 729,
    "start_time": "2021-12-15T11:11:22.767Z"
   },
   {
    "duration": 202,
    "start_time": "2021-12-15T11:12:01.032Z"
   },
   {
    "duration": 226,
    "start_time": "2021-12-15T11:12:42.665Z"
   },
   {
    "duration": 206,
    "start_time": "2021-12-15T11:13:00.353Z"
   },
   {
    "duration": 192,
    "start_time": "2021-12-15T11:13:02.484Z"
   },
   {
    "duration": 13,
    "start_time": "2021-12-15T11:13:54.026Z"
   },
   {
    "duration": 11,
    "start_time": "2021-12-15T11:14:11.355Z"
   },
   {
    "duration": 13,
    "start_time": "2021-12-15T11:14:25.153Z"
   },
   {
    "duration": 10,
    "start_time": "2021-12-15T11:14:41.752Z"
   },
   {
    "duration": 38,
    "start_time": "2021-12-15T11:14:41.765Z"
   },
   {
    "duration": 71,
    "start_time": "2021-12-15T11:14:41.805Z"
   },
   {
    "duration": 13,
    "start_time": "2021-12-15T11:14:41.879Z"
   },
   {
    "duration": 9,
    "start_time": "2021-12-15T11:14:41.895Z"
   },
   {
    "duration": 64,
    "start_time": "2021-12-15T11:14:41.907Z"
   },
   {
    "duration": 20,
    "start_time": "2021-12-15T11:14:41.974Z"
   },
   {
    "duration": 7,
    "start_time": "2021-12-15T11:14:41.997Z"
   },
   {
    "duration": 10,
    "start_time": "2021-12-15T11:14:42.006Z"
   },
   {
    "duration": 47,
    "start_time": "2021-12-15T11:14:42.018Z"
   },
   {
    "duration": 200,
    "start_time": "2021-12-15T11:14:42.067Z"
   },
   {
    "duration": 278,
    "start_time": "2021-12-15T11:14:42.269Z"
   },
   {
    "duration": 4,
    "start_time": "2021-12-15T11:14:55.024Z"
   },
   {
    "duration": 109,
    "start_time": "2021-12-15T11:14:55.031Z"
   },
   {
    "duration": 26,
    "start_time": "2021-12-15T11:14:55.143Z"
   },
   {
    "duration": 14,
    "start_time": "2021-12-15T11:14:55.171Z"
   },
   {
    "duration": 11,
    "start_time": "2021-12-15T11:14:55.188Z"
   },
   {
    "duration": 7,
    "start_time": "2021-12-15T11:14:55.201Z"
   },
   {
    "duration": 55,
    "start_time": "2021-12-15T11:14:55.210Z"
   },
   {
    "duration": 6,
    "start_time": "2021-12-15T11:14:55.269Z"
   },
   {
    "duration": 6,
    "start_time": "2021-12-15T11:14:55.277Z"
   },
   {
    "duration": 6,
    "start_time": "2021-12-15T11:14:55.285Z"
   },
   {
    "duration": 68,
    "start_time": "2021-12-15T11:14:55.293Z"
   },
   {
    "duration": 13,
    "start_time": "2021-12-15T11:14:55.363Z"
   },
   {
    "duration": 19,
    "start_time": "2021-12-15T11:14:55.378Z"
   },
   {
    "duration": 9,
    "start_time": "2021-12-15T11:14:55.399Z"
   },
   {
    "duration": 62,
    "start_time": "2021-12-15T11:14:55.410Z"
   },
   {
    "duration": 13,
    "start_time": "2021-12-15T11:14:55.475Z"
   },
   {
    "duration": 7,
    "start_time": "2021-12-15T11:14:55.490Z"
   },
   {
    "duration": 13,
    "start_time": "2021-12-15T11:14:55.499Z"
   },
   {
    "duration": 47,
    "start_time": "2021-12-15T11:14:55.514Z"
   },
   {
    "duration": 20,
    "start_time": "2021-12-15T11:14:55.565Z"
   },
   {
    "duration": 14,
    "start_time": "2021-12-15T11:14:55.588Z"
   },
   {
    "duration": 10,
    "start_time": "2021-12-15T11:14:55.604Z"
   },
   {
    "duration": 46,
    "start_time": "2021-12-15T11:14:55.620Z"
   },
   {
    "duration": 7,
    "start_time": "2021-12-15T11:14:55.670Z"
   },
   {
    "duration": 7,
    "start_time": "2021-12-15T11:14:55.680Z"
   },
   {
    "duration": 7,
    "start_time": "2021-12-15T11:14:55.691Z"
   },
   {
    "duration": 7,
    "start_time": "2021-12-15T11:14:55.701Z"
   },
   {
    "duration": 13,
    "start_time": "2021-12-15T11:14:55.761Z"
   },
   {
    "duration": 9,
    "start_time": "2021-12-15T11:14:55.777Z"
   },
   {
    "duration": 4,
    "start_time": "2021-12-15T11:14:55.789Z"
   },
   {
    "duration": 13,
    "start_time": "2021-12-15T11:14:55.795Z"
   },
   {
    "duration": 50,
    "start_time": "2021-12-15T11:14:55.810Z"
   },
   {
    "duration": 18,
    "start_time": "2021-12-15T11:14:55.863Z"
   },
   {
    "duration": 11,
    "start_time": "2021-12-15T11:14:55.884Z"
   },
   {
    "duration": 9,
    "start_time": "2021-12-15T11:14:55.897Z"
   },
   {
    "duration": 52,
    "start_time": "2021-12-15T11:14:55.908Z"
   },
   {
    "duration": 6,
    "start_time": "2021-12-15T11:14:55.963Z"
   },
   {
    "duration": 9,
    "start_time": "2021-12-15T11:14:55.971Z"
   },
   {
    "duration": 13,
    "start_time": "2021-12-15T11:14:55.983Z"
   },
   {
    "duration": 9,
    "start_time": "2021-12-15T11:14:55.998Z"
   },
   {
    "duration": 12,
    "start_time": "2021-12-15T11:14:56.009Z"
   },
   {
    "duration": 3,
    "start_time": "2021-12-15T11:14:56.061Z"
   },
   {
    "duration": 28,
    "start_time": "2021-12-15T11:14:56.067Z"
   },
   {
    "duration": 13,
    "start_time": "2021-12-15T11:14:56.098Z"
   },
   {
    "duration": 18,
    "start_time": "2021-12-15T11:14:56.113Z"
   },
   {
    "duration": 41,
    "start_time": "2021-12-15T11:14:56.133Z"
   },
   {
    "duration": 16,
    "start_time": "2021-12-15T11:14:56.177Z"
   },
   {
    "duration": 11,
    "start_time": "2021-12-15T11:14:56.197Z"
   },
   {
    "duration": 52,
    "start_time": "2021-12-15T11:14:56.211Z"
   },
   {
    "duration": 6,
    "start_time": "2021-12-15T11:14:56.265Z"
   },
   {
    "duration": 9,
    "start_time": "2021-12-15T11:14:56.273Z"
   },
   {
    "duration": 3,
    "start_time": "2021-12-15T11:14:56.284Z"
   },
   {
    "duration": 6,
    "start_time": "2021-12-15T11:14:56.289Z"
   },
   {
    "duration": 12,
    "start_time": "2021-12-15T11:14:56.298Z"
   },
   {
    "duration": 53,
    "start_time": "2021-12-15T11:14:56.312Z"
   },
   {
    "duration": 41,
    "start_time": "2021-12-15T11:14:56.367Z"
   },
   {
    "duration": 61,
    "start_time": "2021-12-15T11:14:56.410Z"
   },
   {
    "duration": 13,
    "start_time": "2021-12-15T11:14:56.473Z"
   },
   {
    "duration": 10,
    "start_time": "2021-12-15T11:14:56.489Z"
   },
   {
    "duration": 59,
    "start_time": "2021-12-15T11:14:56.502Z"
   },
   {
    "duration": 22,
    "start_time": "2021-12-15T11:14:56.563Z"
   },
   {
    "duration": 8,
    "start_time": "2021-12-15T11:14:56.588Z"
   },
   {
    "duration": 9,
    "start_time": "2021-12-15T11:14:56.598Z"
   },
   {
    "duration": 52,
    "start_time": "2021-12-15T11:14:56.609Z"
   },
   {
    "duration": 228,
    "start_time": "2021-12-15T11:14:56.663Z"
   },
   {
    "duration": 216,
    "start_time": "2021-12-15T11:14:56.895Z"
   },
   {
    "duration": 4,
    "start_time": "2021-12-15T11:15:20.585Z"
   },
   {
    "duration": 1633,
    "start_time": "2021-12-15T11:15:20.591Z"
   },
   {
    "duration": 24,
    "start_time": "2021-12-15T11:15:22.227Z"
   },
   {
    "duration": 23,
    "start_time": "2021-12-15T11:15:22.255Z"
   },
   {
    "duration": 22,
    "start_time": "2021-12-15T11:15:22.281Z"
   },
   {
    "duration": 17,
    "start_time": "2021-12-15T11:15:22.306Z"
   },
   {
    "duration": 14,
    "start_time": "2021-12-15T11:15:22.326Z"
   },
   {
    "duration": 13,
    "start_time": "2021-12-15T11:15:22.359Z"
   },
   {
    "duration": 8,
    "start_time": "2021-12-15T11:15:22.377Z"
   },
   {
    "duration": 7,
    "start_time": "2021-12-15T11:15:22.388Z"
   },
   {
    "duration": 23,
    "start_time": "2021-12-15T11:15:22.398Z"
   },
   {
    "duration": 44,
    "start_time": "2021-12-15T11:15:22.425Z"
   },
   {
    "duration": 25,
    "start_time": "2021-12-15T11:15:22.472Z"
   },
   {
    "duration": 10,
    "start_time": "2021-12-15T11:15:22.500Z"
   },
   {
    "duration": 53,
    "start_time": "2021-12-15T11:15:22.513Z"
   },
   {
    "duration": 14,
    "start_time": "2021-12-15T11:15:22.569Z"
   },
   {
    "duration": 9,
    "start_time": "2021-12-15T11:15:22.585Z"
   },
   {
    "duration": 14,
    "start_time": "2021-12-15T11:15:22.597Z"
   },
   {
    "duration": 47,
    "start_time": "2021-12-15T11:15:22.613Z"
   },
   {
    "duration": 21,
    "start_time": "2021-12-15T11:15:22.663Z"
   },
   {
    "duration": 13,
    "start_time": "2021-12-15T11:15:22.687Z"
   },
   {
    "duration": 11,
    "start_time": "2021-12-15T11:15:22.702Z"
   },
   {
    "duration": 48,
    "start_time": "2021-12-15T11:15:22.719Z"
   },
   {
    "duration": 6,
    "start_time": "2021-12-15T11:15:22.771Z"
   },
   {
    "duration": 8,
    "start_time": "2021-12-15T11:15:22.779Z"
   },
   {
    "duration": 9,
    "start_time": "2021-12-15T11:15:22.790Z"
   },
   {
    "duration": 6,
    "start_time": "2021-12-15T11:15:22.801Z"
   },
   {
    "duration": 55,
    "start_time": "2021-12-15T11:15:22.809Z"
   },
   {
    "duration": 9,
    "start_time": "2021-12-15T11:15:22.867Z"
   },
   {
    "duration": 6,
    "start_time": "2021-12-15T11:15:22.878Z"
   },
   {
    "duration": 13,
    "start_time": "2021-12-15T11:15:22.886Z"
   },
   {
    "duration": 15,
    "start_time": "2021-12-15T11:15:22.901Z"
   },
   {
    "duration": 51,
    "start_time": "2021-12-15T11:15:22.919Z"
   },
   {
    "duration": 14,
    "start_time": "2021-12-15T11:15:22.973Z"
   },
   {
    "duration": 9,
    "start_time": "2021-12-15T11:15:22.990Z"
   },
   {
    "duration": 7,
    "start_time": "2021-12-15T11:15:23.001Z"
   },
   {
    "duration": 52,
    "start_time": "2021-12-15T11:15:23.011Z"
   },
   {
    "duration": 7,
    "start_time": "2021-12-15T11:15:23.065Z"
   },
   {
    "duration": 6,
    "start_time": "2021-12-15T11:15:23.074Z"
   },
   {
    "duration": 14,
    "start_time": "2021-12-15T11:15:23.082Z"
   },
   {
    "duration": 17,
    "start_time": "2021-12-15T11:15:23.098Z"
   },
   {
    "duration": 44,
    "start_time": "2021-12-15T11:15:23.118Z"
   },
   {
    "duration": 20,
    "start_time": "2021-12-15T11:15:23.165Z"
   },
   {
    "duration": 9,
    "start_time": "2021-12-15T11:15:23.188Z"
   },
   {
    "duration": 16,
    "start_time": "2021-12-15T11:15:23.200Z"
   },
   {
    "duration": 45,
    "start_time": "2021-12-15T11:15:23.218Z"
   },
   {
    "duration": 11,
    "start_time": "2021-12-15T11:15:23.265Z"
   },
   {
    "duration": 8,
    "start_time": "2021-12-15T11:15:23.279Z"
   },
   {
    "duration": 8,
    "start_time": "2021-12-15T11:15:23.290Z"
   },
   {
    "duration": 12,
    "start_time": "2021-12-15T11:15:23.301Z"
   },
   {
    "duration": 48,
    "start_time": "2021-12-15T11:15:23.315Z"
   },
   {
    "duration": 4,
    "start_time": "2021-12-15T11:15:23.365Z"
   },
   {
    "duration": 8,
    "start_time": "2021-12-15T11:15:23.371Z"
   },
   {
    "duration": 13,
    "start_time": "2021-12-15T11:15:23.381Z"
   },
   {
    "duration": 11,
    "start_time": "2021-12-15T11:15:23.397Z"
   },
   {
    "duration": 94,
    "start_time": "2021-12-15T11:15:23.410Z"
   },
   {
    "duration": 54,
    "start_time": "2021-12-15T11:15:23.506Z"
   },
   {
    "duration": 14,
    "start_time": "2021-12-15T11:15:23.563Z"
   },
   {
    "duration": 10,
    "start_time": "2021-12-15T11:15:23.580Z"
   },
   {
    "duration": 68,
    "start_time": "2021-12-15T11:15:23.593Z"
   },
   {
    "duration": 23,
    "start_time": "2021-12-15T11:15:23.664Z"
   },
   {
    "duration": 9,
    "start_time": "2021-12-15T11:15:23.690Z"
   },
   {
    "duration": 10,
    "start_time": "2021-12-15T11:15:23.702Z"
   },
   {
    "duration": 52,
    "start_time": "2021-12-15T11:15:23.714Z"
   },
   {
    "duration": 224,
    "start_time": "2021-12-15T11:15:23.769Z"
   },
   {
    "duration": 209,
    "start_time": "2021-12-15T11:15:23.996Z"
   },
   {
    "duration": 4,
    "start_time": "2021-12-15T11:15:39.913Z"
   },
   {
    "duration": 109,
    "start_time": "2021-12-15T11:15:39.920Z"
   },
   {
    "duration": 29,
    "start_time": "2021-12-15T11:15:40.032Z"
   },
   {
    "duration": 12,
    "start_time": "2021-12-15T11:15:40.064Z"
   },
   {
    "duration": 9,
    "start_time": "2021-12-15T11:15:40.078Z"
   },
   {
    "duration": 7,
    "start_time": "2021-12-15T11:15:40.090Z"
   },
   {
    "duration": 7,
    "start_time": "2021-12-15T11:15:40.100Z"
   },
   {
    "duration": 6,
    "start_time": "2021-12-15T11:15:40.160Z"
   },
   {
    "duration": 6,
    "start_time": "2021-12-15T11:15:40.170Z"
   },
   {
    "duration": 7,
    "start_time": "2021-12-15T11:15:40.181Z"
   },
   {
    "duration": 17,
    "start_time": "2021-12-15T11:15:40.191Z"
   },
   {
    "duration": 14,
    "start_time": "2021-12-15T11:15:40.259Z"
   },
   {
    "duration": 20,
    "start_time": "2021-12-15T11:15:40.276Z"
   },
   {
    "duration": 7,
    "start_time": "2021-12-15T11:15:40.298Z"
   },
   {
    "duration": 53,
    "start_time": "2021-12-15T11:15:40.308Z"
   },
   {
    "duration": 13,
    "start_time": "2021-12-15T11:15:40.364Z"
   },
   {
    "duration": 6,
    "start_time": "2021-12-15T11:15:40.380Z"
   },
   {
    "duration": 20,
    "start_time": "2021-12-15T11:15:40.388Z"
   },
   {
    "duration": 11,
    "start_time": "2021-12-15T11:15:40.411Z"
   },
   {
    "duration": 52,
    "start_time": "2021-12-15T11:15:40.424Z"
   },
   {
    "duration": 15,
    "start_time": "2021-12-15T11:15:40.479Z"
   },
   {
    "duration": 10,
    "start_time": "2021-12-15T11:15:40.497Z"
   },
   {
    "duration": 10,
    "start_time": "2021-12-15T11:15:40.509Z"
   },
   {
    "duration": 7,
    "start_time": "2021-12-15T11:15:40.560Z"
   },
   {
    "duration": 7,
    "start_time": "2021-12-15T11:15:40.570Z"
   },
   {
    "duration": 7,
    "start_time": "2021-12-15T11:15:40.579Z"
   },
   {
    "duration": 5,
    "start_time": "2021-12-15T11:15:40.594Z"
   },
   {
    "duration": 9,
    "start_time": "2021-12-15T11:15:40.602Z"
   },
   {
    "duration": 8,
    "start_time": "2021-12-15T11:15:40.660Z"
   },
   {
    "duration": 8,
    "start_time": "2021-12-15T11:15:40.670Z"
   },
   {
    "duration": 12,
    "start_time": "2021-12-15T11:15:40.680Z"
   },
   {
    "duration": 13,
    "start_time": "2021-12-15T11:15:40.694Z"
   },
   {
    "duration": 54,
    "start_time": "2021-12-15T11:15:40.709Z"
   },
   {
    "duration": 11,
    "start_time": "2021-12-15T11:15:40.766Z"
   },
   {
    "duration": 11,
    "start_time": "2021-12-15T11:15:40.779Z"
   },
   {
    "duration": 7,
    "start_time": "2021-12-15T11:15:40.793Z"
   },
   {
    "duration": 5,
    "start_time": "2021-12-15T11:15:40.803Z"
   },
   {
    "duration": 51,
    "start_time": "2021-12-15T11:15:40.811Z"
   },
   {
    "duration": 6,
    "start_time": "2021-12-15T11:15:40.864Z"
   },
   {
    "duration": 7,
    "start_time": "2021-12-15T11:15:40.872Z"
   },
   {
    "duration": 8,
    "start_time": "2021-12-15T11:15:40.882Z"
   },
   {
    "duration": 4,
    "start_time": "2021-12-15T11:15:40.892Z"
   },
   {
    "duration": 66,
    "start_time": "2021-12-15T11:15:40.899Z"
   },
   {
    "duration": 10,
    "start_time": "2021-12-15T11:15:40.967Z"
   },
   {
    "duration": 16,
    "start_time": "2021-12-15T11:15:40.979Z"
   },
   {
    "duration": 16,
    "start_time": "2021-12-15T11:15:40.998Z"
   },
   {
    "duration": 50,
    "start_time": "2021-12-15T11:15:41.016Z"
   },
   {
    "duration": 11,
    "start_time": "2021-12-15T11:15:41.069Z"
   },
   {
    "duration": 12,
    "start_time": "2021-12-15T11:15:41.083Z"
   },
   {
    "duration": 8,
    "start_time": "2021-12-15T11:15:41.098Z"
   },
   {
    "duration": 56,
    "start_time": "2021-12-15T11:15:41.108Z"
   },
   {
    "duration": 3,
    "start_time": "2021-12-15T11:15:41.167Z"
   },
   {
    "duration": 6,
    "start_time": "2021-12-15T11:15:41.173Z"
   },
   {
    "duration": 16,
    "start_time": "2021-12-15T11:15:41.181Z"
   },
   {
    "duration": 12,
    "start_time": "2021-12-15T11:15:41.200Z"
   },
   {
    "duration": 84,
    "start_time": "2021-12-15T11:15:41.215Z"
   },
   {
    "duration": 41,
    "start_time": "2021-12-15T11:15:41.302Z"
   },
   {
    "duration": 14,
    "start_time": "2021-12-15T11:15:41.359Z"
   },
   {
    "duration": 11,
    "start_time": "2021-12-15T11:15:41.375Z"
   },
   {
    "duration": 27,
    "start_time": "2021-12-15T11:15:41.389Z"
   },
   {
    "duration": 58,
    "start_time": "2021-12-15T11:15:41.419Z"
   },
   {
    "duration": 7,
    "start_time": "2021-12-15T11:15:41.480Z"
   },
   {
    "duration": 10,
    "start_time": "2021-12-15T11:15:41.490Z"
   },
   {
    "duration": 10,
    "start_time": "2021-12-15T11:15:41.502Z"
   },
   {
    "duration": 240,
    "start_time": "2021-12-15T11:15:41.515Z"
   },
   {
    "duration": 213,
    "start_time": "2021-12-15T11:15:41.759Z"
   },
   {
    "duration": 42,
    "start_time": "2021-12-15T11:52:20.646Z"
   },
   {
    "duration": 9,
    "start_time": "2021-12-15T11:55:46.262Z"
   },
   {
    "duration": 60,
    "start_time": "2021-12-15T11:55:52.485Z"
   },
   {
    "duration": 49,
    "start_time": "2021-12-15T11:56:33.558Z"
   },
   {
    "duration": 439,
    "start_time": "2021-12-15T11:57:07.528Z"
   },
   {
    "duration": 20,
    "start_time": "2021-12-15T11:57:21.147Z"
   },
   {
    "duration": 308,
    "start_time": "2021-12-15T11:57:44.073Z"
   },
   {
    "duration": 24,
    "start_time": "2021-12-15T11:58:21.214Z"
   },
   {
    "duration": 326,
    "start_time": "2021-12-15T11:58:23.720Z"
   },
   {
    "duration": 684,
    "start_time": "2021-12-15T11:59:21.888Z"
   },
   {
    "duration": 369,
    "start_time": "2021-12-15T11:59:38.394Z"
   },
   {
    "duration": 396,
    "start_time": "2021-12-15T11:59:44.076Z"
   },
   {
    "duration": 619,
    "start_time": "2021-12-15T12:01:17.519Z"
   },
   {
    "duration": 19,
    "start_time": "2021-12-15T12:01:38.153Z"
   },
   {
    "duration": 670,
    "start_time": "2021-12-15T12:01:40.461Z"
   },
   {
    "duration": 20,
    "start_time": "2021-12-15T12:02:05.581Z"
   },
   {
    "duration": 693,
    "start_time": "2021-12-15T12:02:07.207Z"
   },
   {
    "duration": 18,
    "start_time": "2021-12-15T12:02:15.370Z"
   },
   {
    "duration": 681,
    "start_time": "2021-12-15T12:02:17.540Z"
   },
   {
    "duration": 124,
    "start_time": "2021-12-15T12:02:47.030Z"
   },
   {
    "duration": 761,
    "start_time": "2021-12-15T12:02:52.558Z"
   },
   {
    "duration": 4,
    "start_time": "2021-12-15T12:03:25.773Z"
   },
   {
    "duration": 263,
    "start_time": "2021-12-15T12:03:37.281Z"
   },
   {
    "duration": 289,
    "start_time": "2021-12-15T12:15:39.155Z"
   },
   {
    "duration": 277,
    "start_time": "2021-12-15T12:16:07.124Z"
   },
   {
    "duration": 13,
    "start_time": "2021-12-15T12:20:04.940Z"
   },
   {
    "duration": 37,
    "start_time": "2021-12-15T12:21:15.393Z"
   },
   {
    "duration": 2350,
    "start_time": "2021-12-15T12:21:51.294Z"
   },
   {
    "duration": 438,
    "start_time": "2021-12-15T12:23:16.725Z"
   },
   {
    "duration": 13,
    "start_time": "2021-12-15T12:23:27.120Z"
   },
   {
    "duration": 19,
    "start_time": "2021-12-15T12:24:00.961Z"
   },
   {
    "duration": 12,
    "start_time": "2021-12-15T12:24:06.006Z"
   },
   {
    "duration": 11,
    "start_time": "2021-12-15T12:25:27.807Z"
   },
   {
    "duration": 13,
    "start_time": "2021-12-15T12:29:25.681Z"
   },
   {
    "duration": 10,
    "start_time": "2021-12-15T12:29:33.039Z"
   },
   {
    "duration": 14,
    "start_time": "2021-12-15T12:29:40.143Z"
   },
   {
    "duration": 19,
    "start_time": "2021-12-15T12:30:25.550Z"
   },
   {
    "duration": 480,
    "start_time": "2021-12-15T12:30:59.779Z"
   },
   {
    "duration": 355,
    "start_time": "2021-12-15T12:32:58.421Z"
   },
   {
    "duration": 348,
    "start_time": "2021-12-15T12:33:15.977Z"
   },
   {
    "duration": 142,
    "start_time": "2021-12-15T12:38:36.576Z"
   },
   {
    "duration": 92,
    "start_time": "2021-12-15T12:38:50.442Z"
   },
   {
    "duration": 49,
    "start_time": "2021-12-15T12:40:51.509Z"
   },
   {
    "duration": 450,
    "start_time": "2021-12-15T12:50:00.341Z"
   },
   {
    "duration": 183,
    "start_time": "2021-12-15T12:52:57.381Z"
   },
   {
    "duration": 32,
    "start_time": "2021-12-15T12:53:03.110Z"
   },
   {
    "duration": 28,
    "start_time": "2021-12-15T12:53:39.822Z"
   },
   {
    "duration": 465,
    "start_time": "2021-12-15T12:53:53.789Z"
   },
   {
    "duration": 6,
    "start_time": "2021-12-15T13:07:21.020Z"
   },
   {
    "duration": 9,
    "start_time": "2021-12-15T13:07:42.132Z"
   },
   {
    "duration": 262,
    "start_time": "2021-12-15T13:08:04.450Z"
   },
   {
    "duration": 257,
    "start_time": "2021-12-15T13:08:58.133Z"
   },
   {
    "duration": 244,
    "start_time": "2021-12-15T13:09:15.082Z"
   },
   {
    "duration": 257,
    "start_time": "2021-12-15T13:09:31.690Z"
   },
   {
    "duration": 342,
    "start_time": "2021-12-15T13:09:39.195Z"
   },
   {
    "duration": 285,
    "start_time": "2021-12-15T13:09:46.364Z"
   },
   {
    "duration": 352,
    "start_time": "2021-12-15T13:09:57.417Z"
   },
   {
    "duration": 338,
    "start_time": "2021-12-15T13:10:03.413Z"
   },
   {
    "duration": 374,
    "start_time": "2021-12-15T13:10:14.044Z"
   },
   {
    "duration": 269,
    "start_time": "2021-12-15T13:10:23.245Z"
   },
   {
    "duration": 348,
    "start_time": "2021-12-15T13:10:32.086Z"
   },
   {
    "duration": 252,
    "start_time": "2021-12-15T13:10:40.144Z"
   },
   {
    "duration": 428,
    "start_time": "2021-12-15T13:10:48.155Z"
   },
   {
    "duration": 282,
    "start_time": "2021-12-15T13:10:57.518Z"
   },
   {
    "duration": 295,
    "start_time": "2021-12-15T13:11:05.836Z"
   },
   {
    "duration": 283,
    "start_time": "2021-12-15T13:11:22.990Z"
   },
   {
    "duration": 469,
    "start_time": "2021-12-15T13:11:35.407Z"
   },
   {
    "duration": 410,
    "start_time": "2021-12-15T13:11:42.357Z"
   },
   {
    "duration": 266,
    "start_time": "2021-12-15T13:11:48.678Z"
   },
   {
    "duration": 123,
    "start_time": "2021-12-15T13:13:22.815Z"
   },
   {
    "duration": 1051,
    "start_time": "2021-12-15T13:13:31.896Z"
   },
   {
    "duration": 626,
    "start_time": "2021-12-15T13:13:56.216Z"
   },
   {
    "duration": 552,
    "start_time": "2021-12-15T13:14:16.080Z"
   },
   {
    "duration": 395,
    "start_time": "2021-12-15T13:16:26.458Z"
   },
   {
    "duration": 358,
    "start_time": "2021-12-15T13:23:34.160Z"
   },
   {
    "duration": 1377,
    "start_time": "2021-12-15T13:23:42.117Z"
   },
   {
    "duration": 1633,
    "start_time": "2021-12-15T13:25:20.340Z"
   },
   {
    "duration": 1400,
    "start_time": "2021-12-15T13:25:30.827Z"
   },
   {
    "duration": 21,
    "start_time": "2021-12-15T13:43:10.726Z"
   },
   {
    "duration": 10,
    "start_time": "2021-12-15T13:44:45.712Z"
   },
   {
    "duration": 11,
    "start_time": "2021-12-15T13:45:25.712Z"
   },
   {
    "duration": 245,
    "start_time": "2021-12-15T13:47:07.731Z"
   },
   {
    "duration": 66,
    "start_time": "2021-12-15T14:19:18.359Z"
   },
   {
    "duration": 5,
    "start_time": "2021-12-15T14:23:10.815Z"
   },
   {
    "duration": 1566,
    "start_time": "2021-12-15T14:23:15.974Z"
   },
   {
    "duration": 245,
    "start_time": "2021-12-15T14:23:39.685Z"
   },
   {
    "duration": 302,
    "start_time": "2021-12-15T19:37:13.759Z"
   },
   {
    "duration": 1486,
    "start_time": "2021-12-15T19:37:22.931Z"
   },
   {
    "duration": 99,
    "start_time": "2021-12-15T19:37:24.419Z"
   },
   {
    "duration": 20,
    "start_time": "2021-12-15T19:37:24.521Z"
   },
   {
    "duration": 26,
    "start_time": "2021-12-15T19:37:24.543Z"
   },
   {
    "duration": 17,
    "start_time": "2021-12-15T19:37:24.572Z"
   },
   {
    "duration": 21,
    "start_time": "2021-12-15T19:37:24.592Z"
   },
   {
    "duration": 21,
    "start_time": "2021-12-15T19:37:24.615Z"
   },
   {
    "duration": 34,
    "start_time": "2021-12-15T19:37:24.640Z"
   },
   {
    "duration": 25,
    "start_time": "2021-12-15T19:37:24.677Z"
   },
   {
    "duration": 21,
    "start_time": "2021-12-15T19:37:24.705Z"
   },
   {
    "duration": 35,
    "start_time": "2021-12-15T19:37:24.728Z"
   },
   {
    "duration": 16,
    "start_time": "2021-12-15T19:37:24.765Z"
   },
   {
    "duration": 40,
    "start_time": "2021-12-15T19:37:24.783Z"
   },
   {
    "duration": 26,
    "start_time": "2021-12-15T19:37:24.826Z"
   },
   {
    "duration": 27,
    "start_time": "2021-12-15T19:37:24.854Z"
   },
   {
    "duration": 15,
    "start_time": "2021-12-15T19:37:24.883Z"
   },
   {
    "duration": 33,
    "start_time": "2021-12-15T19:37:24.901Z"
   },
   {
    "duration": 29,
    "start_time": "2021-12-15T19:37:24.936Z"
   },
   {
    "duration": 15,
    "start_time": "2021-12-15T19:37:24.967Z"
   },
   {
    "duration": 23,
    "start_time": "2021-12-15T19:37:24.984Z"
   },
   {
    "duration": 17,
    "start_time": "2021-12-15T19:37:25.009Z"
   },
   {
    "duration": 23,
    "start_time": "2021-12-15T19:37:25.028Z"
   },
   {
    "duration": 27,
    "start_time": "2021-12-15T19:37:25.058Z"
   },
   {
    "duration": 25,
    "start_time": "2021-12-15T19:37:25.089Z"
   },
   {
    "duration": 20,
    "start_time": "2021-12-15T19:37:25.116Z"
   },
   {
    "duration": 11,
    "start_time": "2021-12-15T19:37:25.139Z"
   },
   {
    "duration": 18,
    "start_time": "2021-12-15T19:37:25.152Z"
   },
   {
    "duration": 21,
    "start_time": "2021-12-15T19:37:25.173Z"
   },
   {
    "duration": 14,
    "start_time": "2021-12-15T19:37:25.196Z"
   },
   {
    "duration": 28,
    "start_time": "2021-12-15T19:37:25.212Z"
   },
   {
    "duration": 36,
    "start_time": "2021-12-15T19:37:25.242Z"
   },
   {
    "duration": 15,
    "start_time": "2021-12-15T19:37:25.280Z"
   },
   {
    "duration": 27,
    "start_time": "2021-12-15T19:37:25.298Z"
   },
   {
    "duration": 14,
    "start_time": "2021-12-15T19:37:25.328Z"
   },
   {
    "duration": 36,
    "start_time": "2021-12-15T19:37:25.345Z"
   },
   {
    "duration": 31,
    "start_time": "2021-12-15T19:37:25.384Z"
   },
   {
    "duration": 17,
    "start_time": "2021-12-15T19:37:25.418Z"
   },
   {
    "duration": 20,
    "start_time": "2021-12-15T19:37:25.437Z"
   },
   {
    "duration": 21,
    "start_time": "2021-12-15T19:37:25.459Z"
   },
   {
    "duration": 17,
    "start_time": "2021-12-15T19:37:25.483Z"
   },
   {
    "duration": 24,
    "start_time": "2021-12-15T19:37:25.503Z"
   },
   {
    "duration": 4,
    "start_time": "2021-12-15T19:37:25.530Z"
   },
   {
    "duration": 33,
    "start_time": "2021-12-15T19:37:25.537Z"
   },
   {
    "duration": 12,
    "start_time": "2021-12-15T19:37:25.572Z"
   },
   {
    "duration": 24,
    "start_time": "2021-12-15T19:37:25.586Z"
   },
   {
    "duration": 20,
    "start_time": "2021-12-15T19:37:25.612Z"
   },
   {
    "duration": 13,
    "start_time": "2021-12-15T19:37:25.634Z"
   },
   {
    "duration": 22,
    "start_time": "2021-12-15T19:37:25.649Z"
   },
   {
    "duration": 16,
    "start_time": "2021-12-15T19:37:25.674Z"
   },
   {
    "duration": 28,
    "start_time": "2021-12-15T19:37:25.692Z"
   },
   {
    "duration": 23,
    "start_time": "2021-12-15T19:37:25.723Z"
   },
   {
    "duration": 7,
    "start_time": "2021-12-15T19:37:25.748Z"
   },
   {
    "duration": 8,
    "start_time": "2021-12-15T19:37:25.757Z"
   },
   {
    "duration": 32,
    "start_time": "2021-12-15T19:37:25.767Z"
   },
   {
    "duration": 13,
    "start_time": "2021-12-15T19:37:25.802Z"
   },
   {
    "duration": 42,
    "start_time": "2021-12-15T19:37:25.817Z"
   },
   {
    "duration": 54,
    "start_time": "2021-12-15T19:37:25.862Z"
   },
   {
    "duration": 13,
    "start_time": "2021-12-15T19:37:25.918Z"
   },
   {
    "duration": 10,
    "start_time": "2021-12-15T19:37:25.933Z"
   },
   {
    "duration": 34,
    "start_time": "2021-12-15T19:37:25.945Z"
   },
   {
    "duration": 50,
    "start_time": "2021-12-15T19:37:25.981Z"
   },
   {
    "duration": 21,
    "start_time": "2021-12-15T19:37:26.033Z"
   },
   {
    "duration": 21,
    "start_time": "2021-12-15T19:37:26.057Z"
   },
   {
    "duration": 24,
    "start_time": "2021-12-15T19:37:26.080Z"
   },
   {
    "duration": 199,
    "start_time": "2021-12-15T19:37:26.106Z"
   },
   {
    "duration": 218,
    "start_time": "2021-12-15T19:37:26.308Z"
   },
   {
    "duration": 43,
    "start_time": "2021-12-15T19:37:26.528Z"
   },
   {
    "duration": 39,
    "start_time": "2021-12-15T19:37:26.578Z"
   },
   {
    "duration": 254,
    "start_time": "2021-12-15T19:37:26.620Z"
   },
   {
    "duration": 20,
    "start_time": "2021-12-15T19:37:26.877Z"
   },
   {
    "duration": 351,
    "start_time": "2021-12-15T19:37:26.916Z"
   },
   {
    "duration": 5,
    "start_time": "2021-12-15T19:37:27.270Z"
   },
   {
    "duration": 1384,
    "start_time": "2021-12-15T19:37:27.278Z"
   },
   {
    "duration": 301,
    "start_time": "2021-12-15T19:37:28.665Z"
   },
   {
    "duration": -6271,
    "start_time": "2021-12-15T19:37:35.239Z"
   },
   {
    "duration": -6295,
    "start_time": "2021-12-15T19:37:35.264Z"
   },
   {
    "duration": 4,
    "start_time": "2021-12-15T19:39:21.575Z"
   },
   {
    "duration": 276,
    "start_time": "2021-12-15T19:39:26.815Z"
   },
   {
    "duration": 9,
    "start_time": "2021-12-15T19:39:33.822Z"
   },
   {
    "duration": 1436,
    "start_time": "2021-12-15T19:39:35.812Z"
   },
   {
    "duration": 248,
    "start_time": "2021-12-15T19:44:47.776Z"
   },
   {
    "duration": 43,
    "start_time": "2021-12-15T19:45:02.880Z"
   },
   {
    "duration": 1415,
    "start_time": "2021-12-15T19:45:07.930Z"
   },
   {
    "duration": 421,
    "start_time": "2021-12-15T19:46:52.968Z"
   },
   {
    "duration": 237,
    "start_time": "2021-12-15T19:51:13.690Z"
   },
   {
    "duration": 251,
    "start_time": "2021-12-15T19:51:29.670Z"
   },
   {
    "duration": 5,
    "start_time": "2021-12-15T19:52:21.369Z"
   },
   {
    "duration": 325,
    "start_time": "2021-12-15T19:59:30.804Z"
   },
   {
    "duration": 225,
    "start_time": "2021-12-15T19:59:36.246Z"
   },
   {
    "duration": 7,
    "start_time": "2021-12-15T20:16:03.178Z"
   },
   {
    "duration": 6,
    "start_time": "2021-12-15T20:16:16.148Z"
   },
   {
    "duration": 7,
    "start_time": "2021-12-15T20:16:28.500Z"
   },
   {
    "duration": 13,
    "start_time": "2021-12-15T20:17:48.433Z"
   },
   {
    "duration": 274,
    "start_time": "2021-12-16T08:19:15.108Z"
   },
   {
    "duration": 1053,
    "start_time": "2021-12-16T08:19:25.623Z"
   },
   {
    "duration": 89,
    "start_time": "2021-12-16T08:19:26.677Z"
   },
   {
    "duration": 14,
    "start_time": "2021-12-16T08:19:26.768Z"
   },
   {
    "duration": 10,
    "start_time": "2021-12-16T08:19:26.783Z"
   },
   {
    "duration": 7,
    "start_time": "2021-12-16T08:19:26.794Z"
   },
   {
    "duration": 5,
    "start_time": "2021-12-16T08:19:26.802Z"
   },
   {
    "duration": 7,
    "start_time": "2021-12-16T08:19:26.809Z"
   },
   {
    "duration": 6,
    "start_time": "2021-12-16T08:19:26.817Z"
   },
   {
    "duration": 4,
    "start_time": "2021-12-16T08:19:26.825Z"
   },
   {
    "duration": 4,
    "start_time": "2021-12-16T08:19:26.831Z"
   },
   {
    "duration": 11,
    "start_time": "2021-12-16T08:19:26.836Z"
   },
   {
    "duration": 41,
    "start_time": "2021-12-16T08:19:26.848Z"
   },
   {
    "duration": 18,
    "start_time": "2021-12-16T08:19:26.891Z"
   },
   {
    "duration": 7,
    "start_time": "2021-12-16T08:19:26.911Z"
   },
   {
    "duration": 12,
    "start_time": "2021-12-16T08:19:26.919Z"
   },
   {
    "duration": 9,
    "start_time": "2021-12-16T08:19:26.932Z"
   },
   {
    "duration": 13,
    "start_time": "2021-12-16T08:19:26.942Z"
   },
   {
    "duration": 14,
    "start_time": "2021-12-16T08:19:26.956Z"
   },
   {
    "duration": 18,
    "start_time": "2021-12-16T08:19:26.971Z"
   },
   {
    "duration": 11,
    "start_time": "2021-12-16T08:19:26.991Z"
   },
   {
    "duration": 12,
    "start_time": "2021-12-16T08:19:27.004Z"
   },
   {
    "duration": 8,
    "start_time": "2021-12-16T08:19:27.018Z"
   },
   {
    "duration": 6,
    "start_time": "2021-12-16T08:19:27.028Z"
   },
   {
    "duration": 8,
    "start_time": "2021-12-16T08:19:27.035Z"
   },
   {
    "duration": 6,
    "start_time": "2021-12-16T08:19:27.044Z"
   },
   {
    "duration": 4,
    "start_time": "2021-12-16T08:19:27.088Z"
   },
   {
    "duration": 3,
    "start_time": "2021-12-16T08:19:27.096Z"
   },
   {
    "duration": 6,
    "start_time": "2021-12-16T08:19:27.102Z"
   },
   {
    "duration": 4,
    "start_time": "2021-12-16T08:19:27.109Z"
   },
   {
    "duration": 5,
    "start_time": "2021-12-16T08:19:27.115Z"
   },
   {
    "duration": 12,
    "start_time": "2021-12-16T08:19:27.121Z"
   },
   {
    "duration": 9,
    "start_time": "2021-12-16T08:19:27.135Z"
   },
   {
    "duration": 19,
    "start_time": "2021-12-16T08:19:27.146Z"
   },
   {
    "duration": 28,
    "start_time": "2021-12-16T08:19:27.166Z"
   },
   {
    "duration": 9,
    "start_time": "2021-12-16T08:19:27.196Z"
   },
   {
    "duration": 9,
    "start_time": "2021-12-16T08:19:27.206Z"
   },
   {
    "duration": 6,
    "start_time": "2021-12-16T08:19:27.217Z"
   },
   {
    "duration": 8,
    "start_time": "2021-12-16T08:19:27.225Z"
   },
   {
    "duration": 22,
    "start_time": "2021-12-16T08:19:27.234Z"
   },
   {
    "duration": 7,
    "start_time": "2021-12-16T08:19:27.257Z"
   },
   {
    "duration": 9,
    "start_time": "2021-12-16T08:19:27.266Z"
   },
   {
    "duration": 12,
    "start_time": "2021-12-16T08:19:27.276Z"
   },
   {
    "duration": 16,
    "start_time": "2021-12-16T08:19:27.289Z"
   },
   {
    "duration": 6,
    "start_time": "2021-12-16T08:19:27.306Z"
   },
   {
    "duration": 8,
    "start_time": "2021-12-16T08:19:27.314Z"
   },
   {
    "duration": 9,
    "start_time": "2021-12-16T08:19:27.324Z"
   },
   {
    "duration": 6,
    "start_time": "2021-12-16T08:19:27.335Z"
   },
   {
    "duration": 7,
    "start_time": "2021-12-16T08:19:27.343Z"
   },
   {
    "duration": 7,
    "start_time": "2021-12-16T08:19:27.351Z"
   },
   {
    "duration": 4,
    "start_time": "2021-12-16T08:19:27.387Z"
   },
   {
    "duration": 7,
    "start_time": "2021-12-16T08:19:27.393Z"
   },
   {
    "duration": 2,
    "start_time": "2021-12-16T08:19:27.402Z"
   },
   {
    "duration": 4,
    "start_time": "2021-12-16T08:19:27.405Z"
   },
   {
    "duration": 8,
    "start_time": "2021-12-16T08:19:27.411Z"
   },
   {
    "duration": 8,
    "start_time": "2021-12-16T08:19:27.421Z"
   },
   {
    "duration": 25,
    "start_time": "2021-12-16T08:19:27.430Z"
   },
   {
    "duration": 52,
    "start_time": "2021-12-16T08:19:27.456Z"
   },
   {
    "duration": 9,
    "start_time": "2021-12-16T08:19:27.510Z"
   },
   {
    "duration": 8,
    "start_time": "2021-12-16T08:19:27.521Z"
   },
   {
    "duration": 16,
    "start_time": "2021-12-16T08:19:27.531Z"
   },
   {
    "duration": 46,
    "start_time": "2021-12-16T08:19:27.548Z"
   },
   {
    "duration": 5,
    "start_time": "2021-12-16T08:19:27.595Z"
   },
   {
    "duration": 7,
    "start_time": "2021-12-16T08:19:27.601Z"
   },
   {
    "duration": 8,
    "start_time": "2021-12-16T08:19:27.609Z"
   },
   {
    "duration": 137,
    "start_time": "2021-12-16T08:19:27.619Z"
   },
   {
    "duration": 124,
    "start_time": "2021-12-16T08:19:27.758Z"
   },
   {
    "duration": 24,
    "start_time": "2021-12-16T08:19:27.888Z"
   },
   {
    "duration": 11,
    "start_time": "2021-12-16T08:19:27.914Z"
   },
   {
    "duration": 164,
    "start_time": "2021-12-16T08:19:27.926Z"
   },
   {
    "duration": 25,
    "start_time": "2021-12-16T08:19:35.795Z"
   },
   {
    "duration": 12,
    "start_time": "2021-12-16T08:19:42.207Z"
   },
   {
    "duration": 172,
    "start_time": "2021-12-16T08:19:51.630Z"
   },
   {
    "duration": 5,
    "start_time": "2021-12-16T08:39:38.358Z"
   },
   {
    "duration": 4,
    "start_time": "2021-12-16T08:39:42.491Z"
   },
   {
    "duration": 14,
    "start_time": "2021-12-16T08:40:24.135Z"
   },
   {
    "duration": 5,
    "start_time": "2021-12-16T08:40:36.232Z"
   },
   {
    "duration": 18,
    "start_time": "2021-12-16T08:44:04.033Z"
   },
   {
    "duration": 386,
    "start_time": "2021-12-16T08:45:13.101Z"
   },
   {
    "duration": 19,
    "start_time": "2021-12-16T08:46:18.684Z"
   },
   {
    "duration": 110,
    "start_time": "2021-12-16T08:46:34.524Z"
   },
   {
    "duration": 115,
    "start_time": "2021-12-16T08:46:42.477Z"
   },
   {
    "duration": 84,
    "start_time": "2021-12-16T08:46:52.503Z"
   },
   {
    "duration": 14,
    "start_time": "2021-12-16T08:47:28.077Z"
   },
   {
    "duration": 9,
    "start_time": "2021-12-16T10:42:41.899Z"
   },
   {
    "duration": 3,
    "start_time": "2021-12-16T10:42:47.212Z"
   },
   {
    "duration": 102,
    "start_time": "2021-12-16T10:42:47.217Z"
   },
   {
    "duration": 12,
    "start_time": "2021-12-16T10:42:47.321Z"
   },
   {
    "duration": 12,
    "start_time": "2021-12-16T10:42:47.335Z"
   },
   {
    "duration": 18,
    "start_time": "2021-12-16T10:42:47.349Z"
   },
   {
    "duration": 10,
    "start_time": "2021-12-16T10:42:47.369Z"
   },
   {
    "duration": 14,
    "start_time": "2021-12-16T10:42:47.381Z"
   },
   {
    "duration": 7,
    "start_time": "2021-12-16T10:42:47.397Z"
   },
   {
    "duration": 7,
    "start_time": "2021-12-16T10:42:47.406Z"
   },
   {
    "duration": 15,
    "start_time": "2021-12-16T10:42:47.414Z"
   },
   {
    "duration": 24,
    "start_time": "2021-12-16T10:42:47.431Z"
   },
   {
    "duration": 11,
    "start_time": "2021-12-16T10:42:47.457Z"
   },
   {
    "duration": 20,
    "start_time": "2021-12-16T10:42:47.470Z"
   },
   {
    "duration": 20,
    "start_time": "2021-12-16T10:42:47.492Z"
   },
   {
    "duration": 31,
    "start_time": "2021-12-16T10:42:47.513Z"
   },
   {
    "duration": 9,
    "start_time": "2021-12-16T10:42:47.546Z"
   },
   {
    "duration": 8,
    "start_time": "2021-12-16T10:42:47.557Z"
   },
   {
    "duration": 19,
    "start_time": "2021-12-16T10:42:47.567Z"
   },
   {
    "duration": 18,
    "start_time": "2021-12-16T10:42:47.590Z"
   },
   {
    "duration": 17,
    "start_time": "2021-12-16T10:42:47.611Z"
   },
   {
    "duration": 10,
    "start_time": "2021-12-16T10:42:47.630Z"
   },
   {
    "duration": 8,
    "start_time": "2021-12-16T10:42:47.642Z"
   },
   {
    "duration": 21,
    "start_time": "2021-12-16T10:42:47.651Z"
   },
   {
    "duration": 8,
    "start_time": "2021-12-16T10:42:47.674Z"
   },
   {
    "duration": 14,
    "start_time": "2021-12-16T10:42:47.688Z"
   },
   {
    "duration": 7,
    "start_time": "2021-12-16T10:42:47.703Z"
   },
   {
    "duration": 13,
    "start_time": "2021-12-16T10:42:47.712Z"
   },
   {
    "duration": 7,
    "start_time": "2021-12-16T10:42:47.727Z"
   },
   {
    "duration": 7,
    "start_time": "2021-12-16T10:42:47.736Z"
   },
   {
    "duration": 14,
    "start_time": "2021-12-16T10:42:47.745Z"
   },
   {
    "duration": 12,
    "start_time": "2021-12-16T10:42:47.760Z"
   },
   {
    "duration": 15,
    "start_time": "2021-12-16T10:42:47.774Z"
   },
   {
    "duration": 10,
    "start_time": "2021-12-16T10:42:47.791Z"
   },
   {
    "duration": 13,
    "start_time": "2021-12-16T10:42:47.803Z"
   },
   {
    "duration": 21,
    "start_time": "2021-12-16T10:42:47.818Z"
   },
   {
    "duration": 16,
    "start_time": "2021-12-16T10:42:47.841Z"
   },
   {
    "duration": 20,
    "start_time": "2021-12-16T10:42:47.859Z"
   },
   {
    "duration": 6,
    "start_time": "2021-12-16T10:42:47.881Z"
   },
   {
    "duration": 9,
    "start_time": "2021-12-16T10:42:47.888Z"
   },
   {
    "duration": 12,
    "start_time": "2021-12-16T10:42:47.899Z"
   },
   {
    "duration": 16,
    "start_time": "2021-12-16T10:42:47.913Z"
   },
   {
    "duration": 7,
    "start_time": "2021-12-16T10:42:47.930Z"
   },
   {
    "duration": 20,
    "start_time": "2021-12-16T10:42:47.939Z"
   },
   {
    "duration": 10,
    "start_time": "2021-12-16T10:42:47.961Z"
   },
   {
    "duration": 21,
    "start_time": "2021-12-16T10:42:47.972Z"
   },
   {
    "duration": 16,
    "start_time": "2021-12-16T10:42:47.995Z"
   },
   {
    "duration": 13,
    "start_time": "2021-12-16T10:42:48.013Z"
   },
   {
    "duration": 21,
    "start_time": "2021-12-16T10:42:48.027Z"
   },
   {
    "duration": 14,
    "start_time": "2021-12-16T10:42:48.050Z"
   },
   {
    "duration": 12,
    "start_time": "2021-12-16T10:42:48.065Z"
   },
   {
    "duration": 8,
    "start_time": "2021-12-16T10:42:48.078Z"
   },
   {
    "duration": 3,
    "start_time": "2021-12-16T10:42:48.088Z"
   },
   {
    "duration": 12,
    "start_time": "2021-12-16T10:42:48.093Z"
   },
   {
    "duration": 13,
    "start_time": "2021-12-16T10:42:48.106Z"
   },
   {
    "duration": 13,
    "start_time": "2021-12-16T10:42:48.125Z"
   },
   {
    "duration": 33,
    "start_time": "2021-12-16T10:42:48.141Z"
   },
   {
    "duration": 31,
    "start_time": "2021-12-16T10:42:48.175Z"
   },
   {
    "duration": 9,
    "start_time": "2021-12-16T10:42:48.208Z"
   },
   {
    "duration": 8,
    "start_time": "2021-12-16T10:42:48.218Z"
   },
   {
    "duration": 35,
    "start_time": "2021-12-16T10:42:48.227Z"
   },
   {
    "duration": 37,
    "start_time": "2021-12-16T10:42:48.264Z"
   },
   {
    "duration": 5,
    "start_time": "2021-12-16T10:42:48.303Z"
   },
   {
    "duration": 27,
    "start_time": "2021-12-16T10:42:48.310Z"
   },
   {
    "duration": 20,
    "start_time": "2021-12-16T10:42:48.339Z"
   },
   {
    "duration": 133,
    "start_time": "2021-12-16T10:42:48.360Z"
   },
   {
    "duration": 128,
    "start_time": "2021-12-16T10:42:48.495Z"
   },
   {
    "duration": 29,
    "start_time": "2021-12-16T10:42:48.625Z"
   },
   {
    "duration": 12,
    "start_time": "2021-12-16T10:42:48.656Z"
   },
   {
    "duration": 227,
    "start_time": "2021-12-16T10:42:48.669Z"
   },
   {
    "duration": 944,
    "start_time": "2021-12-16T10:42:48.898Z"
   },
   {
    "duration": -132,
    "start_time": "2021-12-16T10:42:49.976Z"
   },
   {
    "duration": -135,
    "start_time": "2021-12-16T10:42:49.980Z"
   },
   {
    "duration": -137,
    "start_time": "2021-12-16T10:42:49.983Z"
   },
   {
    "duration": -139,
    "start_time": "2021-12-16T10:42:49.986Z"
   },
   {
    "duration": -140,
    "start_time": "2021-12-16T10:42:49.988Z"
   },
   {
    "duration": -141,
    "start_time": "2021-12-16T10:42:49.990Z"
   },
   {
    "duration": -143,
    "start_time": "2021-12-16T10:42:49.993Z"
   },
   {
    "duration": -150,
    "start_time": "2021-12-16T10:42:50.001Z"
   },
   {
    "duration": -153,
    "start_time": "2021-12-16T10:42:50.005Z"
   },
   {
    "duration": -155,
    "start_time": "2021-12-16T10:42:50.008Z"
   },
   {
    "duration": -159,
    "start_time": "2021-12-16T10:42:50.013Z"
   },
   {
    "duration": -161,
    "start_time": "2021-12-16T10:42:50.016Z"
   },
   {
    "duration": -162,
    "start_time": "2021-12-16T10:42:50.018Z"
   },
   {
    "duration": -203,
    "start_time": "2021-12-16T10:42:50.059Z"
   },
   {
    "duration": -205,
    "start_time": "2021-12-16T10:42:50.062Z"
   },
   {
    "duration": 3,
    "start_time": "2021-12-16T10:43:59.630Z"
   },
   {
    "duration": 105,
    "start_time": "2021-12-16T10:43:59.636Z"
   },
   {
    "duration": 12,
    "start_time": "2021-12-16T10:43:59.744Z"
   },
   {
    "duration": 12,
    "start_time": "2021-12-16T10:43:59.759Z"
   },
   {
    "duration": 22,
    "start_time": "2021-12-16T10:43:59.773Z"
   },
   {
    "duration": 9,
    "start_time": "2021-12-16T10:43:59.797Z"
   },
   {
    "duration": 7,
    "start_time": "2021-12-16T10:43:59.808Z"
   },
   {
    "duration": 7,
    "start_time": "2021-12-16T10:43:59.816Z"
   },
   {
    "duration": 11,
    "start_time": "2021-12-16T10:43:59.825Z"
   },
   {
    "duration": 5,
    "start_time": "2021-12-16T10:43:59.838Z"
   },
   {
    "duration": 50,
    "start_time": "2021-12-16T10:43:59.844Z"
   },
   {
    "duration": 9,
    "start_time": "2021-12-16T10:43:59.896Z"
   },
   {
    "duration": 15,
    "start_time": "2021-12-16T10:43:59.907Z"
   },
   {
    "duration": 7,
    "start_time": "2021-12-16T10:43:59.924Z"
   },
   {
    "duration": 13,
    "start_time": "2021-12-16T10:43:59.933Z"
   },
   {
    "duration": 45,
    "start_time": "2021-12-16T10:43:59.948Z"
   },
   {
    "duration": 16,
    "start_time": "2021-12-16T10:43:59.994Z"
   },
   {
    "duration": 12,
    "start_time": "2021-12-16T10:44:00.012Z"
   },
   {
    "duration": 16,
    "start_time": "2021-12-16T10:44:00.030Z"
   },
   {
    "duration": 12,
    "start_time": "2021-12-16T10:44:00.049Z"
   },
   {
    "duration": 15,
    "start_time": "2021-12-16T10:44:00.087Z"
   },
   {
    "duration": 13,
    "start_time": "2021-12-16T10:44:00.105Z"
   },
   {
    "duration": 8,
    "start_time": "2021-12-16T10:44:00.121Z"
   },
   {
    "duration": 6,
    "start_time": "2021-12-16T10:44:00.131Z"
   },
   {
    "duration": 7,
    "start_time": "2021-12-16T10:44:00.138Z"
   },
   {
    "duration": 43,
    "start_time": "2021-12-16T10:44:00.147Z"
   },
   {
    "duration": 6,
    "start_time": "2021-12-16T10:44:00.192Z"
   },
   {
    "duration": 7,
    "start_time": "2021-12-16T10:44:00.200Z"
   },
   {
    "duration": 10,
    "start_time": "2021-12-16T10:44:00.209Z"
   },
   {
    "duration": 14,
    "start_time": "2021-12-16T10:44:00.221Z"
   },
   {
    "duration": 16,
    "start_time": "2021-12-16T10:44:00.237Z"
   },
   {
    "duration": 34,
    "start_time": "2021-12-16T10:44:00.255Z"
   },
   {
    "duration": 14,
    "start_time": "2021-12-16T10:44:00.292Z"
   },
   {
    "duration": 10,
    "start_time": "2021-12-16T10:44:00.308Z"
   },
   {
    "duration": 20,
    "start_time": "2021-12-16T10:44:00.320Z"
   },
   {
    "duration": 14,
    "start_time": "2021-12-16T10:44:00.343Z"
   },
   {
    "duration": 13,
    "start_time": "2021-12-16T10:44:00.359Z"
   },
   {
    "duration": 6,
    "start_time": "2021-12-16T10:44:00.387Z"
   },
   {
    "duration": 12,
    "start_time": "2021-12-16T10:44:00.395Z"
   },
   {
    "duration": 13,
    "start_time": "2021-12-16T10:44:00.409Z"
   },
   {
    "duration": 11,
    "start_time": "2021-12-16T10:44:00.425Z"
   },
   {
    "duration": 7,
    "start_time": "2021-12-16T10:44:00.438Z"
   },
   {
    "duration": 19,
    "start_time": "2021-12-16T10:44:00.448Z"
   },
   {
    "duration": 10,
    "start_time": "2021-12-16T10:44:00.488Z"
   },
   {
    "duration": 18,
    "start_time": "2021-12-16T10:44:00.500Z"
   },
   {
    "duration": 15,
    "start_time": "2021-12-16T10:44:00.520Z"
   },
   {
    "duration": 14,
    "start_time": "2021-12-16T10:44:00.537Z"
   },
   {
    "duration": 9,
    "start_time": "2021-12-16T10:44:00.554Z"
   },
   {
    "duration": 7,
    "start_time": "2021-12-16T10:44:00.589Z"
   },
   {
    "duration": 10,
    "start_time": "2021-12-16T10:44:00.598Z"
   },
   {
    "duration": 10,
    "start_time": "2021-12-16T10:44:00.610Z"
   },
   {
    "duration": 4,
    "start_time": "2021-12-16T10:44:00.621Z"
   },
   {
    "duration": 6,
    "start_time": "2021-12-16T10:44:00.627Z"
   },
   {
    "duration": 19,
    "start_time": "2021-12-16T10:44:00.635Z"
   },
   {
    "duration": 9,
    "start_time": "2021-12-16T10:44:00.689Z"
   },
   {
    "duration": 46,
    "start_time": "2021-12-16T10:44:00.701Z"
   },
   {
    "duration": 47,
    "start_time": "2021-12-16T10:44:00.749Z"
   },
   {
    "duration": 15,
    "start_time": "2021-12-16T10:44:00.799Z"
   },
   {
    "duration": 36,
    "start_time": "2021-12-16T10:44:00.817Z"
   },
   {
    "duration": 22,
    "start_time": "2021-12-16T10:44:00.856Z"
   },
   {
    "duration": 26,
    "start_time": "2021-12-16T10:44:00.881Z"
   },
   {
    "duration": 10,
    "start_time": "2021-12-16T10:44:00.909Z"
   },
   {
    "duration": 11,
    "start_time": "2021-12-16T10:44:00.921Z"
   },
   {
    "duration": 23,
    "start_time": "2021-12-16T10:44:00.935Z"
   },
   {
    "duration": 216,
    "start_time": "2021-12-16T10:44:00.960Z"
   },
   {
    "duration": 198,
    "start_time": "2021-12-16T10:44:01.178Z"
   },
   {
    "duration": 1178,
    "start_time": "2021-12-16T10:44:01.379Z"
   },
   {
    "duration": -121,
    "start_time": "2021-12-16T10:44:02.679Z"
   },
   {
    "duration": -129,
    "start_time": "2021-12-16T10:44:02.688Z"
   },
   {
    "duration": -131,
    "start_time": "2021-12-16T10:44:02.691Z"
   },
   {
    "duration": -206,
    "start_time": "2021-12-16T10:44:02.767Z"
   },
   {
    "duration": -220,
    "start_time": "2021-12-16T10:44:02.782Z"
   },
   {
    "duration": -221,
    "start_time": "2021-12-16T10:44:02.784Z"
   },
   {
    "duration": -223,
    "start_time": "2021-12-16T10:44:02.787Z"
   },
   {
    "duration": -224,
    "start_time": "2021-12-16T10:44:02.789Z"
   },
   {
    "duration": -227,
    "start_time": "2021-12-16T10:44:02.793Z"
   },
   {
    "duration": -230,
    "start_time": "2021-12-16T10:44:02.797Z"
   },
   {
    "duration": -233,
    "start_time": "2021-12-16T10:44:02.800Z"
   },
   {
    "duration": -233,
    "start_time": "2021-12-16T10:44:02.802Z"
   },
   {
    "duration": -237,
    "start_time": "2021-12-16T10:44:02.806Z"
   },
   {
    "duration": -240,
    "start_time": "2021-12-16T10:44:02.810Z"
   },
   {
    "duration": -242,
    "start_time": "2021-12-16T10:44:02.813Z"
   },
   {
    "duration": -243,
    "start_time": "2021-12-16T10:44:02.816Z"
   },
   {
    "duration": -245,
    "start_time": "2021-12-16T10:44:02.818Z"
   },
   {
    "duration": -246,
    "start_time": "2021-12-16T10:44:02.821Z"
   },
   {
    "duration": 396,
    "start_time": "2021-12-16T10:46:01.185Z"
   },
   {
    "duration": 3,
    "start_time": "2021-12-16T10:46:12.961Z"
   },
   {
    "duration": 109,
    "start_time": "2021-12-16T10:46:12.966Z"
   },
   {
    "duration": 17,
    "start_time": "2021-12-16T10:46:13.078Z"
   },
   {
    "duration": 10,
    "start_time": "2021-12-16T10:46:13.098Z"
   },
   {
    "duration": 8,
    "start_time": "2021-12-16T10:46:13.109Z"
   },
   {
    "duration": 5,
    "start_time": "2021-12-16T10:46:13.119Z"
   },
   {
    "duration": 6,
    "start_time": "2021-12-16T10:46:13.126Z"
   },
   {
    "duration": 5,
    "start_time": "2021-12-16T10:46:13.135Z"
   },
   {
    "duration": 45,
    "start_time": "2021-12-16T10:46:13.143Z"
   },
   {
    "duration": 6,
    "start_time": "2021-12-16T10:46:13.190Z"
   },
   {
    "duration": 14,
    "start_time": "2021-12-16T10:46:13.198Z"
   },
   {
    "duration": 11,
    "start_time": "2021-12-16T10:46:13.214Z"
   },
   {
    "duration": 19,
    "start_time": "2021-12-16T10:46:13.230Z"
   },
   {
    "duration": 40,
    "start_time": "2021-12-16T10:46:13.251Z"
   },
   {
    "duration": 20,
    "start_time": "2021-12-16T10:46:13.293Z"
   },
   {
    "duration": 18,
    "start_time": "2021-12-16T10:46:13.315Z"
   },
   {
    "duration": 15,
    "start_time": "2021-12-16T10:46:13.334Z"
   },
   {
    "duration": 359,
    "start_time": "2021-12-16T10:46:13.350Z"
   },
   {
    "duration": -130,
    "start_time": "2021-12-16T10:46:13.844Z"
   },
   {
    "duration": -131,
    "start_time": "2021-12-16T10:46:13.847Z"
   },
   {
    "duration": -133,
    "start_time": "2021-12-16T10:46:13.850Z"
   },
   {
    "duration": -136,
    "start_time": "2021-12-16T10:46:13.854Z"
   },
   {
    "duration": -137,
    "start_time": "2021-12-16T10:46:13.856Z"
   },
   {
    "duration": -138,
    "start_time": "2021-12-16T10:46:13.859Z"
   },
   {
    "duration": -141,
    "start_time": "2021-12-16T10:46:13.862Z"
   },
   {
    "duration": -192,
    "start_time": "2021-12-16T10:46:13.914Z"
   },
   {
    "duration": -195,
    "start_time": "2021-12-16T10:46:13.918Z"
   },
   {
    "duration": -196,
    "start_time": "2021-12-16T10:46:13.920Z"
   },
   {
    "duration": -199,
    "start_time": "2021-12-16T10:46:13.923Z"
   },
   {
    "duration": -206,
    "start_time": "2021-12-16T10:46:13.931Z"
   },
   {
    "duration": -209,
    "start_time": "2021-12-16T10:46:13.935Z"
   },
   {
    "duration": -212,
    "start_time": "2021-12-16T10:46:13.939Z"
   },
   {
    "duration": -214,
    "start_time": "2021-12-16T10:46:13.941Z"
   },
   {
    "duration": -216,
    "start_time": "2021-12-16T10:46:13.944Z"
   },
   {
    "duration": -217,
    "start_time": "2021-12-16T10:46:13.946Z"
   },
   {
    "duration": -219,
    "start_time": "2021-12-16T10:46:13.948Z"
   },
   {
    "duration": -220,
    "start_time": "2021-12-16T10:46:13.950Z"
   },
   {
    "duration": -222,
    "start_time": "2021-12-16T10:46:13.953Z"
   },
   {
    "duration": -224,
    "start_time": "2021-12-16T10:46:13.955Z"
   },
   {
    "duration": -225,
    "start_time": "2021-12-16T10:46:13.957Z"
   },
   {
    "duration": -227,
    "start_time": "2021-12-16T10:46:13.960Z"
   },
   {
    "duration": -229,
    "start_time": "2021-12-16T10:46:13.963Z"
   },
   {
    "duration": -230,
    "start_time": "2021-12-16T10:46:13.965Z"
   },
   {
    "duration": -232,
    "start_time": "2021-12-16T10:46:13.968Z"
   },
   {
    "duration": -233,
    "start_time": "2021-12-16T10:46:13.970Z"
   },
   {
    "duration": -234,
    "start_time": "2021-12-16T10:46:13.972Z"
   },
   {
    "duration": -234,
    "start_time": "2021-12-16T10:46:13.974Z"
   },
   {
    "duration": -235,
    "start_time": "2021-12-16T10:46:13.976Z"
   },
   {
    "duration": -234,
    "start_time": "2021-12-16T10:46:13.979Z"
   },
   {
    "duration": -235,
    "start_time": "2021-12-16T10:46:13.981Z"
   },
   {
    "duration": -236,
    "start_time": "2021-12-16T10:46:13.983Z"
   },
   {
    "duration": -236,
    "start_time": "2021-12-16T10:46:13.985Z"
   },
   {
    "duration": -238,
    "start_time": "2021-12-16T10:46:13.988Z"
   },
   {
    "duration": -239,
    "start_time": "2021-12-16T10:46:13.990Z"
   },
   {
    "duration": -240,
    "start_time": "2021-12-16T10:46:13.992Z"
   },
   {
    "duration": -249,
    "start_time": "2021-12-16T10:46:14.002Z"
   },
   {
    "duration": -254,
    "start_time": "2021-12-16T10:46:14.007Z"
   },
   {
    "duration": -255,
    "start_time": "2021-12-16T10:46:14.009Z"
   },
   {
    "duration": -258,
    "start_time": "2021-12-16T10:46:14.012Z"
   },
   {
    "duration": -226,
    "start_time": "2021-12-16T10:46:14.014Z"
   },
   {
    "duration": -228,
    "start_time": "2021-12-16T10:46:14.017Z"
   },
   {
    "duration": -231,
    "start_time": "2021-12-16T10:46:14.021Z"
   },
   {
    "duration": -232,
    "start_time": "2021-12-16T10:46:14.023Z"
   },
   {
    "duration": -234,
    "start_time": "2021-12-16T10:46:14.026Z"
   },
   {
    "duration": -236,
    "start_time": "2021-12-16T10:46:14.029Z"
   },
   {
    "duration": -238,
    "start_time": "2021-12-16T10:46:14.032Z"
   },
   {
    "duration": -239,
    "start_time": "2021-12-16T10:46:14.034Z"
   },
   {
    "duration": -251,
    "start_time": "2021-12-16T10:46:14.047Z"
   },
   {
    "duration": -268,
    "start_time": "2021-12-16T10:46:14.065Z"
   },
   {
    "duration": -273,
    "start_time": "2021-12-16T10:46:14.071Z"
   },
   {
    "duration": -276,
    "start_time": "2021-12-16T10:46:14.074Z"
   },
   {
    "duration": -278,
    "start_time": "2021-12-16T10:46:14.077Z"
   },
   {
    "duration": -292,
    "start_time": "2021-12-16T10:46:14.092Z"
   },
   {
    "duration": -404,
    "start_time": "2021-12-16T10:46:14.205Z"
   },
   {
    "duration": -470,
    "start_time": "2021-12-16T10:46:14.272Z"
   },
   {
    "duration": -480,
    "start_time": "2021-12-16T10:46:14.282Z"
   },
   {
    "duration": -481,
    "start_time": "2021-12-16T10:46:14.285Z"
   },
   {
    "duration": -492,
    "start_time": "2021-12-16T10:46:14.297Z"
   },
   {
    "duration": -494,
    "start_time": "2021-12-16T10:46:14.300Z"
   },
   {
    "duration": -541,
    "start_time": "2021-12-16T10:46:14.349Z"
   },
   {
    "duration": -542,
    "start_time": "2021-12-16T10:46:14.351Z"
   },
   {
    "duration": -554,
    "start_time": "2021-12-16T10:46:14.364Z"
   },
   {
    "duration": -556,
    "start_time": "2021-12-16T10:46:14.367Z"
   },
   {
    "duration": -560,
    "start_time": "2021-12-16T10:46:14.372Z"
   },
   {
    "duration": -568,
    "start_time": "2021-12-16T10:46:14.382Z"
   },
   {
    "duration": 5,
    "start_time": "2021-12-16T10:47:32.507Z"
   },
   {
    "duration": 10,
    "start_time": "2021-12-16T10:49:38.219Z"
   },
   {
    "duration": 4,
    "start_time": "2021-12-16T10:52:45.870Z"
   },
   {
    "duration": 7,
    "start_time": "2021-12-16T10:53:15.933Z"
   },
   {
    "duration": 12,
    "start_time": "2021-12-16T10:53:28.951Z"
   },
   {
    "duration": 8,
    "start_time": "2021-12-16T10:53:28.965Z"
   },
   {
    "duration": 6,
    "start_time": "2021-12-16T10:53:28.975Z"
   },
   {
    "duration": 266,
    "start_time": "2021-12-16T10:53:28.983Z"
   },
   {
    "duration": -200,
    "start_time": "2021-12-16T10:53:29.452Z"
   },
   {
    "duration": -203,
    "start_time": "2021-12-16T10:53:29.456Z"
   },
   {
    "duration": -205,
    "start_time": "2021-12-16T10:53:29.459Z"
   },
   {
    "duration": -208,
    "start_time": "2021-12-16T10:53:29.463Z"
   },
   {
    "duration": -212,
    "start_time": "2021-12-16T10:53:29.468Z"
   },
   {
    "duration": -213,
    "start_time": "2021-12-16T10:53:29.470Z"
   },
   {
    "duration": -215,
    "start_time": "2021-12-16T10:53:29.473Z"
   },
   {
    "duration": -218,
    "start_time": "2021-12-16T10:53:29.477Z"
   },
   {
    "duration": -221,
    "start_time": "2021-12-16T10:53:29.481Z"
   },
   {
    "duration": -223,
    "start_time": "2021-12-16T10:53:29.484Z"
   },
   {
    "duration": -225,
    "start_time": "2021-12-16T10:53:29.487Z"
   },
   {
    "duration": -226,
    "start_time": "2021-12-16T10:53:29.489Z"
   },
   {
    "duration": -228,
    "start_time": "2021-12-16T10:53:29.491Z"
   },
   {
    "duration": -230,
    "start_time": "2021-12-16T10:53:29.494Z"
   },
   {
    "duration": -232,
    "start_time": "2021-12-16T10:53:29.497Z"
   },
   {
    "duration": -238,
    "start_time": "2021-12-16T10:53:29.504Z"
   },
   {
    "duration": -240,
    "start_time": "2021-12-16T10:53:29.507Z"
   },
   {
    "duration": -249,
    "start_time": "2021-12-16T10:53:29.517Z"
   },
   {
    "duration": -251,
    "start_time": "2021-12-16T10:53:29.520Z"
   },
   {
    "duration": -253,
    "start_time": "2021-12-16T10:53:29.523Z"
   },
   {
    "duration": -254,
    "start_time": "2021-12-16T10:53:29.525Z"
   },
   {
    "duration": -255,
    "start_time": "2021-12-16T10:53:29.527Z"
   },
   {
    "duration": -259,
    "start_time": "2021-12-16T10:53:29.532Z"
   },
   {
    "duration": -261,
    "start_time": "2021-12-16T10:53:29.535Z"
   },
   {
    "duration": -262,
    "start_time": "2021-12-16T10:53:29.537Z"
   },
   {
    "duration": -264,
    "start_time": "2021-12-16T10:53:29.540Z"
   },
   {
    "duration": -265,
    "start_time": "2021-12-16T10:53:29.542Z"
   },
   {
    "duration": -266,
    "start_time": "2021-12-16T10:53:29.544Z"
   },
   {
    "duration": -268,
    "start_time": "2021-12-16T10:53:29.547Z"
   },
   {
    "duration": -272,
    "start_time": "2021-12-16T10:53:29.552Z"
   },
   {
    "duration": -274,
    "start_time": "2021-12-16T10:53:29.554Z"
   },
   {
    "duration": -276,
    "start_time": "2021-12-16T10:53:29.557Z"
   },
   {
    "duration": -277,
    "start_time": "2021-12-16T10:53:29.559Z"
   },
   {
    "duration": -278,
    "start_time": "2021-12-16T10:53:29.561Z"
   },
   {
    "duration": -280,
    "start_time": "2021-12-16T10:53:29.564Z"
   },
   {
    "duration": -280,
    "start_time": "2021-12-16T10:53:29.566Z"
   },
   {
    "duration": -281,
    "start_time": "2021-12-16T10:53:29.568Z"
   },
   {
    "duration": -283,
    "start_time": "2021-12-16T10:53:29.571Z"
   },
   {
    "duration": -285,
    "start_time": "2021-12-16T10:53:29.573Z"
   },
   {
    "duration": -286,
    "start_time": "2021-12-16T10:53:29.575Z"
   },
   {
    "duration": -288,
    "start_time": "2021-12-16T10:53:29.578Z"
   },
   {
    "duration": -290,
    "start_time": "2021-12-16T10:53:29.581Z"
   },
   {
    "duration": -291,
    "start_time": "2021-12-16T10:53:29.583Z"
   },
   {
    "duration": -295,
    "start_time": "2021-12-16T10:53:29.588Z"
   },
   {
    "duration": -317,
    "start_time": "2021-12-16T10:53:29.611Z"
   },
   {
    "duration": -386,
    "start_time": "2021-12-16T10:53:29.681Z"
   },
   {
    "duration": -387,
    "start_time": "2021-12-16T10:53:29.683Z"
   },
   {
    "duration": -403,
    "start_time": "2021-12-16T10:53:29.700Z"
   },
   {
    "duration": -418,
    "start_time": "2021-12-16T10:53:29.716Z"
   },
   {
    "duration": -419,
    "start_time": "2021-12-16T10:53:29.718Z"
   },
   {
    "duration": -420,
    "start_time": "2021-12-16T10:53:29.720Z"
   },
   {
    "duration": -423,
    "start_time": "2021-12-16T10:53:29.723Z"
   },
   {
    "duration": -424,
    "start_time": "2021-12-16T10:53:29.725Z"
   },
   {
    "duration": -450,
    "start_time": "2021-12-16T10:53:29.752Z"
   },
   {
    "duration": -453,
    "start_time": "2021-12-16T10:53:29.756Z"
   },
   {
    "duration": -455,
    "start_time": "2021-12-16T10:53:29.759Z"
   },
   {
    "duration": -457,
    "start_time": "2021-12-16T10:53:29.761Z"
   },
   {
    "duration": -460,
    "start_time": "2021-12-16T10:53:29.765Z"
   },
   {
    "duration": -461,
    "start_time": "2021-12-16T10:53:29.767Z"
   },
   {
    "duration": -462,
    "start_time": "2021-12-16T10:53:29.769Z"
   },
   {
    "duration": -464,
    "start_time": "2021-12-16T10:53:29.772Z"
   },
   {
    "duration": -466,
    "start_time": "2021-12-16T10:53:29.775Z"
   },
   {
    "duration": -468,
    "start_time": "2021-12-16T10:53:29.777Z"
   },
   {
    "duration": -470,
    "start_time": "2021-12-16T10:53:29.780Z"
   },
   {
    "duration": -472,
    "start_time": "2021-12-16T10:53:29.783Z"
   },
   {
    "duration": -473,
    "start_time": "2021-12-16T10:53:29.785Z"
   },
   {
    "duration": -474,
    "start_time": "2021-12-16T10:53:29.787Z"
   },
   {
    "duration": 1207,
    "start_time": "2021-12-16T10:54:11.904Z"
   },
   {
    "duration": 93,
    "start_time": "2021-12-16T10:54:13.113Z"
   },
   {
    "duration": 18,
    "start_time": "2021-12-16T10:54:13.208Z"
   },
   {
    "duration": 12,
    "start_time": "2021-12-16T10:54:13.229Z"
   },
   {
    "duration": 9,
    "start_time": "2021-12-16T10:54:13.243Z"
   },
   {
    "duration": 8,
    "start_time": "2021-12-16T10:54:13.253Z"
   },
   {
    "duration": 5,
    "start_time": "2021-12-16T10:54:13.263Z"
   },
   {
    "duration": 19,
    "start_time": "2021-12-16T10:54:13.270Z"
   },
   {
    "duration": 4,
    "start_time": "2021-12-16T10:54:13.291Z"
   },
   {
    "duration": 4,
    "start_time": "2021-12-16T10:54:13.297Z"
   },
   {
    "duration": 10,
    "start_time": "2021-12-16T10:54:13.303Z"
   },
   {
    "duration": 9,
    "start_time": "2021-12-16T10:54:13.314Z"
   },
   {
    "duration": 64,
    "start_time": "2021-12-16T10:54:13.325Z"
   },
   {
    "duration": 7,
    "start_time": "2021-12-16T10:54:13.391Z"
   },
   {
    "duration": 16,
    "start_time": "2021-12-16T10:54:13.400Z"
   },
   {
    "duration": 11,
    "start_time": "2021-12-16T10:54:13.418Z"
   },
   {
    "duration": 14,
    "start_time": "2021-12-16T10:54:20.722Z"
   },
   {
    "duration": 8,
    "start_time": "2021-12-16T10:54:23.717Z"
   },
   {
    "duration": 2,
    "start_time": "2021-12-16T10:58:08.125Z"
   },
   {
    "duration": 109,
    "start_time": "2021-12-16T10:58:08.129Z"
   },
   {
    "duration": 11,
    "start_time": "2021-12-16T10:58:08.240Z"
   },
   {
    "duration": 29,
    "start_time": "2021-12-16T10:58:08.253Z"
   },
   {
    "duration": 31,
    "start_time": "2021-12-16T10:58:08.284Z"
   },
   {
    "duration": 22,
    "start_time": "2021-12-16T10:58:08.317Z"
   },
   {
    "duration": 15,
    "start_time": "2021-12-16T10:58:08.341Z"
   },
   {
    "duration": 19,
    "start_time": "2021-12-16T10:58:08.358Z"
   },
   {
    "duration": 14,
    "start_time": "2021-12-16T10:58:08.379Z"
   },
   {
    "duration": 27,
    "start_time": "2021-12-16T10:58:08.395Z"
   },
   {
    "duration": 32,
    "start_time": "2021-12-16T10:58:08.423Z"
   },
   {
    "duration": 9,
    "start_time": "2021-12-16T10:58:08.456Z"
   },
   {
    "duration": 32,
    "start_time": "2021-12-16T10:58:08.467Z"
   },
   {
    "duration": 11,
    "start_time": "2021-12-16T10:58:08.501Z"
   },
   {
    "duration": 34,
    "start_time": "2021-12-16T10:58:08.514Z"
   },
   {
    "duration": 26,
    "start_time": "2021-12-16T10:58:08.550Z"
   },
   {
    "duration": 11,
    "start_time": "2021-12-16T10:58:12.596Z"
   },
   {
    "duration": 10,
    "start_time": "2021-12-16T10:58:17.395Z"
   },
   {
    "duration": 4,
    "start_time": "2021-12-16T10:58:20.055Z"
   },
   {
    "duration": 3,
    "start_time": "2021-12-16T10:59:00.439Z"
   },
   {
    "duration": 104,
    "start_time": "2021-12-16T10:59:00.444Z"
   },
   {
    "duration": 11,
    "start_time": "2021-12-16T10:59:00.550Z"
   },
   {
    "duration": 11,
    "start_time": "2021-12-16T10:59:00.563Z"
   },
   {
    "duration": 8,
    "start_time": "2021-12-16T10:59:00.576Z"
   },
   {
    "duration": 12,
    "start_time": "2021-12-16T10:59:00.585Z"
   },
   {
    "duration": 7,
    "start_time": "2021-12-16T10:59:00.598Z"
   },
   {
    "duration": 12,
    "start_time": "2021-12-16T10:59:00.607Z"
   },
   {
    "duration": 9,
    "start_time": "2021-12-16T10:59:00.621Z"
   },
   {
    "duration": 13,
    "start_time": "2021-12-16T10:59:00.632Z"
   },
   {
    "duration": 19,
    "start_time": "2021-12-16T10:59:00.647Z"
   },
   {
    "duration": 11,
    "start_time": "2021-12-16T10:59:00.667Z"
   },
   {
    "duration": 15,
    "start_time": "2021-12-16T10:59:00.680Z"
   },
   {
    "duration": 5,
    "start_time": "2021-12-16T10:59:00.696Z"
   },
   {
    "duration": 25,
    "start_time": "2021-12-16T10:59:00.703Z"
   },
   {
    "duration": 11,
    "start_time": "2021-12-16T10:59:00.730Z"
   },
   {
    "duration": 21,
    "start_time": "2021-12-16T10:59:00.742Z"
   },
   {
    "duration": 9,
    "start_time": "2021-12-16T10:59:04.314Z"
   },
   {
    "duration": 5,
    "start_time": "2021-12-16T10:59:31.535Z"
   },
   {
    "duration": 3,
    "start_time": "2021-12-16T10:59:48.115Z"
   },
   {
    "duration": 95,
    "start_time": "2021-12-16T10:59:48.120Z"
   },
   {
    "duration": 11,
    "start_time": "2021-12-16T10:59:48.217Z"
   },
   {
    "duration": 10,
    "start_time": "2021-12-16T10:59:48.230Z"
   },
   {
    "duration": 7,
    "start_time": "2021-12-16T10:59:48.242Z"
   },
   {
    "duration": 6,
    "start_time": "2021-12-16T10:59:48.251Z"
   },
   {
    "duration": 4,
    "start_time": "2021-12-16T10:59:48.259Z"
   },
   {
    "duration": 23,
    "start_time": "2021-12-16T10:59:48.265Z"
   },
   {
    "duration": 4,
    "start_time": "2021-12-16T10:59:48.290Z"
   },
   {
    "duration": 5,
    "start_time": "2021-12-16T10:59:48.296Z"
   },
   {
    "duration": 9,
    "start_time": "2021-12-16T10:59:48.303Z"
   },
   {
    "duration": 9,
    "start_time": "2021-12-16T10:59:48.314Z"
   },
   {
    "duration": 11,
    "start_time": "2021-12-16T10:59:48.325Z"
   },
   {
    "duration": 6,
    "start_time": "2021-12-16T10:59:48.338Z"
   },
   {
    "duration": 53,
    "start_time": "2021-12-16T10:59:48.346Z"
   },
   {
    "duration": 9,
    "start_time": "2021-12-16T10:59:48.400Z"
   },
   {
    "duration": 8,
    "start_time": "2021-12-16T10:59:50.728Z"
   },
   {
    "duration": 6,
    "start_time": "2021-12-16T10:59:52.035Z"
   },
   {
    "duration": 5,
    "start_time": "2021-12-16T10:59:54.789Z"
   },
   {
    "duration": 6,
    "start_time": "2021-12-16T11:00:29.046Z"
   },
   {
    "duration": 5,
    "start_time": "2021-12-16T11:00:55.829Z"
   },
   {
    "duration": 4,
    "start_time": "2021-12-16T11:00:58.769Z"
   },
   {
    "duration": 6,
    "start_time": "2021-12-16T11:01:11.334Z"
   },
   {
    "duration": 3,
    "start_time": "2021-12-16T11:02:00.125Z"
   },
   {
    "duration": 97,
    "start_time": "2021-12-16T11:02:00.130Z"
   },
   {
    "duration": 12,
    "start_time": "2021-12-16T11:02:00.229Z"
   },
   {
    "duration": 10,
    "start_time": "2021-12-16T11:02:00.243Z"
   },
   {
    "duration": 7,
    "start_time": "2021-12-16T11:02:00.255Z"
   },
   {
    "duration": 6,
    "start_time": "2021-12-16T11:02:00.264Z"
   },
   {
    "duration": 6,
    "start_time": "2021-12-16T11:02:00.273Z"
   },
   {
    "duration": 7,
    "start_time": "2021-12-16T11:02:00.281Z"
   },
   {
    "duration": 8,
    "start_time": "2021-12-16T11:02:00.290Z"
   },
   {
    "duration": 7,
    "start_time": "2021-12-16T11:02:00.300Z"
   },
   {
    "duration": 14,
    "start_time": "2021-12-16T11:02:00.309Z"
   },
   {
    "duration": 9,
    "start_time": "2021-12-16T11:02:00.324Z"
   },
   {
    "duration": 13,
    "start_time": "2021-12-16T11:02:00.335Z"
   },
   {
    "duration": 13,
    "start_time": "2021-12-16T11:02:00.350Z"
   },
   {
    "duration": 28,
    "start_time": "2021-12-16T11:02:00.365Z"
   },
   {
    "duration": 10,
    "start_time": "2021-12-16T11:02:00.395Z"
   },
   {
    "duration": 21,
    "start_time": "2021-12-16T11:02:00.406Z"
   },
   {
    "duration": 10,
    "start_time": "2021-12-16T11:02:02.490Z"
   },
   {
    "duration": 5,
    "start_time": "2021-12-16T11:02:10.040Z"
   },
   {
    "duration": 4,
    "start_time": "2021-12-16T11:04:52.953Z"
   },
   {
    "duration": 3,
    "start_time": "2021-12-16T11:28:27.896Z"
   },
   {
    "duration": 105,
    "start_time": "2021-12-16T11:28:27.901Z"
   },
   {
    "duration": 14,
    "start_time": "2021-12-16T11:28:28.008Z"
   },
   {
    "duration": 10,
    "start_time": "2021-12-16T11:28:28.024Z"
   },
   {
    "duration": 9,
    "start_time": "2021-12-16T11:28:28.035Z"
   },
   {
    "duration": 6,
    "start_time": "2021-12-16T11:28:28.046Z"
   },
   {
    "duration": 6,
    "start_time": "2021-12-16T11:28:28.055Z"
   },
   {
    "duration": 28,
    "start_time": "2021-12-16T11:28:28.064Z"
   },
   {
    "duration": 7,
    "start_time": "2021-12-16T11:28:28.094Z"
   },
   {
    "duration": 4,
    "start_time": "2021-12-16T11:28:28.103Z"
   },
   {
    "duration": 11,
    "start_time": "2021-12-16T11:28:28.109Z"
   },
   {
    "duration": 8,
    "start_time": "2021-12-16T11:28:28.122Z"
   },
   {
    "duration": 10,
    "start_time": "2021-12-16T11:28:28.132Z"
   },
   {
    "duration": 47,
    "start_time": "2021-12-16T11:28:28.143Z"
   },
   {
    "duration": 16,
    "start_time": "2021-12-16T11:28:28.192Z"
   },
   {
    "duration": 11,
    "start_time": "2021-12-16T11:28:28.210Z"
   },
   {
    "duration": 13,
    "start_time": "2021-12-16T11:28:28.223Z"
   },
   {
    "duration": 5,
    "start_time": "2021-12-16T11:28:28.238Z"
   },
   {
    "duration": 12,
    "start_time": "2021-12-16T11:28:28.247Z"
   },
   {
    "duration": 33,
    "start_time": "2021-12-16T11:28:28.262Z"
   },
   {
    "duration": 14,
    "start_time": "2021-12-16T11:28:28.297Z"
   },
   {
    "duration": 11,
    "start_time": "2021-12-16T11:28:28.312Z"
   },
   {
    "duration": 8,
    "start_time": "2021-12-16T11:28:28.325Z"
   },
   {
    "duration": 7,
    "start_time": "2021-12-16T11:28:28.335Z"
   },
   {
    "duration": 5,
    "start_time": "2021-12-16T11:28:28.344Z"
   },
   {
    "duration": 5,
    "start_time": "2021-12-16T11:28:28.388Z"
   },
   {
    "duration": 8,
    "start_time": "2021-12-16T11:28:28.395Z"
   },
   {
    "duration": 6,
    "start_time": "2021-12-16T11:28:28.405Z"
   },
   {
    "duration": 9,
    "start_time": "2021-12-16T11:28:28.412Z"
   },
   {
    "duration": 6,
    "start_time": "2021-12-16T11:28:28.423Z"
   },
   {
    "duration": 5,
    "start_time": "2021-12-16T11:28:28.430Z"
   },
   {
    "duration": 11,
    "start_time": "2021-12-16T11:28:28.437Z"
   },
   {
    "duration": 39,
    "start_time": "2021-12-16T11:28:28.450Z"
   },
   {
    "duration": 14,
    "start_time": "2021-12-16T11:28:28.491Z"
   },
   {
    "duration": 8,
    "start_time": "2021-12-16T11:28:28.508Z"
   },
   {
    "duration": 10,
    "start_time": "2021-12-16T11:28:28.518Z"
   },
   {
    "duration": 5,
    "start_time": "2021-12-16T11:28:28.529Z"
   },
   {
    "duration": 6,
    "start_time": "2021-12-16T11:28:28.535Z"
   },
   {
    "duration": 5,
    "start_time": "2021-12-16T11:28:28.542Z"
   },
   {
    "duration": 40,
    "start_time": "2021-12-16T11:28:28.549Z"
   },
   {
    "duration": 14,
    "start_time": "2021-12-16T11:28:28.590Z"
   },
   {
    "duration": 8,
    "start_time": "2021-12-16T11:28:28.606Z"
   },
   {
    "duration": 7,
    "start_time": "2021-12-16T11:28:28.615Z"
   },
   {
    "duration": 12,
    "start_time": "2021-12-16T11:28:28.623Z"
   },
   {
    "duration": 6,
    "start_time": "2021-12-16T11:28:28.637Z"
   },
   {
    "duration": 10,
    "start_time": "2021-12-16T11:28:28.644Z"
   },
   {
    "duration": 34,
    "start_time": "2021-12-16T11:28:28.656Z"
   },
   {
    "duration": 8,
    "start_time": "2021-12-16T11:28:28.691Z"
   },
   {
    "duration": 8,
    "start_time": "2021-12-16T11:28:28.701Z"
   },
   {
    "duration": 7,
    "start_time": "2021-12-16T11:28:28.711Z"
   },
   {
    "duration": 4,
    "start_time": "2021-12-16T11:28:28.720Z"
   },
   {
    "duration": 7,
    "start_time": "2021-12-16T11:28:28.726Z"
   },
   {
    "duration": 2,
    "start_time": "2021-12-16T11:28:28.734Z"
   },
   {
    "duration": 4,
    "start_time": "2021-12-16T11:28:28.738Z"
   },
   {
    "duration": 8,
    "start_time": "2021-12-16T11:28:28.788Z"
   },
   {
    "duration": 7,
    "start_time": "2021-12-16T11:28:28.799Z"
   },
   {
    "duration": 32,
    "start_time": "2021-12-16T11:28:28.807Z"
   },
   {
    "duration": 51,
    "start_time": "2021-12-16T11:28:28.841Z"
   },
   {
    "duration": 28,
    "start_time": "2021-12-16T11:28:28.894Z"
   },
   {
    "duration": 11,
    "start_time": "2021-12-16T11:28:28.923Z"
   },
   {
    "duration": 41,
    "start_time": "2021-12-16T11:28:28.935Z"
   },
   {
    "duration": 17,
    "start_time": "2021-12-16T11:28:28.977Z"
   },
   {
    "duration": 20,
    "start_time": "2021-12-16T11:28:28.995Z"
   },
   {
    "duration": 30,
    "start_time": "2021-12-16T11:28:29.016Z"
   },
   {
    "duration": 17,
    "start_time": "2021-12-16T11:28:29.047Z"
   },
   {
    "duration": 180,
    "start_time": "2021-12-16T11:28:29.066Z"
   },
   {
    "duration": 182,
    "start_time": "2021-12-16T11:28:29.247Z"
   },
   {
    "duration": 39,
    "start_time": "2021-12-16T11:28:29.431Z"
   },
   {
    "duration": 27,
    "start_time": "2021-12-16T11:28:29.472Z"
   },
   {
    "duration": 198,
    "start_time": "2021-12-16T11:28:29.501Z"
   },
   {
    "duration": 24,
    "start_time": "2021-12-16T11:28:29.701Z"
   },
   {
    "duration": 15,
    "start_time": "2021-12-16T11:28:29.727Z"
   },
   {
    "duration": 209,
    "start_time": "2021-12-16T11:28:29.743Z"
   },
   {
    "duration": 15,
    "start_time": "2021-12-16T11:28:29.954Z"
   },
   {
    "duration": 276,
    "start_time": "2021-12-16T11:28:29.971Z"
   },
   {
    "duration": 3,
    "start_time": "2021-12-16T11:28:30.248Z"
   },
   {
    "duration": 10,
    "start_time": "2021-12-16T11:28:30.253Z"
   },
   {
    "duration": 1167,
    "start_time": "2021-12-16T11:28:30.265Z"
   },
   {
    "duration": 238,
    "start_time": "2021-12-16T11:28:31.434Z"
   },
   {
    "duration": 1158,
    "start_time": "2021-12-16T11:28:31.674Z"
   },
   {
    "duration": 226,
    "start_time": "2021-12-16T11:28:32.834Z"
   },
   {
    "duration": 148,
    "start_time": "2021-12-16T11:28:33.062Z"
   },
   {
    "duration": 211,
    "start_time": "2021-12-16T11:28:33.212Z"
   },
   {
    "duration": 149,
    "start_time": "2021-12-16T11:28:33.425Z"
   },
   {
    "duration": 149,
    "start_time": "2021-12-16T11:28:33.576Z"
   },
   {
    "duration": 4,
    "start_time": "2021-12-16T11:28:33.727Z"
   },
   {
    "duration": 38,
    "start_time": "2021-12-16T11:51:26.433Z"
   },
   {
    "duration": 398,
    "start_time": "2021-12-16T11:54:00.478Z"
   },
   {
    "duration": 280,
    "start_time": "2021-12-16T11:54:35.991Z"
   },
   {
    "duration": 12,
    "start_time": "2021-12-16T11:55:09.111Z"
   },
   {
    "duration": 20,
    "start_time": "2021-12-16T12:00:48.960Z"
   },
   {
    "duration": 12,
    "start_time": "2021-12-16T12:01:15.152Z"
   },
   {
    "duration": 1666,
    "start_time": "2021-12-16T12:01:18.165Z"
   },
   {
    "duration": 13,
    "start_time": "2021-12-16T12:01:53.399Z"
   },
   {
    "duration": 650,
    "start_time": "2021-12-16T12:01:55.751Z"
   },
   {
    "duration": 3,
    "start_time": "2021-12-16T12:02:16.299Z"
   },
   {
    "duration": 4948,
    "start_time": "2021-12-16T12:02:16.340Z"
   },
   {
    "duration": 5668,
    "start_time": "2021-12-16T12:02:21.291Z"
   },
   {
    "duration": 4364,
    "start_time": "2021-12-16T12:02:26.961Z"
   },
   {
    "duration": 7587,
    "start_time": "2021-12-16T12:02:31.327Z"
   },
   {
    "duration": 5059,
    "start_time": "2021-12-16T12:02:38.916Z"
   },
   {
    "duration": 31,
    "start_time": "2021-12-16T12:02:43.977Z"
   },
   {
    "duration": 7,
    "start_time": "2021-12-16T12:02:44.009Z"
   },
   {
    "duration": 5,
    "start_time": "2021-12-16T12:02:44.020Z"
   },
   {
    "duration": 6,
    "start_time": "2021-12-16T12:02:44.028Z"
   },
   {
    "duration": 16,
    "start_time": "2021-12-16T12:02:44.035Z"
   },
   {
    "duration": 44,
    "start_time": "2021-12-16T12:02:44.053Z"
   },
   {
    "duration": 20,
    "start_time": "2021-12-16T12:02:44.099Z"
   },
   {
    "duration": 9,
    "start_time": "2021-12-16T12:02:44.121Z"
   },
   {
    "duration": 18,
    "start_time": "2021-12-16T12:02:44.131Z"
   },
   {
    "duration": 8,
    "start_time": "2021-12-16T12:02:44.151Z"
   },
   {
    "duration": 26,
    "start_time": "2021-12-16T12:02:44.161Z"
   },
   {
    "duration": 16,
    "start_time": "2021-12-16T12:02:44.193Z"
   },
   {
    "duration": 16,
    "start_time": "2021-12-16T12:02:44.212Z"
   },
   {
    "duration": 13,
    "start_time": "2021-12-16T12:02:44.230Z"
   },
   {
    "duration": 20,
    "start_time": "2021-12-16T12:02:44.246Z"
   },
   {
    "duration": 14,
    "start_time": "2021-12-16T12:02:44.268Z"
   },
   {
    "duration": 9,
    "start_time": "2021-12-16T12:02:44.285Z"
   },
   {
    "duration": 9,
    "start_time": "2021-12-16T12:02:44.300Z"
   },
   {
    "duration": 5,
    "start_time": "2021-12-16T12:02:44.312Z"
   },
   {
    "duration": 10,
    "start_time": "2021-12-16T12:02:44.318Z"
   },
   {
    "duration": 8,
    "start_time": "2021-12-16T12:02:44.329Z"
   },
   {
    "duration": 5,
    "start_time": "2021-12-16T12:02:44.339Z"
   },
   {
    "duration": 8,
    "start_time": "2021-12-16T12:02:44.346Z"
   },
   {
    "duration": 36,
    "start_time": "2021-12-16T12:02:44.356Z"
   },
   {
    "duration": 10,
    "start_time": "2021-12-16T12:02:44.393Z"
   },
   {
    "duration": 13,
    "start_time": "2021-12-16T12:02:44.405Z"
   },
   {
    "duration": 10,
    "start_time": "2021-12-16T12:02:44.420Z"
   },
   {
    "duration": 13,
    "start_time": "2021-12-16T12:02:44.433Z"
   },
   {
    "duration": 8,
    "start_time": "2021-12-16T12:02:44.448Z"
   },
   {
    "duration": 40,
    "start_time": "2021-12-16T12:02:44.458Z"
   },
   {
    "duration": 10,
    "start_time": "2021-12-16T12:02:44.499Z"
   },
   {
    "duration": 11,
    "start_time": "2021-12-16T12:02:44.511Z"
   },
   {
    "duration": 4,
    "start_time": "2021-12-16T12:02:44.524Z"
   },
   {
    "duration": 6,
    "start_time": "2021-12-16T12:02:44.530Z"
   },
   {
    "duration": 5,
    "start_time": "2021-12-16T12:02:44.538Z"
   },
   {
    "duration": 7,
    "start_time": "2021-12-16T12:02:44.545Z"
   },
   {
    "duration": 2,
    "start_time": "2021-12-16T12:02:44.588Z"
   },
   {
    "duration": 14,
    "start_time": "2021-12-16T12:02:44.593Z"
   },
   {
    "duration": 7,
    "start_time": "2021-12-16T12:02:44.610Z"
   },
   {
    "duration": 13,
    "start_time": "2021-12-16T12:02:44.619Z"
   },
   {
    "duration": 13,
    "start_time": "2021-12-16T12:02:44.635Z"
   },
   {
    "duration": 39,
    "start_time": "2021-12-16T12:02:44.650Z"
   },
   {
    "duration": 8,
    "start_time": "2021-12-16T12:02:44.692Z"
   },
   {
    "duration": 10,
    "start_time": "2021-12-16T12:02:44.702Z"
   },
   {
    "duration": 6,
    "start_time": "2021-12-16T12:02:44.714Z"
   },
   {
    "duration": 7,
    "start_time": "2021-12-16T12:02:44.722Z"
   },
   {
    "duration": 4,
    "start_time": "2021-12-16T12:02:44.731Z"
   },
   {
    "duration": 4,
    "start_time": "2021-12-16T12:02:44.737Z"
   },
   {
    "duration": 45,
    "start_time": "2021-12-16T12:02:44.743Z"
   },
   {
    "duration": 9,
    "start_time": "2021-12-16T12:02:44.790Z"
   },
   {
    "duration": 36,
    "start_time": "2021-12-16T12:02:44.801Z"
   },
   {
    "duration": 51,
    "start_time": "2021-12-16T12:02:44.840Z"
   },
   {
    "duration": 11,
    "start_time": "2021-12-16T12:02:44.893Z"
   },
   {
    "duration": 12,
    "start_time": "2021-12-16T12:02:44.905Z"
   },
   {
    "duration": 23,
    "start_time": "2021-12-16T12:02:44.919Z"
   },
   {
    "duration": 14,
    "start_time": "2021-12-16T12:02:44.943Z"
   },
   {
    "duration": 31,
    "start_time": "2021-12-16T12:02:44.959Z"
   },
   {
    "duration": 8,
    "start_time": "2021-12-16T12:02:44.991Z"
   },
   {
    "duration": 12,
    "start_time": "2021-12-16T12:02:45.000Z"
   },
   {
    "duration": 138,
    "start_time": "2021-12-16T12:02:45.014Z"
   },
   {
    "duration": 179,
    "start_time": "2021-12-16T12:02:45.154Z"
   },
   {
    "duration": 39,
    "start_time": "2021-12-16T12:02:45.335Z"
   },
   {
    "duration": 14,
    "start_time": "2021-12-16T12:02:45.392Z"
   },
   {
    "duration": 214,
    "start_time": "2021-12-16T12:02:45.409Z"
   },
   {
    "duration": 41,
    "start_time": "2021-12-16T12:02:45.625Z"
   },
   {
    "duration": 29,
    "start_time": "2021-12-16T12:02:45.668Z"
   },
   {
    "duration": 172,
    "start_time": "2021-12-16T12:02:45.699Z"
   },
   {
    "duration": 22,
    "start_time": "2021-12-16T12:02:45.873Z"
   },
   {
    "duration": 231,
    "start_time": "2021-12-16T12:02:45.898Z"
   },
   {
    "duration": 3,
    "start_time": "2021-12-16T12:02:46.132Z"
   },
   {
    "duration": 6,
    "start_time": "2021-12-16T12:02:46.137Z"
   },
   {
    "duration": 882,
    "start_time": "2021-12-16T12:02:46.145Z"
   },
   {
    "duration": 231,
    "start_time": "2021-12-16T12:02:47.029Z"
   },
   {
    "duration": 756,
    "start_time": "2021-12-16T12:02:47.262Z"
   },
   {
    "duration": 158,
    "start_time": "2021-12-16T12:02:48.020Z"
   },
   {
    "duration": 208,
    "start_time": "2021-12-16T12:02:48.180Z"
   },
   {
    "duration": 208,
    "start_time": "2021-12-16T12:02:48.389Z"
   },
   {
    "duration": 201,
    "start_time": "2021-12-16T12:02:48.599Z"
   },
   {
    "duration": 225,
    "start_time": "2021-12-16T12:02:48.801Z"
   },
   {
    "duration": 5,
    "start_time": "2021-12-16T12:02:49.028Z"
   },
   {
    "duration": 25,
    "start_time": "2021-12-16T12:02:59.845Z"
   },
   {
    "duration": 36,
    "start_time": "2021-12-16T12:03:01.088Z"
   },
   {
    "duration": 9,
    "start_time": "2021-12-16T12:08:09.289Z"
   },
   {
    "duration": 149,
    "start_time": "2021-12-16T12:15:01.388Z"
   },
   {
    "duration": 7,
    "start_time": "2021-12-16T12:17:03.252Z"
   },
   {
    "duration": 6,
    "start_time": "2021-12-16T12:57:02.085Z"
   },
   {
    "duration": 7,
    "start_time": "2021-12-16T12:58:00.755Z"
   },
   {
    "duration": 141,
    "start_time": "2021-12-16T12:58:36.068Z"
   },
   {
    "duration": 81,
    "start_time": "2021-12-16T13:04:39.809Z"
   },
   {
    "duration": 199,
    "start_time": "2021-12-16T13:04:43.306Z"
   },
   {
    "duration": 137,
    "start_time": "2021-12-16T13:04:51.251Z"
   },
   {
    "duration": 22,
    "start_time": "2021-12-16T13:13:08.650Z"
   },
   {
    "duration": 273,
    "start_time": "2021-12-16T13:14:42.442Z"
   },
   {
    "duration": 5,
    "start_time": "2021-12-16T13:15:16.172Z"
   },
   {
    "duration": 16,
    "start_time": "2021-12-16T13:15:21.676Z"
   },
   {
    "duration": 15,
    "start_time": "2021-12-16T13:15:41.781Z"
   },
   {
    "duration": 24,
    "start_time": "2021-12-16T13:15:45.467Z"
   },
   {
    "duration": 22,
    "start_time": "2021-12-16T13:15:58.155Z"
   },
   {
    "duration": 1785,
    "start_time": "2021-12-17T11:30:17.228Z"
   },
   {
    "duration": 111,
    "start_time": "2021-12-17T11:30:19.016Z"
   },
   {
    "duration": 22,
    "start_time": "2021-12-17T11:30:19.131Z"
   },
   {
    "duration": 13,
    "start_time": "2021-12-17T11:30:19.155Z"
   },
   {
    "duration": 9,
    "start_time": "2021-12-17T11:30:19.171Z"
   },
   {
    "duration": 6,
    "start_time": "2021-12-17T11:30:19.183Z"
   },
   {
    "duration": 8,
    "start_time": "2021-12-17T11:30:19.191Z"
   },
   {
    "duration": 5,
    "start_time": "2021-12-17T11:30:19.202Z"
   },
   {
    "duration": 5,
    "start_time": "2021-12-17T11:30:19.211Z"
   },
   {
    "duration": 43,
    "start_time": "2021-12-17T11:30:19.219Z"
   },
   {
    "duration": 16,
    "start_time": "2021-12-17T11:30:19.264Z"
   },
   {
    "duration": 13,
    "start_time": "2021-12-17T11:30:19.282Z"
   },
   {
    "duration": 18,
    "start_time": "2021-12-17T11:30:19.297Z"
   },
   {
    "duration": 46,
    "start_time": "2021-12-17T11:30:19.317Z"
   },
   {
    "duration": 19,
    "start_time": "2021-12-17T11:30:19.365Z"
   },
   {
    "duration": 13,
    "start_time": "2021-12-17T11:30:19.387Z"
   },
   {
    "duration": 15,
    "start_time": "2021-12-17T11:30:19.402Z"
   },
   {
    "duration": 5,
    "start_time": "2021-12-17T11:30:19.420Z"
   },
   {
    "duration": 14,
    "start_time": "2021-12-17T11:30:19.461Z"
   },
   {
    "duration": 12,
    "start_time": "2021-12-17T11:30:19.478Z"
   },
   {
    "duration": 19,
    "start_time": "2021-12-17T11:30:19.492Z"
   },
   {
    "duration": 54,
    "start_time": "2021-12-17T11:30:19.513Z"
   },
   {
    "duration": 9,
    "start_time": "2021-12-17T11:30:19.570Z"
   },
   {
    "duration": 8,
    "start_time": "2021-12-17T11:30:19.582Z"
   },
   {
    "duration": 6,
    "start_time": "2021-12-17T11:30:19.592Z"
   },
   {
    "duration": 9,
    "start_time": "2021-12-17T11:30:19.600Z"
   },
   {
    "duration": 5,
    "start_time": "2021-12-17T11:30:19.661Z"
   },
   {
    "duration": 6,
    "start_time": "2021-12-17T11:30:19.670Z"
   },
   {
    "duration": 8,
    "start_time": "2021-12-17T11:30:19.678Z"
   },
   {
    "duration": 9,
    "start_time": "2021-12-17T11:30:19.689Z"
   },
   {
    "duration": 5,
    "start_time": "2021-12-17T11:30:19.700Z"
   },
   {
    "duration": 11,
    "start_time": "2021-12-17T11:30:19.708Z"
   },
   {
    "duration": 13,
    "start_time": "2021-12-17T11:30:19.760Z"
   },
   {
    "duration": 18,
    "start_time": "2021-12-17T11:30:19.775Z"
   },
   {
    "duration": 14,
    "start_time": "2021-12-17T11:30:19.796Z"
   },
   {
    "duration": 48,
    "start_time": "2021-12-17T11:30:19.813Z"
   },
   {
    "duration": 8,
    "start_time": "2021-12-17T11:30:19.864Z"
   },
   {
    "duration": 7,
    "start_time": "2021-12-17T11:30:19.875Z"
   },
   {
    "duration": 6,
    "start_time": "2021-12-17T11:30:19.884Z"
   },
   {
    "duration": 6,
    "start_time": "2021-12-17T11:30:19.893Z"
   },
   {
    "duration": 6,
    "start_time": "2021-12-17T11:30:19.902Z"
   },
   {
    "duration": 8,
    "start_time": "2021-12-17T11:30:19.960Z"
   },
   {
    "duration": 3,
    "start_time": "2021-12-17T11:30:19.970Z"
   },
   {
    "duration": 21,
    "start_time": "2021-12-17T11:30:19.975Z"
   },
   {
    "duration": 12,
    "start_time": "2021-12-17T11:30:19.999Z"
   },
   {
    "duration": 53,
    "start_time": "2021-12-17T11:30:20.014Z"
   },
   {
    "duration": 20,
    "start_time": "2021-12-17T11:30:20.070Z"
   },
   {
    "duration": 11,
    "start_time": "2021-12-17T11:30:20.093Z"
   },
   {
    "duration": 11,
    "start_time": "2021-12-17T11:30:20.106Z"
   },
   {
    "duration": 46,
    "start_time": "2021-12-17T11:30:20.120Z"
   },
   {
    "duration": 8,
    "start_time": "2021-12-17T11:30:20.168Z"
   },
   {
    "duration": 9,
    "start_time": "2021-12-17T11:30:20.179Z"
   },
   {
    "duration": 3,
    "start_time": "2021-12-17T11:30:20.191Z"
   },
   {
    "duration": 19,
    "start_time": "2021-12-17T11:30:20.196Z"
   },
   {
    "duration": 51,
    "start_time": "2021-12-17T11:30:20.217Z"
   },
   {
    "duration": 14,
    "start_time": "2021-12-17T11:30:20.271Z"
   },
   {
    "duration": 45,
    "start_time": "2021-12-17T11:30:20.287Z"
   },
   {
    "duration": 44,
    "start_time": "2021-12-17T11:30:20.360Z"
   },
   {
    "duration": 13,
    "start_time": "2021-12-17T11:30:20.406Z"
   },
   {
    "duration": 40,
    "start_time": "2021-12-17T11:30:20.421Z"
   },
   {
    "duration": 33,
    "start_time": "2021-12-17T11:30:20.463Z"
   },
   {
    "duration": 23,
    "start_time": "2021-12-17T11:30:20.499Z"
   },
   {
    "duration": 37,
    "start_time": "2021-12-17T11:30:20.525Z"
   },
   {
    "duration": 13,
    "start_time": "2021-12-17T11:30:20.565Z"
   },
   {
    "duration": 14,
    "start_time": "2021-12-17T11:30:20.581Z"
   },
   {
    "duration": 319,
    "start_time": "2021-12-17T11:30:20.598Z"
   },
   {
    "duration": 323,
    "start_time": "2021-12-17T11:30:20.921Z"
   },
   {
    "duration": 57,
    "start_time": "2021-12-17T11:30:21.247Z"
   },
   {
    "duration": 24,
    "start_time": "2021-12-17T11:30:21.308Z"
   },
   {
    "duration": 371,
    "start_time": "2021-12-17T11:30:21.335Z"
   },
   {
    "duration": 82,
    "start_time": "2021-12-17T11:30:21.709Z"
   },
   {
    "duration": 25,
    "start_time": "2021-12-17T11:30:21.795Z"
   },
   {
    "duration": 296,
    "start_time": "2021-12-17T11:30:21.823Z"
   },
   {
    "duration": 38,
    "start_time": "2021-12-17T11:30:22.121Z"
   },
   {
    "duration": 436,
    "start_time": "2021-12-17T11:30:22.161Z"
   },
   {
    "duration": 4,
    "start_time": "2021-12-17T11:30:22.601Z"
   },
   {
    "duration": 10,
    "start_time": "2021-12-17T11:30:22.608Z"
   },
   {
    "duration": 2021,
    "start_time": "2021-12-17T11:30:22.620Z"
   },
   {
    "duration": 275,
    "start_time": "2021-12-17T11:30:24.644Z"
   },
   {
    "duration": 1448,
    "start_time": "2021-12-17T11:30:24.921Z"
   },
   {
    "duration": 262,
    "start_time": "2021-12-17T11:30:26.378Z"
   },
   {
    "duration": 257,
    "start_time": "2021-12-17T11:30:26.643Z"
   },
   {
    "duration": 252,
    "start_time": "2021-12-17T11:30:26.903Z"
   },
   {
    "duration": 257,
    "start_time": "2021-12-17T11:30:27.160Z"
   },
   {
    "duration": 254,
    "start_time": "2021-12-17T11:30:27.419Z"
   },
   {
    "duration": 8,
    "start_time": "2021-12-17T11:30:27.675Z"
   },
   {
    "duration": 36,
    "start_time": "2021-12-17T11:30:27.685Z"
   },
   {
    "duration": 42,
    "start_time": "2021-12-17T11:30:27.723Z"
   },
   {
    "duration": 12,
    "start_time": "2021-12-17T11:30:27.769Z"
   },
   {
    "duration": 8,
    "start_time": "2021-12-17T11:30:27.783Z"
   },
   {
    "duration": 8,
    "start_time": "2021-12-17T11:30:27.793Z"
   },
   {
    "duration": 270,
    "start_time": "2021-12-17T11:30:27.803Z"
   },
   {
    "duration": 20,
    "start_time": "2021-12-17T11:30:28.075Z"
   },
   {
    "duration": 6,
    "start_time": "2021-12-17T11:30:28.097Z"
   },
   {
    "duration": 1671,
    "start_time": "2021-12-18T09:13:41.130Z"
   },
   {
    "duration": 249,
    "start_time": "2021-12-18T09:13:42.804Z"
   },
   {
    "duration": 23,
    "start_time": "2021-12-18T09:13:43.056Z"
   },
   {
    "duration": 12,
    "start_time": "2021-12-18T09:13:43.082Z"
   },
   {
    "duration": 8,
    "start_time": "2021-12-18T09:13:43.097Z"
   },
   {
    "duration": 6,
    "start_time": "2021-12-18T09:13:43.108Z"
   },
   {
    "duration": 56,
    "start_time": "2021-12-18T09:13:43.117Z"
   },
   {
    "duration": 6,
    "start_time": "2021-12-18T09:13:43.178Z"
   },
   {
    "duration": 7,
    "start_time": "2021-12-18T09:13:43.187Z"
   },
   {
    "duration": 7,
    "start_time": "2021-12-18T09:13:43.197Z"
   },
   {
    "duration": 62,
    "start_time": "2021-12-18T09:13:43.207Z"
   },
   {
    "duration": 18,
    "start_time": "2021-12-18T09:13:43.272Z"
   },
   {
    "duration": 27,
    "start_time": "2021-12-18T09:13:43.293Z"
   },
   {
    "duration": 40,
    "start_time": "2021-12-18T09:13:43.323Z"
   },
   {
    "duration": 19,
    "start_time": "2021-12-18T09:13:43.365Z"
   },
   {
    "duration": 15,
    "start_time": "2021-12-18T09:13:43.387Z"
   },
   {
    "duration": 14,
    "start_time": "2021-12-18T09:13:43.404Z"
   },
   {
    "duration": 42,
    "start_time": "2021-12-18T09:13:43.421Z"
   },
   {
    "duration": 15,
    "start_time": "2021-12-18T09:13:43.466Z"
   },
   {
    "duration": 14,
    "start_time": "2021-12-18T09:13:43.483Z"
   },
   {
    "duration": 19,
    "start_time": "2021-12-18T09:13:43.502Z"
   },
   {
    "duration": 52,
    "start_time": "2021-12-18T09:13:43.524Z"
   },
   {
    "duration": 8,
    "start_time": "2021-12-18T09:13:43.583Z"
   },
   {
    "duration": 11,
    "start_time": "2021-12-18T09:13:43.595Z"
   },
   {
    "duration": 5,
    "start_time": "2021-12-18T09:13:43.608Z"
   },
   {
    "duration": 49,
    "start_time": "2021-12-18T09:13:43.615Z"
   },
   {
    "duration": 7,
    "start_time": "2021-12-18T09:13:43.667Z"
   },
   {
    "duration": 8,
    "start_time": "2021-12-18T09:13:43.677Z"
   },
   {
    "duration": 10,
    "start_time": "2021-12-18T09:13:43.687Z"
   },
   {
    "duration": 7,
    "start_time": "2021-12-18T09:13:43.700Z"
   },
   {
    "duration": 6,
    "start_time": "2021-12-18T09:13:43.709Z"
   },
   {
    "duration": 11,
    "start_time": "2021-12-18T09:13:43.763Z"
   },
   {
    "duration": 14,
    "start_time": "2021-12-18T09:13:43.777Z"
   },
   {
    "duration": 70,
    "start_time": "2021-12-18T09:13:43.793Z"
   },
   {
    "duration": 11,
    "start_time": "2021-12-18T09:13:43.865Z"
   },
   {
    "duration": 8,
    "start_time": "2021-12-18T09:13:43.895Z"
   },
   {
    "duration": 5,
    "start_time": "2021-12-18T09:13:43.906Z"
   },
   {
    "duration": 6,
    "start_time": "2021-12-18T09:13:43.913Z"
   },
   {
    "duration": 44,
    "start_time": "2021-12-18T09:13:43.921Z"
   },
   {
    "duration": 5,
    "start_time": "2021-12-18T09:13:43.968Z"
   },
   {
    "duration": 6,
    "start_time": "2021-12-18T09:13:43.975Z"
   },
   {
    "duration": 8,
    "start_time": "2021-12-18T09:13:43.984Z"
   },
   {
    "duration": 3,
    "start_time": "2021-12-18T09:13:43.994Z"
   },
   {
    "duration": 76,
    "start_time": "2021-12-18T09:13:43.999Z"
   },
   {
    "duration": 10,
    "start_time": "2021-12-18T09:13:44.077Z"
   },
   {
    "duration": 13,
    "start_time": "2021-12-18T09:13:44.090Z"
   },
   {
    "duration": 58,
    "start_time": "2021-12-18T09:13:44.106Z"
   },
   {
    "duration": 12,
    "start_time": "2021-12-18T09:13:44.167Z"
   },
   {
    "duration": 11,
    "start_time": "2021-12-18T09:13:44.183Z"
   },
   {
    "duration": 8,
    "start_time": "2021-12-18T09:13:44.197Z"
   },
   {
    "duration": 55,
    "start_time": "2021-12-18T09:13:44.208Z"
   },
   {
    "duration": 11,
    "start_time": "2021-12-18T09:13:44.266Z"
   },
   {
    "duration": 4,
    "start_time": "2021-12-18T09:13:44.281Z"
   },
   {
    "duration": 4,
    "start_time": "2021-12-18T09:13:44.288Z"
   },
   {
    "duration": 15,
    "start_time": "2021-12-18T09:13:44.295Z"
   },
   {
    "duration": 52,
    "start_time": "2021-12-18T09:13:44.313Z"
   },
   {
    "duration": 57,
    "start_time": "2021-12-18T09:13:44.368Z"
   },
   {
    "duration": 69,
    "start_time": "2021-12-18T09:13:44.428Z"
   },
   {
    "duration": 14,
    "start_time": "2021-12-18T09:13:44.499Z"
   },
   {
    "duration": 10,
    "start_time": "2021-12-18T09:13:44.515Z"
   },
   {
    "duration": 65,
    "start_time": "2021-12-18T09:13:44.528Z"
   },
   {
    "duration": 32,
    "start_time": "2021-12-18T09:13:44.596Z"
   },
   {
    "duration": 32,
    "start_time": "2021-12-18T09:13:44.631Z"
   },
   {
    "duration": 12,
    "start_time": "2021-12-18T09:13:44.666Z"
   },
   {
    "duration": 14,
    "start_time": "2021-12-18T09:13:44.681Z"
   },
   {
    "duration": 331,
    "start_time": "2021-12-18T09:13:44.698Z"
   },
   {
    "duration": 304,
    "start_time": "2021-12-18T09:13:45.033Z"
   },
   {
    "duration": 62,
    "start_time": "2021-12-18T09:13:45.345Z"
   },
   {
    "duration": 19,
    "start_time": "2021-12-18T09:13:45.411Z"
   },
   {
    "duration": 270,
    "start_time": "2021-12-18T09:13:45.432Z"
   },
   {
    "duration": 63,
    "start_time": "2021-12-18T09:13:45.704Z"
   },
   {
    "duration": 26,
    "start_time": "2021-12-18T09:13:45.770Z"
   },
   {
    "duration": 384,
    "start_time": "2021-12-18T09:13:45.798Z"
   },
   {
    "duration": 29,
    "start_time": "2021-12-18T09:13:46.185Z"
   },
   {
    "duration": 640,
    "start_time": "2021-12-18T09:13:46.217Z"
   },
   {
    "duration": 4,
    "start_time": "2021-12-18T09:13:46.864Z"
   },
   {
    "duration": 7,
    "start_time": "2021-12-18T09:13:46.871Z"
   },
   {
    "duration": 2018,
    "start_time": "2021-12-18T09:13:46.881Z"
   },
   {
    "duration": 290,
    "start_time": "2021-12-18T09:13:48.902Z"
   },
   {
    "duration": 2125,
    "start_time": "2021-12-18T09:13:49.195Z"
   },
   {
    "duration": 381,
    "start_time": "2021-12-18T09:13:51.324Z"
   },
   {
    "duration": 381,
    "start_time": "2021-12-18T09:13:51.708Z"
   },
   {
    "duration": 339,
    "start_time": "2021-12-18T09:13:52.092Z"
   },
   {
    "duration": 352,
    "start_time": "2021-12-18T09:13:52.434Z"
   },
   {
    "duration": 376,
    "start_time": "2021-12-18T09:13:52.790Z"
   },
   {
    "duration": 8,
    "start_time": "2021-12-18T09:13:53.169Z"
   },
   {
    "duration": 32,
    "start_time": "2021-12-18T09:13:53.180Z"
   },
   {
    "duration": 12,
    "start_time": "2021-12-18T09:13:53.215Z"
   },
   {
    "duration": 43,
    "start_time": "2021-12-18T09:13:53.229Z"
   },
   {
    "duration": 9,
    "start_time": "2021-12-18T09:13:53.274Z"
   },
   {
    "duration": 9,
    "start_time": "2021-12-18T09:13:53.286Z"
   },
   {
    "duration": 257,
    "start_time": "2021-12-18T09:13:53.297Z"
   },
   {
    "duration": 24,
    "start_time": "2021-12-18T09:13:53.557Z"
   },
   {
    "duration": 5,
    "start_time": "2021-12-18T09:13:53.583Z"
   },
   {
    "duration": 1086,
    "start_time": "2021-12-18T09:16:29.841Z"
   },
   {
    "duration": 809,
    "start_time": "2021-12-18T09:16:41.415Z"
   },
   {
    "duration": 591,
    "start_time": "2021-12-18T09:16:56.020Z"
   },
   {
    "duration": 674,
    "start_time": "2021-12-18T09:20:59.820Z"
   },
   {
    "duration": 6,
    "start_time": "2021-12-18T09:35:50.220Z"
   },
   {
    "duration": 97,
    "start_time": "2021-12-18T09:35:51.968Z"
   },
   {
    "duration": 293,
    "start_time": "2021-12-18T09:35:59.632Z"
   },
   {
    "duration": 7,
    "start_time": "2021-12-18T09:37:41.312Z"
   },
   {
    "duration": 292,
    "start_time": "2021-12-18T09:37:59.256Z"
   },
   {
    "duration": 579,
    "start_time": "2021-12-18T09:38:26.632Z"
   },
   {
    "duration": 6,
    "start_time": "2021-12-18T09:38:50.549Z"
   },
   {
    "duration": 575,
    "start_time": "2021-12-18T09:38:57.682Z"
   },
   {
    "duration": 286,
    "start_time": "2021-12-18T09:39:18.463Z"
   },
   {
    "duration": 985,
    "start_time": "2021-12-18T09:39:28.380Z"
   },
   {
    "duration": 90,
    "start_time": "2021-12-18T10:54:53.362Z"
   },
   {
    "duration": 585,
    "start_time": "2021-12-18T10:55:30.593Z"
   },
   {
    "duration": 764,
    "start_time": "2021-12-18T10:57:45.334Z"
   },
   {
    "duration": 809,
    "start_time": "2021-12-18T10:58:26.067Z"
   },
   {
    "duration": 788,
    "start_time": "2021-12-18T10:58:48.895Z"
   },
   {
    "duration": 5,
    "start_time": "2021-12-18T10:59:01.847Z"
   },
   {
    "duration": 147,
    "start_time": "2021-12-18T10:59:01.858Z"
   },
   {
    "duration": 18,
    "start_time": "2021-12-18T10:59:02.008Z"
   },
   {
    "duration": 44,
    "start_time": "2021-12-18T10:59:02.028Z"
   },
   {
    "duration": 39,
    "start_time": "2021-12-18T10:59:02.075Z"
   },
   {
    "duration": 43,
    "start_time": "2021-12-18T10:59:02.117Z"
   },
   {
    "duration": 57,
    "start_time": "2021-12-18T10:59:02.162Z"
   },
   {
    "duration": 49,
    "start_time": "2021-12-18T10:59:02.221Z"
   },
   {
    "duration": 43,
    "start_time": "2021-12-18T10:59:02.274Z"
   },
   {
    "duration": 36,
    "start_time": "2021-12-18T10:59:02.320Z"
   },
   {
    "duration": 58,
    "start_time": "2021-12-18T10:59:02.359Z"
   },
   {
    "duration": 45,
    "start_time": "2021-12-18T10:59:02.420Z"
   },
   {
    "duration": 51,
    "start_time": "2021-12-18T10:59:02.467Z"
   },
   {
    "duration": 44,
    "start_time": "2021-12-18T10:59:02.521Z"
   },
   {
    "duration": 54,
    "start_time": "2021-12-18T10:59:02.568Z"
   },
   {
    "duration": 34,
    "start_time": "2021-12-18T10:59:02.625Z"
   },
   {
    "duration": 38,
    "start_time": "2021-12-18T10:59:02.662Z"
   },
   {
    "duration": 11,
    "start_time": "2021-12-18T10:59:02.703Z"
   },
   {
    "duration": 39,
    "start_time": "2021-12-18T10:59:02.716Z"
   },
   {
    "duration": 33,
    "start_time": "2021-12-18T10:59:02.757Z"
   },
   {
    "duration": 31,
    "start_time": "2021-12-18T10:59:02.792Z"
   },
   {
    "duration": 46,
    "start_time": "2021-12-18T10:59:02.826Z"
   },
   {
    "duration": 34,
    "start_time": "2021-12-18T10:59:02.876Z"
   },
   {
    "duration": 34,
    "start_time": "2021-12-18T10:59:02.916Z"
   },
   {
    "duration": 32,
    "start_time": "2021-12-18T10:59:02.954Z"
   },
   {
    "duration": 40,
    "start_time": "2021-12-18T10:59:02.988Z"
   },
   {
    "duration": 32,
    "start_time": "2021-12-18T10:59:03.030Z"
   },
   {
    "duration": 22,
    "start_time": "2021-12-18T10:59:03.065Z"
   },
   {
    "duration": 41,
    "start_time": "2021-12-18T10:59:03.089Z"
   },
   {
    "duration": 32,
    "start_time": "2021-12-18T10:59:03.132Z"
   },
   {
    "duration": 36,
    "start_time": "2021-12-18T10:59:03.168Z"
   },
   {
    "duration": 53,
    "start_time": "2021-12-18T10:59:03.207Z"
   },
   {
    "duration": 30,
    "start_time": "2021-12-18T10:59:03.264Z"
   },
   {
    "duration": 30,
    "start_time": "2021-12-18T10:59:03.296Z"
   },
   {
    "duration": 56,
    "start_time": "2021-12-18T10:59:03.328Z"
   },
   {
    "duration": 41,
    "start_time": "2021-12-18T10:59:03.387Z"
   },
   {
    "duration": 47,
    "start_time": "2021-12-18T10:59:03.430Z"
   },
   {
    "duration": 66,
    "start_time": "2021-12-18T10:59:03.480Z"
   },
   {
    "duration": 71,
    "start_time": "2021-12-18T10:59:03.549Z"
   },
   {
    "duration": 54,
    "start_time": "2021-12-18T10:59:03.623Z"
   },
   {
    "duration": 35,
    "start_time": "2021-12-18T10:59:03.680Z"
   },
   {
    "duration": 31,
    "start_time": "2021-12-18T10:59:03.718Z"
   },
   {
    "duration": 52,
    "start_time": "2021-12-18T10:59:03.752Z"
   },
   {
    "duration": 68,
    "start_time": "2021-12-18T10:59:03.806Z"
   },
   {
    "duration": 41,
    "start_time": "2021-12-18T10:59:03.877Z"
   },
   {
    "duration": 71,
    "start_time": "2021-12-18T10:59:03.921Z"
   },
   {
    "duration": 46,
    "start_time": "2021-12-18T10:59:03.994Z"
   },
   {
    "duration": 37,
    "start_time": "2021-12-18T10:59:04.042Z"
   },
   {
    "duration": 25,
    "start_time": "2021-12-18T10:59:04.082Z"
   },
   {
    "duration": 18,
    "start_time": "2021-12-18T10:59:04.109Z"
   },
   {
    "duration": 65,
    "start_time": "2021-12-18T10:59:04.130Z"
   },
   {
    "duration": 51,
    "start_time": "2021-12-18T10:59:04.198Z"
   },
   {
    "duration": 39,
    "start_time": "2021-12-18T10:59:04.252Z"
   },
   {
    "duration": 39,
    "start_time": "2021-12-18T10:59:04.294Z"
   },
   {
    "duration": 46,
    "start_time": "2021-12-18T10:59:04.337Z"
   },
   {
    "duration": 27,
    "start_time": "2021-12-18T10:59:04.385Z"
   },
   {
    "duration": 65,
    "start_time": "2021-12-18T10:59:04.415Z"
   },
   {
    "duration": 39,
    "start_time": "2021-12-18T10:59:04.483Z"
   },
   {
    "duration": 17,
    "start_time": "2021-12-18T10:59:04.525Z"
   },
   {
    "duration": 12,
    "start_time": "2021-12-18T10:59:04.562Z"
   },
   {
    "duration": 56,
    "start_time": "2021-12-18T10:59:04.576Z"
   },
   {
    "duration": 33,
    "start_time": "2021-12-18T10:59:04.634Z"
   },
   {
    "duration": 16,
    "start_time": "2021-12-18T10:59:04.670Z"
   },
   {
    "duration": 41,
    "start_time": "2021-12-18T10:59:04.688Z"
   },
   {
    "duration": 39,
    "start_time": "2021-12-18T10:59:04.731Z"
   },
   {
    "duration": 209,
    "start_time": "2021-12-18T10:59:04.773Z"
   },
   {
    "duration": 223,
    "start_time": "2021-12-18T10:59:04.984Z"
   },
   {
    "duration": 58,
    "start_time": "2021-12-18T10:59:05.209Z"
   },
   {
    "duration": 16,
    "start_time": "2021-12-18T10:59:05.274Z"
   },
   {
    "duration": 330,
    "start_time": "2021-12-18T10:59:05.293Z"
   },
   {
    "duration": 57,
    "start_time": "2021-12-18T10:59:05.625Z"
   },
   {
    "duration": 21,
    "start_time": "2021-12-18T10:59:05.684Z"
   },
   {
    "duration": 280,
    "start_time": "2021-12-18T10:59:05.708Z"
   },
   {
    "duration": 22,
    "start_time": "2021-12-18T10:59:05.991Z"
   },
   {
    "duration": 524,
    "start_time": "2021-12-18T10:59:06.016Z"
   },
   {
    "duration": 4,
    "start_time": "2021-12-18T10:59:06.543Z"
   },
   {
    "duration": 38,
    "start_time": "2021-12-18T10:59:06.550Z"
   },
   {
    "duration": 1934,
    "start_time": "2021-12-18T10:59:06.591Z"
   },
   {
    "duration": 394,
    "start_time": "2021-12-18T10:59:08.528Z"
   },
   {
    "duration": 2070,
    "start_time": "2021-12-18T10:59:08.925Z"
   },
   {
    "duration": 267,
    "start_time": "2021-12-18T10:59:10.998Z"
   },
   {
    "duration": 258,
    "start_time": "2021-12-18T10:59:11.268Z"
   },
   {
    "duration": 261,
    "start_time": "2021-12-18T10:59:11.529Z"
   },
   {
    "duration": 244,
    "start_time": "2021-12-18T10:59:11.792Z"
   },
   {
    "duration": 258,
    "start_time": "2021-12-18T10:59:12.038Z"
   },
   {
    "duration": 6,
    "start_time": "2021-12-18T10:59:12.299Z"
   },
   {
    "duration": 53,
    "start_time": "2021-12-18T10:59:12.308Z"
   },
   {
    "duration": 39,
    "start_time": "2021-12-18T10:59:12.366Z"
   },
   {
    "duration": 28,
    "start_time": "2021-12-18T10:59:12.408Z"
   },
   {
    "duration": 38,
    "start_time": "2021-12-18T10:59:12.439Z"
   },
   {
    "duration": 24,
    "start_time": "2021-12-18T10:59:12.481Z"
   },
   {
    "duration": 289,
    "start_time": "2021-12-18T10:59:12.508Z"
   },
   {
    "duration": 21,
    "start_time": "2021-12-18T10:59:12.799Z"
   },
   {
    "duration": 749,
    "start_time": "2021-12-18T10:59:12.822Z"
   },
   {
    "duration": -1445,
    "start_time": "2021-12-18T10:59:15.019Z"
   },
   {
    "duration": 746,
    "start_time": "2021-12-18T10:59:39.669Z"
   },
   {
    "duration": 7,
    "start_time": "2021-12-18T10:59:48.287Z"
   },
   {
    "duration": 7,
    "start_time": "2021-12-18T11:00:36.914Z"
   },
   {
    "duration": 620,
    "start_time": "2021-12-18T11:00:39.144Z"
   },
   {
    "duration": 664,
    "start_time": "2021-12-18T11:03:54.954Z"
   },
   {
    "duration": 5,
    "start_time": "2021-12-18T11:09:45.981Z"
   },
   {
    "duration": 617,
    "start_time": "2021-12-18T11:09:48.373Z"
   },
   {
    "duration": 8,
    "start_time": "2021-12-18T11:10:47.595Z"
   },
   {
    "duration": 614,
    "start_time": "2021-12-18T11:10:49.302Z"
   },
   {
    "duration": 6,
    "start_time": "2021-12-18T11:11:09.525Z"
   },
   {
    "duration": 652,
    "start_time": "2021-12-18T11:11:11.421Z"
   },
   {
    "duration": 8,
    "start_time": "2021-12-18T11:12:24.829Z"
   },
   {
    "duration": 39433,
    "start_time": "2021-12-18T11:12:27.711Z"
   },
   {
    "duration": 6,
    "start_time": "2021-12-18T11:45:25.829Z"
   },
   {
    "duration": 39263,
    "start_time": "2021-12-18T11:45:29.084Z"
   },
   {
    "duration": 10,
    "start_time": "2021-12-18T12:08:56.632Z"
   },
   {
    "duration": 41388,
    "start_time": "2021-12-18T12:09:00.459Z"
   },
   {
    "duration": 6,
    "start_time": "2021-12-18T12:10:35.227Z"
   },
   {
    "duration": 38650,
    "start_time": "2021-12-18T12:10:37.372Z"
   },
   {
    "duration": 6,
    "start_time": "2021-12-18T12:12:26.868Z"
   },
   {
    "duration": 37946,
    "start_time": "2021-12-18T12:12:28.867Z"
   },
   {
    "duration": 10,
    "start_time": "2021-12-18T12:15:25.059Z"
   },
   {
    "duration": 6,
    "start_time": "2021-12-18T12:21:39.638Z"
   },
   {
    "duration": 584652,
    "start_time": "2021-12-18T12:21:42.432Z"
   },
   {
    "duration": 8,
    "start_time": "2021-12-18T12:38:37.669Z"
   },
   {
    "duration": 4003,
    "start_time": "2021-12-18T12:40:39.716Z"
   },
   {
    "duration": 7,
    "start_time": "2021-12-18T12:41:22.492Z"
   },
   {
    "duration": 1292151,
    "start_time": "2021-12-18T12:41:25.827Z"
   },
   {
    "duration": 44,
    "start_time": "2021-12-18T13:03:53.007Z"
   },
   {
    "duration": 45,
    "start_time": "2021-12-18T13:05:17.106Z"
   },
   {
    "duration": 43,
    "start_time": "2021-12-18T13:06:24.513Z"
   },
   {
    "duration": 43,
    "start_time": "2021-12-18T13:08:25.862Z"
   },
   {
    "duration": 43,
    "start_time": "2021-12-18T13:08:34.748Z"
   },
   {
    "duration": 44,
    "start_time": "2021-12-18T13:08:39.638Z"
   },
   {
    "duration": 88,
    "start_time": "2021-12-18T13:17:05.621Z"
   },
   {
    "duration": 1302120,
    "start_time": "2021-12-18T13:17:27.822Z"
   },
   {
    "duration": 46,
    "start_time": "2021-12-18T13:41:21.030Z"
   },
   {
    "duration": 47,
    "start_time": "2021-12-18T13:41:25.378Z"
   },
   {
    "duration": 5,
    "start_time": "2021-12-18T13:41:42.961Z"
   },
   {
    "duration": 99,
    "start_time": "2021-12-18T13:41:52.555Z"
   },
   {
    "duration": 6,
    "start_time": "2021-12-18T13:42:13.644Z"
   },
   {
    "duration": 94,
    "start_time": "2021-12-18T13:42:21.784Z"
   },
   {
    "duration": 588,
    "start_time": "2021-12-18T13:43:15.189Z"
   },
   {
    "duration": 12797,
    "start_time": "2021-12-18T13:48:41.993Z"
   },
   {
    "duration": 94,
    "start_time": "2021-12-18T13:49:58.627Z"
   },
   {
    "duration": 15720,
    "start_time": "2021-12-18T13:50:03.171Z"
   },
   {
    "duration": 138,
    "start_time": "2021-12-18T13:50:44.409Z"
   },
   {
    "duration": 6,
    "start_time": "2021-12-18T13:50:49.212Z"
   },
   {
    "duration": 709,
    "start_time": "2021-12-18T13:50:53.866Z"
   },
   {
    "duration": 578,
    "start_time": "2021-12-18T13:51:52.092Z"
   },
   {
    "duration": 7,
    "start_time": "2021-12-18T13:52:07.862Z"
   },
   {
    "duration": 615,
    "start_time": "2021-12-18T13:52:12.054Z"
   },
   {
    "duration": 15111,
    "start_time": "2021-12-18T13:53:15.918Z"
   },
   {
    "duration": 290,
    "start_time": "2021-12-18T13:54:02.341Z"
   },
   {
    "duration": 769,
    "start_time": "2021-12-18T13:55:14.470Z"
   },
   {
    "duration": 6,
    "start_time": "2021-12-18T13:55:26.846Z"
   },
   {
    "duration": 5,
    "start_time": "2021-12-18T13:55:38.610Z"
   },
   {
    "duration": 286,
    "start_time": "2021-12-18T13:55:44.673Z"
   },
   {
    "duration": 369,
    "start_time": "2021-12-18T13:56:10.014Z"
   },
   {
    "duration": 6,
    "start_time": "2021-12-18T13:56:19.640Z"
   },
   {
    "duration": 341,
    "start_time": "2021-12-18T13:56:26.578Z"
   },
   {
    "duration": 12581,
    "start_time": "2021-12-18T17:15:09.881Z"
   },
   {
    "duration": 25293,
    "start_time": "2021-12-18T17:16:02.825Z"
   },
   {
    "duration": 189,
    "start_time": "2021-12-18T17:17:04.541Z"
   },
   {
    "duration": 878,
    "start_time": "2021-12-18T17:18:32.082Z"
   },
   {
    "duration": 15568,
    "start_time": "2021-12-18T17:19:19.236Z"
   },
   {
    "duration": 22957,
    "start_time": "2021-12-18T17:19:36.907Z"
   },
   {
    "duration": 95143,
    "start_time": "2021-12-18T17:34:39.170Z"
   },
   {
    "duration": 167049,
    "start_time": "2021-12-18T17:38:42.653Z"
   },
   {
    "duration": 236847,
    "start_time": "2021-12-18T17:42:21.024Z"
   },
   {
    "duration": 305,
    "start_time": "2021-12-18T17:46:44.604Z"
   },
   {
    "duration": 382519,
    "start_time": "2021-12-18T17:46:58.634Z"
   },
   {
    "duration": 11,
    "start_time": "2021-12-18T17:53:21.164Z"
   },
   {
    "duration": 94,
    "start_time": "2021-12-18T17:59:13.329Z"
   },
   {
    "duration": 9356504,
    "start_time": "2021-12-18T17:59:21.661Z"
   },
   {
    "duration": -2866,
    "start_time": "2021-12-18T20:35:21.034Z"
   },
   {
    "duration": -2897,
    "start_time": "2021-12-18T20:35:21.067Z"
   },
   {
    "duration": -2917,
    "start_time": "2021-12-18T20:35:21.089Z"
   },
   {
    "duration": 7,
    "start_time": "2021-12-18T20:36:55.329Z"
   },
   {
    "duration": 39266,
    "start_time": "2021-12-18T20:37:06.898Z"
   },
   {
    "duration": 100,
    "start_time": "2021-12-18T20:37:52.050Z"
   },
   {
    "duration": 570,
    "start_time": "2021-12-18T20:38:11.753Z"
   },
   {
    "duration": 28227,
    "start_time": "2021-12-18T20:39:59.421Z"
   },
   {
    "duration": 12173,
    "start_time": "2021-12-18T20:42:45.692Z"
   },
   {
    "duration": 5007795,
    "start_time": "2021-12-18T20:43:06.711Z"
   },
   {
    "duration": 978270,
    "start_time": "2021-12-19T03:43:38.845Z"
   },
   {
    "duration": 43108,
    "start_time": "2021-12-19T04:00:29.890Z"
   },
   {
    "duration": -140,
    "start_time": "2021-12-19T04:01:13.140Z"
   },
   {
    "duration": 92,
    "start_time": "2021-12-19T04:01:19.513Z"
   },
   {
    "duration": 1243,
    "start_time": "2021-12-19T04:01:30.107Z"
   },
   {
    "duration": 20003,
    "start_time": "2021-12-19T04:01:44.460Z"
   },
   {
    "duration": 78588,
    "start_time": "2021-12-19T04:02:19.076Z"
   },
   {
    "duration": 107261,
    "start_time": "2021-12-19T04:05:39.311Z"
   },
   {
    "duration": 6666,
    "start_time": "2021-12-19T04:09:11.882Z"
   },
   {
    "duration": 148117,
    "start_time": "2021-12-19T04:09:45.450Z"
   },
   {
    "duration": 7612308,
    "start_time": "2021-12-19T04:23:30.694Z"
   },
   {
    "duration": 13,
    "start_time": "2021-12-19T06:36:04.776Z"
   },
   {
    "duration": 614,
    "start_time": "2021-12-19T06:40:08.846Z"
   },
   {
    "duration": 600,
    "start_time": "2021-12-19T06:50:35.488Z"
   },
   {
    "duration": 40108,
    "start_time": "2021-12-19T06:50:55.038Z"
   },
   {
    "duration": 580,
    "start_time": "2021-12-19T06:52:55.985Z"
   },
   {
    "duration": 73424,
    "start_time": "2021-12-19T06:53:43.113Z"
   },
   {
    "duration": 5151,
    "start_time": "2021-12-19T07:26:20.536Z"
   },
   {
    "duration": 447293,
    "start_time": "2021-12-19T07:26:29.689Z"
   },
   {
    "duration": 231765,
    "start_time": "2021-12-19T07:37:45.618Z"
   },
   {
    "duration": 232272,
    "start_time": "2021-12-19T07:42:02.691Z"
   },
   {
    "duration": 242703,
    "start_time": "2021-12-19T07:48:07.260Z"
   },
   {
    "duration": 1757,
    "start_time": "2021-12-19T07:53:57.951Z"
   },
   {
    "duration": 1776,
    "start_time": "2021-12-19T07:54:43.354Z"
   },
   {
    "duration": 8006,
    "start_time": "2021-12-19T07:56:09.257Z"
   },
   {
    "duration": 92,
    "start_time": "2021-12-19T07:56:34.107Z"
   },
   {
    "duration": 9549,
    "start_time": "2021-12-19T07:56:38.914Z"
   },
   {
    "duration": 43578,
    "start_time": "2021-12-19T07:57:20.056Z"
   },
   {
    "duration": 242267,
    "start_time": "2021-12-19T07:58:21.899Z"
   },
   {
    "duration": 43826,
    "start_time": "2021-12-19T08:03:36.558Z"
   },
   {
    "duration": 446,
    "start_time": "2021-12-19T08:04:19.941Z"
   },
   {
    "duration": 267901,
    "start_time": "2021-12-19T08:08:56.171Z"
   },
   {
    "duration": 336,
    "start_time": "2021-12-19T08:13:24.165Z"
   },
   {
    "duration": 6,
    "start_time": "2021-12-19T08:18:06.826Z"
   },
   {
    "duration": 646,
    "start_time": "2021-12-19T08:18:12.683Z"
   },
   {
    "duration": 85,
    "start_time": "2021-12-19T08:29:11.868Z"
   },
   {
    "duration": 5740,
    "start_time": "2021-12-19T08:30:44.206Z"
   },
   {
    "duration": 86,
    "start_time": "2021-12-19T08:30:59.750Z"
   },
   {
    "duration": 5772,
    "start_time": "2021-12-19T08:31:17.981Z"
   },
   {
    "duration": 5870,
    "start_time": "2021-12-19T08:31:38.314Z"
   },
   {
    "duration": 90,
    "start_time": "2021-12-19T08:37:07.706Z"
   },
   {
    "duration": 9570,
    "start_time": "2021-12-19T08:37:20.291Z"
   },
   {
    "duration": 138,
    "start_time": "2021-12-19T08:37:43.259Z"
   },
   {
    "duration": 98,
    "start_time": "2021-12-19T08:38:48.377Z"
   },
   {
    "duration": 305,
    "start_time": "2021-12-19T08:39:07.515Z"
   },
   {
    "duration": 22,
    "start_time": "2021-12-19T08:39:32.561Z"
   },
   {
    "duration": 22,
    "start_time": "2021-12-19T08:40:27.729Z"
   },
   {
    "duration": 565,
    "start_time": "2021-12-19T09:00:58.722Z"
   },
   {
    "duration": 572,
    "start_time": "2021-12-19T09:03:22.498Z"
   },
   {
    "duration": 1039,
    "start_time": "2021-12-19T09:05:14.712Z"
   },
   {
    "duration": 685,
    "start_time": "2021-12-19T09:06:21.396Z"
   },
   {
    "duration": 161,
    "start_time": "2021-12-19T09:06:47.337Z"
   },
   {
    "duration": 12,
    "start_time": "2021-12-19T09:06:57.388Z"
   },
   {
    "duration": 12,
    "start_time": "2021-12-19T09:07:00.814Z"
   },
   {
    "duration": 714,
    "start_time": "2021-12-19T09:08:04.934Z"
   },
   {
    "duration": 716,
    "start_time": "2021-12-19T09:08:08.915Z"
   },
   {
    "duration": 147,
    "start_time": "2021-12-19T09:08:55.482Z"
   },
   {
    "duration": 11,
    "start_time": "2021-12-19T09:08:59.976Z"
   },
   {
    "duration": 154,
    "start_time": "2021-12-19T09:09:37.639Z"
   },
   {
    "duration": 13,
    "start_time": "2021-12-19T09:09:39.793Z"
   },
   {
    "duration": 23,
    "start_time": "2021-12-19T09:09:56.432Z"
   },
   {
    "duration": 244,
    "start_time": "2021-12-19T09:10:34.002Z"
   },
   {
    "duration": 285,
    "start_time": "2021-12-19T09:30:34.499Z"
   },
   {
    "duration": 6,
    "start_time": "2021-12-19T09:31:30.966Z"
   },
   {
    "duration": 313,
    "start_time": "2021-12-19T09:32:04.108Z"
   },
   {
    "duration": 28,
    "start_time": "2021-12-19T09:32:37.660Z"
   },
   {
    "duration": 30,
    "start_time": "2021-12-19T09:40:55.451Z"
   },
   {
    "duration": 13,
    "start_time": "2021-12-19T09:41:06.513Z"
   },
   {
    "duration": 53,
    "start_time": "2021-12-19T09:41:14.209Z"
   },
   {
    "duration": 127,
    "start_time": "2021-12-19T09:45:25.567Z"
   },
   {
    "duration": 7,
    "start_time": "2021-12-19T09:45:35.288Z"
   },
   {
    "duration": 367672,
    "start_time": "2021-12-19T09:45:37.686Z"
   },
   {
    "duration": 39563,
    "start_time": "2021-12-19T09:51:52.072Z"
   },
   {
    "duration": 6908,
    "start_time": "2021-12-19T09:53:53.877Z"
   },
   {
    "duration": 41554,
    "start_time": "2021-12-19T09:54:07.080Z"
   },
   {
    "duration": 4790,
    "start_time": "2021-12-19T09:55:57.855Z"
   },
   {
    "duration": 574716,
    "start_time": "2021-12-19T09:56:08.848Z"
   },
   {
    "duration": 4011,
    "start_time": "2021-12-19T10:13:42.163Z"
   },
   {
    "duration": 287633,
    "start_time": "2021-12-19T10:14:12.336Z"
   },
   {
    "duration": 6636,
    "start_time": "2021-12-19T10:22:42.529Z"
   },
   {
    "duration": 298125,
    "start_time": "2021-12-19T10:24:08.442Z"
   },
   {
    "duration": 1462540,
    "start_time": "2021-12-19T10:29:06.572Z"
   },
   {
    "duration": 18453,
    "start_time": "2021-12-19T10:54:03.552Z"
   },
   {
    "duration": 28,
    "start_time": "2021-12-19T10:55:46.874Z"
   },
   {
    "duration": 2932247,
    "start_time": "2021-12-19T10:55:56.886Z"
   },
   {
    "duration": 327,
    "start_time": "2021-12-19T11:58:54.184Z"
   },
   {
    "duration": 387,
    "start_time": "2021-12-19T11:59:23.612Z"
   },
   {
    "duration": 279,
    "start_time": "2021-12-19T11:59:33.626Z"
   },
   {
    "duration": 177,
    "start_time": "2021-12-19T11:59:40.234Z"
   },
   {
    "duration": 26,
    "start_time": "2021-12-19T11:59:46.436Z"
   },
   {
    "duration": 345,
    "start_time": "2021-12-19T12:19:37.459Z"
   },
   {
    "duration": 409,
    "start_time": "2021-12-19T12:36:29.520Z"
   },
   {
    "duration": 6,
    "start_time": "2021-12-19T12:38:54.305Z"
   },
   {
    "duration": 39420,
    "start_time": "2021-12-19T12:40:15.261Z"
   },
   {
    "duration": 43795,
    "start_time": "2021-12-19T12:40:54.684Z"
   },
   {
    "duration": 39,
    "start_time": "2021-12-19T12:45:50.707Z"
   },
   {
    "duration": 294,
    "start_time": "2021-12-19T12:47:31.809Z"
   },
   {
    "duration": 3901,
    "start_time": "2021-12-19T12:47:47.288Z"
   },
   {
    "duration": 4541,
    "start_time": "2021-12-19T12:48:09.073Z"
   },
   {
    "duration": 4118,
    "start_time": "2021-12-19T12:59:43.373Z"
   },
   {
    "duration": 38,
    "start_time": "2021-12-19T12:59:52.363Z"
   },
   {
    "duration": 4234,
    "start_time": "2021-12-19T13:28:47.835Z"
   },
   {
    "duration": 318,
    "start_time": "2021-12-19T13:30:14.062Z"
   },
   {
    "duration": 3783,
    "start_time": "2021-12-19T13:31:21.103Z"
   },
   {
    "duration": 5264,
    "start_time": "2021-12-19T13:32:57.539Z"
   },
   {
    "duration": 68,
    "start_time": "2021-12-19T13:33:21.994Z"
   },
   {
    "duration": 4238,
    "start_time": "2021-12-19T13:33:50.040Z"
   },
   {
    "duration": 7,
    "start_time": "2021-12-19T13:48:13.175Z"
   },
   {
    "duration": 56394,
    "start_time": "2021-12-19T13:48:21.422Z"
   },
   {
    "duration": 61038,
    "start_time": "2021-12-19T13:49:17.818Z"
   },
   {
    "duration": 47,
    "start_time": "2021-12-19T13:58:48.306Z"
   },
   {
    "duration": 3913,
    "start_time": "2021-12-19T13:59:00.283Z"
   },
   {
    "duration": 53,
    "start_time": "2021-12-19T13:59:09.606Z"
   },
   {
    "duration": 3639,
    "start_time": "2021-12-19T15:19:52.331Z"
   },
   {
    "duration": 4616,
    "start_time": "2021-12-19T15:20:12.940Z"
   },
   {
    "duration": 112,
    "start_time": "2021-12-19T15:28:14.259Z"
   },
   {
    "duration": 45,
    "start_time": "2021-12-19T15:28:48.779Z"
   },
   {
    "duration": 5327,
    "start_time": "2021-12-19T15:32:42.238Z"
   },
   {
    "duration": 4344,
    "start_time": "2021-12-19T15:36:32.033Z"
   },
   {
    "duration": 4396,
    "start_time": "2021-12-19T15:37:07.433Z"
   },
   {
    "duration": 288,
    "start_time": "2021-12-19T15:45:24.001Z"
   },
   {
    "duration": 301,
    "start_time": "2021-12-19T15:45:50.017Z"
   },
   {
    "duration": 292,
    "start_time": "2021-12-19T15:48:31.046Z"
   },
   {
    "duration": 3662,
    "start_time": "2021-12-19T18:35:16.036Z"
   },
   {
    "duration": 49,
    "start_time": "2021-12-19T18:35:42.530Z"
   },
   {
    "duration": 297,
    "start_time": "2021-12-19T18:36:56.960Z"
   },
   {
    "duration": 14,
    "start_time": "2021-12-19T18:37:31.654Z"
   },
   {
    "duration": 5,
    "start_time": "2021-12-19T18:37:58.240Z"
   },
   {
    "duration": 6,
    "start_time": "2021-12-19T18:39:05.633Z"
   },
   {
    "duration": 288,
    "start_time": "2021-12-19T18:39:24.612Z"
   },
   {
    "duration": 12,
    "start_time": "2021-12-19T18:40:22.134Z"
   },
   {
    "duration": 6,
    "start_time": "2021-12-19T18:47:21.345Z"
   },
   {
    "duration": 6,
    "start_time": "2021-12-19T18:47:47.010Z"
   },
   {
    "duration": 335,
    "start_time": "2021-12-19T19:01:14.421Z"
   },
   {
    "duration": 2252658,
    "start_time": "2021-12-19T19:12:06.687Z"
   },
   {
    "duration": 95,
    "start_time": "2021-12-19T19:50:37.008Z"
   },
   {
    "duration": 297,
    "start_time": "2021-12-19T19:50:43.953Z"
   },
   {
    "duration": 8,
    "start_time": "2021-12-19T19:52:20.776Z"
   },
   {
    "duration": 12,
    "start_time": "2021-12-19T19:53:16.818Z"
   },
   {
    "duration": 6,
    "start_time": "2021-12-19T19:57:02.308Z"
   },
   {
    "duration": 111,
    "start_time": "2021-12-19T19:57:02.464Z"
   },
   {
    "duration": 20,
    "start_time": "2021-12-19T19:57:02.578Z"
   },
   {
    "duration": 12,
    "start_time": "2021-12-19T19:57:02.604Z"
   },
   {
    "duration": 42,
    "start_time": "2021-12-19T19:57:02.620Z"
   },
   {
    "duration": 8,
    "start_time": "2021-12-19T19:57:02.665Z"
   },
   {
    "duration": 7,
    "start_time": "2021-12-19T19:57:02.676Z"
   },
   {
    "duration": 6,
    "start_time": "2021-12-19T19:57:02.685Z"
   },
   {
    "duration": 6,
    "start_time": "2021-12-19T19:57:02.693Z"
   },
   {
    "duration": 6,
    "start_time": "2021-12-19T19:57:02.702Z"
   },
   {
    "duration": 15,
    "start_time": "2021-12-19T19:57:02.763Z"
   },
   {
    "duration": 19,
    "start_time": "2021-12-19T19:57:02.781Z"
   },
   {
    "duration": 24,
    "start_time": "2021-12-19T19:57:02.802Z"
   },
   {
    "duration": 8,
    "start_time": "2021-12-19T19:57:02.863Z"
   },
   {
    "duration": 32,
    "start_time": "2021-12-19T19:57:02.874Z"
   },
   {
    "duration": 28,
    "start_time": "2021-12-19T19:57:02.909Z"
   },
   {
    "duration": 32,
    "start_time": "2021-12-19T19:57:02.940Z"
   },
   {
    "duration": 27,
    "start_time": "2021-12-19T19:57:02.974Z"
   },
   {
    "duration": 44,
    "start_time": "2021-12-19T19:57:03.004Z"
   },
   {
    "duration": 24,
    "start_time": "2021-12-19T19:57:03.051Z"
   },
   {
    "duration": 38,
    "start_time": "2021-12-19T19:57:03.078Z"
   },
   {
    "duration": 29,
    "start_time": "2021-12-19T19:57:03.119Z"
   },
   {
    "duration": 29,
    "start_time": "2021-12-19T19:57:03.152Z"
   },
   {
    "duration": 12,
    "start_time": "2021-12-19T19:57:03.184Z"
   },
   {
    "duration": 33,
    "start_time": "2021-12-19T19:57:03.199Z"
   },
   {
    "duration": 27,
    "start_time": "2021-12-19T19:57:03.235Z"
   },
   {
    "duration": 14,
    "start_time": "2021-12-19T19:57:03.267Z"
   },
   {
    "duration": 24,
    "start_time": "2021-12-19T19:57:03.283Z"
   },
   {
    "duration": 15,
    "start_time": "2021-12-19T19:57:03.310Z"
   },
   {
    "duration": 23,
    "start_time": "2021-12-19T19:57:03.327Z"
   },
   {
    "duration": 19,
    "start_time": "2021-12-19T19:57:03.353Z"
   },
   {
    "duration": 42,
    "start_time": "2021-12-19T19:57:03.375Z"
   },
   {
    "duration": 17,
    "start_time": "2021-12-19T19:57:03.420Z"
   },
   {
    "duration": 28,
    "start_time": "2021-12-19T19:57:03.440Z"
   },
   {
    "duration": 21,
    "start_time": "2021-12-19T19:57:03.471Z"
   },
   {
    "duration": 18,
    "start_time": "2021-12-19T19:57:03.495Z"
   },
   {
    "duration": 14,
    "start_time": "2021-12-19T19:57:03.516Z"
   },
   {
    "duration": 17,
    "start_time": "2021-12-19T19:57:03.532Z"
   },
   {
    "duration": 25,
    "start_time": "2021-12-19T19:57:03.552Z"
   },
   {
    "duration": 6,
    "start_time": "2021-12-19T19:57:03.579Z"
   },
   {
    "duration": 6,
    "start_time": "2021-12-19T19:57:03.588Z"
   },
   {
    "duration": 19,
    "start_time": "2021-12-19T19:57:03.596Z"
   },
   {
    "duration": 3,
    "start_time": "2021-12-19T19:57:03.618Z"
   },
   {
    "duration": 22,
    "start_time": "2021-12-19T19:57:03.662Z"
   },
   {
    "duration": 10,
    "start_time": "2021-12-19T19:57:03.686Z"
   },
   {
    "duration": 12,
    "start_time": "2021-12-19T19:57:03.701Z"
   },
   {
    "duration": 66,
    "start_time": "2021-12-19T19:57:03.716Z"
   },
   {
    "duration": 9,
    "start_time": "2021-12-19T19:57:03.785Z"
   },
   {
    "duration": 8,
    "start_time": "2021-12-19T19:57:03.797Z"
   },
   {
    "duration": 59,
    "start_time": "2021-12-19T19:57:03.807Z"
   },
   {
    "duration": 5,
    "start_time": "2021-12-19T19:57:03.869Z"
   },
   {
    "duration": 15,
    "start_time": "2021-12-19T19:57:03.877Z"
   },
   {
    "duration": 4,
    "start_time": "2021-12-19T19:57:03.894Z"
   },
   {
    "duration": 5,
    "start_time": "2021-12-19T19:57:03.900Z"
   },
   {
    "duration": 54,
    "start_time": "2021-12-19T19:57:03.908Z"
   },
   {
    "duration": 10,
    "start_time": "2021-12-19T19:57:03.964Z"
   },
   {
    "duration": 44,
    "start_time": "2021-12-19T19:57:03.977Z"
   },
   {
    "duration": 66,
    "start_time": "2021-12-19T19:57:04.024Z"
   },
   {
    "duration": 22,
    "start_time": "2021-12-19T19:57:04.093Z"
   },
   {
    "duration": 10,
    "start_time": "2021-12-19T19:57:04.118Z"
   },
   {
    "duration": 51,
    "start_time": "2021-12-19T19:57:04.131Z"
   },
   {
    "duration": 247,
    "start_time": "2021-12-19T19:57:04.185Z"
   },
   {
    "duration": 7,
    "start_time": "2021-12-19T19:57:04.435Z"
   },
   {
    "duration": 8,
    "start_time": "2021-12-19T19:57:04.464Z"
   },
   {
    "duration": 12,
    "start_time": "2021-12-19T19:57:04.475Z"
   },
   {
    "duration": 232,
    "start_time": "2021-12-19T19:57:04.491Z"
   },
   {
    "duration": 228,
    "start_time": "2021-12-19T19:57:04.726Z"
   },
   {
    "duration": 38,
    "start_time": "2021-12-19T19:57:04.957Z"
   },
   {
    "duration": 17,
    "start_time": "2021-12-19T19:57:04.998Z"
   },
   {
    "duration": 275,
    "start_time": "2021-12-19T19:57:05.018Z"
   },
   {
    "duration": 34,
    "start_time": "2021-12-19T19:57:05.295Z"
   },
   {
    "duration": 46,
    "start_time": "2021-12-19T19:57:05.332Z"
   },
   {
    "duration": 405,
    "start_time": "2021-12-19T19:57:05.381Z"
   },
   {
    "duration": 30,
    "start_time": "2021-12-19T19:57:05.789Z"
   },
   {
    "duration": 587,
    "start_time": "2021-12-19T19:57:05.822Z"
   },
   {
    "duration": 3,
    "start_time": "2021-12-19T19:57:06.412Z"
   },
   {
    "duration": 6,
    "start_time": "2021-12-19T19:57:06.417Z"
   },
   {
    "duration": 1469,
    "start_time": "2021-12-19T19:57:06.425Z"
   },
   {
    "duration": 285,
    "start_time": "2021-12-19T19:57:07.897Z"
   },
   {
    "duration": 1414,
    "start_time": "2021-12-19T19:57:08.186Z"
   },
   {
    "duration": 267,
    "start_time": "2021-12-19T19:57:09.608Z"
   },
   {
    "duration": 264,
    "start_time": "2021-12-19T19:57:09.878Z"
   },
   {
    "duration": 245,
    "start_time": "2021-12-19T19:57:10.145Z"
   },
   {
    "duration": 256,
    "start_time": "2021-12-19T19:57:10.394Z"
   },
   {
    "duration": 279,
    "start_time": "2021-12-19T19:57:10.652Z"
   },
   {
    "duration": 6,
    "start_time": "2021-12-19T19:57:10.933Z"
   },
   {
    "duration": 43,
    "start_time": "2021-12-19T19:57:10.942Z"
   },
   {
    "duration": 12,
    "start_time": "2021-12-19T19:57:10.988Z"
   },
   {
    "duration": 11,
    "start_time": "2021-12-19T19:57:11.003Z"
   },
   {
    "duration": 48,
    "start_time": "2021-12-19T19:57:11.016Z"
   },
   {
    "duration": 8,
    "start_time": "2021-12-19T19:57:11.066Z"
   },
   {
    "duration": 253,
    "start_time": "2021-12-19T19:57:11.077Z"
   },
   {
    "duration": 46,
    "start_time": "2021-12-19T19:57:11.333Z"
   },
   {
    "duration": 27,
    "start_time": "2021-12-19T19:57:11.382Z"
   },
   {
    "duration": 11,
    "start_time": "2021-12-19T19:57:11.412Z"
   },
   {
    "duration": 7,
    "start_time": "2021-12-19T19:57:11.425Z"
   },
   {
    "duration": 1920579,
    "start_time": "2021-12-19T19:57:11.435Z"
   },
   {
    "duration": 1977895,
    "start_time": "2021-12-19T20:29:12.017Z"
   },
   {
    "duration": 56072,
    "start_time": "2021-12-19T21:02:09.914Z"
   },
   {
    "duration": 60235,
    "start_time": "2021-12-19T21:03:05.988Z"
   },
   {
    "duration": 4,
    "start_time": "2021-12-19T21:04:06.225Z"
   },
   {
    "duration": 11,
    "start_time": "2021-12-19T21:04:06.231Z"
   },
   {
    "duration": 5028565,
    "start_time": "2021-12-19T21:04:06.263Z"
   },
   {
    "duration": 6,
    "start_time": "2021-12-19T22:27:54.831Z"
   },
   {
    "duration": 13319471,
    "start_time": "2021-12-19T22:27:54.840Z"
   },
   {
    "duration": 135,
    "start_time": "2021-12-20T02:09:54.313Z"
   },
   {
    "duration": 191000,
    "start_time": "2021-12-20T02:09:54.451Z"
   },
   {
    "duration": 732175,
    "start_time": "2021-12-20T02:13:05.462Z"
   },
   {
    "duration": 354233,
    "start_time": "2021-12-20T02:25:17.639Z"
   },
   {
    "duration": 357406,
    "start_time": "2021-12-20T02:31:11.874Z"
   },
   {
    "duration": 10397,
    "start_time": "2021-12-20T02:37:09.283Z"
   },
   {
    "duration": 12379,
    "start_time": "2021-12-20T02:37:19.683Z"
   },
   {
    "duration": 290,
    "start_time": "2021-12-20T02:37:32.065Z"
   },
   {
    "duration": 577,
    "start_time": "2021-12-20T02:37:31.781Z"
   },
   {
    "duration": 572,
    "start_time": "2021-12-20T02:37:31.787Z"
   },
   {
    "duration": 565,
    "start_time": "2021-12-20T02:37:31.795Z"
   },
   {
    "duration": 560,
    "start_time": "2021-12-20T02:37:31.802Z"
   },
   {
    "duration": 555,
    "start_time": "2021-12-20T02:37:31.808Z"
   },
   {
    "duration": 257,
    "start_time": "2021-12-20T04:19:11.409Z"
   },
   {
    "duration": 282,
    "start_time": "2021-12-20T04:19:14.821Z"
   },
   {
    "duration": 1557,
    "start_time": "2021-12-20T04:19:17.805Z"
   },
   {
    "duration": 923,
    "start_time": "2021-12-20T04:19:25.807Z"
   },
   {
    "duration": 25,
    "start_time": "2021-12-20T06:05:47.321Z"
   },
   {
    "duration": 7,
    "start_time": "2021-12-20T06:06:20.053Z"
   },
   {
    "duration": 6,
    "start_time": "2021-12-20T06:06:47.805Z"
   },
   {
    "duration": 6,
    "start_time": "2021-12-20T06:15:25.801Z"
   },
   {
    "duration": 55385,
    "start_time": "2021-12-20T06:15:33.857Z"
   },
   {
    "duration": 12,
    "start_time": "2021-12-20T06:33:31.961Z"
   },
   {
    "duration": 6,
    "start_time": "2021-12-20T06:33:40.395Z"
   },
   {
    "duration": 6,
    "start_time": "2021-12-20T10:29:41.038Z"
   },
   {
    "duration": 297,
    "start_time": "2021-12-20T10:50:21.378Z"
   },
   {
    "duration": 1277,
    "start_time": "2021-12-20T10:52:15.522Z"
   },
   {
    "duration": 329,
    "start_time": "2021-12-20T10:53:51.484Z"
   },
   {
    "duration": 38,
    "start_time": "2021-12-20T10:54:02.451Z"
   },
   {
    "duration": 972,
    "start_time": "2021-12-20T10:54:38.000Z"
   },
   {
    "duration": 36,
    "start_time": "2021-12-20T10:55:11.183Z"
   },
   {
    "duration": 8,
    "start_time": "2021-12-20T10:58:21.009Z"
   },
   {
    "duration": 72,
    "start_time": "2021-12-20T11:05:41.503Z"
   },
   {
    "duration": 57327,
    "start_time": "2021-12-20T11:07:04.647Z"
   },
   {
    "duration": 1513,
    "start_time": "2021-12-20T11:08:54.301Z"
   },
   {
    "duration": 110,
    "start_time": "2021-12-20T11:08:55.816Z"
   },
   {
    "duration": 24,
    "start_time": "2021-12-20T11:08:55.929Z"
   },
   {
    "duration": 12,
    "start_time": "2021-12-20T11:08:55.955Z"
   },
   {
    "duration": 15,
    "start_time": "2021-12-20T11:08:55.970Z"
   },
   {
    "duration": 6,
    "start_time": "2021-12-20T11:08:55.988Z"
   },
   {
    "duration": 8,
    "start_time": "2021-12-20T11:08:55.997Z"
   },
   {
    "duration": 9,
    "start_time": "2021-12-20T11:08:56.007Z"
   },
   {
    "duration": 44,
    "start_time": "2021-12-20T11:08:56.020Z"
   },
   {
    "duration": 6,
    "start_time": "2021-12-20T11:08:56.068Z"
   },
   {
    "duration": 26,
    "start_time": "2021-12-20T11:08:56.077Z"
   },
   {
    "duration": 13,
    "start_time": "2021-12-20T11:08:56.106Z"
   },
   {
    "duration": 44,
    "start_time": "2021-12-20T11:08:56.121Z"
   },
   {
    "duration": 8,
    "start_time": "2021-12-20T11:08:56.168Z"
   },
   {
    "duration": 26,
    "start_time": "2021-12-20T11:08:56.179Z"
   },
   {
    "duration": 12,
    "start_time": "2021-12-20T11:08:56.208Z"
   },
   {
    "duration": 40,
    "start_time": "2021-12-20T11:08:56.223Z"
   },
   {
    "duration": 6,
    "start_time": "2021-12-20T11:08:56.265Z"
   },
   {
    "duration": 20,
    "start_time": "2021-12-20T11:08:56.273Z"
   },
   {
    "duration": 13,
    "start_time": "2021-12-20T11:08:56.295Z"
   },
   {
    "duration": 21,
    "start_time": "2021-12-20T11:08:56.311Z"
   },
   {
    "duration": 17,
    "start_time": "2021-12-20T11:08:56.363Z"
   },
   {
    "duration": 10,
    "start_time": "2021-12-20T11:08:56.383Z"
   },
   {
    "duration": 9,
    "start_time": "2021-12-20T11:08:56.396Z"
   },
   {
    "duration": 6,
    "start_time": "2021-12-20T11:08:56.408Z"
   },
   {
    "duration": 53,
    "start_time": "2021-12-20T11:08:56.417Z"
   },
   {
    "duration": 7,
    "start_time": "2021-12-20T11:08:56.478Z"
   },
   {
    "duration": 8,
    "start_time": "2021-12-20T11:08:56.491Z"
   },
   {
    "duration": 17,
    "start_time": "2021-12-20T11:08:56.502Z"
   },
   {
    "duration": 46,
    "start_time": "2021-12-20T11:08:56.522Z"
   },
   {
    "duration": 8,
    "start_time": "2021-12-20T11:08:56.571Z"
   },
   {
    "duration": 22,
    "start_time": "2021-12-20T11:08:56.581Z"
   },
   {
    "duration": 15,
    "start_time": "2021-12-20T11:08:56.605Z"
   },
   {
    "duration": 51,
    "start_time": "2021-12-20T11:08:56.622Z"
   },
   {
    "duration": 17,
    "start_time": "2021-12-20T11:08:56.675Z"
   },
   {
    "duration": 12,
    "start_time": "2021-12-20T11:08:56.695Z"
   },
   {
    "duration": 6,
    "start_time": "2021-12-20T11:08:56.710Z"
   },
   {
    "duration": 7,
    "start_time": "2021-12-20T11:08:56.719Z"
   },
   {
    "duration": 39,
    "start_time": "2021-12-20T11:08:56.728Z"
   },
   {
    "duration": 7,
    "start_time": "2021-12-20T11:08:56.770Z"
   },
   {
    "duration": 7,
    "start_time": "2021-12-20T11:08:56.779Z"
   },
   {
    "duration": 9,
    "start_time": "2021-12-20T11:08:56.788Z"
   },
   {
    "duration": 5,
    "start_time": "2021-12-20T11:08:56.799Z"
   },
   {
    "duration": 69,
    "start_time": "2021-12-20T11:08:56.806Z"
   },
   {
    "duration": 10,
    "start_time": "2021-12-20T11:08:56.877Z"
   },
   {
    "duration": 26,
    "start_time": "2021-12-20T11:08:56.889Z"
   },
   {
    "duration": 17,
    "start_time": "2021-12-20T11:08:56.917Z"
   },
   {
    "duration": 31,
    "start_time": "2021-12-20T11:08:56.937Z"
   },
   {
    "duration": 21,
    "start_time": "2021-12-20T11:08:56.971Z"
   },
   {
    "duration": 9,
    "start_time": "2021-12-20T11:08:56.995Z"
   },
   {
    "duration": 18,
    "start_time": "2021-12-20T11:08:57.007Z"
   },
   {
    "duration": 19,
    "start_time": "2021-12-20T11:08:57.027Z"
   },
   {
    "duration": 3,
    "start_time": "2021-12-20T11:08:57.048Z"
   },
   {
    "duration": 20,
    "start_time": "2021-12-20T11:08:57.053Z"
   },
   {
    "duration": 16,
    "start_time": "2021-12-20T11:08:57.075Z"
   },
   {
    "duration": 22,
    "start_time": "2021-12-20T11:08:57.093Z"
   },
   {
    "duration": 49,
    "start_time": "2021-12-20T11:08:57.117Z"
   },
   {
    "duration": 40,
    "start_time": "2021-12-20T11:08:57.169Z"
   },
   {
    "duration": 13,
    "start_time": "2021-12-20T11:08:57.211Z"
   },
   {
    "duration": 38,
    "start_time": "2021-12-20T11:08:57.226Z"
   },
   {
    "duration": 33,
    "start_time": "2021-12-20T11:08:57.266Z"
   },
   {
    "duration": 21,
    "start_time": "2021-12-20T11:08:57.301Z"
   },
   {
    "duration": 7,
    "start_time": "2021-12-20T11:08:57.325Z"
   },
   {
    "duration": 9,
    "start_time": "2021-12-20T11:08:57.364Z"
   },
   {
    "duration": 17,
    "start_time": "2021-12-20T11:08:57.375Z"
   },
   {
    "duration": 224,
    "start_time": "2021-12-20T11:08:57.395Z"
   },
   {
    "duration": 225,
    "start_time": "2021-12-20T11:08:57.621Z"
   },
   {
    "duration": 51,
    "start_time": "2021-12-20T11:08:57.848Z"
   },
   {
    "duration": 17,
    "start_time": "2021-12-20T11:08:57.902Z"
   },
   {
    "duration": 267,
    "start_time": "2021-12-20T11:08:57.922Z"
   },
   {
    "duration": 43,
    "start_time": "2021-12-20T11:08:58.192Z"
   },
   {
    "duration": 44,
    "start_time": "2021-12-20T11:08:58.237Z"
   },
   {
    "duration": 274,
    "start_time": "2021-12-20T11:08:58.284Z"
   },
   {
    "duration": 21,
    "start_time": "2021-12-20T11:08:58.560Z"
   },
   {
    "duration": 486,
    "start_time": "2021-12-20T11:08:58.584Z"
   },
   {
    "duration": 4,
    "start_time": "2021-12-20T11:08:59.072Z"
   },
   {
    "duration": 42,
    "start_time": "2021-12-20T11:08:59.079Z"
   },
   {
    "duration": 1560,
    "start_time": "2021-12-20T11:08:59.124Z"
   },
   {
    "duration": 293,
    "start_time": "2021-12-20T11:09:00.687Z"
   },
   {
    "duration": 1521,
    "start_time": "2021-12-20T11:09:00.982Z"
   },
   {
    "duration": 261,
    "start_time": "2021-12-20T11:09:02.515Z"
   },
   {
    "duration": 258,
    "start_time": "2021-12-20T11:09:02.780Z"
   },
   {
    "duration": 232,
    "start_time": "2021-12-20T11:09:03.041Z"
   },
   {
    "duration": 239,
    "start_time": "2021-12-20T11:09:03.275Z"
   },
   {
    "duration": 254,
    "start_time": "2021-12-20T11:09:03.517Z"
   },
   {
    "duration": 6,
    "start_time": "2021-12-20T11:09:03.773Z"
   },
   {
    "duration": 49,
    "start_time": "2021-12-20T11:09:03.781Z"
   },
   {
    "duration": 31,
    "start_time": "2021-12-20T11:09:03.832Z"
   },
   {
    "duration": 35,
    "start_time": "2021-12-20T11:09:03.865Z"
   },
   {
    "duration": 49,
    "start_time": "2021-12-20T11:09:03.902Z"
   },
   {
    "duration": 30,
    "start_time": "2021-12-20T11:09:03.954Z"
   },
   {
    "duration": 261,
    "start_time": "2021-12-20T11:09:03.986Z"
   },
   {
    "duration": 40,
    "start_time": "2021-12-20T11:09:04.250Z"
   },
   {
    "duration": 29,
    "start_time": "2021-12-20T11:09:04.293Z"
   },
   {
    "duration": 42,
    "start_time": "2021-12-20T11:09:04.325Z"
   },
   {
    "duration": 8,
    "start_time": "2021-12-20T11:09:04.370Z"
   },
   {
    "duration": 1686796,
    "start_time": "2021-12-20T11:09:04.380Z"
   },
   {
    "duration": 1970037,
    "start_time": "2021-12-20T11:37:11.179Z"
   },
   {
    "duration": 55569,
    "start_time": "2021-12-20T12:10:01.219Z"
   },
   {
    "duration": 62075,
    "start_time": "2021-12-20T12:10:56.790Z"
   },
   {
    "duration": 3,
    "start_time": "2021-12-20T12:11:58.867Z"
   },
   {
    "duration": 8,
    "start_time": "2021-12-20T12:11:58.873Z"
   },
   {
    "duration": 5350078,
    "start_time": "2021-12-20T12:11:58.884Z"
   },
   {
    "duration": 340,
    "start_time": "2021-12-20T15:35:56.991Z"
   },
   {
    "duration": 7,
    "start_time": "2021-12-20T15:36:19.099Z"
   },
   {
    "duration": 107,
    "start_time": "2021-12-20T15:36:19.108Z"
   },
   {
    "duration": 20,
    "start_time": "2021-12-20T15:36:19.249Z"
   },
   {
    "duration": 14,
    "start_time": "2021-12-20T15:36:19.273Z"
   },
   {
    "duration": 11,
    "start_time": "2021-12-20T15:36:19.291Z"
   },
   {
    "duration": 12,
    "start_time": "2021-12-20T15:36:19.305Z"
   },
   {
    "duration": 48,
    "start_time": "2021-12-20T15:36:19.320Z"
   },
   {
    "duration": 7,
    "start_time": "2021-12-20T15:36:19.371Z"
   },
   {
    "duration": 8,
    "start_time": "2021-12-20T15:36:19.380Z"
   },
   {
    "duration": 7,
    "start_time": "2021-12-20T15:36:19.398Z"
   },
   {
    "duration": 61,
    "start_time": "2021-12-20T15:36:19.408Z"
   },
   {
    "duration": 13,
    "start_time": "2021-12-20T15:36:19.473Z"
   },
   {
    "duration": 19,
    "start_time": "2021-12-20T15:36:19.489Z"
   },
   {
    "duration": 13,
    "start_time": "2021-12-20T15:36:19.511Z"
   },
   {
    "duration": 48,
    "start_time": "2021-12-20T15:36:19.527Z"
   },
   {
    "duration": 14,
    "start_time": "2021-12-20T15:36:19.577Z"
   },
   {
    "duration": 16,
    "start_time": "2021-12-20T15:36:19.594Z"
   },
   {
    "duration": 50,
    "start_time": "2021-12-20T15:36:19.614Z"
   },
   {
    "duration": 19,
    "start_time": "2021-12-20T15:36:19.667Z"
   },
   {
    "duration": 11,
    "start_time": "2021-12-20T15:36:19.688Z"
   },
   {
    "duration": 62,
    "start_time": "2021-12-20T15:36:19.701Z"
   },
   {
    "duration": 15,
    "start_time": "2021-12-20T15:36:19.766Z"
   },
   {
    "duration": 11,
    "start_time": "2021-12-20T15:36:19.784Z"
   },
   {
    "duration": 10,
    "start_time": "2021-12-20T15:36:19.797Z"
   },
   {
    "duration": 6,
    "start_time": "2021-12-20T15:36:19.810Z"
   },
   {
    "duration": 7,
    "start_time": "2021-12-20T15:36:19.864Z"
   },
   {
    "duration": 8,
    "start_time": "2021-12-20T15:36:19.873Z"
   },
   {
    "duration": 6,
    "start_time": "2021-12-20T15:36:19.883Z"
   },
   {
    "duration": 13,
    "start_time": "2021-12-20T15:36:19.892Z"
   },
   {
    "duration": 58,
    "start_time": "2021-12-20T15:36:19.908Z"
   },
   {
    "duration": 5,
    "start_time": "2021-12-20T15:36:19.969Z"
   },
   {
    "duration": 14,
    "start_time": "2021-12-20T15:36:19.977Z"
   },
   {
    "duration": 14,
    "start_time": "2021-12-20T15:36:19.994Z"
   },
   {
    "duration": 55,
    "start_time": "2021-12-20T15:36:20.010Z"
   },
   {
    "duration": 12,
    "start_time": "2021-12-20T15:36:20.067Z"
   },
   {
    "duration": 10,
    "start_time": "2021-12-20T15:36:20.086Z"
   },
   {
    "duration": 6,
    "start_time": "2021-12-20T15:36:20.100Z"
   },
   {
    "duration": 6,
    "start_time": "2021-12-20T15:36:20.108Z"
   },
   {
    "duration": 6,
    "start_time": "2021-12-20T15:36:20.162Z"
   },
   {
    "duration": 7,
    "start_time": "2021-12-20T15:36:20.171Z"
   },
   {
    "duration": 13,
    "start_time": "2021-12-20T15:36:20.180Z"
   },
   {
    "duration": 9,
    "start_time": "2021-12-20T15:36:20.196Z"
   },
   {
    "duration": 4,
    "start_time": "2021-12-20T15:36:20.207Z"
   },
   {
    "duration": 60,
    "start_time": "2021-12-20T15:36:20.214Z"
   },
   {
    "duration": 10,
    "start_time": "2021-12-20T15:36:20.277Z"
   },
   {
    "duration": 16,
    "start_time": "2021-12-20T15:36:20.289Z"
   },
   {
    "duration": 15,
    "start_time": "2021-12-20T15:36:20.307Z"
   },
   {
    "duration": 39,
    "start_time": "2021-12-20T15:36:20.325Z"
   },
   {
    "duration": 9,
    "start_time": "2021-12-20T15:36:20.367Z"
   },
   {
    "duration": 10,
    "start_time": "2021-12-20T15:36:20.378Z"
   },
   {
    "duration": 7,
    "start_time": "2021-12-20T15:36:20.390Z"
   },
   {
    "duration": 9,
    "start_time": "2021-12-20T15:36:20.399Z"
   },
   {
    "duration": 3,
    "start_time": "2021-12-20T15:36:20.410Z"
   },
   {
    "duration": 50,
    "start_time": "2021-12-20T15:36:20.416Z"
   },
   {
    "duration": 13,
    "start_time": "2021-12-20T15:36:20.468Z"
   },
   {
    "duration": 11,
    "start_time": "2021-12-20T15:36:20.485Z"
   },
   {
    "duration": 81,
    "start_time": "2021-12-20T15:36:20.500Z"
   },
   {
    "duration": 39,
    "start_time": "2021-12-20T15:36:20.584Z"
   },
   {
    "duration": 39,
    "start_time": "2021-12-20T15:36:20.626Z"
   },
   {
    "duration": 11,
    "start_time": "2021-12-20T15:36:20.667Z"
   },
   {
    "duration": 29,
    "start_time": "2021-12-20T15:36:20.680Z"
   },
   {
    "duration": 57,
    "start_time": "2021-12-20T15:36:20.711Z"
   },
   {
    "duration": 15,
    "start_time": "2021-12-20T15:36:20.771Z"
   },
   {
    "duration": 19,
    "start_time": "2021-12-20T15:36:20.788Z"
   },
   {
    "duration": 29,
    "start_time": "2021-12-20T15:36:20.809Z"
   },
   {
    "duration": 208,
    "start_time": "2021-12-20T15:36:20.841Z"
   },
   {
    "duration": 228,
    "start_time": "2021-12-20T15:36:21.052Z"
   },
   {
    "duration": 44,
    "start_time": "2021-12-20T15:36:21.283Z"
   },
   {
    "duration": 43,
    "start_time": "2021-12-20T15:36:21.330Z"
   },
   {
    "duration": 352,
    "start_time": "2021-12-20T15:36:21.375Z"
   },
   {
    "duration": 62,
    "start_time": "2021-12-20T15:36:21.730Z"
   },
   {
    "duration": 21,
    "start_time": "2021-12-20T15:36:21.795Z"
   },
   {
    "duration": 287,
    "start_time": "2021-12-20T15:36:21.818Z"
   },
   {
    "duration": 22,
    "start_time": "2021-12-20T15:36:22.108Z"
   },
   {
    "duration": 388,
    "start_time": "2021-12-20T15:36:22.132Z"
   },
   {
    "duration": 5,
    "start_time": "2021-12-20T15:36:22.524Z"
   },
   {
    "duration": 30,
    "start_time": "2021-12-20T15:36:22.532Z"
   },
   {
    "duration": 1429,
    "start_time": "2021-12-20T15:36:22.565Z"
   },
   {
    "duration": 288,
    "start_time": "2021-12-20T15:36:23.997Z"
   },
   {
    "duration": 1486,
    "start_time": "2021-12-20T15:36:24.288Z"
   },
   {
    "duration": 281,
    "start_time": "2021-12-20T15:36:25.776Z"
   },
   {
    "duration": 273,
    "start_time": "2021-12-20T15:36:26.063Z"
   },
   {
    "duration": 278,
    "start_time": "2021-12-20T15:36:26.339Z"
   },
   {
    "duration": 256,
    "start_time": "2021-12-20T15:36:26.620Z"
   },
   {
    "duration": 291,
    "start_time": "2021-12-20T15:36:26.878Z"
   },
   {
    "duration": 7,
    "start_time": "2021-12-20T15:36:27.171Z"
   },
   {
    "duration": 55,
    "start_time": "2021-12-20T15:36:27.181Z"
   },
   {
    "duration": 13,
    "start_time": "2021-12-20T15:36:27.238Z"
   },
   {
    "duration": 19,
    "start_time": "2021-12-20T15:36:27.253Z"
   },
   {
    "duration": 7,
    "start_time": "2021-12-20T15:36:27.281Z"
   },
   {
    "duration": 8,
    "start_time": "2021-12-20T15:36:27.291Z"
   },
   {
    "duration": 284,
    "start_time": "2021-12-20T15:36:27.302Z"
   },
   {
    "duration": 35,
    "start_time": "2021-12-20T15:36:27.588Z"
   },
   {
    "duration": 53,
    "start_time": "2021-12-20T15:36:27.626Z"
   },
   {
    "duration": 13,
    "start_time": "2021-12-20T15:36:27.682Z"
   },
   {
    "duration": 7,
    "start_time": "2021-12-20T15:36:27.698Z"
   },
   {
    "duration": 5137985,
    "start_time": "2021-12-20T15:36:58.207Z"
   },
   {
    "duration": 14934943,
    "start_time": "2021-12-20T17:02:36.195Z"
   },
   {
    "duration": 348,
    "start_time": "2021-12-20T21:11:31.141Z"
   },
   {
    "duration": -281,
    "start_time": "2021-12-20T21:11:31.773Z"
   },
   {
    "duration": -287,
    "start_time": "2021-12-20T21:11:31.782Z"
   },
   {
    "duration": -293,
    "start_time": "2021-12-20T21:11:31.790Z"
   },
   {
    "duration": -413,
    "start_time": "2021-12-20T21:11:31.911Z"
   },
   {
    "duration": -428,
    "start_time": "2021-12-20T21:11:31.928Z"
   },
   {
    "duration": -445,
    "start_time": "2021-12-20T21:11:31.946Z"
   },
   {
    "duration": -452,
    "start_time": "2021-12-20T21:11:31.955Z"
   },
   {
    "duration": -546,
    "start_time": "2021-12-20T21:11:32.050Z"
   },
   {
    "duration": -553,
    "start_time": "2021-12-20T21:11:32.058Z"
   },
   {
    "duration": -591,
    "start_time": "2021-12-20T21:11:32.098Z"
   },
   {
    "duration": 6,
    "start_time": "2021-12-21T01:33:28.404Z"
   },
   {
    "duration": 289,
    "start_time": "2021-12-21T01:33:39.611Z"
   },
   {
    "duration": 6,
    "start_time": "2021-12-21T01:34:19.812Z"
   },
   {
    "duration": 392,
    "start_time": "2021-12-21T01:34:30.168Z"
   },
   {
    "duration": 351,
    "start_time": "2021-12-21T01:34:52.328Z"
   },
   {
    "duration": 377938,
    "start_time": "2021-12-21T01:34:56.030Z"
   },
   {
    "duration": 386692,
    "start_time": "2021-12-21T01:41:13.971Z"
   },
   {
    "duration": 10355,
    "start_time": "2021-12-21T01:47:40.667Z"
   },
   {
    "duration": 12517,
    "start_time": "2021-12-21T01:47:51.024Z"
   },
   {
    "duration": 251,
    "start_time": "2021-12-21T01:48:03.543Z"
   },
   {
    "duration": 287,
    "start_time": "2021-12-21T01:48:03.796Z"
   },
   {
    "duration": 288,
    "start_time": "2021-12-21T01:48:04.085Z"
   },
   {
    "duration": 65,
    "start_time": "2021-12-21T01:48:04.310Z"
   },
   {
    "duration": 6,
    "start_time": "2021-12-21T02:27:58.918Z"
   },
   {
    "duration": 219259,
    "start_time": "2021-12-21T02:28:10.006Z"
   },
   {
    "duration": 813895,
    "start_time": "2021-12-21T02:31:49.268Z"
   },
   {
    "duration": 251,
    "start_time": "2021-12-21T02:49:58.672Z"
   },
   {
    "duration": 309,
    "start_time": "2021-12-21T02:50:01.524Z"
   },
   {
    "duration": 91,
    "start_time": "2021-12-21T02:53:58.081Z"
   },
   {
    "duration": 452,
    "start_time": "2021-12-21T02:54:10.081Z"
   },
   {
    "duration": 39,
    "start_time": "2021-12-21T02:54:34.259Z"
   },
   {
    "duration": 27,
    "start_time": "2021-12-21T03:13:04.538Z"
   },
   {
    "duration": 28,
    "start_time": "2021-12-21T03:13:24.452Z"
   },
   {
    "duration": 12,
    "start_time": "2021-12-21T03:14:27.795Z"
   },
   {
    "duration": 7,
    "start_time": "2021-12-21T03:14:45.141Z"
   },
   {
    "duration": 283,
    "start_time": "2021-12-21T03:16:16.941Z"
   },
   {
    "duration": 8,
    "start_time": "2021-12-21T03:16:26.456Z"
   },
   {
    "duration": 7,
    "start_time": "2021-12-21T03:16:40.428Z"
   },
   {
    "duration": 69,
    "start_time": "2021-12-21T03:17:27.726Z"
   },
   {
    "duration": 304,
    "start_time": "2021-12-21T03:37:00.903Z"
   },
   {
    "duration": 304,
    "start_time": "2021-12-21T03:37:56.738Z"
   },
   {
    "duration": 427,
    "start_time": "2021-12-22T06:32:01.496Z"
   },
   {
    "duration": 1681,
    "start_time": "2021-12-22T06:32:34.933Z"
   },
   {
    "duration": 108,
    "start_time": "2021-12-22T06:32:36.616Z"
   },
   {
    "duration": 30,
    "start_time": "2021-12-22T06:32:36.728Z"
   },
   {
    "duration": 12,
    "start_time": "2021-12-22T06:32:36.761Z"
   },
   {
    "duration": 11,
    "start_time": "2021-12-22T06:32:36.775Z"
   },
   {
    "duration": 7,
    "start_time": "2021-12-22T06:32:36.789Z"
   },
   {
    "duration": 9,
    "start_time": "2021-12-22T06:32:36.798Z"
   },
   {
    "duration": 8,
    "start_time": "2021-12-22T06:32:36.812Z"
   },
   {
    "duration": 49,
    "start_time": "2021-12-22T06:32:36.824Z"
   },
   {
    "duration": 9,
    "start_time": "2021-12-22T06:32:36.876Z"
   },
   {
    "duration": 21,
    "start_time": "2021-12-22T06:32:36.888Z"
   },
   {
    "duration": 14,
    "start_time": "2021-12-22T06:32:36.912Z"
   },
   {
    "duration": 56,
    "start_time": "2021-12-22T06:32:36.928Z"
   },
   {
    "duration": 9,
    "start_time": "2021-12-22T06:32:36.986Z"
   },
   {
    "duration": 19,
    "start_time": "2021-12-22T06:32:36.998Z"
   },
   {
    "duration": 48,
    "start_time": "2021-12-22T06:32:37.020Z"
   },
   {
    "duration": 18,
    "start_time": "2021-12-22T06:32:37.070Z"
   },
   {
    "duration": 7,
    "start_time": "2021-12-22T06:32:37.091Z"
   },
   {
    "duration": 18,
    "start_time": "2021-12-22T06:32:37.100Z"
   },
   {
    "duration": 52,
    "start_time": "2021-12-22T06:32:37.121Z"
   },
   {
    "duration": 20,
    "start_time": "2021-12-22T06:32:37.175Z"
   },
   {
    "duration": 17,
    "start_time": "2021-12-22T06:32:37.197Z"
   },
   {
    "duration": 44,
    "start_time": "2021-12-22T06:32:37.223Z"
   },
   {
    "duration": 12,
    "start_time": "2021-12-22T06:32:37.272Z"
   },
   {
    "duration": 7,
    "start_time": "2021-12-22T06:32:37.287Z"
   },
   {
    "duration": 6,
    "start_time": "2021-12-22T06:32:37.297Z"
   },
   {
    "duration": 9,
    "start_time": "2021-12-22T06:32:37.306Z"
   },
   {
    "duration": 51,
    "start_time": "2021-12-22T06:32:37.318Z"
   },
   {
    "duration": 12,
    "start_time": "2021-12-22T06:32:37.372Z"
   },
   {
    "duration": 11,
    "start_time": "2021-12-22T06:32:37.387Z"
   },
   {
    "duration": 6,
    "start_time": "2021-12-22T06:32:37.400Z"
   },
   {
    "duration": 17,
    "start_time": "2021-12-22T06:32:37.408Z"
   },
   {
    "duration": 47,
    "start_time": "2021-12-22T06:32:37.428Z"
   },
   {
    "duration": 20,
    "start_time": "2021-12-22T06:32:37.477Z"
   },
   {
    "duration": 19,
    "start_time": "2021-12-22T06:32:37.500Z"
   },
   {
    "duration": 18,
    "start_time": "2021-12-22T06:32:37.522Z"
   },
   {
    "duration": 7,
    "start_time": "2021-12-22T06:32:37.568Z"
   },
   {
    "duration": 9,
    "start_time": "2021-12-22T06:32:37.578Z"
   },
   {
    "duration": 8,
    "start_time": "2021-12-22T06:32:37.590Z"
   },
   {
    "duration": 9,
    "start_time": "2021-12-22T06:32:37.600Z"
   },
   {
    "duration": 8,
    "start_time": "2021-12-22T06:32:37.612Z"
   },
   {
    "duration": 23,
    "start_time": "2021-12-22T06:32:37.673Z"
   },
   {
    "duration": 4,
    "start_time": "2021-12-22T06:32:37.699Z"
   },
   {
    "duration": 21,
    "start_time": "2021-12-22T06:32:37.706Z"
   },
   {
    "duration": 16,
    "start_time": "2021-12-22T06:32:37.729Z"
   },
   {
    "duration": 28,
    "start_time": "2021-12-22T06:32:37.748Z"
   },
   {
    "duration": 16,
    "start_time": "2021-12-22T06:32:37.778Z"
   },
   {
    "duration": 14,
    "start_time": "2021-12-22T06:32:37.797Z"
   },
   {
    "duration": 11,
    "start_time": "2021-12-22T06:32:37.814Z"
   },
   {
    "duration": 8,
    "start_time": "2021-12-22T06:32:37.868Z"
   },
   {
    "duration": 8,
    "start_time": "2021-12-22T06:32:37.878Z"
   },
   {
    "duration": 11,
    "start_time": "2021-12-22T06:32:37.889Z"
   },
   {
    "duration": 4,
    "start_time": "2021-12-22T06:32:37.903Z"
   },
   {
    "duration": 7,
    "start_time": "2021-12-22T06:32:37.910Z"
   },
   {
    "duration": 57,
    "start_time": "2021-12-22T06:32:37.920Z"
   },
   {
    "duration": 10,
    "start_time": "2021-12-22T06:32:37.979Z"
   },
   {
    "duration": 86,
    "start_time": "2021-12-22T06:32:37.992Z"
   },
   {
    "duration": 57,
    "start_time": "2021-12-22T06:32:38.081Z"
   },
   {
    "duration": 36,
    "start_time": "2021-12-22T06:32:38.141Z"
   },
   {
    "duration": 12,
    "start_time": "2021-12-22T06:32:38.180Z"
   },
   {
    "duration": 30,
    "start_time": "2021-12-22T06:32:38.195Z"
   },
   {
    "duration": 55,
    "start_time": "2021-12-22T06:32:38.227Z"
   },
   {
    "duration": 9,
    "start_time": "2021-12-22T06:32:38.284Z"
   },
   {
    "duration": 11,
    "start_time": "2021-12-22T06:32:38.296Z"
   },
   {
    "duration": 14,
    "start_time": "2021-12-22T06:32:38.309Z"
   },
   {
    "duration": 263,
    "start_time": "2021-12-22T06:32:38.326Z"
   },
   {
    "duration": 228,
    "start_time": "2021-12-22T06:32:38.592Z"
   },
   {
    "duration": 73,
    "start_time": "2021-12-22T06:32:38.831Z"
   },
   {
    "duration": 23,
    "start_time": "2021-12-22T06:32:38.907Z"
   },
   {
    "duration": 342,
    "start_time": "2021-12-22T06:32:38.933Z"
   },
   {
    "duration": 60,
    "start_time": "2021-12-22T06:32:39.278Z"
   },
   {
    "duration": 53,
    "start_time": "2021-12-22T06:32:39.341Z"
   },
   {
    "duration": 370,
    "start_time": "2021-12-22T06:32:39.397Z"
   },
   {
    "duration": 27,
    "start_time": "2021-12-22T06:32:39.770Z"
   },
   {
    "duration": 509,
    "start_time": "2021-12-22T06:32:39.799Z"
   },
   {
    "duration": 5,
    "start_time": "2021-12-22T06:32:40.311Z"
   },
   {
    "duration": 9,
    "start_time": "2021-12-22T06:32:40.319Z"
   },
   {
    "duration": 1588,
    "start_time": "2021-12-22T06:32:40.331Z"
   },
   {
    "duration": 399,
    "start_time": "2021-12-22T06:32:41.922Z"
   },
   {
    "duration": 1594,
    "start_time": "2021-12-22T06:32:42.324Z"
   },
   {
    "duration": 272,
    "start_time": "2021-12-22T06:32:43.920Z"
   },
   {
    "duration": 275,
    "start_time": "2021-12-22T06:32:44.194Z"
   },
   {
    "duration": 251,
    "start_time": "2021-12-22T06:32:44.472Z"
   },
   {
    "duration": 269,
    "start_time": "2021-12-22T06:32:44.726Z"
   },
   {
    "duration": 290,
    "start_time": "2021-12-22T06:32:44.998Z"
   },
   {
    "duration": 7,
    "start_time": "2021-12-22T06:32:45.290Z"
   },
   {
    "duration": 31,
    "start_time": "2021-12-22T06:32:45.299Z"
   },
   {
    "duration": 45,
    "start_time": "2021-12-22T06:32:45.333Z"
   },
   {
    "duration": 10,
    "start_time": "2021-12-22T06:32:45.381Z"
   },
   {
    "duration": 8,
    "start_time": "2021-12-22T06:32:45.394Z"
   },
   {
    "duration": 9,
    "start_time": "2021-12-22T06:32:45.405Z"
   },
   {
    "duration": 285,
    "start_time": "2021-12-22T06:32:45.417Z"
   },
   {
    "duration": 35,
    "start_time": "2021-12-22T06:32:45.705Z"
   },
   {
    "duration": 51,
    "start_time": "2021-12-22T06:32:45.743Z"
   },
   {
    "duration": 14,
    "start_time": "2021-12-22T06:32:45.797Z"
   },
   {
    "duration": 6,
    "start_time": "2021-12-22T06:32:45.814Z"
   },
   {
    "duration": 1665,
    "start_time": "2021-12-22T06:33:31.752Z"
   },
   {
    "duration": 1682,
    "start_time": "2021-12-22T06:36:42.429Z"
   },
   {
    "duration": 1868,
    "start_time": "2021-12-22T06:38:50.029Z"
   },
   {
    "duration": 1662,
    "start_time": "2021-12-22T06:39:07.398Z"
   },
   {
    "duration": 6,
    "start_time": "2021-12-22T08:39:11.472Z"
   },
   {
    "duration": 295,
    "start_time": "2021-12-22T08:39:42.488Z"
   },
   {
    "duration": 8,
    "start_time": "2021-12-22T08:45:39.944Z"
   },
   {
    "duration": 265,
    "start_time": "2021-12-22T08:56:54.191Z"
   },
   {
    "duration": 16395,
    "start_time": "2021-12-22T08:59:29.888Z"
   },
   {
    "duration": 3995,
    "start_time": "2021-12-22T08:59:50.709Z"
   },
   {
    "duration": 299,
    "start_time": "2021-12-22T09:00:22.384Z"
   },
   {
    "duration": 291,
    "start_time": "2021-12-22T09:11:54.139Z"
   },
   {
    "duration": 8574,
    "start_time": "2021-12-22T09:40:42.380Z"
   },
   {
    "duration": 284,
    "start_time": "2021-12-22T09:40:55.187Z"
   },
   {
    "duration": 8162,
    "start_time": "2021-12-22T09:41:19.241Z"
   },
   {
    "duration": 348,
    "start_time": "2021-12-22T09:41:34.118Z"
   },
   {
    "duration": 1638,
    "start_time": "2021-12-22T09:43:16.078Z"
   },
   {
    "duration": 2862664,
    "start_time": "2021-12-22T09:45:55.430Z"
   },
   {
    "duration": 7,
    "start_time": "2021-12-22T10:33:51.199Z"
   },
   {
    "duration": 445,
    "start_time": "2021-12-22T11:29:41.315Z"
   },
   {
    "duration": 7,
    "start_time": "2021-12-22T11:32:00.486Z"
   },
   {
    "duration": 6,
    "start_time": "2021-12-22T11:32:40.607Z"
   },
   {
    "duration": 382,
    "start_time": "2021-12-22T11:32:49.517Z"
   },
   {
    "duration": 4130,
    "start_time": "2021-12-22T11:33:11.120Z"
   },
   {
    "duration": 19182,
    "start_time": "2021-12-22T11:33:15.254Z"
   },
   {
    "duration": 3752,
    "start_time": "2021-12-22T11:33:34.439Z"
   },
   {
    "duration": 7,
    "start_time": "2021-12-22T11:33:38.194Z"
   },
   {
    "duration": 115,
    "start_time": "2021-12-22T11:33:38.204Z"
   },
   {
    "duration": 26,
    "start_time": "2021-12-22T11:33:38.321Z"
   },
   {
    "duration": 14,
    "start_time": "2021-12-22T11:33:38.350Z"
   },
   {
    "duration": 14,
    "start_time": "2021-12-22T11:33:38.368Z"
   },
   {
    "duration": 7,
    "start_time": "2021-12-22T11:33:38.386Z"
   },
   {
    "duration": 11,
    "start_time": "2021-12-22T11:33:38.396Z"
   },
   {
    "duration": 11,
    "start_time": "2021-12-22T11:33:38.409Z"
   },
   {
    "duration": 10,
    "start_time": "2021-12-22T11:33:38.422Z"
   },
   {
    "duration": 6,
    "start_time": "2021-12-22T11:33:38.468Z"
   },
   {
    "duration": 16,
    "start_time": "2021-12-22T11:33:38.477Z"
   },
   {
    "duration": 19,
    "start_time": "2021-12-22T11:33:38.496Z"
   },
   {
    "duration": 65,
    "start_time": "2021-12-22T11:33:38.518Z"
   },
   {
    "duration": 10,
    "start_time": "2021-12-22T11:33:38.585Z"
   },
   {
    "duration": 20,
    "start_time": "2021-12-22T11:33:38.598Z"
   },
   {
    "duration": 13,
    "start_time": "2021-12-22T11:33:38.620Z"
   },
   {
    "duration": 47,
    "start_time": "2021-12-22T11:33:38.636Z"
   },
   {
    "duration": 7,
    "start_time": "2021-12-22T11:33:38.687Z"
   },
   {
    "duration": 18,
    "start_time": "2021-12-22T11:33:38.697Z"
   },
   {
    "duration": 46,
    "start_time": "2021-12-22T11:33:38.721Z"
   },
   {
    "duration": 19,
    "start_time": "2021-12-22T11:33:38.772Z"
   },
   {
    "duration": 16,
    "start_time": "2021-12-22T11:33:38.794Z"
   },
   {
    "duration": 12,
    "start_time": "2021-12-22T11:33:38.813Z"
   },
   {
    "duration": 40,
    "start_time": "2021-12-22T11:33:38.828Z"
   },
   {
    "duration": 5,
    "start_time": "2021-12-22T11:33:38.871Z"
   },
   {
    "duration": 8,
    "start_time": "2021-12-22T11:33:38.878Z"
   },
   {
    "duration": 7,
    "start_time": "2021-12-22T11:33:38.888Z"
   },
   {
    "duration": 11,
    "start_time": "2021-12-22T11:33:38.897Z"
   },
   {
    "duration": 9,
    "start_time": "2021-12-22T11:33:38.910Z"
   },
   {
    "duration": 51,
    "start_time": "2021-12-22T11:33:38.921Z"
   },
   {
    "duration": 5,
    "start_time": "2021-12-22T11:33:38.975Z"
   },
   {
    "duration": 18,
    "start_time": "2021-12-22T11:33:38.982Z"
   },
   {
    "duration": 26,
    "start_time": "2021-12-22T11:33:39.002Z"
   },
   {
    "duration": 40,
    "start_time": "2021-12-22T11:33:39.030Z"
   },
   {
    "duration": 14,
    "start_time": "2021-12-22T11:33:39.073Z"
   },
   {
    "duration": 11,
    "start_time": "2021-12-22T11:33:39.089Z"
   },
   {
    "duration": 7,
    "start_time": "2021-12-22T11:33:39.103Z"
   },
   {
    "duration": 7,
    "start_time": "2021-12-22T11:33:39.113Z"
   },
   {
    "duration": 47,
    "start_time": "2021-12-22T11:33:39.123Z"
   },
   {
    "duration": 8,
    "start_time": "2021-12-22T11:33:39.172Z"
   },
   {
    "duration": 7,
    "start_time": "2021-12-22T11:33:39.182Z"
   },
   {
    "duration": 11,
    "start_time": "2021-12-22T11:33:39.191Z"
   },
   {
    "duration": 6,
    "start_time": "2021-12-22T11:33:39.204Z"
   },
   {
    "duration": 64,
    "start_time": "2021-12-22T11:33:39.212Z"
   },
   {
    "duration": 11,
    "start_time": "2021-12-22T11:33:39.278Z"
   },
   {
    "duration": 13,
    "start_time": "2021-12-22T11:33:39.292Z"
   },
   {
    "duration": 17,
    "start_time": "2021-12-22T11:33:39.307Z"
   },
   {
    "duration": 49,
    "start_time": "2021-12-22T11:33:39.326Z"
   },
   {
    "duration": 9,
    "start_time": "2021-12-22T11:33:39.377Z"
   },
   {
    "duration": 8,
    "start_time": "2021-12-22T11:33:39.388Z"
   },
   {
    "duration": 6,
    "start_time": "2021-12-22T11:33:39.398Z"
   },
   {
    "duration": 10,
    "start_time": "2021-12-22T11:33:39.407Z"
   },
   {
    "duration": 3,
    "start_time": "2021-12-22T11:33:39.468Z"
   },
   {
    "duration": 7,
    "start_time": "2021-12-22T11:33:39.474Z"
   },
   {
    "duration": 13,
    "start_time": "2021-12-22T11:33:39.483Z"
   },
   {
    "duration": 11,
    "start_time": "2021-12-22T11:33:39.498Z"
   },
   {
    "duration": 84,
    "start_time": "2021-12-22T11:33:39.512Z"
   },
   {
    "duration": 42,
    "start_time": "2021-12-22T11:33:39.599Z"
   },
   {
    "duration": 34,
    "start_time": "2021-12-22T11:33:39.644Z"
   },
   {
    "duration": 10,
    "start_time": "2021-12-22T11:33:39.681Z"
   },
   {
    "duration": 32,
    "start_time": "2021-12-22T11:33:39.694Z"
   },
   {
    "duration": 56,
    "start_time": "2021-12-22T11:33:39.728Z"
   },
   {
    "duration": 7,
    "start_time": "2021-12-22T11:33:39.787Z"
   },
   {
    "duration": 13,
    "start_time": "2021-12-22T11:33:39.797Z"
   },
   {
    "duration": 10,
    "start_time": "2021-12-22T11:33:39.819Z"
   },
   {
    "duration": 226,
    "start_time": "2021-12-22T11:33:39.868Z"
   },
   {
    "duration": 248,
    "start_time": "2021-12-22T11:33:40.097Z"
   },
   {
    "duration": 58,
    "start_time": "2021-12-22T11:33:40.348Z"
   },
   {
    "duration": 18,
    "start_time": "2021-12-22T11:33:40.408Z"
   },
   {
    "duration": 268,
    "start_time": "2021-12-22T11:33:40.429Z"
   },
   {
    "duration": 68,
    "start_time": "2021-12-22T11:33:40.700Z"
   },
   {
    "duration": 24,
    "start_time": "2021-12-22T11:33:40.771Z"
   },
   {
    "duration": 381,
    "start_time": "2021-12-22T11:33:40.798Z"
   },
   {
    "duration": 21,
    "start_time": "2021-12-22T11:33:41.181Z"
   },
   {
    "duration": 375,
    "start_time": "2021-12-22T11:33:41.204Z"
   },
   {
    "duration": 3,
    "start_time": "2021-12-22T11:33:41.582Z"
   },
   {
    "duration": 7,
    "start_time": "2021-12-22T11:33:41.587Z"
   },
   {
    "duration": 1476,
    "start_time": "2021-12-22T11:33:41.597Z"
   },
   {
    "duration": 284,
    "start_time": "2021-12-22T11:33:43.076Z"
   },
   {
    "duration": 1533,
    "start_time": "2021-12-22T11:33:43.367Z"
   },
   {
    "duration": 273,
    "start_time": "2021-12-22T11:33:44.902Z"
   },
   {
    "duration": 266,
    "start_time": "2021-12-22T11:33:45.177Z"
   },
   {
    "duration": 255,
    "start_time": "2021-12-22T11:33:45.445Z"
   },
   {
    "duration": 262,
    "start_time": "2021-12-22T11:33:45.703Z"
   },
   {
    "duration": 287,
    "start_time": "2021-12-22T11:33:45.967Z"
   },
   {
    "duration": 12,
    "start_time": "2021-12-22T11:33:46.257Z"
   },
   {
    "duration": 31,
    "start_time": "2021-12-22T11:33:46.272Z"
   },
   {
    "duration": 15,
    "start_time": "2021-12-22T11:33:46.306Z"
   },
   {
    "duration": 43,
    "start_time": "2021-12-22T11:33:46.324Z"
   },
   {
    "duration": 9,
    "start_time": "2021-12-22T11:33:46.370Z"
   },
   {
    "duration": 11,
    "start_time": "2021-12-22T11:33:46.381Z"
   },
   {
    "duration": 290,
    "start_time": "2021-12-22T11:33:46.394Z"
   },
   {
    "duration": 33,
    "start_time": "2021-12-22T11:33:46.687Z"
   },
   {
    "duration": 63,
    "start_time": "2021-12-22T11:33:46.723Z"
   },
   {
    "duration": 17,
    "start_time": "2021-12-22T11:33:46.789Z"
   },
   {
    "duration": 8,
    "start_time": "2021-12-22T11:33:46.808Z"
   },
   {
    "duration": 3,
    "start_time": "2021-12-22T11:34:12.160Z"
   },
   {
    "duration": 11,
    "start_time": "2021-12-22T11:34:12.165Z"
   },
   {
    "duration": 6,
    "start_time": "2021-12-22T11:34:12.179Z"
   },
   {
    "duration": 15,
    "start_time": "2021-12-22T11:34:12.188Z"
   },
   {
    "duration": 120,
    "start_time": "2021-12-22T11:34:12.205Z"
   },
   {
    "duration": 18,
    "start_time": "2021-12-22T11:34:12.327Z"
   },
   {
    "duration": 19,
    "start_time": "2021-12-22T11:34:12.348Z"
   },
   {
    "duration": 11,
    "start_time": "2021-12-22T11:34:12.370Z"
   },
   {
    "duration": 9,
    "start_time": "2021-12-22T11:34:12.386Z"
   },
   {
    "duration": 12,
    "start_time": "2021-12-22T11:34:12.397Z"
   },
   {
    "duration": 58,
    "start_time": "2021-12-22T11:34:12.411Z"
   },
   {
    "duration": 7,
    "start_time": "2021-12-22T11:34:12.472Z"
   },
   {
    "duration": 6,
    "start_time": "2021-12-22T11:34:12.481Z"
   },
   {
    "duration": 17,
    "start_time": "2021-12-22T11:34:12.490Z"
   },
   {
    "duration": 60,
    "start_time": "2021-12-22T11:34:12.509Z"
   },
   {
    "duration": 20,
    "start_time": "2021-12-22T11:34:12.571Z"
   },
   {
    "duration": 9,
    "start_time": "2021-12-22T11:34:12.593Z"
   },
   {
    "duration": 20,
    "start_time": "2021-12-22T11:34:12.604Z"
   },
   {
    "duration": 51,
    "start_time": "2021-12-22T11:34:12.626Z"
   },
   {
    "duration": 16,
    "start_time": "2021-12-22T11:34:12.680Z"
   },
   {
    "duration": 10,
    "start_time": "2021-12-22T11:34:12.698Z"
   },
   {
    "duration": 15,
    "start_time": "2021-12-22T11:34:12.710Z"
   },
   {
    "duration": 44,
    "start_time": "2021-12-22T11:34:12.732Z"
   },
   {
    "duration": 18,
    "start_time": "2021-12-22T11:34:12.780Z"
   },
   {
    "duration": 16,
    "start_time": "2021-12-22T11:34:12.801Z"
   },
   {
    "duration": 11,
    "start_time": "2021-12-22T11:34:12.820Z"
   },
   {
    "duration": 9,
    "start_time": "2021-12-22T11:34:12.868Z"
   },
   {
    "duration": 5,
    "start_time": "2021-12-22T11:34:12.881Z"
   },
   {
    "duration": 8,
    "start_time": "2021-12-22T11:34:12.889Z"
   },
   {
    "duration": 11,
    "start_time": "2021-12-22T11:34:12.899Z"
   },
   {
    "duration": 7,
    "start_time": "2021-12-22T11:34:12.912Z"
   },
   {
    "duration": 53,
    "start_time": "2021-12-22T11:34:12.921Z"
   },
   {
    "duration": 8,
    "start_time": "2021-12-22T11:34:12.977Z"
   },
   {
    "duration": 10,
    "start_time": "2021-12-22T11:34:12.988Z"
   },
   {
    "duration": 19,
    "start_time": "2021-12-22T11:34:13.000Z"
   },
   {
    "duration": 14,
    "start_time": "2021-12-22T11:34:13.021Z"
   },
   {
    "duration": 43,
    "start_time": "2021-12-22T11:34:13.037Z"
   },
   {
    "duration": 12,
    "start_time": "2021-12-22T11:34:13.083Z"
   },
   {
    "duration": 11,
    "start_time": "2021-12-22T11:34:13.098Z"
   },
   {
    "duration": 7,
    "start_time": "2021-12-22T11:34:13.112Z"
   },
   {
    "duration": 46,
    "start_time": "2021-12-22T11:34:13.121Z"
   },
   {
    "duration": 7,
    "start_time": "2021-12-22T11:34:13.170Z"
   },
   {
    "duration": 8,
    "start_time": "2021-12-22T11:34:13.179Z"
   },
   {
    "duration": 7,
    "start_time": "2021-12-22T11:34:13.189Z"
   },
   {
    "duration": 9,
    "start_time": "2021-12-22T11:34:13.198Z"
   },
   {
    "duration": 6,
    "start_time": "2021-12-22T11:34:13.209Z"
   },
   {
    "duration": 64,
    "start_time": "2021-12-22T11:34:13.218Z"
   },
   {
    "duration": 10,
    "start_time": "2021-12-22T11:34:13.284Z"
   },
   {
    "duration": 28,
    "start_time": "2021-12-22T11:34:13.297Z"
   },
   {
    "duration": 18,
    "start_time": "2021-12-22T11:34:13.327Z"
   },
   {
    "duration": 11,
    "start_time": "2021-12-22T11:34:13.368Z"
   },
   {
    "duration": 12,
    "start_time": "2021-12-22T11:34:13.382Z"
   },
   {
    "duration": 12,
    "start_time": "2021-12-22T11:34:13.396Z"
   },
   {
    "duration": 7,
    "start_time": "2021-12-22T11:34:13.411Z"
   },
   {
    "duration": 47,
    "start_time": "2021-12-22T11:34:13.421Z"
   },
   {
    "duration": 3,
    "start_time": "2021-12-22T11:34:13.470Z"
   },
   {
    "duration": 7,
    "start_time": "2021-12-22T11:34:13.476Z"
   },
   {
    "duration": 18,
    "start_time": "2021-12-22T11:34:13.486Z"
   },
   {
    "duration": 11,
    "start_time": "2021-12-22T11:34:13.507Z"
   },
   {
    "duration": 74,
    "start_time": "2021-12-22T11:34:13.520Z"
   },
   {
    "duration": 40,
    "start_time": "2021-12-22T11:34:13.597Z"
   },
   {
    "duration": 34,
    "start_time": "2021-12-22T11:34:13.640Z"
   },
   {
    "duration": 19,
    "start_time": "2021-12-22T11:34:13.677Z"
   },
   {
    "duration": 29,
    "start_time": "2021-12-22T11:34:13.698Z"
   },
   {
    "duration": 46,
    "start_time": "2021-12-22T11:34:13.729Z"
   },
   {
    "duration": 7,
    "start_time": "2021-12-22T11:34:13.778Z"
   },
   {
    "duration": 10,
    "start_time": "2021-12-22T11:34:13.788Z"
   },
   {
    "duration": 10,
    "start_time": "2021-12-22T11:34:13.807Z"
   },
   {
    "duration": 246,
    "start_time": "2021-12-22T11:34:13.821Z"
   },
   {
    "duration": 234,
    "start_time": "2021-12-22T11:34:14.069Z"
   },
   {
    "duration": 63,
    "start_time": "2021-12-22T11:34:14.306Z"
   },
   {
    "duration": 18,
    "start_time": "2021-12-22T11:34:14.371Z"
   },
   {
    "duration": 275,
    "start_time": "2021-12-22T11:34:14.392Z"
   },
   {
    "duration": 45,
    "start_time": "2021-12-22T11:34:14.670Z"
   },
   {
    "duration": 49,
    "start_time": "2021-12-22T11:34:14.718Z"
   },
   {
    "duration": 284,
    "start_time": "2021-12-22T11:34:14.770Z"
   },
   {
    "duration": 28,
    "start_time": "2021-12-22T11:34:15.056Z"
   },
   {
    "duration": 382,
    "start_time": "2021-12-22T11:34:15.088Z"
   },
   {
    "duration": 5,
    "start_time": "2021-12-22T11:34:15.473Z"
   },
   {
    "duration": 15,
    "start_time": "2021-12-22T11:34:15.480Z"
   },
   {
    "duration": 1506,
    "start_time": "2021-12-22T11:34:15.498Z"
   },
   {
    "duration": 288,
    "start_time": "2021-12-22T11:34:17.007Z"
   },
   {
    "duration": 1470,
    "start_time": "2021-12-22T11:34:17.297Z"
   },
   {
    "duration": 276,
    "start_time": "2021-12-22T11:34:18.770Z"
   },
   {
    "duration": 264,
    "start_time": "2021-12-22T11:34:19.049Z"
   },
   {
    "duration": 258,
    "start_time": "2021-12-22T11:34:19.316Z"
   },
   {
    "duration": 379,
    "start_time": "2021-12-22T11:34:19.576Z"
   },
   {
    "duration": 284,
    "start_time": "2021-12-22T11:34:19.958Z"
   },
   {
    "duration": 6,
    "start_time": "2021-12-22T11:34:20.245Z"
   },
   {
    "duration": 36,
    "start_time": "2021-12-22T11:34:20.253Z"
   },
   {
    "duration": 13,
    "start_time": "2021-12-22T11:34:20.292Z"
   },
   {
    "duration": 11,
    "start_time": "2021-12-22T11:34:20.307Z"
   },
   {
    "duration": 49,
    "start_time": "2021-12-22T11:34:20.320Z"
   },
   {
    "duration": 13,
    "start_time": "2021-12-22T11:34:20.372Z"
   },
   {
    "duration": 262,
    "start_time": "2021-12-22T11:34:20.387Z"
   },
   {
    "duration": 40,
    "start_time": "2021-12-22T11:34:20.651Z"
   },
   {
    "duration": 34,
    "start_time": "2021-12-22T11:34:20.694Z"
   },
   {
    "duration": 38,
    "start_time": "2021-12-22T11:34:20.731Z"
   },
   {
    "duration": 6,
    "start_time": "2021-12-22T11:34:20.772Z"
   },
   {
    "duration": 621,
    "start_time": "2021-12-22T11:34:29.405Z"
   },
   {
    "duration": 575,
    "start_time": "2021-12-22T11:36:02.031Z"
   },
   {
    "duration": 6,
    "start_time": "2021-12-22T11:36:16.380Z"
   },
   {
    "duration": 718842,
    "start_time": "2021-12-22T11:36:46.130Z"
   },
   {
    "duration": 9,
    "start_time": "2021-12-22T11:49:55.981Z"
   },
   {
    "duration": 301,
    "start_time": "2021-12-22T11:50:18.121Z"
   },
   {
    "duration": 10,
    "start_time": "2021-12-22T11:50:23.953Z"
   },
   {
    "duration": 7,
    "start_time": "2021-12-22T11:51:24.462Z"
   },
   {
    "duration": 702,
    "start_time": "2021-12-22T12:23:40.981Z"
   },
   {
    "duration": 775,
    "start_time": "2021-12-22T12:24:12.957Z"
   },
   {
    "duration": 697,
    "start_time": "2021-12-22T12:28:37.017Z"
   },
   {
    "duration": 156,
    "start_time": "2021-12-22T12:28:51.905Z"
   },
   {
    "duration": 172,
    "start_time": "2021-12-22T12:29:44.043Z"
   },
   {
    "duration": 97,
    "start_time": "2021-12-22T12:41:37.012Z"
   },
   {
    "duration": 303,
    "start_time": "2021-12-22T12:42:19.393Z"
   },
   {
    "duration": 310,
    "start_time": "2021-12-22T12:44:58.571Z"
   },
   {
    "duration": 298,
    "start_time": "2021-12-22T12:45:13.211Z"
   },
   {
    "duration": 5,
    "start_time": "2021-12-22T12:46:41.842Z"
   },
   {
    "duration": 7,
    "start_time": "2021-12-22T12:46:58.171Z"
   },
   {
    "duration": 528,
    "start_time": "2021-12-22T12:48:24.937Z"
   },
   {
    "duration": 631,
    "start_time": "2021-12-22T12:48:54.216Z"
   },
   {
    "duration": 593,
    "start_time": "2021-12-22T12:49:22.911Z"
   },
   {
    "duration": 605,
    "start_time": "2021-12-22T12:50:45.008Z"
   },
   {
    "duration": 484,
    "start_time": "2021-12-22T12:51:22.732Z"
   },
   {
    "duration": 573,
    "start_time": "2021-12-22T12:51:56.962Z"
   },
   {
    "duration": 28190,
    "start_time": "2021-12-22T12:53:29.031Z"
   },
   {
    "duration": 87,
    "start_time": "2021-12-22T12:58:40.100Z"
   },
   {
    "duration": 86,
    "start_time": "2021-12-22T12:58:56.772Z"
   },
   {
    "duration": 150,
    "start_time": "2021-12-22T12:59:04.768Z"
   },
   {
    "duration": 94,
    "start_time": "2021-12-22T12:59:30.548Z"
   },
   {
    "duration": 265,
    "start_time": "2021-12-22T13:00:08.159Z"
   },
   {
    "duration": 7,
    "start_time": "2021-12-22T13:00:17.275Z"
   },
   {
    "duration": 4368750,
    "start_time": "2021-12-22T13:01:41.522Z"
   },
   {
    "duration": -2185,
    "start_time": "2021-12-22T14:14:32.461Z"
   },
   {
    "duration": 121,
    "start_time": "2021-12-22T14:14:37.833Z"
   },
   {
    "duration": 13,
    "start_time": "2021-12-22T14:15:23.149Z"
   },
   {
    "duration": 4888210,
    "start_time": "2021-12-22T14:17:06.722Z"
   },
   {
    "duration": 13,
    "start_time": "2021-12-22T16:33:59.916Z"
   },
   {
    "duration": 13,
    "start_time": "2021-12-22T16:34:03.078Z"
   },
   {
    "duration": 14,
    "start_time": "2021-12-22T16:34:06.028Z"
   },
   {
    "duration": 14,
    "start_time": "2021-12-22T16:34:08.778Z"
   },
   {
    "duration": 13,
    "start_time": "2021-12-22T16:34:17.523Z"
   },
   {
    "duration": 61,
    "start_time": "2021-12-22T18:29:07.791Z"
   },
   {
    "duration": 3933121,
    "start_time": "2021-12-22T18:37:45.336Z"
   },
   {
    "duration": 593,
    "start_time": "2021-12-22T19:47:07.674Z"
   },
   {
    "duration": 563,
    "start_time": "2021-12-22T19:49:23.180Z"
   },
   {
    "duration": 41141,
    "start_time": "2021-12-22T19:57:17.382Z"
   },
   {
    "duration": 13,
    "start_time": "2021-12-22T19:59:19.644Z"
   },
   {
    "duration": 5,
    "start_time": "2021-12-22T20:01:09.223Z"
   },
   {
    "duration": 6,
    "start_time": "2021-12-22T20:01:11.576Z"
   },
   {
    "duration": 10,
    "start_time": "2021-12-22T20:01:13.173Z"
   },
   {
    "duration": 567,
    "start_time": "2021-12-22T20:01:16.502Z"
   },
   {
    "duration": 4,
    "start_time": "2021-12-22T20:01:40.027Z"
   },
   {
    "duration": 5,
    "start_time": "2021-12-22T20:01:42.226Z"
   },
   {
    "duration": 11,
    "start_time": "2021-12-22T20:01:43.485Z"
   },
   {
    "duration": 21112,
    "start_time": "2021-12-22T20:01:46.165Z"
   },
   {
    "duration": 13,
    "start_time": "2021-12-22T20:03:58.500Z"
   },
   {
    "duration": 8,
    "start_time": "2021-12-22T20:04:15.231Z"
   },
   {
    "duration": 3,
    "start_time": "2021-12-22T20:08:26.857Z"
   },
   {
    "duration": 11,
    "start_time": "2021-12-22T20:08:26.862Z"
   },
   {
    "duration": 7,
    "start_time": "2021-12-22T20:08:26.877Z"
   },
   {
    "duration": 7,
    "start_time": "2021-12-22T20:08:26.887Z"
   },
   {
    "duration": 102,
    "start_time": "2021-12-22T20:08:26.896Z"
   },
   {
    "duration": 18,
    "start_time": "2021-12-22T20:08:27.001Z"
   },
   {
    "duration": 17,
    "start_time": "2021-12-22T20:08:27.021Z"
   },
   {
    "duration": 28,
    "start_time": "2021-12-22T20:08:27.042Z"
   },
   {
    "duration": 7,
    "start_time": "2021-12-22T20:08:27.073Z"
   },
   {
    "duration": 7,
    "start_time": "2021-12-22T20:08:27.082Z"
   },
   {
    "duration": 6,
    "start_time": "2021-12-22T20:08:27.092Z"
   },
   {
    "duration": 6,
    "start_time": "2021-12-22T20:08:27.101Z"
   },
   {
    "duration": 7,
    "start_time": "2021-12-22T20:08:27.109Z"
   },
   {
    "duration": 15,
    "start_time": "2021-12-22T20:08:27.167Z"
   },
   {
    "duration": 13,
    "start_time": "2021-12-22T20:08:27.185Z"
   },
   {
    "duration": 19,
    "start_time": "2021-12-22T20:08:27.201Z"
   },
   {
    "duration": 51,
    "start_time": "2021-12-22T20:08:27.223Z"
   },
   {
    "duration": 19,
    "start_time": "2021-12-22T20:08:27.278Z"
   },
   {
    "duration": 15,
    "start_time": "2021-12-22T20:08:27.299Z"
   },
   {
    "duration": 56,
    "start_time": "2021-12-22T20:08:27.316Z"
   },
   {
    "duration": 6,
    "start_time": "2021-12-22T20:08:27.374Z"
   },
   {
    "duration": 14,
    "start_time": "2021-12-22T20:08:27.382Z"
   },
   {
    "duration": 11,
    "start_time": "2021-12-22T20:08:27.399Z"
   },
   {
    "duration": 56,
    "start_time": "2021-12-22T20:08:27.413Z"
   },
   {
    "duration": 14,
    "start_time": "2021-12-22T20:08:27.472Z"
   },
   {
    "duration": 11,
    "start_time": "2021-12-22T20:08:27.489Z"
   },
   {
    "duration": 9,
    "start_time": "2021-12-22T20:08:27.502Z"
   },
   {
    "duration": 6,
    "start_time": "2021-12-22T20:08:27.514Z"
   },
   {
    "duration": 6,
    "start_time": "2021-12-22T20:08:27.567Z"
   },
   {
    "duration": 8,
    "start_time": "2021-12-22T20:08:27.576Z"
   },
   {
    "duration": 10,
    "start_time": "2021-12-22T20:08:27.586Z"
   },
   {
    "duration": 14,
    "start_time": "2021-12-22T20:08:27.598Z"
   },
   {
    "duration": 50,
    "start_time": "2021-12-22T20:08:27.620Z"
   },
   {
    "duration": 6,
    "start_time": "2021-12-22T20:08:27.673Z"
   },
   {
    "duration": 16,
    "start_time": "2021-12-22T20:08:27.681Z"
   },
   {
    "duration": 13,
    "start_time": "2021-12-22T20:08:27.700Z"
   },
   {
    "duration": 56,
    "start_time": "2021-12-22T20:08:27.716Z"
   },
   {
    "duration": 11,
    "start_time": "2021-12-22T20:08:27.775Z"
   },
   {
    "duration": 15,
    "start_time": "2021-12-22T20:08:27.789Z"
   },
   {
    "duration": 7,
    "start_time": "2021-12-22T20:08:27.807Z"
   },
   {
    "duration": 57,
    "start_time": "2021-12-22T20:08:27.817Z"
   },
   {
    "duration": 8,
    "start_time": "2021-12-22T20:08:27.876Z"
   },
   {
    "duration": 7,
    "start_time": "2021-12-22T20:08:27.887Z"
   },
   {
    "duration": 7,
    "start_time": "2021-12-22T20:08:27.897Z"
   },
   {
    "duration": 61,
    "start_time": "2021-12-22T20:08:27.906Z"
   },
   {
    "duration": 4,
    "start_time": "2021-12-22T20:08:27.972Z"
   },
   {
    "duration": 24,
    "start_time": "2021-12-22T20:08:27.979Z"
   },
   {
    "duration": 10,
    "start_time": "2021-12-22T20:08:28.006Z"
   },
   {
    "duration": 59,
    "start_time": "2021-12-22T20:08:28.019Z"
   },
   {
    "duration": 17,
    "start_time": "2021-12-22T20:08:28.081Z"
   },
   {
    "duration": 11,
    "start_time": "2021-12-22T20:08:28.102Z"
   },
   {
    "duration": 56,
    "start_time": "2021-12-22T20:08:28.115Z"
   },
   {
    "duration": 18,
    "start_time": "2021-12-22T20:08:28.173Z"
   },
   {
    "duration": 7,
    "start_time": "2021-12-22T20:08:28.193Z"
   },
   {
    "duration": 12,
    "start_time": "2021-12-22T20:08:28.202Z"
   },
   {
    "duration": 2,
    "start_time": "2021-12-22T20:08:28.217Z"
   },
   {
    "duration": 41,
    "start_time": "2021-12-22T20:08:28.228Z"
   },
   {
    "duration": 14,
    "start_time": "2021-12-22T20:08:28.273Z"
   },
   {
    "duration": 10,
    "start_time": "2021-12-22T20:08:28.290Z"
   },
   {
    "duration": 76,
    "start_time": "2021-12-22T20:08:28.303Z"
   },
   {
    "duration": 42,
    "start_time": "2021-12-22T20:08:28.382Z"
   },
   {
    "duration": 14,
    "start_time": "2021-12-22T20:08:28.426Z"
   },
   {
    "duration": 10,
    "start_time": "2021-12-22T20:08:28.467Z"
   },
   {
    "duration": 27,
    "start_time": "2021-12-22T20:08:28.480Z"
   },
   {
    "duration": 25,
    "start_time": "2021-12-22T20:08:28.509Z"
   },
   {
    "duration": 8,
    "start_time": "2021-12-22T20:08:28.567Z"
   },
   {
    "duration": 9,
    "start_time": "2021-12-22T20:08:28.578Z"
   },
   {
    "duration": 11,
    "start_time": "2021-12-22T20:08:28.590Z"
   },
   {
    "duration": 246,
    "start_time": "2021-12-22T20:08:28.604Z"
   },
   {
    "duration": 318,
    "start_time": "2021-12-22T20:08:28.852Z"
   },
   {
    "duration": 47,
    "start_time": "2021-12-22T20:08:29.173Z"
   },
   {
    "duration": 47,
    "start_time": "2021-12-22T20:08:29.223Z"
   },
   {
    "duration": 248,
    "start_time": "2021-12-22T20:08:29.273Z"
   },
   {
    "duration": 59,
    "start_time": "2021-12-22T20:08:29.523Z"
   },
   {
    "duration": 24,
    "start_time": "2021-12-22T20:08:29.584Z"
   },
   {
    "duration": 290,
    "start_time": "2021-12-22T20:08:29.611Z"
   },
   {
    "duration": 22,
    "start_time": "2021-12-22T20:08:29.904Z"
   },
   {
    "duration": 393,
    "start_time": "2021-12-22T20:08:29.928Z"
   },
   {
    "duration": 3,
    "start_time": "2021-12-22T20:08:30.324Z"
   },
   {
    "duration": 9,
    "start_time": "2021-12-22T20:08:30.330Z"
   },
   {
    "duration": 1429,
    "start_time": "2021-12-22T20:08:30.342Z"
   },
   {
    "duration": 296,
    "start_time": "2021-12-22T20:08:31.774Z"
   },
   {
    "duration": 1541,
    "start_time": "2021-12-22T20:08:32.072Z"
   },
   {
    "duration": 332,
    "start_time": "2021-12-22T20:08:33.615Z"
   },
   {
    "duration": 271,
    "start_time": "2021-12-22T20:08:33.949Z"
   },
   {
    "duration": 248,
    "start_time": "2021-12-22T20:08:34.222Z"
   },
   {
    "duration": 257,
    "start_time": "2021-12-22T20:08:34.472Z"
   },
   {
    "duration": 272,
    "start_time": "2021-12-22T20:08:34.732Z"
   },
   {
    "duration": 6,
    "start_time": "2021-12-22T20:08:35.007Z"
   },
   {
    "duration": 32,
    "start_time": "2021-12-22T20:08:35.016Z"
   },
   {
    "duration": 16,
    "start_time": "2021-12-22T20:08:35.068Z"
   },
   {
    "duration": 12,
    "start_time": "2021-12-22T20:08:35.087Z"
   },
   {
    "duration": 9,
    "start_time": "2021-12-22T20:08:35.101Z"
   },
   {
    "duration": 9,
    "start_time": "2021-12-22T20:08:35.112Z"
   },
   {
    "duration": 287,
    "start_time": "2021-12-22T20:08:35.123Z"
   },
   {
    "duration": 27,
    "start_time": "2021-12-22T20:08:35.413Z"
   },
   {
    "duration": 26,
    "start_time": "2021-12-22T20:08:35.443Z"
   },
   {
    "duration": 1588119,
    "start_time": "2021-12-22T20:08:35.472Z"
   },
   {
    "duration": 65208,
    "start_time": "2021-12-22T20:35:03.594Z"
   },
   {
    "duration": 2379270,
    "start_time": "2021-12-22T20:36:08.805Z"
   },
   {
    "duration": 209194,
    "start_time": "2021-12-22T21:15:48.077Z"
   },
   {
    "duration": 327096,
    "start_time": "2021-12-22T21:19:17.274Z"
   },
   {
    "duration": 11595,
    "start_time": "2021-12-22T21:24:44.373Z"
   },
   {
    "duration": 331,
    "start_time": "2021-12-22T23:48:34.728Z"
   },
   {
    "duration": 3,
    "start_time": "2021-12-22T23:51:29.614Z"
   },
   {
    "duration": 6,
    "start_time": "2021-12-22T23:51:29.620Z"
   },
   {
    "duration": 7,
    "start_time": "2021-12-22T23:51:29.629Z"
   },
   {
    "duration": 2882,
    "start_time": "2021-12-22T23:51:29.638Z"
   },
   {
    "duration": 105,
    "start_time": "2021-12-22T23:51:32.523Z"
   },
   {
    "duration": 25,
    "start_time": "2021-12-22T23:51:32.631Z"
   },
   {
    "duration": 14,
    "start_time": "2021-12-22T23:51:32.659Z"
   },
   {
    "duration": 11,
    "start_time": "2021-12-22T23:51:32.678Z"
   },
   {
    "duration": 7,
    "start_time": "2021-12-22T23:51:32.692Z"
   },
   {
    "duration": 13,
    "start_time": "2021-12-22T23:51:32.701Z"
   },
   {
    "duration": 7,
    "start_time": "2021-12-22T23:51:32.716Z"
   },
   {
    "duration": 43,
    "start_time": "2021-12-22T23:51:32.726Z"
   },
   {
    "duration": 8,
    "start_time": "2021-12-22T23:51:32.772Z"
   },
   {
    "duration": 16,
    "start_time": "2021-12-22T23:51:32.782Z"
   },
   {
    "duration": 13,
    "start_time": "2021-12-22T23:51:32.800Z"
   },
   {
    "duration": 61,
    "start_time": "2021-12-22T23:51:32.815Z"
   },
   {
    "duration": 8,
    "start_time": "2021-12-22T23:51:32.881Z"
   },
   {
    "duration": 18,
    "start_time": "2021-12-22T23:51:32.893Z"
   },
   {
    "duration": 14,
    "start_time": "2021-12-22T23:51:32.913Z"
   },
   {
    "duration": 49,
    "start_time": "2021-12-22T23:51:32.929Z"
   },
   {
    "duration": 9,
    "start_time": "2021-12-22T23:51:32.980Z"
   },
   {
    "duration": 14,
    "start_time": "2021-12-22T23:51:32.992Z"
   },
   {
    "duration": 12,
    "start_time": "2021-12-22T23:51:33.008Z"
   },
   {
    "duration": 51,
    "start_time": "2021-12-22T23:51:33.022Z"
   },
   {
    "duration": 16,
    "start_time": "2021-12-22T23:51:33.075Z"
   },
   {
    "duration": 10,
    "start_time": "2021-12-22T23:51:33.094Z"
   },
   {
    "duration": 8,
    "start_time": "2021-12-22T23:51:33.106Z"
   },
   {
    "duration": 8,
    "start_time": "2021-12-22T23:51:33.116Z"
   },
   {
    "duration": 7,
    "start_time": "2021-12-22T23:51:33.168Z"
   },
   {
    "duration": 7,
    "start_time": "2021-12-22T23:51:33.178Z"
   },
   {
    "duration": 7,
    "start_time": "2021-12-22T23:51:33.187Z"
   },
   {
    "duration": 10,
    "start_time": "2021-12-22T23:51:33.197Z"
   },
   {
    "duration": 7,
    "start_time": "2021-12-22T23:51:33.209Z"
   },
   {
    "duration": 50,
    "start_time": "2021-12-22T23:51:33.218Z"
   },
   {
    "duration": 20,
    "start_time": "2021-12-22T23:51:33.271Z"
   },
   {
    "duration": 14,
    "start_time": "2021-12-22T23:51:33.293Z"
   },
   {
    "duration": 20,
    "start_time": "2021-12-22T23:51:33.310Z"
   },
   {
    "duration": 41,
    "start_time": "2021-12-22T23:51:33.333Z"
   },
   {
    "duration": 10,
    "start_time": "2021-12-22T23:51:33.376Z"
   },
   {
    "duration": 6,
    "start_time": "2021-12-22T23:51:33.388Z"
   },
   {
    "duration": 7,
    "start_time": "2021-12-22T23:51:33.397Z"
   },
   {
    "duration": 6,
    "start_time": "2021-12-22T23:51:33.406Z"
   },
   {
    "duration": 53,
    "start_time": "2021-12-22T23:51:33.415Z"
   },
   {
    "duration": 6,
    "start_time": "2021-12-22T23:51:33.477Z"
   },
   {
    "duration": 9,
    "start_time": "2021-12-22T23:51:33.487Z"
   },
   {
    "duration": 7,
    "start_time": "2021-12-22T23:51:33.498Z"
   },
   {
    "duration": 20,
    "start_time": "2021-12-22T23:51:33.507Z"
   },
   {
    "duration": 43,
    "start_time": "2021-12-22T23:51:33.530Z"
   },
   {
    "duration": 20,
    "start_time": "2021-12-22T23:51:33.575Z"
   },
   {
    "duration": 15,
    "start_time": "2021-12-22T23:51:33.598Z"
   },
   {
    "duration": 12,
    "start_time": "2021-12-22T23:51:33.616Z"
   },
   {
    "duration": 42,
    "start_time": "2021-12-22T23:51:33.631Z"
   },
   {
    "duration": 10,
    "start_time": "2021-12-22T23:51:33.676Z"
   },
   {
    "duration": 6,
    "start_time": "2021-12-22T23:51:33.689Z"
   },
   {
    "duration": 11,
    "start_time": "2021-12-22T23:51:33.698Z"
   },
   {
    "duration": 3,
    "start_time": "2021-12-22T23:51:33.711Z"
   },
   {
    "duration": 6,
    "start_time": "2021-12-22T23:51:33.716Z"
   },
   {
    "duration": 11,
    "start_time": "2021-12-22T23:51:33.768Z"
   },
   {
    "duration": 12,
    "start_time": "2021-12-22T23:51:33.781Z"
   },
   {
    "duration": 72,
    "start_time": "2021-12-22T23:51:33.795Z"
   },
   {
    "duration": 41,
    "start_time": "2021-12-22T23:51:33.870Z"
   },
   {
    "duration": 13,
    "start_time": "2021-12-22T23:51:33.913Z"
   },
   {
    "duration": 40,
    "start_time": "2021-12-22T23:51:33.928Z"
   },
   {
    "duration": 31,
    "start_time": "2021-12-22T23:51:33.970Z"
   },
   {
    "duration": 21,
    "start_time": "2021-12-22T23:51:34.004Z"
   },
   {
    "duration": 41,
    "start_time": "2021-12-22T23:51:34.027Z"
   },
   {
    "duration": 9,
    "start_time": "2021-12-22T23:51:34.070Z"
   },
   {
    "duration": 16,
    "start_time": "2021-12-22T23:51:34.081Z"
   },
   {
    "duration": 231,
    "start_time": "2021-12-22T23:51:34.099Z"
   },
   {
    "duration": 229,
    "start_time": "2021-12-22T23:51:34.333Z"
   },
   {
    "duration": 46,
    "start_time": "2021-12-22T23:51:34.565Z"
   },
   {
    "duration": 18,
    "start_time": "2021-12-22T23:51:34.613Z"
   },
   {
    "duration": 273,
    "start_time": "2021-12-22T23:51:34.634Z"
   },
   {
    "duration": 61,
    "start_time": "2021-12-22T23:51:34.910Z"
   },
   {
    "duration": 23,
    "start_time": "2021-12-22T23:51:34.974Z"
   },
   {
    "duration": 363,
    "start_time": "2021-12-22T23:51:34.999Z"
   },
   {
    "duration": 21,
    "start_time": "2021-12-22T23:51:35.368Z"
   },
   {
    "duration": 382,
    "start_time": "2021-12-22T23:51:35.391Z"
   },
   {
    "duration": 4,
    "start_time": "2021-12-22T23:51:35.776Z"
   },
   {
    "duration": 11,
    "start_time": "2021-12-22T23:51:35.782Z"
   },
   {
    "duration": 1384,
    "start_time": "2021-12-22T23:51:35.796Z"
   },
   {
    "duration": 279,
    "start_time": "2021-12-22T23:51:37.182Z"
   },
   {
    "duration": 1513,
    "start_time": "2021-12-22T23:51:37.463Z"
   },
   {
    "duration": 265,
    "start_time": "2021-12-22T23:51:38.978Z"
   },
   {
    "duration": 265,
    "start_time": "2021-12-22T23:51:39.247Z"
   },
   {
    "duration": 248,
    "start_time": "2021-12-22T23:51:39.516Z"
   },
   {
    "duration": 265,
    "start_time": "2021-12-22T23:51:39.767Z"
   },
   {
    "duration": 272,
    "start_time": "2021-12-22T23:51:40.034Z"
   },
   {
    "duration": 8,
    "start_time": "2021-12-22T23:51:40.309Z"
   },
   {
    "duration": 54,
    "start_time": "2021-12-22T23:51:40.319Z"
   },
   {
    "duration": 12,
    "start_time": "2021-12-22T23:51:40.376Z"
   },
   {
    "duration": 10,
    "start_time": "2021-12-22T23:51:40.391Z"
   },
   {
    "duration": 7,
    "start_time": "2021-12-22T23:51:40.404Z"
   },
   {
    "duration": 14,
    "start_time": "2021-12-22T23:51:40.413Z"
   },
   {
    "duration": 275,
    "start_time": "2021-12-22T23:51:40.430Z"
   },
   {
    "duration": 23,
    "start_time": "2021-12-22T23:51:40.708Z"
   },
   {
    "duration": 352,
    "start_time": "2021-12-22T23:52:03.791Z"
   },
   {
    "duration": 934,
    "start_time": "2021-12-22T23:52:03.212Z"
   },
   {
    "duration": 927,
    "start_time": "2021-12-22T23:52:03.220Z"
   },
   {
    "duration": 924,
    "start_time": "2021-12-22T23:52:03.224Z"
   },
   {
    "duration": 844,
    "start_time": "2021-12-22T23:52:03.306Z"
   },
   {
    "duration": 831,
    "start_time": "2021-12-22T23:52:03.320Z"
   },
   {
    "duration": 829,
    "start_time": "2021-12-22T23:52:03.324Z"
   },
   {
    "duration": 825,
    "start_time": "2021-12-22T23:52:03.329Z"
   },
   {
    "duration": 817,
    "start_time": "2021-12-22T23:52:03.338Z"
   },
   {
    "duration": 814,
    "start_time": "2021-12-22T23:52:03.343Z"
   },
   {
    "duration": 7,
    "start_time": "2021-12-22T23:52:28.567Z"
   },
   {
    "duration": 976518,
    "start_time": "2021-12-22T23:52:38.978Z"
   },
   {
    "duration": 226,
    "start_time": "2021-12-23T00:08:55.499Z"
   },
   {
    "duration": 4,
    "start_time": "2021-12-23T00:08:55.728Z"
   },
   {
    "duration": 13,
    "start_time": "2021-12-23T00:08:55.735Z"
   },
   {
    "duration": 23,
    "start_time": "2021-12-23T00:08:55.750Z"
   },
   {
    "duration": 8,
    "start_time": "2021-12-23T03:15:21.625Z"
   },
   {
    "duration": 4,
    "start_time": "2021-12-23T03:15:24.691Z"
   },
   {
    "duration": 4,
    "start_time": "2021-12-23T03:15:26.882Z"
   },
   {
    "duration": 586,
    "start_time": "2021-12-23T03:15:36.524Z"
   },
   {
    "duration": 270,
    "start_time": "2021-12-23T03:16:07.816Z"
   },
   {
    "duration": 260,
    "start_time": "2021-12-23T03:16:21.046Z"
   },
   {
    "duration": 317,
    "start_time": "2021-12-23T03:19:34.555Z"
   },
   {
    "duration": 5,
    "start_time": "2021-12-23T03:19:51.492Z"
   },
   {
    "duration": 5,
    "start_time": "2021-12-23T03:19:52.765Z"
   },
   {
    "duration": 10,
    "start_time": "2021-12-23T03:19:54.351Z"
   },
   {
    "duration": 506,
    "start_time": "2021-12-23T03:19:57.846Z"
   },
   {
    "duration": 2,
    "start_time": "2021-12-23T03:20:30.903Z"
   },
   {
    "duration": 12,
    "start_time": "2021-12-23T03:20:30.908Z"
   },
   {
    "duration": 9,
    "start_time": "2021-12-23T03:20:30.923Z"
   },
   {
    "duration": 2911,
    "start_time": "2021-12-23T03:20:30.935Z"
   },
   {
    "duration": 118,
    "start_time": "2021-12-23T03:20:33.848Z"
   },
   {
    "duration": 25,
    "start_time": "2021-12-23T03:20:33.968Z"
   },
   {
    "duration": 24,
    "start_time": "2021-12-23T03:20:33.996Z"
   },
   {
    "duration": 23,
    "start_time": "2021-12-23T03:20:34.023Z"
   },
   {
    "duration": 21,
    "start_time": "2021-12-23T03:20:34.051Z"
   },
   {
    "duration": 11,
    "start_time": "2021-12-23T03:20:34.075Z"
   },
   {
    "duration": 7,
    "start_time": "2021-12-23T03:20:34.089Z"
   },
   {
    "duration": 6,
    "start_time": "2021-12-23T03:20:34.099Z"
   },
   {
    "duration": 7,
    "start_time": "2021-12-23T03:20:34.108Z"
   },
   {
    "duration": 64,
    "start_time": "2021-12-23T03:20:34.117Z"
   },
   {
    "duration": 13,
    "start_time": "2021-12-23T03:20:34.184Z"
   },
   {
    "duration": 18,
    "start_time": "2021-12-23T03:20:34.199Z"
   },
   {
    "duration": 8,
    "start_time": "2021-12-23T03:20:34.219Z"
   },
   {
    "duration": 56,
    "start_time": "2021-12-23T03:20:34.229Z"
   },
   {
    "duration": 15,
    "start_time": "2021-12-23T03:20:34.288Z"
   },
   {
    "duration": 17,
    "start_time": "2021-12-23T03:20:34.305Z"
   },
   {
    "duration": 12,
    "start_time": "2021-12-23T03:20:34.324Z"
   },
   {
    "duration": 15,
    "start_time": "2021-12-23T03:20:34.368Z"
   },
   {
    "duration": 12,
    "start_time": "2021-12-23T03:20:34.385Z"
   },
   {
    "duration": 20,
    "start_time": "2021-12-23T03:20:34.399Z"
   },
   {
    "duration": 51,
    "start_time": "2021-12-23T03:20:34.422Z"
   },
   {
    "duration": 11,
    "start_time": "2021-12-23T03:20:34.476Z"
   },
   {
    "duration": 8,
    "start_time": "2021-12-23T03:20:34.495Z"
   },
   {
    "duration": 6,
    "start_time": "2021-12-23T03:20:34.507Z"
   },
   {
    "duration": 6,
    "start_time": "2021-12-23T03:20:34.516Z"
   },
   {
    "duration": 7,
    "start_time": "2021-12-23T03:20:34.568Z"
   },
   {
    "duration": 6,
    "start_time": "2021-12-23T03:20:34.577Z"
   },
   {
    "duration": 9,
    "start_time": "2021-12-23T03:20:34.586Z"
   },
   {
    "duration": 7,
    "start_time": "2021-12-23T03:20:34.598Z"
   },
   {
    "duration": 6,
    "start_time": "2021-12-23T03:20:34.607Z"
   },
   {
    "duration": 59,
    "start_time": "2021-12-23T03:20:34.615Z"
   },
   {
    "duration": 13,
    "start_time": "2021-12-23T03:20:34.677Z"
   },
   {
    "duration": 18,
    "start_time": "2021-12-23T03:20:34.693Z"
   },
   {
    "duration": 13,
    "start_time": "2021-12-23T03:20:34.713Z"
   },
   {
    "duration": 45,
    "start_time": "2021-12-23T03:20:34.728Z"
   },
   {
    "duration": 7,
    "start_time": "2021-12-23T03:20:34.775Z"
   },
   {
    "duration": 6,
    "start_time": "2021-12-23T03:20:34.785Z"
   },
   {
    "duration": 12,
    "start_time": "2021-12-23T03:20:34.794Z"
   },
   {
    "duration": 9,
    "start_time": "2021-12-23T03:20:34.808Z"
   },
   {
    "duration": 50,
    "start_time": "2021-12-23T03:20:34.819Z"
   },
   {
    "duration": 9,
    "start_time": "2021-12-23T03:20:34.871Z"
   },
   {
    "duration": 4,
    "start_time": "2021-12-23T03:20:34.884Z"
   },
   {
    "duration": 23,
    "start_time": "2021-12-23T03:20:34.891Z"
   },
   {
    "duration": 51,
    "start_time": "2021-12-23T03:20:34.916Z"
   },
   {
    "duration": 13,
    "start_time": "2021-12-23T03:20:34.970Z"
   },
   {
    "duration": 17,
    "start_time": "2021-12-23T03:20:34.986Z"
   },
   {
    "duration": 12,
    "start_time": "2021-12-23T03:20:35.006Z"
   },
   {
    "duration": 53,
    "start_time": "2021-12-23T03:20:35.021Z"
   },
   {
    "duration": 13,
    "start_time": "2021-12-23T03:20:35.077Z"
   },
   {
    "duration": 10,
    "start_time": "2021-12-23T03:20:35.093Z"
   },
   {
    "duration": 12,
    "start_time": "2021-12-23T03:20:35.106Z"
   },
   {
    "duration": 46,
    "start_time": "2021-12-23T03:20:35.121Z"
   },
   {
    "duration": 4,
    "start_time": "2021-12-23T03:20:35.170Z"
   },
   {
    "duration": 14,
    "start_time": "2021-12-23T03:20:35.177Z"
   },
   {
    "duration": 11,
    "start_time": "2021-12-23T03:20:35.194Z"
   },
   {
    "duration": 88,
    "start_time": "2021-12-23T03:20:35.208Z"
   },
   {
    "duration": 42,
    "start_time": "2021-12-23T03:20:35.299Z"
   },
   {
    "duration": 36,
    "start_time": "2021-12-23T03:20:35.344Z"
   },
   {
    "duration": 13,
    "start_time": "2021-12-23T03:20:35.383Z"
   },
   {
    "duration": 31,
    "start_time": "2021-12-23T03:20:35.399Z"
   },
   {
    "duration": 55,
    "start_time": "2021-12-23T03:20:35.433Z"
   },
   {
    "duration": 8,
    "start_time": "2021-12-23T03:20:35.490Z"
   },
   {
    "duration": 8,
    "start_time": "2021-12-23T03:20:35.500Z"
   },
   {
    "duration": 15,
    "start_time": "2021-12-23T03:20:35.511Z"
   },
   {
    "duration": 248,
    "start_time": "2021-12-23T03:20:35.528Z"
   },
   {
    "duration": 233,
    "start_time": "2021-12-23T03:20:35.779Z"
   },
   {
    "duration": 58,
    "start_time": "2021-12-23T03:20:36.015Z"
   },
   {
    "duration": 18,
    "start_time": "2021-12-23T03:20:36.075Z"
   },
   {
    "duration": 271,
    "start_time": "2021-12-23T03:20:36.096Z"
   },
   {
    "duration": 43,
    "start_time": "2021-12-23T03:20:36.370Z"
   },
   {
    "duration": 22,
    "start_time": "2021-12-23T03:20:36.416Z"
   },
   {
    "duration": 371,
    "start_time": "2021-12-23T03:20:36.467Z"
   },
   {
    "duration": 34,
    "start_time": "2021-12-23T03:20:36.840Z"
   },
   {
    "duration": 370,
    "start_time": "2021-12-23T03:20:36.876Z"
   },
   {
    "duration": 3,
    "start_time": "2021-12-23T03:20:37.249Z"
   },
   {
    "duration": 14,
    "start_time": "2021-12-23T03:20:37.254Z"
   },
   {
    "duration": 1461,
    "start_time": "2021-12-23T03:20:37.278Z"
   },
   {
    "duration": 284,
    "start_time": "2021-12-23T03:20:38.741Z"
   },
   {
    "duration": 1628,
    "start_time": "2021-12-23T03:20:39.028Z"
   },
   {
    "duration": 261,
    "start_time": "2021-12-23T03:20:40.658Z"
   },
   {
    "duration": 273,
    "start_time": "2021-12-23T03:20:40.921Z"
   },
   {
    "duration": 249,
    "start_time": "2021-12-23T03:20:41.197Z"
   },
   {
    "duration": 263,
    "start_time": "2021-12-23T03:20:41.449Z"
   },
   {
    "duration": 268,
    "start_time": "2021-12-23T03:20:41.715Z"
   },
   {
    "duration": 6,
    "start_time": "2021-12-23T03:20:41.986Z"
   },
   {
    "duration": 31,
    "start_time": "2021-12-23T03:20:41.994Z"
   },
   {
    "duration": 38,
    "start_time": "2021-12-23T03:20:42.028Z"
   },
   {
    "duration": 11,
    "start_time": "2021-12-23T03:20:42.069Z"
   },
   {
    "duration": 8,
    "start_time": "2021-12-23T03:20:42.083Z"
   },
   {
    "duration": 11,
    "start_time": "2021-12-23T03:20:42.093Z"
   },
   {
    "duration": 275,
    "start_time": "2021-12-23T03:20:42.106Z"
   },
   {
    "duration": 26,
    "start_time": "2021-12-23T03:20:42.384Z"
   },
   {
    "duration": 4,
    "start_time": "2021-12-23T03:21:51.230Z"
   },
   {
    "duration": 5,
    "start_time": "2021-12-23T03:21:52.896Z"
   },
   {
    "duration": 10,
    "start_time": "2021-12-23T03:21:54.796Z"
   },
   {
    "duration": 379,
    "start_time": "2021-12-23T03:21:59.172Z"
   },
   {
    "duration": 7,
    "start_time": "2021-12-23T03:22:14.346Z"
   },
   {
    "duration": 4727427,
    "start_time": "2021-12-23T03:22:34.180Z"
   },
   {
    "duration": 942,
    "start_time": "2021-12-23T04:41:20.668Z"
   },
   {
    "duration": 929,
    "start_time": "2021-12-23T04:41:20.682Z"
   },
   {
    "duration": 119,
    "start_time": "2021-12-23T04:41:24.090Z"
   },
   {
    "duration": 13,
    "start_time": "2021-12-23T04:41:25.873Z"
   },
   {
    "duration": 6,
    "start_time": "2021-12-23T04:41:46.065Z"
   },
   {
    "duration": 5,
    "start_time": "2021-12-23T04:41:47.187Z"
   },
   {
    "duration": 9,
    "start_time": "2021-12-23T04:41:48.974Z"
   },
   {
    "duration": 3297108,
    "start_time": "2021-12-23T04:41:52.714Z"
   },
   {
    "duration": 4,
    "start_time": "2021-12-23T05:37:21.371Z"
   },
   {
    "duration": 5,
    "start_time": "2021-12-23T05:37:22.473Z"
   },
   {
    "duration": 84,
    "start_time": "2021-12-23T05:37:24.076Z"
   },
   {
    "duration": 4,
    "start_time": "2021-12-23T05:38:35.249Z"
   },
   {
    "duration": 5,
    "start_time": "2021-12-23T05:38:36.492Z"
   },
   {
    "duration": 100,
    "start_time": "2021-12-23T05:38:37.770Z"
   },
   {
    "duration": 12,
    "start_time": "2021-12-23T05:39:17.915Z"
   },
   {
    "duration": 416,
    "start_time": "2021-12-23T06:33:38.512Z"
   },
   {
    "duration": 382,
    "start_time": "2021-12-23T06:34:51.366Z"
   },
   {
    "duration": 3,
    "start_time": "2021-12-23T06:35:12.802Z"
   },
   {
    "duration": 6,
    "start_time": "2021-12-23T06:35:12.808Z"
   },
   {
    "duration": 15,
    "start_time": "2021-12-23T06:35:12.816Z"
   },
   {
    "duration": 2947,
    "start_time": "2021-12-23T06:35:12.834Z"
   },
   {
    "duration": 106,
    "start_time": "2021-12-23T06:35:15.784Z"
   },
   {
    "duration": 23,
    "start_time": "2021-12-23T06:35:15.893Z"
   },
   {
    "duration": 23,
    "start_time": "2021-12-23T06:35:15.919Z"
   },
   {
    "duration": 14,
    "start_time": "2021-12-23T06:35:15.944Z"
   },
   {
    "duration": 9,
    "start_time": "2021-12-23T06:35:15.967Z"
   },
   {
    "duration": 10,
    "start_time": "2021-12-23T06:35:15.981Z"
   },
   {
    "duration": 12,
    "start_time": "2021-12-23T06:35:15.994Z"
   },
   {
    "duration": 11,
    "start_time": "2021-12-23T06:35:16.008Z"
   },
   {
    "duration": 46,
    "start_time": "2021-12-23T06:35:16.021Z"
   },
   {
    "duration": 15,
    "start_time": "2021-12-23T06:35:16.070Z"
   },
   {
    "duration": 14,
    "start_time": "2021-12-23T06:35:16.087Z"
   },
   {
    "duration": 19,
    "start_time": "2021-12-23T06:35:16.104Z"
   },
   {
    "duration": 43,
    "start_time": "2021-12-23T06:35:16.125Z"
   },
   {
    "duration": 34,
    "start_time": "2021-12-23T06:35:16.171Z"
   },
   {
    "duration": 14,
    "start_time": "2021-12-23T06:35:16.208Z"
   },
   {
    "duration": 17,
    "start_time": "2021-12-23T06:35:16.224Z"
   },
   {
    "duration": 25,
    "start_time": "2021-12-23T06:35:16.244Z"
   },
   {
    "duration": 19,
    "start_time": "2021-12-23T06:35:16.272Z"
   },
   {
    "duration": 14,
    "start_time": "2021-12-23T06:35:16.293Z"
   },
   {
    "duration": 56,
    "start_time": "2021-12-23T06:35:16.311Z"
   },
   {
    "duration": 15,
    "start_time": "2021-12-23T06:35:16.373Z"
   },
   {
    "duration": 17,
    "start_time": "2021-12-23T06:35:16.392Z"
   },
   {
    "duration": 12,
    "start_time": "2021-12-23T06:35:16.411Z"
   },
   {
    "duration": 10,
    "start_time": "2021-12-23T06:35:16.426Z"
   },
   {
    "duration": 5,
    "start_time": "2021-12-23T06:35:16.468Z"
   },
   {
    "duration": 8,
    "start_time": "2021-12-23T06:35:16.476Z"
   },
   {
    "duration": 12,
    "start_time": "2021-12-23T06:35:16.486Z"
   },
   {
    "duration": 9,
    "start_time": "2021-12-23T06:35:16.501Z"
   },
   {
    "duration": 11,
    "start_time": "2021-12-23T06:35:16.512Z"
   },
   {
    "duration": 5,
    "start_time": "2021-12-23T06:35:16.526Z"
   },
   {
    "duration": 19,
    "start_time": "2021-12-23T06:35:16.569Z"
   },
   {
    "duration": 16,
    "start_time": "2021-12-23T06:35:16.590Z"
   },
   {
    "duration": 27,
    "start_time": "2021-12-23T06:35:16.608Z"
   },
   {
    "duration": 37,
    "start_time": "2021-12-23T06:35:16.639Z"
   },
   {
    "duration": 13,
    "start_time": "2021-12-23T06:35:16.679Z"
   },
   {
    "duration": 10,
    "start_time": "2021-12-23T06:35:16.695Z"
   },
   {
    "duration": 9,
    "start_time": "2021-12-23T06:35:16.707Z"
   },
   {
    "duration": 6,
    "start_time": "2021-12-23T06:35:16.719Z"
   },
   {
    "duration": 49,
    "start_time": "2021-12-23T06:35:16.727Z"
   },
   {
    "duration": 7,
    "start_time": "2021-12-23T06:35:16.779Z"
   },
   {
    "duration": 10,
    "start_time": "2021-12-23T06:35:16.788Z"
   },
   {
    "duration": 7,
    "start_time": "2021-12-23T06:35:16.801Z"
   },
   {
    "duration": 25,
    "start_time": "2021-12-23T06:35:16.810Z"
   },
   {
    "duration": 10,
    "start_time": "2021-12-23T06:35:16.867Z"
   },
   {
    "duration": 24,
    "start_time": "2021-12-23T06:35:16.879Z"
   },
   {
    "duration": 16,
    "start_time": "2021-12-23T06:35:16.905Z"
   },
   {
    "duration": 14,
    "start_time": "2021-12-23T06:35:16.924Z"
   },
   {
    "duration": 34,
    "start_time": "2021-12-23T06:35:16.941Z"
   },
   {
    "duration": 12,
    "start_time": "2021-12-23T06:35:16.977Z"
   },
   {
    "duration": 9,
    "start_time": "2021-12-23T06:35:16.992Z"
   },
   {
    "duration": 11,
    "start_time": "2021-12-23T06:35:17.004Z"
   },
   {
    "duration": 4,
    "start_time": "2021-12-23T06:35:17.018Z"
   },
   {
    "duration": 4,
    "start_time": "2021-12-23T06:35:17.067Z"
   },
   {
    "duration": 17,
    "start_time": "2021-12-23T06:35:17.075Z"
   },
   {
    "duration": 16,
    "start_time": "2021-12-23T06:35:17.094Z"
   },
   {
    "duration": 79,
    "start_time": "2021-12-23T06:35:17.112Z"
   },
   {
    "duration": 40,
    "start_time": "2021-12-23T06:35:17.194Z"
   },
   {
    "duration": 34,
    "start_time": "2021-12-23T06:35:17.236Z"
   },
   {
    "duration": 9,
    "start_time": "2021-12-23T06:35:17.273Z"
   },
   {
    "duration": 38,
    "start_time": "2021-12-23T06:35:17.284Z"
   },
   {
    "duration": 49,
    "start_time": "2021-12-23T06:35:17.324Z"
   },
   {
    "duration": 15,
    "start_time": "2021-12-23T06:35:17.375Z"
   },
   {
    "duration": 15,
    "start_time": "2021-12-23T06:35:17.392Z"
   },
   {
    "duration": 18,
    "start_time": "2021-12-23T06:35:17.409Z"
   },
   {
    "duration": 228,
    "start_time": "2021-12-23T06:35:17.429Z"
   },
   {
    "duration": 229,
    "start_time": "2021-12-23T06:35:17.669Z"
   },
   {
    "duration": 45,
    "start_time": "2021-12-23T06:35:17.901Z"
   },
   {
    "duration": 19,
    "start_time": "2021-12-23T06:35:17.967Z"
   },
   {
    "duration": 271,
    "start_time": "2021-12-23T06:35:17.988Z"
   },
   {
    "duration": 49,
    "start_time": "2021-12-23T06:35:18.261Z"
   },
   {
    "duration": 23,
    "start_time": "2021-12-23T06:35:18.312Z"
   },
   {
    "duration": 467,
    "start_time": "2021-12-23T06:35:18.337Z"
   },
   {
    "duration": 22,
    "start_time": "2021-12-23T06:35:18.807Z"
   },
   {
    "duration": 383,
    "start_time": "2021-12-23T06:35:18.832Z"
   },
   {
    "duration": 3,
    "start_time": "2021-12-23T06:35:19.217Z"
   },
   {
    "duration": 18,
    "start_time": "2021-12-23T06:35:19.222Z"
   },
   {
    "duration": 1431,
    "start_time": "2021-12-23T06:35:19.243Z"
   },
   {
    "duration": 290,
    "start_time": "2021-12-23T06:35:20.677Z"
   },
   {
    "duration": 1551,
    "start_time": "2021-12-23T06:35:20.969Z"
   },
   {
    "duration": 268,
    "start_time": "2021-12-23T06:35:22.523Z"
   },
   {
    "duration": 276,
    "start_time": "2021-12-23T06:35:22.794Z"
   },
   {
    "duration": 270,
    "start_time": "2021-12-23T06:35:23.072Z"
   },
   {
    "duration": 283,
    "start_time": "2021-12-23T06:35:23.345Z"
   },
   {
    "duration": 279,
    "start_time": "2021-12-23T06:35:23.631Z"
   },
   {
    "duration": 7,
    "start_time": "2021-12-23T06:35:23.913Z"
   },
   {
    "duration": 57,
    "start_time": "2021-12-23T06:35:23.923Z"
   },
   {
    "duration": 17,
    "start_time": "2021-12-23T06:35:23.984Z"
   },
   {
    "duration": 16,
    "start_time": "2021-12-23T06:35:24.004Z"
   },
   {
    "duration": 10,
    "start_time": "2021-12-23T06:35:24.023Z"
   },
   {
    "duration": 11,
    "start_time": "2021-12-23T06:35:24.069Z"
   },
   {
    "duration": 271,
    "start_time": "2021-12-23T06:35:24.082Z"
   },
   {
    "duration": 29,
    "start_time": "2021-12-23T06:35:24.356Z"
   },
   {
    "duration": 6,
    "start_time": "2021-12-23T06:35:24.387Z"
   },
   {
    "duration": 4,
    "start_time": "2021-12-23T06:35:38.330Z"
   },
   {
    "duration": 4,
    "start_time": "2021-12-23T06:35:41.418Z"
   },
   {
    "duration": 18,
    "start_time": "2021-12-23T06:35:43.432Z"
   },
   {
    "duration": 1048819,
    "start_time": "2021-12-23T06:35:45.763Z"
   },
   {
    "duration": 898,
    "start_time": "2021-12-23T06:53:13.687Z"
   },
   {
    "duration": 20,
    "start_time": "2021-12-23T06:53:25.055Z"
   },
   {
    "duration": 12,
    "start_time": "2021-12-23T06:53:28.984Z"
   },
   {
    "duration": 4,
    "start_time": "2021-12-23T06:53:57.414Z"
   },
   {
    "duration": 4,
    "start_time": "2021-12-23T06:53:59.061Z"
   },
   {
    "duration": 6,
    "start_time": "2021-12-23T06:54:03.497Z"
   },
   {
    "duration": 5,
    "start_time": "2021-12-23T07:02:00.985Z"
   },
   {
    "duration": 16,
    "start_time": "2021-12-23T07:02:00.992Z"
   },
   {
    "duration": 14,
    "start_time": "2021-12-23T07:02:01.011Z"
   },
   {
    "duration": 3003,
    "start_time": "2021-12-23T07:02:01.028Z"
   },
   {
    "duration": 105,
    "start_time": "2021-12-23T07:02:04.033Z"
   },
   {
    "duration": 26,
    "start_time": "2021-12-23T07:02:04.141Z"
   },
   {
    "duration": 21,
    "start_time": "2021-12-23T07:02:04.169Z"
   },
   {
    "duration": 10,
    "start_time": "2021-12-23T07:02:04.194Z"
   },
   {
    "duration": 12,
    "start_time": "2021-12-23T07:02:04.209Z"
   },
   {
    "duration": 9,
    "start_time": "2021-12-23T07:02:04.224Z"
   },
   {
    "duration": 38,
    "start_time": "2021-12-23T07:02:04.236Z"
   },
   {
    "duration": 8,
    "start_time": "2021-12-23T07:02:04.277Z"
   },
   {
    "duration": 7,
    "start_time": "2021-12-23T07:02:04.288Z"
   },
   {
    "duration": 20,
    "start_time": "2021-12-23T07:02:04.298Z"
   },
   {
    "duration": 60,
    "start_time": "2021-12-23T07:02:04.321Z"
   },
   {
    "duration": 25,
    "start_time": "2021-12-23T07:02:04.384Z"
   },
   {
    "duration": 11,
    "start_time": "2021-12-23T07:02:04.412Z"
   },
   {
    "duration": 58,
    "start_time": "2021-12-23T07:02:04.425Z"
   },
   {
    "duration": 16,
    "start_time": "2021-12-23T07:02:04.485Z"
   },
   {
    "duration": 18,
    "start_time": "2021-12-23T07:02:04.504Z"
   },
   {
    "duration": 5,
    "start_time": "2021-12-23T07:02:04.526Z"
   },
   {
    "duration": 16,
    "start_time": "2021-12-23T07:02:04.567Z"
   },
   {
    "duration": 13,
    "start_time": "2021-12-23T07:02:04.590Z"
   },
   {
    "duration": 19,
    "start_time": "2021-12-23T07:02:04.607Z"
   },
   {
    "duration": 51,
    "start_time": "2021-12-23T07:02:04.629Z"
   },
   {
    "duration": 11,
    "start_time": "2021-12-23T07:02:04.683Z"
   },
   {
    "duration": 9,
    "start_time": "2021-12-23T07:02:04.697Z"
   },
   {
    "duration": 12,
    "start_time": "2021-12-23T07:02:04.709Z"
   },
   {
    "duration": 46,
    "start_time": "2021-12-23T07:02:04.724Z"
   },
   {
    "duration": 11,
    "start_time": "2021-12-23T07:02:04.772Z"
   },
   {
    "duration": 8,
    "start_time": "2021-12-23T07:02:04.786Z"
   },
   {
    "duration": 15,
    "start_time": "2021-12-23T07:02:04.797Z"
   },
   {
    "duration": 10,
    "start_time": "2021-12-23T07:02:04.815Z"
   },
   {
    "duration": 39,
    "start_time": "2021-12-23T07:02:04.828Z"
   },
   {
    "duration": 12,
    "start_time": "2021-12-23T07:02:04.870Z"
   },
   {
    "duration": 14,
    "start_time": "2021-12-23T07:02:04.885Z"
   },
   {
    "duration": 17,
    "start_time": "2021-12-23T07:02:04.901Z"
   },
   {
    "duration": 53,
    "start_time": "2021-12-23T07:02:04.920Z"
   },
   {
    "duration": 13,
    "start_time": "2021-12-23T07:02:04.976Z"
   },
   {
    "duration": 8,
    "start_time": "2021-12-23T07:02:04.992Z"
   },
   {
    "duration": 6,
    "start_time": "2021-12-23T07:02:05.003Z"
   },
   {
    "duration": 7,
    "start_time": "2021-12-23T07:02:05.012Z"
   },
   {
    "duration": 52,
    "start_time": "2021-12-23T07:02:05.021Z"
   },
   {
    "duration": 9,
    "start_time": "2021-12-23T07:02:05.075Z"
   },
   {
    "duration": 12,
    "start_time": "2021-12-23T07:02:05.086Z"
   },
   {
    "duration": 4,
    "start_time": "2021-12-23T07:02:05.101Z"
   },
   {
    "duration": 60,
    "start_time": "2021-12-23T07:02:05.107Z"
   },
   {
    "duration": 10,
    "start_time": "2021-12-23T07:02:05.169Z"
   },
   {
    "duration": 33,
    "start_time": "2021-12-23T07:02:05.181Z"
   },
   {
    "duration": 17,
    "start_time": "2021-12-23T07:02:05.216Z"
   },
   {
    "duration": 33,
    "start_time": "2021-12-23T07:02:05.235Z"
   },
   {
    "duration": 8,
    "start_time": "2021-12-23T07:02:05.271Z"
   },
   {
    "duration": 10,
    "start_time": "2021-12-23T07:02:05.282Z"
   },
   {
    "duration": 13,
    "start_time": "2021-12-23T07:02:05.294Z"
   },
   {
    "duration": 58,
    "start_time": "2021-12-23T07:02:05.309Z"
   },
   {
    "duration": 4,
    "start_time": "2021-12-23T07:02:05.369Z"
   },
   {
    "duration": 16,
    "start_time": "2021-12-23T07:02:05.375Z"
   },
   {
    "duration": 16,
    "start_time": "2021-12-23T07:02:05.394Z"
   },
   {
    "duration": 20,
    "start_time": "2021-12-23T07:02:05.412Z"
   },
   {
    "duration": 68,
    "start_time": "2021-12-23T07:02:05.435Z"
   },
   {
    "duration": 64,
    "start_time": "2021-12-23T07:02:05.506Z"
   },
   {
    "duration": 13,
    "start_time": "2021-12-23T07:02:05.573Z"
   },
   {
    "duration": 18,
    "start_time": "2021-12-23T07:02:05.588Z"
   },
   {
    "duration": 65,
    "start_time": "2021-12-23T07:02:05.608Z"
   },
   {
    "duration": 25,
    "start_time": "2021-12-23T07:02:05.676Z"
   },
   {
    "duration": 8,
    "start_time": "2021-12-23T07:02:05.703Z"
   },
   {
    "duration": 9,
    "start_time": "2021-12-23T07:02:05.713Z"
   },
   {
    "duration": 11,
    "start_time": "2021-12-23T07:02:05.767Z"
   },
   {
    "duration": 332,
    "start_time": "2021-12-23T07:02:05.782Z"
   },
   {
    "duration": 299,
    "start_time": "2021-12-23T07:02:06.116Z"
   },
   {
    "duration": 69,
    "start_time": "2021-12-23T07:02:06.417Z"
   },
   {
    "duration": 24,
    "start_time": "2021-12-23T07:02:06.490Z"
   },
   {
    "duration": 266,
    "start_time": "2021-12-23T07:02:06.517Z"
   },
   {
    "duration": 44,
    "start_time": "2021-12-23T07:02:06.785Z"
   },
   {
    "duration": 47,
    "start_time": "2021-12-23T07:02:06.832Z"
   },
   {
    "duration": 352,
    "start_time": "2021-12-23T07:02:06.882Z"
   },
   {
    "duration": 33,
    "start_time": "2021-12-23T07:02:07.236Z"
   },
   {
    "duration": 373,
    "start_time": "2021-12-23T07:02:07.273Z"
   },
   {
    "duration": 4,
    "start_time": "2021-12-23T07:02:07.649Z"
   },
   {
    "duration": 5,
    "start_time": "2021-12-23T07:02:07.668Z"
   },
   {
    "duration": 1397,
    "start_time": "2021-12-23T07:02:07.676Z"
   },
   {
    "duration": 292,
    "start_time": "2021-12-23T07:02:09.075Z"
   },
   {
    "duration": 1538,
    "start_time": "2021-12-23T07:02:09.369Z"
   },
   {
    "duration": 268,
    "start_time": "2021-12-23T07:02:10.910Z"
   },
   {
    "duration": 269,
    "start_time": "2021-12-23T07:02:11.181Z"
   },
   {
    "duration": 251,
    "start_time": "2021-12-23T07:02:11.453Z"
   },
   {
    "duration": 253,
    "start_time": "2021-12-23T07:02:11.707Z"
   },
   {
    "duration": 266,
    "start_time": "2021-12-23T07:02:11.962Z"
   },
   {
    "duration": 7,
    "start_time": "2021-12-23T07:02:12.230Z"
   },
   {
    "duration": 47,
    "start_time": "2021-12-23T07:02:12.240Z"
   },
   {
    "duration": 13,
    "start_time": "2021-12-23T07:02:12.289Z"
   },
   {
    "duration": 10,
    "start_time": "2021-12-23T07:02:12.305Z"
   },
   {
    "duration": 51,
    "start_time": "2021-12-23T07:02:12.318Z"
   },
   {
    "duration": 10,
    "start_time": "2021-12-23T07:02:12.371Z"
   },
   {
    "duration": 258,
    "start_time": "2021-12-23T07:02:12.384Z"
   },
   {
    "duration": 38,
    "start_time": "2021-12-23T07:02:12.644Z"
   },
   {
    "duration": 6,
    "start_time": "2021-12-23T07:02:12.685Z"
   },
   {
    "duration": 4,
    "start_time": "2021-12-23T07:02:28.002Z"
   },
   {
    "duration": 4,
    "start_time": "2021-12-23T07:02:29.611Z"
   },
   {
    "duration": 422,
    "start_time": "2021-12-23T07:02:33.375Z"
   },
   {
    "duration": 4,
    "start_time": "2021-12-23T07:02:46.919Z"
   },
   {
    "duration": 4,
    "start_time": "2021-12-23T07:02:47.988Z"
   },
   {
    "duration": 8,
    "start_time": "2021-12-23T07:02:49.371Z"
   },
   {
    "duration": 142359,
    "start_time": "2021-12-23T07:02:51.064Z"
   },
   {
    "duration": 15,
    "start_time": "2021-12-23T07:06:04.379Z"
   },
   {
    "duration": 12,
    "start_time": "2021-12-23T07:06:21.854Z"
   },
   {
    "duration": 4,
    "start_time": "2021-12-23T07:06:59.325Z"
   },
   {
    "duration": 4,
    "start_time": "2021-12-23T07:07:00.505Z"
   },
   {
    "duration": 5,
    "start_time": "2021-12-23T07:07:02.954Z"
   },
   {
    "duration": 5,
    "start_time": "2021-12-23T07:11:14.388Z"
   },
   {
    "duration": 8,
    "start_time": "2021-12-23T07:11:14.397Z"
   },
   {
    "duration": 7,
    "start_time": "2021-12-23T07:11:14.409Z"
   },
   {
    "duration": 3028,
    "start_time": "2021-12-23T07:11:14.419Z"
   },
   {
    "duration": 106,
    "start_time": "2021-12-23T07:11:17.450Z"
   },
   {
    "duration": 23,
    "start_time": "2021-12-23T07:11:17.559Z"
   },
   {
    "duration": 14,
    "start_time": "2021-12-23T07:11:17.585Z"
   },
   {
    "duration": 10,
    "start_time": "2021-12-23T07:11:17.602Z"
   },
   {
    "duration": 7,
    "start_time": "2021-12-23T07:11:17.615Z"
   },
   {
    "duration": 44,
    "start_time": "2021-12-23T07:11:17.626Z"
   },
   {
    "duration": 12,
    "start_time": "2021-12-23T07:11:17.673Z"
   },
   {
    "duration": 15,
    "start_time": "2021-12-23T07:11:17.688Z"
   },
   {
    "duration": 6,
    "start_time": "2021-12-23T07:11:17.705Z"
   },
   {
    "duration": 18,
    "start_time": "2021-12-23T07:11:17.713Z"
   },
   {
    "duration": 43,
    "start_time": "2021-12-23T07:11:17.734Z"
   },
   {
    "duration": 20,
    "start_time": "2021-12-23T07:11:17.779Z"
   },
   {
    "duration": 8,
    "start_time": "2021-12-23T07:11:17.802Z"
   },
   {
    "duration": 68,
    "start_time": "2021-12-23T07:11:17.813Z"
   },
   {
    "duration": 20,
    "start_time": "2021-12-23T07:11:17.884Z"
   },
   {
    "duration": 62,
    "start_time": "2021-12-23T07:11:17.907Z"
   },
   {
    "duration": 11,
    "start_time": "2021-12-23T07:11:17.973Z"
   },
   {
    "duration": 15,
    "start_time": "2021-12-23T07:11:17.986Z"
   },
   {
    "duration": 15,
    "start_time": "2021-12-23T07:11:18.004Z"
   },
   {
    "duration": 52,
    "start_time": "2021-12-23T07:11:18.022Z"
   },
   {
    "duration": 14,
    "start_time": "2021-12-23T07:11:18.081Z"
   },
   {
    "duration": 11,
    "start_time": "2021-12-23T07:11:18.099Z"
   },
   {
    "duration": 9,
    "start_time": "2021-12-23T07:11:18.113Z"
   },
   {
    "duration": 47,
    "start_time": "2021-12-23T07:11:18.124Z"
   },
   {
    "duration": 12,
    "start_time": "2021-12-23T07:11:18.174Z"
   },
   {
    "duration": 8,
    "start_time": "2021-12-23T07:11:18.189Z"
   },
   {
    "duration": 10,
    "start_time": "2021-12-23T07:11:18.200Z"
   },
   {
    "duration": 10,
    "start_time": "2021-12-23T07:11:18.212Z"
   },
   {
    "duration": 44,
    "start_time": "2021-12-23T07:11:18.225Z"
   },
   {
    "duration": 3,
    "start_time": "2021-12-23T07:11:18.271Z"
   },
   {
    "duration": 14,
    "start_time": "2021-12-23T07:11:18.276Z"
   },
   {
    "duration": 16,
    "start_time": "2021-12-23T07:11:18.293Z"
   },
   {
    "duration": 58,
    "start_time": "2021-12-23T07:11:18.312Z"
   },
   {
    "duration": 15,
    "start_time": "2021-12-23T07:11:18.372Z"
   },
   {
    "duration": 12,
    "start_time": "2021-12-23T07:11:18.389Z"
   },
   {
    "duration": 8,
    "start_time": "2021-12-23T07:11:18.404Z"
   },
   {
    "duration": 6,
    "start_time": "2021-12-23T07:11:18.415Z"
   },
   {
    "duration": 50,
    "start_time": "2021-12-23T07:11:18.423Z"
   },
   {
    "duration": 11,
    "start_time": "2021-12-23T07:11:18.475Z"
   },
   {
    "duration": 7,
    "start_time": "2021-12-23T07:11:18.488Z"
   },
   {
    "duration": 14,
    "start_time": "2021-12-23T07:11:18.497Z"
   },
   {
    "duration": 8,
    "start_time": "2021-12-23T07:11:18.513Z"
   },
   {
    "duration": 55,
    "start_time": "2021-12-23T07:11:18.524Z"
   },
   {
    "duration": 11,
    "start_time": "2021-12-23T07:11:18.581Z"
   },
   {
    "duration": 16,
    "start_time": "2021-12-23T07:11:18.594Z"
   },
   {
    "duration": 59,
    "start_time": "2021-12-23T07:11:18.613Z"
   },
   {
    "duration": 12,
    "start_time": "2021-12-23T07:11:18.675Z"
   },
   {
    "duration": 11,
    "start_time": "2021-12-23T07:11:18.689Z"
   },
   {
    "duration": 8,
    "start_time": "2021-12-23T07:11:18.703Z"
   },
   {
    "duration": 6,
    "start_time": "2021-12-23T07:11:18.714Z"
   },
   {
    "duration": 50,
    "start_time": "2021-12-23T07:11:18.722Z"
   },
   {
    "duration": 3,
    "start_time": "2021-12-23T07:11:18.775Z"
   },
   {
    "duration": 9,
    "start_time": "2021-12-23T07:11:18.780Z"
   },
   {
    "duration": 13,
    "start_time": "2021-12-23T07:11:18.791Z"
   },
   {
    "duration": 10,
    "start_time": "2021-12-23T07:11:18.807Z"
   },
   {
    "duration": 87,
    "start_time": "2021-12-23T07:11:18.820Z"
   },
   {
    "duration": 79,
    "start_time": "2021-12-23T07:11:18.910Z"
   },
   {
    "duration": 20,
    "start_time": "2021-12-23T07:11:18.992Z"
   },
   {
    "duration": 14,
    "start_time": "2021-12-23T07:11:19.015Z"
   },
   {
    "duration": 68,
    "start_time": "2021-12-23T07:11:19.033Z"
   },
   {
    "duration": 33,
    "start_time": "2021-12-23T07:11:19.104Z"
   },
   {
    "duration": 33,
    "start_time": "2021-12-23T07:11:19.140Z"
   },
   {
    "duration": 9,
    "start_time": "2021-12-23T07:11:19.176Z"
   },
   {
    "duration": 10,
    "start_time": "2021-12-23T07:11:19.187Z"
   },
   {
    "duration": 247,
    "start_time": "2021-12-23T07:11:19.200Z"
   },
   {
    "duration": 231,
    "start_time": "2021-12-23T07:11:19.466Z"
   },
   {
    "duration": 79,
    "start_time": "2021-12-23T07:11:19.702Z"
   },
   {
    "duration": 26,
    "start_time": "2021-12-23T07:11:19.785Z"
   },
   {
    "duration": 382,
    "start_time": "2021-12-23T07:11:19.814Z"
   },
   {
    "duration": 49,
    "start_time": "2021-12-23T07:11:20.199Z"
   },
   {
    "duration": 22,
    "start_time": "2021-12-23T07:11:20.267Z"
   },
   {
    "duration": 377,
    "start_time": "2021-12-23T07:11:20.292Z"
   },
   {
    "duration": 26,
    "start_time": "2021-12-23T07:11:20.672Z"
   },
   {
    "duration": 392,
    "start_time": "2021-12-23T07:11:20.701Z"
   },
   {
    "duration": 4,
    "start_time": "2021-12-23T07:11:21.095Z"
   },
   {
    "duration": 7,
    "start_time": "2021-12-23T07:11:21.101Z"
   },
   {
    "duration": 1449,
    "start_time": "2021-12-23T07:11:21.110Z"
   },
   {
    "duration": 285,
    "start_time": "2021-12-23T07:11:22.566Z"
   },
   {
    "duration": 1593,
    "start_time": "2021-12-23T07:11:22.854Z"
   },
   {
    "duration": 283,
    "start_time": "2021-12-23T07:11:24.450Z"
   },
   {
    "duration": 264,
    "start_time": "2021-12-23T07:11:24.735Z"
   },
   {
    "duration": 366,
    "start_time": "2021-12-23T07:11:25.002Z"
   },
   {
    "duration": 263,
    "start_time": "2021-12-23T07:11:25.371Z"
   },
   {
    "duration": 394,
    "start_time": "2021-12-23T07:11:25.636Z"
   },
   {
    "duration": 8,
    "start_time": "2021-12-23T07:11:26.033Z"
   },
   {
    "duration": 62,
    "start_time": "2021-12-23T07:11:26.044Z"
   },
   {
    "duration": 18,
    "start_time": "2021-12-23T07:11:26.109Z"
   },
   {
    "duration": 37,
    "start_time": "2021-12-23T07:11:26.130Z"
   },
   {
    "duration": 11,
    "start_time": "2021-12-23T07:11:26.170Z"
   },
   {
    "duration": 12,
    "start_time": "2021-12-23T07:11:26.184Z"
   },
   {
    "duration": 284,
    "start_time": "2021-12-23T07:11:26.199Z"
   },
   {
    "duration": 25,
    "start_time": "2021-12-23T07:11:26.485Z"
   },
   {
    "duration": 7,
    "start_time": "2021-12-23T07:11:26.512Z"
   },
   {
    "duration": 4,
    "start_time": "2021-12-23T07:11:38.682Z"
   },
   {
    "duration": 4,
    "start_time": "2021-12-23T07:11:40.177Z"
   },
   {
    "duration": 4,
    "start_time": "2021-12-23T07:11:41.860Z"
   },
   {
    "duration": 6,
    "start_time": "2021-12-23T07:15:08.332Z"
   },
   {
    "duration": 9,
    "start_time": "2021-12-23T07:15:08.340Z"
   },
   {
    "duration": 7,
    "start_time": "2021-12-23T07:15:08.352Z"
   },
   {
    "duration": 2850,
    "start_time": "2021-12-23T07:15:08.362Z"
   },
   {
    "duration": 104,
    "start_time": "2021-12-23T07:15:11.215Z"
   },
   {
    "duration": 23,
    "start_time": "2021-12-23T07:15:11.321Z"
   },
   {
    "duration": 14,
    "start_time": "2021-12-23T07:15:11.346Z"
   },
   {
    "duration": 11,
    "start_time": "2021-12-23T07:15:11.362Z"
   },
   {
    "duration": 9,
    "start_time": "2021-12-23T07:15:11.377Z"
   },
   {
    "duration": 6,
    "start_time": "2021-12-23T07:15:11.389Z"
   },
   {
    "duration": 6,
    "start_time": "2021-12-23T07:15:11.397Z"
   },
   {
    "duration": 7,
    "start_time": "2021-12-23T07:15:11.405Z"
   },
   {
    "duration": 55,
    "start_time": "2021-12-23T07:15:11.414Z"
   },
   {
    "duration": 15,
    "start_time": "2021-12-23T07:15:11.471Z"
   },
   {
    "duration": 14,
    "start_time": "2021-12-23T07:15:11.489Z"
   },
   {
    "duration": 19,
    "start_time": "2021-12-23T07:15:11.505Z"
   },
   {
    "duration": 50,
    "start_time": "2021-12-23T07:15:11.527Z"
   },
   {
    "duration": 24,
    "start_time": "2021-12-23T07:15:11.579Z"
   },
   {
    "duration": 14,
    "start_time": "2021-12-23T07:15:11.606Z"
   },
   {
    "duration": 17,
    "start_time": "2021-12-23T07:15:11.622Z"
   },
   {
    "duration": 30,
    "start_time": "2021-12-23T07:15:11.641Z"
   },
   {
    "duration": 15,
    "start_time": "2021-12-23T07:15:11.674Z"
   },
   {
    "duration": 15,
    "start_time": "2021-12-23T07:15:11.691Z"
   },
   {
    "duration": 59,
    "start_time": "2021-12-23T07:15:11.708Z"
   },
   {
    "duration": 14,
    "start_time": "2021-12-23T07:15:11.769Z"
   },
   {
    "duration": 11,
    "start_time": "2021-12-23T07:15:11.785Z"
   },
   {
    "duration": 8,
    "start_time": "2021-12-23T07:15:11.804Z"
   },
   {
    "duration": 11,
    "start_time": "2021-12-23T07:15:11.819Z"
   },
   {
    "duration": 41,
    "start_time": "2021-12-23T07:15:11.833Z"
   },
   {
    "duration": 9,
    "start_time": "2021-12-23T07:15:11.877Z"
   },
   {
    "duration": 12,
    "start_time": "2021-12-23T07:15:11.889Z"
   },
   {
    "duration": 13,
    "start_time": "2021-12-23T07:15:11.904Z"
   },
   {
    "duration": 55,
    "start_time": "2021-12-23T07:15:11.920Z"
   },
   {
    "duration": 6,
    "start_time": "2021-12-23T07:15:11.977Z"
   },
   {
    "duration": 22,
    "start_time": "2021-12-23T07:15:11.985Z"
   },
   {
    "duration": 20,
    "start_time": "2021-12-23T07:15:12.010Z"
   },
   {
    "duration": 18,
    "start_time": "2021-12-23T07:15:12.068Z"
   },
   {
    "duration": 10,
    "start_time": "2021-12-23T07:15:12.089Z"
   },
   {
    "duration": 13,
    "start_time": "2021-12-23T07:15:12.102Z"
   },
   {
    "duration": 7,
    "start_time": "2021-12-23T07:15:12.117Z"
   },
   {
    "duration": 6,
    "start_time": "2021-12-23T07:15:12.167Z"
   },
   {
    "duration": 12,
    "start_time": "2021-12-23T07:15:12.176Z"
   },
   {
    "duration": 8,
    "start_time": "2021-12-23T07:15:12.191Z"
   },
   {
    "duration": 8,
    "start_time": "2021-12-23T07:15:12.202Z"
   },
   {
    "duration": 56,
    "start_time": "2021-12-23T07:15:12.213Z"
   },
   {
    "duration": 3,
    "start_time": "2021-12-23T07:15:12.272Z"
   },
   {
    "duration": 21,
    "start_time": "2021-12-23T07:15:12.278Z"
   },
   {
    "duration": 10,
    "start_time": "2021-12-23T07:15:12.301Z"
   },
   {
    "duration": 54,
    "start_time": "2021-12-23T07:15:12.313Z"
   },
   {
    "duration": 17,
    "start_time": "2021-12-23T07:15:12.369Z"
   },
   {
    "duration": 12,
    "start_time": "2021-12-23T07:15:12.388Z"
   },
   {
    "duration": 9,
    "start_time": "2021-12-23T07:15:12.402Z"
   },
   {
    "duration": 56,
    "start_time": "2021-12-23T07:15:12.413Z"
   },
   {
    "duration": 8,
    "start_time": "2021-12-23T07:15:12.471Z"
   },
   {
    "duration": 11,
    "start_time": "2021-12-23T07:15:12.482Z"
   },
   {
    "duration": 3,
    "start_time": "2021-12-23T07:15:12.496Z"
   },
   {
    "duration": 8,
    "start_time": "2021-12-23T07:15:12.501Z"
   },
   {
    "duration": 16,
    "start_time": "2021-12-23T07:15:12.511Z"
   },
   {
    "duration": 11,
    "start_time": "2021-12-23T07:15:12.568Z"
   },
   {
    "duration": 43,
    "start_time": "2021-12-23T07:15:12.581Z"
   },
   {
    "duration": 71,
    "start_time": "2021-12-23T07:15:12.627Z"
   },
   {
    "duration": 18,
    "start_time": "2021-12-23T07:15:12.701Z"
   },
   {
    "duration": 14,
    "start_time": "2021-12-23T07:15:12.722Z"
   },
   {
    "duration": 49,
    "start_time": "2021-12-23T07:15:12.769Z"
   },
   {
    "duration": 49,
    "start_time": "2021-12-23T07:15:12.820Z"
   },
   {
    "duration": 9,
    "start_time": "2021-12-23T07:15:12.872Z"
   },
   {
    "duration": 10,
    "start_time": "2021-12-23T07:15:12.884Z"
   },
   {
    "duration": 26,
    "start_time": "2021-12-23T07:15:12.897Z"
   },
   {
    "duration": 235,
    "start_time": "2021-12-23T07:15:12.926Z"
   },
   {
    "duration": 226,
    "start_time": "2021-12-23T07:15:13.168Z"
   },
   {
    "duration": 46,
    "start_time": "2021-12-23T07:15:13.396Z"
   },
   {
    "duration": 35,
    "start_time": "2021-12-23T07:15:13.445Z"
   },
   {
    "duration": 262,
    "start_time": "2021-12-23T07:15:13.482Z"
   },
   {
    "duration": 57,
    "start_time": "2021-12-23T07:15:13.748Z"
   },
   {
    "duration": 24,
    "start_time": "2021-12-23T07:15:13.809Z"
   },
   {
    "duration": 359,
    "start_time": "2021-12-23T07:15:13.835Z"
   },
   {
    "duration": 23,
    "start_time": "2021-12-23T07:15:14.196Z"
   },
   {
    "duration": 486,
    "start_time": "2021-12-23T07:15:14.222Z"
   },
   {
    "duration": 4,
    "start_time": "2021-12-23T07:15:14.710Z"
   },
   {
    "duration": 8,
    "start_time": "2021-12-23T07:15:14.717Z"
   },
   {
    "duration": 2105,
    "start_time": "2021-12-23T07:15:14.739Z"
   },
   {
    "duration": 327,
    "start_time": "2021-12-23T07:15:16.848Z"
   },
   {
    "duration": 1527,
    "start_time": "2021-12-23T07:15:17.177Z"
   },
   {
    "duration": 275,
    "start_time": "2021-12-23T07:15:18.707Z"
   },
   {
    "duration": 275,
    "start_time": "2021-12-23T07:15:18.984Z"
   },
   {
    "duration": 258,
    "start_time": "2021-12-23T07:15:19.261Z"
   },
   {
    "duration": 255,
    "start_time": "2021-12-23T07:15:19.522Z"
   },
   {
    "duration": 282,
    "start_time": "2021-12-23T07:15:19.779Z"
   },
   {
    "duration": 8,
    "start_time": "2021-12-23T07:15:20.067Z"
   },
   {
    "duration": 36,
    "start_time": "2021-12-23T07:15:20.078Z"
   },
   {
    "duration": 14,
    "start_time": "2021-12-23T07:15:20.116Z"
   },
   {
    "duration": 44,
    "start_time": "2021-12-23T07:15:20.132Z"
   },
   {
    "duration": 11,
    "start_time": "2021-12-23T07:15:20.178Z"
   },
   {
    "duration": 12,
    "start_time": "2021-12-23T07:15:20.191Z"
   },
   {
    "duration": 287,
    "start_time": "2021-12-23T07:15:20.207Z"
   },
   {
    "duration": 26,
    "start_time": "2021-12-23T07:15:20.497Z"
   },
   {
    "duration": 9,
    "start_time": "2021-12-23T07:15:20.526Z"
   },
   {
    "duration": 4,
    "start_time": "2021-12-23T07:15:29.133Z"
   },
   {
    "duration": 4,
    "start_time": "2021-12-23T07:15:32.093Z"
   },
   {
    "duration": 5,
    "start_time": "2021-12-23T07:15:34.093Z"
   },
   {
    "duration": 82840,
    "start_time": "2021-12-23T07:15:39.033Z"
   },
   {
    "duration": 17,
    "start_time": "2021-12-23T07:18:11.328Z"
   },
   {
    "duration": 7115,
    "start_time": "2021-12-23T07:18:25.512Z"
   },
   {
    "duration": 13,
    "start_time": "2021-12-23T07:18:51.385Z"
   },
   {
    "duration": 9,
    "start_time": "2021-12-23T07:19:08.511Z"
   },
   {
    "duration": 7,
    "start_time": "2021-12-23T07:19:11.956Z"
   },
   {
    "duration": 6,
    "start_time": "2021-12-23T07:20:01.190Z"
   },
   {
    "duration": 6,
    "start_time": "2021-12-23T07:22:32.217Z"
   },
   {
    "duration": 335,
    "start_time": "2021-12-23T07:22:34.291Z"
   },
   {
    "duration": 2,
    "start_time": "2021-12-23T07:22:49.029Z"
   },
   {
    "duration": 7,
    "start_time": "2021-12-23T07:22:49.034Z"
   },
   {
    "duration": 13,
    "start_time": "2021-12-23T07:22:49.044Z"
   },
   {
    "duration": 2958,
    "start_time": "2021-12-23T07:22:49.060Z"
   },
   {
    "duration": 106,
    "start_time": "2021-12-23T07:22:52.020Z"
   },
   {
    "duration": 23,
    "start_time": "2021-12-23T07:22:52.129Z"
   },
   {
    "duration": 23,
    "start_time": "2021-12-23T07:22:52.155Z"
   },
   {
    "duration": 17,
    "start_time": "2021-12-23T07:22:52.180Z"
   },
   {
    "duration": 17,
    "start_time": "2021-12-23T07:22:52.200Z"
   },
   {
    "duration": 15,
    "start_time": "2021-12-23T07:22:52.222Z"
   },
   {
    "duration": 28,
    "start_time": "2021-12-23T07:22:52.241Z"
   },
   {
    "duration": 6,
    "start_time": "2021-12-23T07:22:52.271Z"
   },
   {
    "duration": 9,
    "start_time": "2021-12-23T07:22:52.280Z"
   },
   {
    "duration": 16,
    "start_time": "2021-12-23T07:22:52.292Z"
   },
   {
    "duration": 13,
    "start_time": "2021-12-23T07:22:52.311Z"
   },
   {
    "duration": 19,
    "start_time": "2021-12-23T07:22:52.367Z"
   },
   {
    "duration": 21,
    "start_time": "2021-12-23T07:22:52.389Z"
   },
   {
    "duration": 29,
    "start_time": "2021-12-23T07:22:52.412Z"
   },
   {
    "duration": 27,
    "start_time": "2021-12-23T07:22:52.443Z"
   },
   {
    "duration": 27,
    "start_time": "2021-12-23T07:22:52.473Z"
   },
   {
    "duration": 8,
    "start_time": "2021-12-23T07:22:52.503Z"
   },
   {
    "duration": 24,
    "start_time": "2021-12-23T07:22:52.513Z"
   },
   {
    "duration": 31,
    "start_time": "2021-12-23T07:22:52.540Z"
   },
   {
    "duration": 19,
    "start_time": "2021-12-23T07:22:52.574Z"
   },
   {
    "duration": 23,
    "start_time": "2021-12-23T07:22:52.599Z"
   },
   {
    "duration": 15,
    "start_time": "2021-12-23T07:22:52.626Z"
   },
   {
    "duration": 11,
    "start_time": "2021-12-23T07:22:52.644Z"
   },
   {
    "duration": 10,
    "start_time": "2021-12-23T07:22:52.658Z"
   },
   {
    "duration": 8,
    "start_time": "2021-12-23T07:22:52.672Z"
   },
   {
    "duration": 25,
    "start_time": "2021-12-23T07:22:52.683Z"
   },
   {
    "duration": 17,
    "start_time": "2021-12-23T07:22:52.710Z"
   },
   {
    "duration": 23,
    "start_time": "2021-12-23T07:22:52.730Z"
   },
   {
    "duration": 18,
    "start_time": "2021-12-23T07:22:52.756Z"
   },
   {
    "duration": 14,
    "start_time": "2021-12-23T07:22:52.777Z"
   },
   {
    "duration": 32,
    "start_time": "2021-12-23T07:22:52.793Z"
   },
   {
    "duration": 24,
    "start_time": "2021-12-23T07:22:52.827Z"
   },
   {
    "duration": 32,
    "start_time": "2021-12-23T07:22:52.853Z"
   },
   {
    "duration": 22,
    "start_time": "2021-12-23T07:22:52.887Z"
   },
   {
    "duration": 24,
    "start_time": "2021-12-23T07:22:52.912Z"
   },
   {
    "duration": 21,
    "start_time": "2021-12-23T07:22:52.939Z"
   },
   {
    "duration": 19,
    "start_time": "2021-12-23T07:22:52.963Z"
   },
   {
    "duration": 12,
    "start_time": "2021-12-23T07:22:52.985Z"
   },
   {
    "duration": 7,
    "start_time": "2021-12-23T07:22:53.000Z"
   },
   {
    "duration": 9,
    "start_time": "2021-12-23T07:22:53.010Z"
   },
   {
    "duration": 12,
    "start_time": "2021-12-23T07:22:53.021Z"
   },
   {
    "duration": 4,
    "start_time": "2021-12-23T07:22:53.036Z"
   },
   {
    "duration": 25,
    "start_time": "2021-12-23T07:22:53.068Z"
   },
   {
    "duration": 11,
    "start_time": "2021-12-23T07:22:53.095Z"
   },
   {
    "duration": 63,
    "start_time": "2021-12-23T07:22:53.108Z"
   },
   {
    "duration": 28,
    "start_time": "2021-12-23T07:22:53.173Z"
   },
   {
    "duration": 63,
    "start_time": "2021-12-23T07:22:53.203Z"
   },
   {
    "duration": 8,
    "start_time": "2021-12-23T07:22:53.269Z"
   },
   {
    "duration": 20,
    "start_time": "2021-12-23T07:22:53.279Z"
   },
   {
    "duration": 21,
    "start_time": "2021-12-23T07:22:53.302Z"
   },
   {
    "duration": 48,
    "start_time": "2021-12-23T07:22:53.326Z"
   },
   {
    "duration": 4,
    "start_time": "2021-12-23T07:22:53.377Z"
   },
   {
    "duration": 5,
    "start_time": "2021-12-23T07:22:53.384Z"
   },
   {
    "duration": 14,
    "start_time": "2021-12-23T07:22:53.392Z"
   },
   {
    "duration": 65,
    "start_time": "2021-12-23T07:22:53.408Z"
   },
   {
    "duration": 68,
    "start_time": "2021-12-23T07:22:53.476Z"
   },
   {
    "duration": 75,
    "start_time": "2021-12-23T07:22:53.548Z"
   },
   {
    "duration": 41,
    "start_time": "2021-12-23T07:22:53.626Z"
   },
   {
    "duration": 15,
    "start_time": "2021-12-23T07:22:53.670Z"
   },
   {
    "duration": 41,
    "start_time": "2021-12-23T07:22:53.688Z"
   },
   {
    "duration": 41,
    "start_time": "2021-12-23T07:22:53.732Z"
   },
   {
    "duration": 7,
    "start_time": "2021-12-23T07:22:53.776Z"
   },
   {
    "duration": 9,
    "start_time": "2021-12-23T07:22:53.786Z"
   },
   {
    "duration": 13,
    "start_time": "2021-12-23T07:22:53.797Z"
   },
   {
    "duration": 254,
    "start_time": "2021-12-23T07:22:53.813Z"
   },
   {
    "duration": 238,
    "start_time": "2021-12-23T07:22:54.075Z"
   },
   {
    "duration": 53,
    "start_time": "2021-12-23T07:22:54.316Z"
   },
   {
    "duration": 17,
    "start_time": "2021-12-23T07:22:54.371Z"
   },
   {
    "duration": 263,
    "start_time": "2021-12-23T07:22:54.391Z"
   },
   {
    "duration": 48,
    "start_time": "2021-12-23T07:22:54.657Z"
   },
   {
    "duration": 24,
    "start_time": "2021-12-23T07:22:54.707Z"
   },
   {
    "duration": 374,
    "start_time": "2021-12-23T07:22:54.733Z"
   },
   {
    "duration": 23,
    "start_time": "2021-12-23T07:22:55.110Z"
   },
   {
    "duration": 395,
    "start_time": "2021-12-23T07:22:55.135Z"
   },
   {
    "duration": 4,
    "start_time": "2021-12-23T07:22:55.532Z"
   },
   {
    "duration": 28,
    "start_time": "2021-12-23T07:22:55.539Z"
   },
   {
    "duration": 1414,
    "start_time": "2021-12-23T07:22:55.570Z"
   },
   {
    "duration": 288,
    "start_time": "2021-12-23T07:22:56.986Z"
   },
   {
    "duration": 1508,
    "start_time": "2021-12-23T07:22:57.277Z"
   },
   {
    "duration": 274,
    "start_time": "2021-12-23T07:22:58.787Z"
   },
   {
    "duration": 269,
    "start_time": "2021-12-23T07:22:59.068Z"
   },
   {
    "duration": 260,
    "start_time": "2021-12-23T07:22:59.339Z"
   },
   {
    "duration": 307,
    "start_time": "2021-12-23T07:22:59.601Z"
   },
   {
    "duration": 293,
    "start_time": "2021-12-23T07:22:59.911Z"
   },
   {
    "duration": 7,
    "start_time": "2021-12-23T07:23:00.207Z"
   },
   {
    "duration": 54,
    "start_time": "2021-12-23T07:23:00.217Z"
   },
   {
    "duration": 16,
    "start_time": "2021-12-23T07:23:00.273Z"
   },
   {
    "duration": 11,
    "start_time": "2021-12-23T07:23:00.291Z"
   },
   {
    "duration": 32,
    "start_time": "2021-12-23T07:23:00.305Z"
   },
   {
    "duration": 30,
    "start_time": "2021-12-23T07:23:00.340Z"
   },
   {
    "duration": 260,
    "start_time": "2021-12-23T07:23:00.373Z"
   },
   {
    "duration": 46,
    "start_time": "2021-12-23T07:23:00.636Z"
   },
   {
    "duration": 9,
    "start_time": "2021-12-23T07:23:00.685Z"
   },
   {
    "duration": 3,
    "start_time": "2021-12-23T07:23:11.771Z"
   },
   {
    "duration": 4,
    "start_time": "2021-12-23T07:23:12.949Z"
   },
   {
    "duration": 4,
    "start_time": "2021-12-23T07:23:15.281Z"
   },
   {
    "duration": 389,
    "start_time": "2021-12-23T07:33:31.107Z"
   },
   {
    "duration": 3,
    "start_time": "2021-12-23T07:34:06.407Z"
   },
   {
    "duration": 7,
    "start_time": "2021-12-23T07:34:06.414Z"
   },
   {
    "duration": 5,
    "start_time": "2021-12-23T07:34:06.424Z"
   },
   {
    "duration": 2920,
    "start_time": "2021-12-23T07:34:06.432Z"
   },
   {
    "duration": 104,
    "start_time": "2021-12-23T07:34:09.355Z"
   },
   {
    "duration": 23,
    "start_time": "2021-12-23T07:34:09.461Z"
   },
   {
    "duration": 11,
    "start_time": "2021-12-23T07:34:09.488Z"
   },
   {
    "duration": 10,
    "start_time": "2021-12-23T07:34:09.502Z"
   },
   {
    "duration": 9,
    "start_time": "2021-12-23T07:34:09.514Z"
   },
   {
    "duration": 6,
    "start_time": "2021-12-23T07:34:09.568Z"
   },
   {
    "duration": 8,
    "start_time": "2021-12-23T07:34:09.576Z"
   },
   {
    "duration": 8,
    "start_time": "2021-12-23T07:34:09.586Z"
   },
   {
    "duration": 11,
    "start_time": "2021-12-23T07:34:09.596Z"
   },
   {
    "duration": 59,
    "start_time": "2021-12-23T07:34:09.609Z"
   },
   {
    "duration": 14,
    "start_time": "2021-12-23T07:34:09.671Z"
   },
   {
    "duration": 19,
    "start_time": "2021-12-23T07:34:09.687Z"
   },
   {
    "duration": 7,
    "start_time": "2021-12-23T07:34:09.711Z"
   },
   {
    "duration": 57,
    "start_time": "2021-12-23T07:34:09.723Z"
   },
   {
    "duration": 14,
    "start_time": "2021-12-23T07:34:09.783Z"
   },
   {
    "duration": 18,
    "start_time": "2021-12-23T07:34:09.799Z"
   },
   {
    "duration": 8,
    "start_time": "2021-12-23T07:34:09.820Z"
   },
   {
    "duration": 48,
    "start_time": "2021-12-23T07:34:09.831Z"
   },
   {
    "duration": 12,
    "start_time": "2021-12-23T07:34:09.881Z"
   },
   {
    "duration": 20,
    "start_time": "2021-12-23T07:34:09.896Z"
   },
   {
    "duration": 58,
    "start_time": "2021-12-23T07:34:09.918Z"
   },
   {
    "duration": 11,
    "start_time": "2021-12-23T07:34:09.978Z"
   },
   {
    "duration": 8,
    "start_time": "2021-12-23T07:34:09.992Z"
   },
   {
    "duration": 14,
    "start_time": "2021-12-23T07:34:10.003Z"
   },
   {
    "duration": 50,
    "start_time": "2021-12-23T07:34:10.019Z"
   },
   {
    "duration": 7,
    "start_time": "2021-12-23T07:34:10.071Z"
   },
   {
    "duration": 7,
    "start_time": "2021-12-23T07:34:10.080Z"
   },
   {
    "duration": 9,
    "start_time": "2021-12-23T07:34:10.089Z"
   },
   {
    "duration": 6,
    "start_time": "2021-12-23T07:34:10.101Z"
   },
   {
    "duration": 7,
    "start_time": "2021-12-23T07:34:10.110Z"
   },
   {
    "duration": 57,
    "start_time": "2021-12-23T07:34:10.119Z"
   },
   {
    "duration": 15,
    "start_time": "2021-12-23T07:34:10.178Z"
   },
   {
    "duration": 19,
    "start_time": "2021-12-23T07:34:10.195Z"
   },
   {
    "duration": 57,
    "start_time": "2021-12-23T07:34:10.216Z"
   },
   {
    "duration": 9,
    "start_time": "2021-12-23T07:34:10.276Z"
   },
   {
    "duration": 7,
    "start_time": "2021-12-23T07:34:10.288Z"
   },
   {
    "duration": 7,
    "start_time": "2021-12-23T07:34:10.298Z"
   },
   {
    "duration": 8,
    "start_time": "2021-12-23T07:34:10.308Z"
   },
   {
    "duration": 53,
    "start_time": "2021-12-23T07:34:10.319Z"
   },
   {
    "duration": 7,
    "start_time": "2021-12-23T07:34:10.375Z"
   },
   {
    "duration": 9,
    "start_time": "2021-12-23T07:34:10.384Z"
   },
   {
    "duration": 5,
    "start_time": "2021-12-23T07:34:10.395Z"
   },
   {
    "duration": 69,
    "start_time": "2021-12-23T07:34:10.409Z"
   },
   {
    "duration": 10,
    "start_time": "2021-12-23T07:34:10.481Z"
   },
   {
    "duration": 15,
    "start_time": "2021-12-23T07:34:10.494Z"
   },
   {
    "duration": 19,
    "start_time": "2021-12-23T07:34:10.511Z"
   },
   {
    "duration": 44,
    "start_time": "2021-12-23T07:34:10.533Z"
   },
   {
    "duration": 13,
    "start_time": "2021-12-23T07:34:10.579Z"
   },
   {
    "duration": 9,
    "start_time": "2021-12-23T07:34:10.595Z"
   },
   {
    "duration": 16,
    "start_time": "2021-12-23T07:34:10.606Z"
   },
   {
    "duration": 44,
    "start_time": "2021-12-23T07:34:10.625Z"
   },
   {
    "duration": 3,
    "start_time": "2021-12-23T07:34:10.671Z"
   },
   {
    "duration": 6,
    "start_time": "2021-12-23T07:34:10.677Z"
   },
   {
    "duration": 15,
    "start_time": "2021-12-23T07:34:10.686Z"
   },
   {
    "duration": 13,
    "start_time": "2021-12-23T07:34:10.704Z"
   },
   {
    "duration": 95,
    "start_time": "2021-12-23T07:34:10.720Z"
   },
   {
    "duration": 80,
    "start_time": "2021-12-23T07:34:10.818Z"
   },
   {
    "duration": 20,
    "start_time": "2021-12-23T07:34:10.901Z"
   },
   {
    "duration": 14,
    "start_time": "2021-12-23T07:34:10.924Z"
   },
   {
    "duration": 46,
    "start_time": "2021-12-23T07:34:10.967Z"
   },
   {
    "duration": 51,
    "start_time": "2021-12-23T07:34:11.016Z"
   },
   {
    "duration": 8,
    "start_time": "2021-12-23T07:34:11.070Z"
   },
   {
    "duration": 9,
    "start_time": "2021-12-23T07:34:11.080Z"
   },
   {
    "duration": 17,
    "start_time": "2021-12-23T07:34:11.091Z"
   },
   {
    "duration": 255,
    "start_time": "2021-12-23T07:34:11.111Z"
   },
   {
    "duration": 219,
    "start_time": "2021-12-23T07:34:11.369Z"
   },
   {
    "duration": 46,
    "start_time": "2021-12-23T07:34:11.590Z"
   },
   {
    "duration": 42,
    "start_time": "2021-12-23T07:34:11.638Z"
   },
   {
    "duration": 255,
    "start_time": "2021-12-23T07:34:11.682Z"
   },
   {
    "duration": 57,
    "start_time": "2021-12-23T07:34:11.940Z"
   },
   {
    "duration": 23,
    "start_time": "2021-12-23T07:34:11.999Z"
   },
   {
    "duration": 365,
    "start_time": "2021-12-23T07:34:12.024Z"
   },
   {
    "duration": 30,
    "start_time": "2021-12-23T07:34:12.393Z"
   },
   {
    "duration": 401,
    "start_time": "2021-12-23T07:34:12.426Z"
   },
   {
    "duration": 4,
    "start_time": "2021-12-23T07:34:12.830Z"
   },
   {
    "duration": 5,
    "start_time": "2021-12-23T07:34:12.837Z"
   },
   {
    "duration": 1443,
    "start_time": "2021-12-23T07:34:12.868Z"
   },
   {
    "duration": 388,
    "start_time": "2021-12-23T07:34:14.313Z"
   },
   {
    "duration": 1607,
    "start_time": "2021-12-23T07:34:14.703Z"
   },
   {
    "duration": 271,
    "start_time": "2021-12-23T07:34:16.312Z"
   },
   {
    "duration": 272,
    "start_time": "2021-12-23T07:34:16.585Z"
   },
   {
    "duration": 253,
    "start_time": "2021-12-23T07:34:16.867Z"
   },
   {
    "duration": 264,
    "start_time": "2021-12-23T07:34:17.123Z"
   },
   {
    "duration": 274,
    "start_time": "2021-12-23T07:34:17.389Z"
   },
   {
    "duration": 6,
    "start_time": "2021-12-23T07:34:17.668Z"
   },
   {
    "duration": 32,
    "start_time": "2021-12-23T07:34:17.677Z"
   },
   {
    "duration": 13,
    "start_time": "2021-12-23T07:34:17.711Z"
   },
   {
    "duration": 43,
    "start_time": "2021-12-23T07:34:17.727Z"
   },
   {
    "duration": 9,
    "start_time": "2021-12-23T07:34:17.773Z"
   },
   {
    "duration": 11,
    "start_time": "2021-12-23T07:34:17.785Z"
   },
   {
    "duration": 272,
    "start_time": "2021-12-23T07:34:17.799Z"
   },
   {
    "duration": 26,
    "start_time": "2021-12-23T07:34:18.074Z"
   },
   {
    "duration": 6,
    "start_time": "2021-12-23T07:34:18.103Z"
   },
   {
    "duration": 5,
    "start_time": "2021-12-23T07:34:24.801Z"
   },
   {
    "duration": 4,
    "start_time": "2021-12-23T07:34:26.607Z"
   },
   {
    "duration": 5,
    "start_time": "2021-12-23T07:34:28.841Z"
   },
   {
    "duration": 4,
    "start_time": "2021-12-23T07:36:34.901Z"
   },
   {
    "duration": 9,
    "start_time": "2021-12-23T07:36:34.908Z"
   },
   {
    "duration": 4,
    "start_time": "2021-12-23T07:36:34.920Z"
   },
   {
    "duration": 2927,
    "start_time": "2021-12-23T07:36:34.927Z"
   },
   {
    "duration": 131,
    "start_time": "2021-12-23T07:36:37.858Z"
   },
   {
    "duration": 35,
    "start_time": "2021-12-23T07:36:37.993Z"
   },
   {
    "duration": 16,
    "start_time": "2021-12-23T07:36:38.032Z"
   },
   {
    "duration": 24,
    "start_time": "2021-12-23T07:36:38.050Z"
   },
   {
    "duration": 8,
    "start_time": "2021-12-23T07:36:38.076Z"
   },
   {
    "duration": 8,
    "start_time": "2021-12-23T07:36:38.086Z"
   },
   {
    "duration": 16,
    "start_time": "2021-12-23T07:36:38.098Z"
   },
   {
    "duration": 51,
    "start_time": "2021-12-23T07:36:38.118Z"
   },
   {
    "duration": 6,
    "start_time": "2021-12-23T07:36:38.171Z"
   },
   {
    "duration": 25,
    "start_time": "2021-12-23T07:36:38.179Z"
   },
   {
    "duration": 14,
    "start_time": "2021-12-23T07:36:38.207Z"
   },
   {
    "duration": 19,
    "start_time": "2021-12-23T07:36:38.268Z"
   },
   {
    "duration": 14,
    "start_time": "2021-12-23T07:36:38.290Z"
   },
   {
    "duration": 22,
    "start_time": "2021-12-23T07:36:38.308Z"
   },
   {
    "duration": 50,
    "start_time": "2021-12-23T07:36:38.333Z"
   },
   {
    "duration": 19,
    "start_time": "2021-12-23T07:36:38.385Z"
   },
   {
    "duration": 8,
    "start_time": "2021-12-23T07:36:38.407Z"
   },
   {
    "duration": 62,
    "start_time": "2021-12-23T07:36:38.419Z"
   },
   {
    "duration": 15,
    "start_time": "2021-12-23T07:36:38.484Z"
   },
   {
    "duration": 28,
    "start_time": "2021-12-23T07:36:38.502Z"
   },
   {
    "duration": 16,
    "start_time": "2021-12-23T07:36:38.568Z"
   },
   {
    "duration": 11,
    "start_time": "2021-12-23T07:36:38.590Z"
   },
   {
    "duration": 13,
    "start_time": "2021-12-23T07:36:38.607Z"
   },
   {
    "duration": 9,
    "start_time": "2021-12-23T07:36:38.668Z"
   },
   {
    "duration": 10,
    "start_time": "2021-12-23T07:36:38.680Z"
   },
   {
    "duration": 8,
    "start_time": "2021-12-23T07:36:38.693Z"
   },
   {
    "duration": 7,
    "start_time": "2021-12-23T07:36:38.704Z"
   },
   {
    "duration": 63,
    "start_time": "2021-12-23T07:36:38.713Z"
   },
   {
    "duration": 6,
    "start_time": "2021-12-23T07:36:38.779Z"
   },
   {
    "duration": 8,
    "start_time": "2021-12-23T07:36:38.788Z"
   },
   {
    "duration": 15,
    "start_time": "2021-12-23T07:36:38.798Z"
   },
   {
    "duration": 55,
    "start_time": "2021-12-23T07:36:38.815Z"
   },
   {
    "duration": 19,
    "start_time": "2021-12-23T07:36:38.873Z"
   },
   {
    "duration": 10,
    "start_time": "2021-12-23T07:36:38.895Z"
   },
   {
    "duration": 59,
    "start_time": "2021-12-23T07:36:38.908Z"
   },
   {
    "duration": 5,
    "start_time": "2021-12-23T07:36:38.970Z"
   },
   {
    "duration": 7,
    "start_time": "2021-12-23T07:36:38.978Z"
   },
   {
    "duration": 9,
    "start_time": "2021-12-23T07:36:38.989Z"
   },
   {
    "duration": 11,
    "start_time": "2021-12-23T07:36:39.001Z"
   },
   {
    "duration": 55,
    "start_time": "2021-12-23T07:36:39.017Z"
   },
   {
    "duration": 12,
    "start_time": "2021-12-23T07:36:39.074Z"
   },
   {
    "duration": 5,
    "start_time": "2021-12-23T07:36:39.089Z"
   },
   {
    "duration": 19,
    "start_time": "2021-12-23T07:36:39.097Z"
   },
   {
    "duration": 55,
    "start_time": "2021-12-23T07:36:39.118Z"
   },
   {
    "duration": 18,
    "start_time": "2021-12-23T07:36:39.175Z"
   },
   {
    "duration": 19,
    "start_time": "2021-12-23T07:36:39.197Z"
   },
   {
    "duration": 51,
    "start_time": "2021-12-23T07:36:39.219Z"
   },
   {
    "duration": 12,
    "start_time": "2021-12-23T07:36:39.273Z"
   },
   {
    "duration": 15,
    "start_time": "2021-12-23T07:36:39.288Z"
   },
   {
    "duration": 9,
    "start_time": "2021-12-23T07:36:39.306Z"
   },
   {
    "duration": 52,
    "start_time": "2021-12-23T07:36:39.317Z"
   },
   {
    "duration": 4,
    "start_time": "2021-12-23T07:36:39.372Z"
   },
   {
    "duration": 17,
    "start_time": "2021-12-23T07:36:39.378Z"
   },
   {
    "duration": 21,
    "start_time": "2021-12-23T07:36:39.398Z"
   },
   {
    "duration": 20,
    "start_time": "2021-12-23T07:36:39.423Z"
   },
   {
    "duration": 58,
    "start_time": "2021-12-23T07:36:39.446Z"
   },
   {
    "duration": 81,
    "start_time": "2021-12-23T07:36:39.508Z"
   },
   {
    "duration": 14,
    "start_time": "2021-12-23T07:36:39.592Z"
   },
   {
    "duration": 11,
    "start_time": "2021-12-23T07:36:39.608Z"
   },
   {
    "duration": 60,
    "start_time": "2021-12-23T07:36:39.622Z"
   },
   {
    "duration": 23,
    "start_time": "2021-12-23T07:36:39.685Z"
   },
   {
    "duration": 10,
    "start_time": "2021-12-23T07:36:39.711Z"
   },
   {
    "duration": 48,
    "start_time": "2021-12-23T07:36:39.723Z"
   },
   {
    "duration": 11,
    "start_time": "2021-12-23T07:36:39.774Z"
   },
   {
    "duration": 345,
    "start_time": "2021-12-23T07:36:39.787Z"
   },
   {
    "duration": 232,
    "start_time": "2021-12-23T07:36:40.135Z"
   },
   {
    "duration": 45,
    "start_time": "2021-12-23T07:36:40.377Z"
   },
   {
    "duration": 43,
    "start_time": "2021-12-23T07:36:40.426Z"
   },
   {
    "duration": 258,
    "start_time": "2021-12-23T07:36:40.472Z"
   },
   {
    "duration": 59,
    "start_time": "2021-12-23T07:36:40.733Z"
   },
   {
    "duration": 26,
    "start_time": "2021-12-23T07:36:40.796Z"
   },
   {
    "duration": 371,
    "start_time": "2021-12-23T07:36:40.824Z"
   },
   {
    "duration": 21,
    "start_time": "2021-12-23T07:36:41.198Z"
   },
   {
    "duration": 618,
    "start_time": "2021-12-23T07:36:41.222Z"
   },
   {
    "duration": 4,
    "start_time": "2021-12-23T07:36:41.844Z"
   },
   {
    "duration": 18,
    "start_time": "2021-12-23T07:36:41.851Z"
   },
   {
    "duration": 1611,
    "start_time": "2021-12-23T07:36:41.871Z"
   },
   {
    "duration": 457,
    "start_time": "2021-12-23T07:36:43.485Z"
   },
   {
    "duration": 2058,
    "start_time": "2021-12-23T07:36:43.944Z"
   },
   {
    "duration": 438,
    "start_time": "2021-12-23T07:36:46.005Z"
   },
   {
    "duration": 253,
    "start_time": "2021-12-23T07:36:46.447Z"
   },
   {
    "duration": 258,
    "start_time": "2021-12-23T07:36:46.703Z"
   },
   {
    "duration": 255,
    "start_time": "2021-12-23T07:36:46.963Z"
   },
   {
    "duration": 287,
    "start_time": "2021-12-23T07:36:47.220Z"
   },
   {
    "duration": 6,
    "start_time": "2021-12-23T07:36:47.510Z"
   },
   {
    "duration": 51,
    "start_time": "2021-12-23T07:36:47.519Z"
   },
   {
    "duration": 14,
    "start_time": "2021-12-23T07:36:47.572Z"
   },
   {
    "duration": 14,
    "start_time": "2021-12-23T07:36:47.588Z"
   },
   {
    "duration": 11,
    "start_time": "2021-12-23T07:36:47.604Z"
   },
   {
    "duration": 51,
    "start_time": "2021-12-23T07:36:47.618Z"
   },
   {
    "duration": 261,
    "start_time": "2021-12-23T07:36:47.672Z"
   },
   {
    "duration": 37,
    "start_time": "2021-12-23T07:36:47.935Z"
   },
   {
    "duration": 6,
    "start_time": "2021-12-23T07:36:47.975Z"
   },
   {
    "duration": 5,
    "start_time": "2021-12-23T07:37:03.555Z"
   },
   {
    "duration": 4,
    "start_time": "2021-12-23T07:37:04.609Z"
   },
   {
    "duration": 5,
    "start_time": "2021-12-23T07:37:06.279Z"
   },
   {
    "duration": 91777,
    "start_time": "2021-12-23T07:37:08.796Z"
   },
   {
    "duration": 20,
    "start_time": "2021-12-23T07:39:23.547Z"
   },
   {
    "duration": 4,
    "start_time": "2021-12-23T07:39:54.624Z"
   },
   {
    "duration": 4,
    "start_time": "2021-12-23T07:42:43.907Z"
   },
   {
    "duration": 9,
    "start_time": "2021-12-23T07:42:43.914Z"
   },
   {
    "duration": 4,
    "start_time": "2021-12-23T07:42:43.926Z"
   },
   {
    "duration": 3011,
    "start_time": "2021-12-23T07:42:43.933Z"
   },
   {
    "duration": 112,
    "start_time": "2021-12-23T07:42:46.946Z"
   },
   {
    "duration": 30,
    "start_time": "2021-12-23T07:42:47.060Z"
   },
   {
    "duration": 14,
    "start_time": "2021-12-23T07:42:47.092Z"
   },
   {
    "duration": 13,
    "start_time": "2021-12-23T07:42:47.108Z"
   },
   {
    "duration": 7,
    "start_time": "2021-12-23T07:42:47.125Z"
   },
   {
    "duration": 39,
    "start_time": "2021-12-23T07:42:47.135Z"
   },
   {
    "duration": 11,
    "start_time": "2021-12-23T07:42:47.177Z"
   },
   {
    "duration": 9,
    "start_time": "2021-12-23T07:42:47.191Z"
   },
   {
    "duration": 6,
    "start_time": "2021-12-23T07:42:47.203Z"
   },
   {
    "duration": 55,
    "start_time": "2021-12-23T07:42:47.212Z"
   },
   {
    "duration": 20,
    "start_time": "2021-12-23T07:42:47.271Z"
   },
   {
    "duration": 21,
    "start_time": "2021-12-23T07:42:47.294Z"
   },
   {
    "duration": 10,
    "start_time": "2021-12-23T07:42:47.317Z"
   },
   {
    "duration": 25,
    "start_time": "2021-12-23T07:42:47.368Z"
   },
   {
    "duration": 14,
    "start_time": "2021-12-23T07:42:47.396Z"
   },
   {
    "duration": 15,
    "start_time": "2021-12-23T07:42:47.412Z"
   },
   {
    "duration": 43,
    "start_time": "2021-12-23T07:42:47.429Z"
   },
   {
    "duration": 18,
    "start_time": "2021-12-23T07:42:47.475Z"
   },
   {
    "duration": 11,
    "start_time": "2021-12-23T07:42:47.496Z"
   },
   {
    "duration": 19,
    "start_time": "2021-12-23T07:42:47.510Z"
   },
   {
    "duration": 54,
    "start_time": "2021-12-23T07:42:47.531Z"
   },
   {
    "duration": 12,
    "start_time": "2021-12-23T07:42:47.588Z"
   },
   {
    "duration": 9,
    "start_time": "2021-12-23T07:42:47.607Z"
   },
   {
    "duration": 6,
    "start_time": "2021-12-23T07:42:47.620Z"
   },
   {
    "duration": 9,
    "start_time": "2021-12-23T07:42:47.669Z"
   },
   {
    "duration": 11,
    "start_time": "2021-12-23T07:42:47.683Z"
   },
   {
    "duration": 7,
    "start_time": "2021-12-23T07:42:47.697Z"
   },
   {
    "duration": 11,
    "start_time": "2021-12-23T07:42:47.707Z"
   },
   {
    "duration": 49,
    "start_time": "2021-12-23T07:42:47.720Z"
   },
   {
    "duration": 8,
    "start_time": "2021-12-23T07:42:47.772Z"
   },
   {
    "duration": 16,
    "start_time": "2021-12-23T07:42:47.784Z"
   },
   {
    "duration": 14,
    "start_time": "2021-12-23T07:42:47.802Z"
   },
   {
    "duration": 52,
    "start_time": "2021-12-23T07:42:47.818Z"
   },
   {
    "duration": 17,
    "start_time": "2021-12-23T07:42:47.874Z"
   },
   {
    "duration": 12,
    "start_time": "2021-12-23T07:42:47.893Z"
   },
   {
    "duration": 11,
    "start_time": "2021-12-23T07:42:47.907Z"
   },
   {
    "duration": 50,
    "start_time": "2021-12-23T07:42:47.920Z"
   },
   {
    "duration": 10,
    "start_time": "2021-12-23T07:42:47.973Z"
   },
   {
    "duration": 11,
    "start_time": "2021-12-23T07:42:47.986Z"
   },
   {
    "duration": 11,
    "start_time": "2021-12-23T07:42:47.999Z"
   },
   {
    "duration": 11,
    "start_time": "2021-12-23T07:42:48.013Z"
   },
   {
    "duration": 5,
    "start_time": "2021-12-23T07:42:48.026Z"
   },
   {
    "duration": 27,
    "start_time": "2021-12-23T07:42:48.068Z"
   },
   {
    "duration": 11,
    "start_time": "2021-12-23T07:42:48.097Z"
   },
   {
    "duration": 21,
    "start_time": "2021-12-23T07:42:48.111Z"
   },
   {
    "duration": 51,
    "start_time": "2021-12-23T07:42:48.135Z"
   },
   {
    "duration": 11,
    "start_time": "2021-12-23T07:42:48.189Z"
   },
   {
    "duration": 12,
    "start_time": "2021-12-23T07:42:48.202Z"
   },
   {
    "duration": 19,
    "start_time": "2021-12-23T07:42:48.216Z"
   },
   {
    "duration": 9,
    "start_time": "2021-12-23T07:42:48.270Z"
   },
   {
    "duration": 17,
    "start_time": "2021-12-23T07:42:48.282Z"
   },
   {
    "duration": 3,
    "start_time": "2021-12-23T07:42:48.301Z"
   },
   {
    "duration": 6,
    "start_time": "2021-12-23T07:42:48.306Z"
   },
   {
    "duration": 16,
    "start_time": "2021-12-23T07:42:48.314Z"
   },
   {
    "duration": 46,
    "start_time": "2021-12-23T07:42:48.332Z"
   },
   {
    "duration": 46,
    "start_time": "2021-12-23T07:42:48.385Z"
   },
   {
    "duration": 75,
    "start_time": "2021-12-23T07:42:48.434Z"
   },
   {
    "duration": 14,
    "start_time": "2021-12-23T07:42:48.512Z"
   },
   {
    "duration": 44,
    "start_time": "2021-12-23T07:42:48.529Z"
   },
   {
    "duration": 36,
    "start_time": "2021-12-23T07:42:48.576Z"
   },
   {
    "duration": 22,
    "start_time": "2021-12-23T07:42:48.614Z"
   },
   {
    "duration": 43,
    "start_time": "2021-12-23T07:42:48.639Z"
   },
   {
    "duration": 16,
    "start_time": "2021-12-23T07:42:48.685Z"
   },
   {
    "duration": 19,
    "start_time": "2021-12-23T07:42:48.703Z"
   },
   {
    "duration": 233,
    "start_time": "2021-12-23T07:42:48.725Z"
   },
   {
    "duration": 240,
    "start_time": "2021-12-23T07:42:48.960Z"
   },
   {
    "duration": 46,
    "start_time": "2021-12-23T07:42:49.203Z"
   },
   {
    "duration": 39,
    "start_time": "2021-12-23T07:42:49.251Z"
   },
   {
    "duration": 292,
    "start_time": "2021-12-23T07:42:49.293Z"
   },
   {
    "duration": 45,
    "start_time": "2021-12-23T07:42:49.589Z"
   },
   {
    "duration": 48,
    "start_time": "2021-12-23T07:42:49.636Z"
   },
   {
    "duration": 374,
    "start_time": "2021-12-23T07:42:49.687Z"
   },
   {
    "duration": 28,
    "start_time": "2021-12-23T07:42:50.064Z"
   },
   {
    "duration": 433,
    "start_time": "2021-12-23T07:42:50.094Z"
   },
   {
    "duration": 4,
    "start_time": "2021-12-23T07:42:50.529Z"
   },
   {
    "duration": 7,
    "start_time": "2021-12-23T07:42:50.535Z"
   },
   {
    "duration": 1508,
    "start_time": "2021-12-23T07:42:50.567Z"
   },
   {
    "duration": 308,
    "start_time": "2021-12-23T07:42:52.078Z"
   },
   {
    "duration": 1630,
    "start_time": "2021-12-23T07:42:52.389Z"
   },
   {
    "duration": 284,
    "start_time": "2021-12-23T07:42:54.022Z"
   },
   {
    "duration": 289,
    "start_time": "2021-12-23T07:42:54.309Z"
   },
   {
    "duration": 266,
    "start_time": "2021-12-23T07:42:54.601Z"
   },
   {
    "duration": 286,
    "start_time": "2021-12-23T07:42:54.870Z"
   },
   {
    "duration": 288,
    "start_time": "2021-12-23T07:42:55.159Z"
   },
   {
    "duration": 6,
    "start_time": "2021-12-23T07:42:55.450Z"
   },
   {
    "duration": 42,
    "start_time": "2021-12-23T07:42:55.458Z"
   },
   {
    "duration": 14,
    "start_time": "2021-12-23T07:42:55.503Z"
   },
   {
    "duration": 10,
    "start_time": "2021-12-23T07:42:55.519Z"
   },
   {
    "duration": 10,
    "start_time": "2021-12-23T07:42:55.567Z"
   },
   {
    "duration": 12,
    "start_time": "2021-12-23T07:42:55.580Z"
   },
   {
    "duration": 293,
    "start_time": "2021-12-23T07:42:55.596Z"
   },
   {
    "duration": 26,
    "start_time": "2021-12-23T07:42:55.893Z"
   },
   {
    "duration": 6,
    "start_time": "2021-12-23T07:42:55.922Z"
   },
   {
    "duration": 4,
    "start_time": "2021-12-23T07:43:03.626Z"
   },
   {
    "duration": 5,
    "start_time": "2021-12-23T07:43:05.078Z"
   },
   {
    "duration": 5,
    "start_time": "2021-12-23T07:43:06.247Z"
   },
   {
    "duration": 4,
    "start_time": "2021-12-23T07:45:33.143Z"
   },
   {
    "duration": 12,
    "start_time": "2021-12-23T07:45:33.150Z"
   },
   {
    "duration": 7,
    "start_time": "2021-12-23T07:45:33.164Z"
   },
   {
    "duration": 2873,
    "start_time": "2021-12-23T07:45:33.186Z"
   },
   {
    "duration": 105,
    "start_time": "2021-12-23T07:45:36.062Z"
   },
   {
    "duration": 23,
    "start_time": "2021-12-23T07:45:36.170Z"
   },
   {
    "duration": 12,
    "start_time": "2021-12-23T07:45:36.195Z"
   },
   {
    "duration": 16,
    "start_time": "2021-12-23T07:45:36.210Z"
   },
   {
    "duration": 7,
    "start_time": "2021-12-23T07:45:36.228Z"
   },
   {
    "duration": 33,
    "start_time": "2021-12-23T07:45:36.237Z"
   },
   {
    "duration": 7,
    "start_time": "2021-12-23T07:45:36.274Z"
   },
   {
    "duration": 8,
    "start_time": "2021-12-23T07:45:36.284Z"
   },
   {
    "duration": 6,
    "start_time": "2021-12-23T07:45:36.294Z"
   },
   {
    "duration": 16,
    "start_time": "2021-12-23T07:45:36.303Z"
   },
   {
    "duration": 59,
    "start_time": "2021-12-23T07:45:36.321Z"
   },
   {
    "duration": 18,
    "start_time": "2021-12-23T07:45:36.382Z"
   },
   {
    "duration": 11,
    "start_time": "2021-12-23T07:45:36.402Z"
   },
   {
    "duration": 61,
    "start_time": "2021-12-23T07:45:36.416Z"
   },
   {
    "duration": 13,
    "start_time": "2021-12-23T07:45:36.479Z"
   },
   {
    "duration": 15,
    "start_time": "2021-12-23T07:45:36.495Z"
   },
   {
    "duration": 7,
    "start_time": "2021-12-23T07:45:36.513Z"
   },
   {
    "duration": 48,
    "start_time": "2021-12-23T07:45:36.522Z"
   },
   {
    "duration": 13,
    "start_time": "2021-12-23T07:45:36.573Z"
   },
   {
    "duration": 19,
    "start_time": "2021-12-23T07:45:36.588Z"
   },
   {
    "duration": 16,
    "start_time": "2021-12-23T07:45:36.609Z"
   },
   {
    "duration": 9,
    "start_time": "2021-12-23T07:45:36.668Z"
   },
   {
    "duration": 12,
    "start_time": "2021-12-23T07:45:36.681Z"
   },
   {
    "duration": 9,
    "start_time": "2021-12-23T07:45:36.695Z"
   },
   {
    "duration": 17,
    "start_time": "2021-12-23T07:45:36.706Z"
   },
   {
    "duration": 10,
    "start_time": "2021-12-23T07:45:36.726Z"
   },
   {
    "duration": 34,
    "start_time": "2021-12-23T07:45:36.738Z"
   },
   {
    "duration": 12,
    "start_time": "2021-12-23T07:45:36.774Z"
   },
   {
    "duration": 8,
    "start_time": "2021-12-23T07:45:36.788Z"
   },
   {
    "duration": 6,
    "start_time": "2021-12-23T07:45:36.798Z"
   },
   {
    "duration": 13,
    "start_time": "2021-12-23T07:45:36.806Z"
   },
   {
    "duration": 55,
    "start_time": "2021-12-23T07:45:36.821Z"
   },
   {
    "duration": 19,
    "start_time": "2021-12-23T07:45:36.878Z"
   },
   {
    "duration": 15,
    "start_time": "2021-12-23T07:45:36.900Z"
   },
   {
    "duration": 12,
    "start_time": "2021-12-23T07:45:36.917Z"
   },
   {
    "duration": 41,
    "start_time": "2021-12-23T07:45:36.931Z"
   },
   {
    "duration": 8,
    "start_time": "2021-12-23T07:45:36.974Z"
   },
   {
    "duration": 10,
    "start_time": "2021-12-23T07:45:36.984Z"
   },
   {
    "duration": 7,
    "start_time": "2021-12-23T07:45:36.997Z"
   },
   {
    "duration": 7,
    "start_time": "2021-12-23T07:45:37.006Z"
   },
   {
    "duration": 9,
    "start_time": "2021-12-23T07:45:37.016Z"
   },
   {
    "duration": 3,
    "start_time": "2021-12-23T07:45:37.069Z"
   },
   {
    "duration": 21,
    "start_time": "2021-12-23T07:45:37.074Z"
   },
   {
    "duration": 10,
    "start_time": "2021-12-23T07:45:37.097Z"
   },
   {
    "duration": 18,
    "start_time": "2021-12-23T07:45:37.110Z"
   },
   {
    "duration": 51,
    "start_time": "2021-12-23T07:45:37.130Z"
   },
   {
    "duration": 11,
    "start_time": "2021-12-23T07:45:37.183Z"
   },
   {
    "duration": 10,
    "start_time": "2021-12-23T07:45:37.196Z"
   },
   {
    "duration": 13,
    "start_time": "2021-12-23T07:45:37.208Z"
   },
   {
    "duration": 44,
    "start_time": "2021-12-23T07:45:37.223Z"
   },
   {
    "duration": 8,
    "start_time": "2021-12-23T07:45:37.269Z"
   },
   {
    "duration": 5,
    "start_time": "2021-12-23T07:45:37.279Z"
   },
   {
    "duration": 10,
    "start_time": "2021-12-23T07:45:37.286Z"
   },
   {
    "duration": 22,
    "start_time": "2021-12-23T07:45:37.298Z"
   },
   {
    "duration": 13,
    "start_time": "2021-12-23T07:45:37.322Z"
   },
   {
    "duration": 69,
    "start_time": "2021-12-23T07:45:37.337Z"
   },
   {
    "duration": 60,
    "start_time": "2021-12-23T07:45:37.409Z"
   },
   {
    "duration": 14,
    "start_time": "2021-12-23T07:45:37.471Z"
   },
   {
    "duration": 10,
    "start_time": "2021-12-23T07:45:37.488Z"
   },
   {
    "duration": 32,
    "start_time": "2021-12-23T07:45:37.501Z"
   },
   {
    "duration": 22,
    "start_time": "2021-12-23T07:45:37.568Z"
   },
   {
    "duration": 7,
    "start_time": "2021-12-23T07:45:37.592Z"
   },
   {
    "duration": 10,
    "start_time": "2021-12-23T07:45:37.601Z"
   },
   {
    "duration": 17,
    "start_time": "2021-12-23T07:45:37.613Z"
   },
   {
    "duration": 249,
    "start_time": "2021-12-23T07:45:37.632Z"
   },
   {
    "duration": 225,
    "start_time": "2021-12-23T07:45:37.884Z"
   },
   {
    "duration": 62,
    "start_time": "2021-12-23T07:45:38.117Z"
   },
   {
    "duration": 19,
    "start_time": "2021-12-23T07:45:38.182Z"
   },
   {
    "duration": 271,
    "start_time": "2021-12-23T07:45:38.205Z"
   },
   {
    "duration": 45,
    "start_time": "2021-12-23T07:45:38.479Z"
   },
   {
    "duration": 56,
    "start_time": "2021-12-23T07:45:38.526Z"
   },
   {
    "duration": 347,
    "start_time": "2021-12-23T07:45:38.584Z"
   },
   {
    "duration": 38,
    "start_time": "2021-12-23T07:45:38.933Z"
   },
   {
    "duration": 389,
    "start_time": "2021-12-23T07:45:38.973Z"
   },
   {
    "duration": 4,
    "start_time": "2021-12-23T07:45:39.367Z"
   },
   {
    "duration": 6,
    "start_time": "2021-12-23T07:45:39.374Z"
   },
   {
    "duration": 1438,
    "start_time": "2021-12-23T07:45:39.382Z"
   },
   {
    "duration": 283,
    "start_time": "2021-12-23T07:45:40.823Z"
   },
   {
    "duration": 1495,
    "start_time": "2021-12-23T07:45:41.109Z"
   },
   {
    "duration": 268,
    "start_time": "2021-12-23T07:45:42.607Z"
   },
   {
    "duration": 305,
    "start_time": "2021-12-23T07:45:42.877Z"
   },
   {
    "duration": 260,
    "start_time": "2021-12-23T07:45:43.184Z"
   },
   {
    "duration": 258,
    "start_time": "2021-12-23T07:45:43.447Z"
   },
   {
    "duration": 277,
    "start_time": "2021-12-23T07:45:43.707Z"
   },
   {
    "duration": 7,
    "start_time": "2021-12-23T07:45:43.986Z"
   },
   {
    "duration": 30,
    "start_time": "2021-12-23T07:45:43.995Z"
   },
   {
    "duration": 39,
    "start_time": "2021-12-23T07:45:44.028Z"
   },
   {
    "duration": 11,
    "start_time": "2021-12-23T07:45:44.069Z"
   },
   {
    "duration": 8,
    "start_time": "2021-12-23T07:45:44.082Z"
   },
   {
    "duration": 10,
    "start_time": "2021-12-23T07:45:44.092Z"
   },
   {
    "duration": 277,
    "start_time": "2021-12-23T07:45:44.105Z"
   },
   {
    "duration": 24,
    "start_time": "2021-12-23T07:45:44.384Z"
   },
   {
    "duration": 6,
    "start_time": "2021-12-23T07:45:44.411Z"
   },
   {
    "duration": 4,
    "start_time": "2021-12-23T07:45:55.394Z"
   },
   {
    "duration": 4,
    "start_time": "2021-12-23T07:45:56.559Z"
   },
   {
    "duration": 5,
    "start_time": "2021-12-23T07:45:58.168Z"
   },
   {
    "duration": 37445,
    "start_time": "2021-12-23T07:45:59.913Z"
   },
   {
    "duration": 15,
    "start_time": "2021-12-23T07:46:46.941Z"
   },
   {
    "duration": 5,
    "start_time": "2021-12-23T07:47:06.248Z"
   },
   {
    "duration": 4,
    "start_time": "2021-12-23T07:48:31.234Z"
   },
   {
    "duration": 22,
    "start_time": "2021-12-23T07:48:31.242Z"
   },
   {
    "duration": 9,
    "start_time": "2021-12-23T07:48:31.267Z"
   },
   {
    "duration": 2940,
    "start_time": "2021-12-23T07:48:31.279Z"
   },
   {
    "duration": 126,
    "start_time": "2021-12-23T07:48:34.222Z"
   },
   {
    "duration": 64,
    "start_time": "2021-12-23T07:48:34.351Z"
   },
   {
    "duration": 38,
    "start_time": "2021-12-23T07:48:34.418Z"
   },
   {
    "duration": 15,
    "start_time": "2021-12-23T07:48:34.459Z"
   },
   {
    "duration": 7,
    "start_time": "2021-12-23T07:48:34.478Z"
   },
   {
    "duration": 9,
    "start_time": "2021-12-23T07:48:34.487Z"
   },
   {
    "duration": 9,
    "start_time": "2021-12-23T07:48:34.498Z"
   },
   {
    "duration": 7,
    "start_time": "2021-12-23T07:48:34.510Z"
   },
   {
    "duration": 49,
    "start_time": "2021-12-23T07:48:34.519Z"
   },
   {
    "duration": 16,
    "start_time": "2021-12-23T07:48:34.570Z"
   },
   {
    "duration": 15,
    "start_time": "2021-12-23T07:48:34.588Z"
   },
   {
    "duration": 21,
    "start_time": "2021-12-23T07:48:34.606Z"
   },
   {
    "duration": 8,
    "start_time": "2021-12-23T07:48:34.671Z"
   },
   {
    "duration": 19,
    "start_time": "2021-12-23T07:48:34.683Z"
   },
   {
    "duration": 13,
    "start_time": "2021-12-23T07:48:34.705Z"
   },
   {
    "duration": 53,
    "start_time": "2021-12-23T07:48:34.721Z"
   },
   {
    "duration": 6,
    "start_time": "2021-12-23T07:48:34.776Z"
   },
   {
    "duration": 17,
    "start_time": "2021-12-23T07:48:34.785Z"
   },
   {
    "duration": 11,
    "start_time": "2021-12-23T07:48:34.804Z"
   },
   {
    "duration": 51,
    "start_time": "2021-12-23T07:48:34.818Z"
   },
   {
    "duration": 16,
    "start_time": "2021-12-23T07:48:34.872Z"
   },
   {
    "duration": 11,
    "start_time": "2021-12-23T07:48:34.891Z"
   },
   {
    "duration": 9,
    "start_time": "2021-12-23T07:48:34.904Z"
   },
   {
    "duration": 10,
    "start_time": "2021-12-23T07:48:34.915Z"
   },
   {
    "duration": 46,
    "start_time": "2021-12-23T07:48:34.927Z"
   },
   {
    "duration": 9,
    "start_time": "2021-12-23T07:48:34.976Z"
   },
   {
    "duration": 8,
    "start_time": "2021-12-23T07:48:34.987Z"
   },
   {
    "duration": 12,
    "start_time": "2021-12-23T07:48:34.997Z"
   },
   {
    "duration": 9,
    "start_time": "2021-12-23T07:48:35.011Z"
   },
   {
    "duration": 3,
    "start_time": "2021-12-23T07:48:35.068Z"
   },
   {
    "duration": 17,
    "start_time": "2021-12-23T07:48:35.073Z"
   },
   {
    "duration": 17,
    "start_time": "2021-12-23T07:48:35.093Z"
   },
   {
    "duration": 62,
    "start_time": "2021-12-23T07:48:35.113Z"
   },
   {
    "duration": 17,
    "start_time": "2021-12-23T07:48:35.177Z"
   },
   {
    "duration": 13,
    "start_time": "2021-12-23T07:48:35.197Z"
   },
   {
    "duration": 11,
    "start_time": "2021-12-23T07:48:35.213Z"
   },
   {
    "duration": 47,
    "start_time": "2021-12-23T07:48:35.226Z"
   },
   {
    "duration": 9,
    "start_time": "2021-12-23T07:48:35.276Z"
   },
   {
    "duration": 10,
    "start_time": "2021-12-23T07:48:35.289Z"
   },
   {
    "duration": 5,
    "start_time": "2021-12-23T07:48:35.307Z"
   },
   {
    "duration": 53,
    "start_time": "2021-12-23T07:48:35.316Z"
   },
   {
    "duration": 3,
    "start_time": "2021-12-23T07:48:35.371Z"
   },
   {
    "duration": 26,
    "start_time": "2021-12-23T07:48:35.377Z"
   },
   {
    "duration": 14,
    "start_time": "2021-12-23T07:48:35.406Z"
   },
   {
    "duration": 15,
    "start_time": "2021-12-23T07:48:35.422Z"
   },
   {
    "duration": 41,
    "start_time": "2021-12-23T07:48:35.440Z"
   },
   {
    "duration": 14,
    "start_time": "2021-12-23T07:48:35.483Z"
   },
   {
    "duration": 10,
    "start_time": "2021-12-23T07:48:35.500Z"
   },
   {
    "duration": 10,
    "start_time": "2021-12-23T07:48:35.513Z"
   },
   {
    "duration": 43,
    "start_time": "2021-12-23T07:48:35.525Z"
   },
   {
    "duration": 26,
    "start_time": "2021-12-23T07:48:35.571Z"
   },
   {
    "duration": 9,
    "start_time": "2021-12-23T07:48:35.599Z"
   },
   {
    "duration": 8,
    "start_time": "2021-12-23T07:48:35.611Z"
   },
   {
    "duration": 18,
    "start_time": "2021-12-23T07:48:35.622Z"
   },
   {
    "duration": 25,
    "start_time": "2021-12-23T07:48:35.643Z"
   },
   {
    "duration": 43,
    "start_time": "2021-12-23T07:48:35.671Z"
   },
   {
    "duration": 64,
    "start_time": "2021-12-23T07:48:35.716Z"
   },
   {
    "duration": 15,
    "start_time": "2021-12-23T07:48:35.782Z"
   },
   {
    "duration": 11,
    "start_time": "2021-12-23T07:48:35.799Z"
   },
   {
    "duration": 64,
    "start_time": "2021-12-23T07:48:35.812Z"
   },
   {
    "duration": 24,
    "start_time": "2021-12-23T07:48:35.878Z"
   },
   {
    "duration": 11,
    "start_time": "2021-12-23T07:48:35.905Z"
   },
   {
    "duration": 10,
    "start_time": "2021-12-23T07:48:35.919Z"
   },
   {
    "duration": 13,
    "start_time": "2021-12-23T07:48:35.969Z"
   },
   {
    "duration": 235,
    "start_time": "2021-12-23T07:48:35.985Z"
   },
   {
    "duration": 238,
    "start_time": "2021-12-23T07:48:36.223Z"
   },
   {
    "duration": 47,
    "start_time": "2021-12-23T07:48:36.464Z"
   },
   {
    "duration": 52,
    "start_time": "2021-12-23T07:48:36.515Z"
   },
   {
    "duration": 268,
    "start_time": "2021-12-23T07:48:36.570Z"
   },
   {
    "duration": 59,
    "start_time": "2021-12-23T07:48:36.841Z"
   },
   {
    "duration": 25,
    "start_time": "2021-12-23T07:48:36.903Z"
   },
   {
    "duration": 385,
    "start_time": "2021-12-23T07:48:36.931Z"
   },
   {
    "duration": 21,
    "start_time": "2021-12-23T07:48:37.319Z"
   },
   {
    "duration": 372,
    "start_time": "2021-12-23T07:48:37.343Z"
   },
   {
    "duration": 4,
    "start_time": "2021-12-23T07:48:37.717Z"
   },
   {
    "duration": 6,
    "start_time": "2021-12-23T07:48:37.724Z"
   },
   {
    "duration": 1498,
    "start_time": "2021-12-23T07:48:37.733Z"
   },
   {
    "duration": 283,
    "start_time": "2021-12-23T07:48:39.233Z"
   },
   {
    "duration": 1507,
    "start_time": "2021-12-23T07:48:39.518Z"
   },
   {
    "duration": 265,
    "start_time": "2021-12-23T07:48:41.028Z"
   },
   {
    "duration": 283,
    "start_time": "2021-12-23T07:48:41.296Z"
   },
   {
    "duration": 247,
    "start_time": "2021-12-23T07:48:41.582Z"
   },
   {
    "duration": 272,
    "start_time": "2021-12-23T07:48:41.832Z"
   },
   {
    "duration": 269,
    "start_time": "2021-12-23T07:48:42.107Z"
   },
   {
    "duration": 6,
    "start_time": "2021-12-23T07:48:42.378Z"
   },
   {
    "duration": 33,
    "start_time": "2021-12-23T07:48:42.387Z"
   },
   {
    "duration": 13,
    "start_time": "2021-12-23T07:48:42.422Z"
   },
   {
    "duration": 36,
    "start_time": "2021-12-23T07:48:42.437Z"
   },
   {
    "duration": 7,
    "start_time": "2021-12-23T07:48:42.476Z"
   },
   {
    "duration": 9,
    "start_time": "2021-12-23T07:48:42.485Z"
   },
   {
    "duration": 278,
    "start_time": "2021-12-23T07:48:42.496Z"
   },
   {
    "duration": 25,
    "start_time": "2021-12-23T07:48:42.777Z"
   },
   {
    "duration": 6,
    "start_time": "2021-12-23T07:48:42.805Z"
   },
   {
    "duration": 188632,
    "start_time": "2021-12-23T07:49:00.308Z"
   },
   {
    "duration": 192521,
    "start_time": "2021-12-23T07:52:56.413Z"
   },
   {
    "duration": 11,
    "start_time": "2021-12-23T07:57:22.964Z"
   },
   {
    "duration": 6,
    "start_time": "2021-12-23T07:57:28.424Z"
   },
   {
    "duration": 702,
    "start_time": "2021-12-23T07:58:46.876Z"
   },
   {
    "duration": 8716,
    "start_time": "2021-12-23T07:59:28.080Z"
   },
   {
    "duration": 24226,
    "start_time": "2021-12-23T07:59:50.636Z"
   },
   {
    "duration": 57325,
    "start_time": "2021-12-23T08:00:29.514Z"
   },
   {
    "duration": 56807,
    "start_time": "2021-12-23T08:02:08.280Z"
   },
   {
    "duration": 91919,
    "start_time": "2021-12-23T08:03:23.071Z"
   },
   {
    "duration": 3278,
    "start_time": "2021-12-23T08:05:58.754Z"
   },
   {
    "duration": 264151,
    "start_time": "2021-12-23T08:07:44.023Z"
   },
   {
    "duration": 114044,
    "start_time": "2021-12-23T08:13:21.415Z"
   },
   {
    "duration": 129467,
    "start_time": "2021-12-23T08:16:17.648Z"
   },
   {
    "duration": 150538,
    "start_time": "2021-12-23T08:21:42.792Z"
   },
   {
    "duration": 1001800,
    "start_time": "2021-12-23T08:27:52.320Z"
   },
   {
    "duration": 89,
    "start_time": "2021-12-23T08:45:36.934Z"
   },
   {
    "duration": 85,
    "start_time": "2021-12-23T08:45:46.727Z"
   },
   {
    "duration": 561786,
    "start_time": "2021-12-23T08:45:53.890Z"
   },
   {
    "duration": 703,
    "start_time": "2021-12-23T08:56:34.449Z"
   },
   {
    "duration": 93755,
    "start_time": "2021-12-23T08:56:43.827Z"
   },
   {
    "duration": 677,
    "start_time": "2021-12-23T08:59:51.113Z"
   },
   {
    "duration": 683,
    "start_time": "2021-12-23T09:00:20.839Z"
   },
   {
    "duration": 282,
    "start_time": "2021-12-23T09:00:44.496Z"
   },
   {
    "duration": 17513,
    "start_time": "2021-12-23T09:02:45.980Z"
   },
   {
    "duration": 17423,
    "start_time": "2021-12-23T09:03:21.458Z"
   },
   {
    "duration": 17223,
    "start_time": "2021-12-23T09:04:32.378Z"
   },
   {
    "duration": 22719,
    "start_time": "2021-12-23T09:05:48.883Z"
   },
   {
    "duration": 18895,
    "start_time": "2021-12-23T09:06:27.709Z"
   },
   {
    "duration": 2135,
    "start_time": "2021-12-23T12:59:13.443Z"
   },
   {
    "duration": 141440,
    "start_time": "2021-12-23T12:59:21.020Z"
   },
   {
    "duration": 4,
    "start_time": "2021-12-23T13:02:06.656Z"
   },
   {
    "duration": 7,
    "start_time": "2021-12-23T13:02:06.663Z"
   },
   {
    "duration": 6,
    "start_time": "2021-12-23T13:02:06.673Z"
   },
   {
    "duration": 1877,
    "start_time": "2021-12-23T13:02:06.681Z"
   },
   {
    "duration": 105,
    "start_time": "2021-12-23T13:02:08.561Z"
   },
   {
    "duration": 22,
    "start_time": "2021-12-23T13:02:08.669Z"
   },
   {
    "duration": 13,
    "start_time": "2021-12-23T13:02:08.694Z"
   },
   {
    "duration": 10,
    "start_time": "2021-12-23T13:02:08.711Z"
   },
   {
    "duration": 48,
    "start_time": "2021-12-23T13:02:08.723Z"
   },
   {
    "duration": 6,
    "start_time": "2021-12-23T13:02:08.774Z"
   },
   {
    "duration": 8,
    "start_time": "2021-12-23T13:02:08.783Z"
   },
   {
    "duration": 6,
    "start_time": "2021-12-23T13:02:08.794Z"
   },
   {
    "duration": 5,
    "start_time": "2021-12-23T13:02:08.803Z"
   },
   {
    "duration": 64,
    "start_time": "2021-12-23T13:02:08.811Z"
   },
   {
    "duration": 15,
    "start_time": "2021-12-23T13:02:08.878Z"
   },
   {
    "duration": 20,
    "start_time": "2021-12-23T13:02:08.896Z"
   },
   {
    "duration": 48,
    "start_time": "2021-12-23T13:02:08.919Z"
   },
   {
    "duration": 25,
    "start_time": "2021-12-23T13:02:08.970Z"
   },
   {
    "duration": 14,
    "start_time": "2021-12-23T13:02:09.002Z"
   },
   {
    "duration": 15,
    "start_time": "2021-12-23T13:02:09.020Z"
   },
   {
    "duration": 30,
    "start_time": "2021-12-23T13:02:09.038Z"
   },
   {
    "duration": 16,
    "start_time": "2021-12-23T13:02:09.071Z"
   },
   {
    "duration": 11,
    "start_time": "2021-12-23T13:02:09.089Z"
   },
   {
    "duration": 19,
    "start_time": "2021-12-23T13:02:09.103Z"
   },
   {
    "duration": 48,
    "start_time": "2021-12-23T13:02:09.124Z"
   },
   {
    "duration": 10,
    "start_time": "2021-12-23T13:02:09.175Z"
   },
   {
    "duration": 9,
    "start_time": "2021-12-23T13:02:09.187Z"
   },
   {
    "duration": 7,
    "start_time": "2021-12-23T13:02:09.198Z"
   },
   {
    "duration": 7,
    "start_time": "2021-12-23T13:02:09.207Z"
   },
   {
    "duration": 55,
    "start_time": "2021-12-23T13:02:09.216Z"
   },
   {
    "duration": 7,
    "start_time": "2021-12-23T13:02:09.273Z"
   },
   {
    "duration": 10,
    "start_time": "2021-12-23T13:02:09.282Z"
   },
   {
    "duration": 9,
    "start_time": "2021-12-23T13:02:09.294Z"
   },
   {
    "duration": 6,
    "start_time": "2021-12-23T13:02:09.305Z"
   },
   {
    "duration": 17,
    "start_time": "2021-12-23T13:02:09.313Z"
   },
   {
    "duration": 13,
    "start_time": "2021-12-23T13:02:09.369Z"
   },
   {
    "duration": 19,
    "start_time": "2021-12-23T13:02:09.384Z"
   },
   {
    "duration": 14,
    "start_time": "2021-12-23T13:02:09.405Z"
   },
   {
    "duration": 47,
    "start_time": "2021-12-23T13:02:09.422Z"
   },
   {
    "duration": 6,
    "start_time": "2021-12-23T13:02:09.471Z"
   },
   {
    "duration": 8,
    "start_time": "2021-12-23T13:02:09.480Z"
   },
   {
    "duration": 15,
    "start_time": "2021-12-23T13:02:09.490Z"
   },
   {
    "duration": 13,
    "start_time": "2021-12-23T13:02:09.508Z"
   },
   {
    "duration": 7,
    "start_time": "2021-12-23T13:02:09.524Z"
   },
   {
    "duration": 37,
    "start_time": "2021-12-23T13:02:09.533Z"
   },
   {
    "duration": 5,
    "start_time": "2021-12-23T13:02:09.572Z"
   },
   {
    "duration": 21,
    "start_time": "2021-12-23T13:02:09.580Z"
   },
   {
    "duration": 10,
    "start_time": "2021-12-23T13:02:09.603Z"
   },
   {
    "duration": 13,
    "start_time": "2021-12-23T13:02:09.616Z"
   },
   {
    "duration": 16,
    "start_time": "2021-12-23T13:02:09.668Z"
   },
   {
    "duration": 12,
    "start_time": "2021-12-23T13:02:09.686Z"
   },
   {
    "duration": 9,
    "start_time": "2021-12-23T13:02:09.700Z"
   },
   {
    "duration": 9,
    "start_time": "2021-12-23T13:02:09.712Z"
   },
   {
    "duration": 45,
    "start_time": "2021-12-23T13:02:09.723Z"
   },
   {
    "duration": 9,
    "start_time": "2021-12-23T13:02:09.778Z"
   },
   {
    "duration": 4,
    "start_time": "2021-12-23T13:02:09.791Z"
   },
   {
    "duration": 9,
    "start_time": "2021-12-23T13:02:09.798Z"
   },
   {
    "duration": 15,
    "start_time": "2021-12-23T13:02:09.809Z"
   },
   {
    "duration": 49,
    "start_time": "2021-12-23T13:02:09.827Z"
   },
   {
    "duration": 43,
    "start_time": "2021-12-23T13:02:09.879Z"
   },
   {
    "duration": 70,
    "start_time": "2021-12-23T13:02:09.925Z"
   },
   {
    "duration": 14,
    "start_time": "2021-12-23T13:02:09.998Z"
   },
   {
    "duration": 10,
    "start_time": "2021-12-23T13:02:10.014Z"
   },
   {
    "duration": 64,
    "start_time": "2021-12-23T13:02:10.026Z"
   },
   {
    "duration": 22,
    "start_time": "2021-12-23T13:02:10.092Z"
   },
   {
    "duration": 8,
    "start_time": "2021-12-23T13:02:10.117Z"
   },
   {
    "duration": 42,
    "start_time": "2021-12-23T13:02:10.127Z"
   },
   {
    "duration": 11,
    "start_time": "2021-12-23T13:02:10.171Z"
   },
   {
    "duration": 236,
    "start_time": "2021-12-23T13:02:10.184Z"
   },
   {
    "duration": 231,
    "start_time": "2021-12-23T13:02:10.423Z"
   },
   {
    "duration": 51,
    "start_time": "2021-12-23T13:02:10.657Z"
   },
   {
    "duration": 20,
    "start_time": "2021-12-23T13:02:10.711Z"
   },
   {
    "duration": 284,
    "start_time": "2021-12-23T13:02:10.733Z"
   },
   {
    "duration": 57,
    "start_time": "2021-12-23T13:02:11.020Z"
   },
   {
    "duration": 23,
    "start_time": "2021-12-23T13:02:11.079Z"
   },
   {
    "duration": 362,
    "start_time": "2021-12-23T13:02:11.105Z"
   },
   {
    "duration": 20,
    "start_time": "2021-12-23T13:02:11.470Z"
   },
   {
    "duration": 378,
    "start_time": "2021-12-23T13:02:11.492Z"
   },
   {
    "duration": 3,
    "start_time": "2021-12-23T13:02:11.872Z"
   },
   {
    "duration": 8,
    "start_time": "2021-12-23T13:02:11.877Z"
   },
   {
    "duration": 1437,
    "start_time": "2021-12-23T13:02:11.888Z"
   },
   {
    "duration": 286,
    "start_time": "2021-12-23T13:02:13.327Z"
   },
   {
    "duration": 1532,
    "start_time": "2021-12-23T13:02:13.616Z"
   },
   {
    "duration": 292,
    "start_time": "2021-12-23T13:02:15.150Z"
   },
   {
    "duration": 273,
    "start_time": "2021-12-23T13:02:15.445Z"
   },
   {
    "duration": 257,
    "start_time": "2021-12-23T13:02:15.720Z"
   },
   {
    "duration": 260,
    "start_time": "2021-12-23T13:02:15.979Z"
   },
   {
    "duration": 307,
    "start_time": "2021-12-23T13:02:16.241Z"
   },
   {
    "duration": 6,
    "start_time": "2021-12-23T13:02:16.550Z"
   },
   {
    "duration": 31,
    "start_time": "2021-12-23T13:02:16.567Z"
   },
   {
    "duration": 14,
    "start_time": "2021-12-23T13:02:16.600Z"
   },
   {
    "duration": 11,
    "start_time": "2021-12-23T13:02:16.616Z"
   },
   {
    "duration": 42,
    "start_time": "2021-12-23T13:02:16.630Z"
   },
   {
    "duration": 11,
    "start_time": "2021-12-23T13:02:16.675Z"
   },
   {
    "duration": 278,
    "start_time": "2021-12-23T13:02:16.689Z"
   },
   {
    "duration": 26,
    "start_time": "2021-12-23T13:02:16.969Z"
   },
   {
    "duration": 6,
    "start_time": "2021-12-23T13:02:16.998Z"
   },
   {
    "duration": 86445,
    "start_time": "2021-12-23T13:02:17.007Z"
   },
   {
    "duration": -1044,
    "start_time": "2021-12-23T13:03:44.500Z"
   },
   {
    "duration": -1046,
    "start_time": "2021-12-23T13:03:44.504Z"
   },
   {
    "duration": -1047,
    "start_time": "2021-12-23T13:03:44.507Z"
   },
   {
    "duration": -1049,
    "start_time": "2021-12-23T13:03:44.511Z"
   },
   {
    "duration": -1050,
    "start_time": "2021-12-23T13:03:44.514Z"
   },
   {
    "duration": -1051,
    "start_time": "2021-12-23T13:03:44.517Z"
   },
   {
    "duration": -1052,
    "start_time": "2021-12-23T13:03:44.520Z"
   },
   {
    "duration": -1054,
    "start_time": "2021-12-23T13:03:44.524Z"
   },
   {
    "duration": -1056,
    "start_time": "2021-12-23T13:03:44.528Z"
   },
   {
    "duration": -1057,
    "start_time": "2021-12-23T13:03:44.531Z"
   },
   {
    "duration": -1058,
    "start_time": "2021-12-23T13:03:44.534Z"
   },
   {
    "duration": -1059,
    "start_time": "2021-12-23T13:03:44.537Z"
   },
   {
    "duration": -1060,
    "start_time": "2021-12-23T13:03:44.540Z"
   },
   {
    "duration": -1062,
    "start_time": "2021-12-23T13:03:44.544Z"
   },
   {
    "duration": 18932,
    "start_time": "2021-12-23T13:04:05.733Z"
   }
  ],
  "kernelspec": {
   "display_name": "Python 3 (ipykernel)",
   "language": "python",
   "name": "python3"
  },
  "language_info": {
   "codemirror_mode": {
    "name": "ipython",
    "version": 3
   },
   "file_extension": ".py",
   "mimetype": "text/x-python",
   "name": "python",
   "nbconvert_exporter": "python",
   "pygments_lexer": "ipython3",
   "version": "3.9.7"
  },
  "toc": {
   "base_numbering": 1,
   "nav_menu": {},
   "number_sections": true,
   "sideBar": true,
   "skip_h1_title": true,
   "title_cell": "Table of Contents",
   "title_sidebar": "Contents",
   "toc_cell": false,
   "toc_position": {
    "height": "574.4px",
    "left": "404px",
    "top": "527.125px",
    "width": "289.6px"
   },
   "toc_section_display": true,
   "toc_window_display": false
  }
 },
 "nbformat": 4,
 "nbformat_minor": 2
}
